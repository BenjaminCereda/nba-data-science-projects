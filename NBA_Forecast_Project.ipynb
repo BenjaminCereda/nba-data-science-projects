{
 "cells": [
  {
   "cell_type": "code",
   "execution_count": 335,
   "id": "de0fdc73",
   "metadata": {},
   "outputs": [],
   "source": [
    "import pandas as pd\n",
    "import requests\n",
    "import numpy as np\n",
    "import unidecode\n",
    "from sklearn.linear_model import LinearRegression\n",
    "import plotly.graph_objects as go\n",
    "import plotly.express as px\n",
    "import seaborn as sns\n",
    "from pathlib import Path\n",
    "import json\n",
    "from xgboost import XGBRegressor, XGBClassifier\n",
    "from sklearn.linear_model import LogisticRegression\n",
    "from sklearn.tree import DecisionTreeClassifier\n",
    "from sklearn.model_selection import RepeatedKFold, cross_val_score"
   ]
  },
  {
   "cell_type": "markdown",
   "id": "04752b54",
   "metadata": {},
   "source": [
    "# Part 0: A class to handle GraphQL queries"
   ]
  },
  {
   "cell_type": "code",
   "execution_count": 336,
   "id": "d04ff8ff",
   "metadata": {},
   "outputs": [],
   "source": [
    "\n",
    "class GraphqlQuery:\n",
    "    def __init__(self, contents : dict[str : list[str]], url : str):\n",
    "        self._contents = {}\n",
    "        self.add(contents)\n",
    "        self.url = url\n",
    "    \n",
    "    #method to add further tables and/or columns to the current query\n",
    "    def add(self, new_contents : dict[str : list[str]]):\n",
    "        \n",
    "        #validate passed arguments\n",
    "        if not isinstance(new_contents, dict):\n",
    "            raise ValueError(\"Contents must be passed as dictionary\")\n",
    "        \n",
    "        for key, val in new_contents.items() :\n",
    "            if not isinstance(key, str):\n",
    "                raise ValueError(\"Table arguments must be passed as strings\")\n",
    "            if not isinstance(val, list):\n",
    "                raise ValueError(\"Set of columns must be a list\")\n",
    "            if not all(isinstance(column, str) for column in val):\n",
    "                raise ValueError(\"Column arguments must be passed as strings\")\n",
    "            \n",
    "        for table, columns in new_contents.items():\n",
    "            if table not in self._contents:\n",
    "                self._contents[table] = columns\n",
    "            else:\n",
    "                self._contents[table].extend(columns)\n",
    "\n",
    "    #property to store current contents od query in dict format\n",
    "    @property\n",
    "    def contents(self):\n",
    "        return self._contents\n",
    "    \n",
    "    #property to store finished query in graphql format\n",
    "    @property\n",
    "    def query(self):\n",
    "        query_str =  [\"query Myquery {\"]\n",
    "        for index, (table, columns) in enumerate(self._contents.items()):\n",
    "            subquery = []\n",
    "            subquery.append(table)\n",
    "            subquery.append('{')\n",
    "            subquery.extend(columns)\n",
    "            query_str.extend(subquery)\n",
    "            if index != 0: query_str +=\"}\"\n",
    "        query_str +=\"}}\"\n",
    "        \n",
    "        return \" \".join(query_str)\n",
    "    \n",
    "    def __str__(self):\n",
    "        return self._query\n",
    "     \n",
    "    @classmethod\n",
    "    def select(cls, contents : dict[str : list[str]]):\n",
    "        return cls(contents)\n",
    "\n",
    "    #method to perform get request to graphql api\n",
    "    def get_data(self):\n",
    "        body = {\"query\" : self.query}\n",
    "        try:\n",
    "            response = requests.post(self.url, json=body,timeout=180)\n",
    "            response.raise_for_status()\n",
    "            data = response.json()\n",
    "            return pd.json_normalize(data['data'][list(self._contents)[0]])\n",
    "        except json.JSONDecodeError as e:\n",
    "            print(f\"JSON decode error: {e}\")\n",
    "            with open(\"bad_response_snippet.txt\", \"w\", encoding=\"utf-8\") as f:\n",
    "                f.write(response.text)\n",
    "            print(\"Saved response to bad_response_snippet.txt\")\n",
    "        except Exception as e:\n",
    "                print(f\"Error fetching data: {e}\")\n"
   ]
  },
  {
   "cell_type": "markdown",
   "id": "221a0925",
   "metadata": {},
   "source": [
    "# Part 1: Wrangling of Data"
   ]
  },
  {
   "cell_type": "markdown",
   "id": "8699a044",
   "metadata": {},
   "source": [
    "In this section the graphql API for NBA statistics is queried for player and team information via GraphqlQuery class. Additional data manipulation steps include:  \n",
    "- Elimination of unwanted characters and conversion of string formats in player names (e.g. change \"ć\" to \"c\") in order to avoid problems with merges.\n",
    "- Mapping of team abbreviations as these are not consistent in the API tables *teams* and *playerPerGame*.\n",
    "- Merging of both tables into one comprehensive dataframe containing all necessary information."
   ]
  },
  {
   "cell_type": "markdown",
   "id": "b1ecc3a2",
   "metadata": {},
   "source": [
    "***As of 20.10.2025, the GraphQL API stopped working. We are therefore forced to substitute the data therein by a flatfile, which was also downloaded from Kaggle.***"
   ]
  },
  {
   "cell_type": "code",
   "execution_count": 337,
   "id": "97d7297a",
   "metadata": {},
   "outputs": [],
   "source": [
    "# url = 'https://nbaapi.com/graphql/'\n",
    "\n",
    "# #set down tables and columns to query from nbaapi\n",
    "# query_teams = {\n",
    "#     'team' :\n",
    "#     ['teamName','teamAbbr', 'season', 'wins']\n",
    "#     }\n",
    "\n",
    "# query_players = {\n",
    "#     'playerPerGame' : \n",
    "#     ['playerName', 'team', 'age', 'season', 'games', 'minutesPg', 'points', 'ftPercent', 'assists', 'totalRb', 'steals', 'turnovers', 'blocks']\n",
    "#     }\n",
    "\n",
    "# #define Graphqlquery objects\n",
    "# player_data = GraphqlQuery(query_players, url)\n",
    "# team_data = GraphqlQuery(query_teams, url)\n",
    "\n",
    "# #get data from the api and store it in respective dataframes\n",
    "# player_stats = player_data.get_data()\n",
    "# team_stats = team_data.get_data()\n",
    "\n",
    "# #replace \"*\" and handle string format of player names\n",
    "# team_stats.teamName = team_stats.teamName.str.replace('*', '')\n",
    "\n",
    "# player_stats.playerName = player_stats.playerName.str.replace('*', '')\n",
    "# player_stats.playerName = player_stats.playerName.apply(unidecode.unidecode)\n",
    "\n",
    "# player_stats = player_stats[player_stats.team != 'TOT']\n",
    "\n",
    "# #set down team abbreviations that need to be changed\n",
    "# team_names = {\n",
    "#     'BRK' : 'NJN',\n",
    "#     'NOP' : 'NOH',\n",
    "#     'CHO' : 'CHA',\n",
    "#     'SEA' : 'OKC',\n",
    "#     'NOK' : 'CHA',\n",
    "#     'CHH' : 'CHA',\n",
    "#     'VAN' : 'MEM',\n",
    "#     'WSB' : 'WAS'\n",
    "# }\n",
    "# player_stats = player_stats.replace({'team' : team_names})\n",
    "\n",
    "# #merge player and team statistics into one dataframe\n",
    "# player_stats = player_stats.merge(\n",
    "#     team_stats,\n",
    "#     how='inner',\n",
    "#     left_on=['season', 'team'],\n",
    "#     right_on=['season', 'teamAbbr']\n",
    "# ).drop(['teamAbbr'], axis=1)\n",
    "\n",
    "# player_stats.head()"
   ]
  },
  {
   "cell_type": "code",
   "execution_count": 338,
   "id": "2a32e4d2",
   "metadata": {},
   "outputs": [
    {
     "data": {
      "text/html": [
       "<div>\n",
       "<style scoped>\n",
       "    .dataframe tbody tr th:only-of-type {\n",
       "        vertical-align: middle;\n",
       "    }\n",
       "\n",
       "    .dataframe tbody tr th {\n",
       "        vertical-align: top;\n",
       "    }\n",
       "\n",
       "    .dataframe thead th {\n",
       "        text-align: right;\n",
       "    }\n",
       "</style>\n",
       "<table border=\"1\" class=\"dataframe\">\n",
       "  <thead>\n",
       "    <tr style=\"text-align: right;\">\n",
       "      <th></th>\n",
       "      <th>playerName</th>\n",
       "      <th>season</th>\n",
       "      <th>Age</th>\n",
       "      <th>team</th>\n",
       "      <th>G</th>\n",
       "      <th>MP</th>\n",
       "      <th>FG%</th>\n",
       "      <th>3P%</th>\n",
       "      <th>2P%</th>\n",
       "      <th>eFG%</th>\n",
       "      <th>FT%</th>\n",
       "      <th>TRB</th>\n",
       "      <th>AST</th>\n",
       "      <th>STL</th>\n",
       "      <th>BLK</th>\n",
       "      <th>TOV</th>\n",
       "      <th>PF</th>\n",
       "      <th>PTS</th>\n",
       "    </tr>\n",
       "  </thead>\n",
       "  <tbody>\n",
       "    <tr>\n",
       "      <th>0</th>\n",
       "      <td>Shaquille O'Neal</td>\n",
       "      <td>2000</td>\n",
       "      <td>27</td>\n",
       "      <td>LAL</td>\n",
       "      <td>79</td>\n",
       "      <td>40.0</td>\n",
       "      <td>0.574</td>\n",
       "      <td>0.000</td>\n",
       "      <td>0.575</td>\n",
       "      <td>0.574</td>\n",
       "      <td>0.524</td>\n",
       "      <td>13.6</td>\n",
       "      <td>3.8</td>\n",
       "      <td>0.5</td>\n",
       "      <td>3.0</td>\n",
       "      <td>2.8</td>\n",
       "      <td>3.2</td>\n",
       "      <td>29.7</td>\n",
       "    </tr>\n",
       "    <tr>\n",
       "      <th>1</th>\n",
       "      <td>Kevin Garnett</td>\n",
       "      <td>2000</td>\n",
       "      <td>23</td>\n",
       "      <td>MIN</td>\n",
       "      <td>81</td>\n",
       "      <td>40.0</td>\n",
       "      <td>0.497</td>\n",
       "      <td>0.370</td>\n",
       "      <td>0.504</td>\n",
       "      <td>0.507</td>\n",
       "      <td>0.765</td>\n",
       "      <td>11.8</td>\n",
       "      <td>5.0</td>\n",
       "      <td>1.5</td>\n",
       "      <td>1.6</td>\n",
       "      <td>3.3</td>\n",
       "      <td>2.5</td>\n",
       "      <td>22.9</td>\n",
       "    </tr>\n",
       "    <tr>\n",
       "      <th>2</th>\n",
       "      <td>Alonzo Mourning</td>\n",
       "      <td>2000</td>\n",
       "      <td>29</td>\n",
       "      <td>MIA</td>\n",
       "      <td>79</td>\n",
       "      <td>34.8</td>\n",
       "      <td>0.551</td>\n",
       "      <td>0.000</td>\n",
       "      <td>0.553</td>\n",
       "      <td>0.551</td>\n",
       "      <td>0.711</td>\n",
       "      <td>9.5</td>\n",
       "      <td>1.6</td>\n",
       "      <td>0.5</td>\n",
       "      <td>3.7</td>\n",
       "      <td>2.7</td>\n",
       "      <td>3.9</td>\n",
       "      <td>21.7</td>\n",
       "    </tr>\n",
       "    <tr>\n",
       "      <th>3</th>\n",
       "      <td>Juwan Howard</td>\n",
       "      <td>2000</td>\n",
       "      <td>26</td>\n",
       "      <td>WAS</td>\n",
       "      <td>82</td>\n",
       "      <td>35.5</td>\n",
       "      <td>0.459</td>\n",
       "      <td>0.000</td>\n",
       "      <td>0.462</td>\n",
       "      <td>0.459</td>\n",
       "      <td>0.735</td>\n",
       "      <td>5.7</td>\n",
       "      <td>3.0</td>\n",
       "      <td>0.8</td>\n",
       "      <td>0.3</td>\n",
       "      <td>2.7</td>\n",
       "      <td>3.6</td>\n",
       "      <td>14.9</td>\n",
       "    </tr>\n",
       "    <tr>\n",
       "      <th>4</th>\n",
       "      <td>Scottie Pippen</td>\n",
       "      <td>2000</td>\n",
       "      <td>34</td>\n",
       "      <td>POR</td>\n",
       "      <td>82</td>\n",
       "      <td>33.5</td>\n",
       "      <td>0.451</td>\n",
       "      <td>0.327</td>\n",
       "      <td>0.506</td>\n",
       "      <td>0.501</td>\n",
       "      <td>0.717</td>\n",
       "      <td>6.3</td>\n",
       "      <td>5.0</td>\n",
       "      <td>1.4</td>\n",
       "      <td>0.5</td>\n",
       "      <td>2.5</td>\n",
       "      <td>2.5</td>\n",
       "      <td>12.5</td>\n",
       "    </tr>\n",
       "  </tbody>\n",
       "</table>\n",
       "</div>"
      ],
      "text/plain": [
       "         playerName  season  Age team   G    MP    FG%    3P%    2P%   eFG%  \\\n",
       "0  Shaquille O'Neal    2000   27  LAL  79  40.0  0.574  0.000  0.575  0.574   \n",
       "1     Kevin Garnett    2000   23  MIN  81  40.0  0.497  0.370  0.504  0.507   \n",
       "2   Alonzo Mourning    2000   29  MIA  79  34.8  0.551  0.000  0.553  0.551   \n",
       "3      Juwan Howard    2000   26  WAS  82  35.5  0.459  0.000  0.462  0.459   \n",
       "4    Scottie Pippen    2000   34  POR  82  33.5  0.451  0.327  0.506  0.501   \n",
       "\n",
       "     FT%   TRB  AST  STL  BLK  TOV   PF   PTS  \n",
       "0  0.524  13.6  3.8  0.5  3.0  2.8  3.2  29.7  \n",
       "1  0.765  11.8  5.0  1.5  1.6  3.3  2.5  22.9  \n",
       "2  0.711   9.5  1.6  0.5  3.7  2.7  3.9  21.7  \n",
       "3  0.735   5.7  3.0  0.8  0.3  2.7  3.6  14.9  \n",
       "4  0.717   6.3  5.0  1.4  0.5  2.5  2.5  12.5  "
      ]
     },
     "execution_count": 338,
     "metadata": {},
     "output_type": "execute_result"
    }
   ],
   "source": [
    "cols = ['Player', 'Year', 'Age', 'Team', 'G', 'MP',\n",
    "       'FG%', '3P%', '2P%', 'eFG%', 'FT%', 'TRB', 'AST',\n",
    "       'STL', 'BLK', 'TOV', 'PF', 'PTS']\n",
    "player_stats = pd.read_csv(\"NBA Player Stats and Salaries_2000-2025.csv\", usecols=cols)\n",
    "\n",
    "#rename columns to match column names of dataframe extracted from GraphQL API, in preparation for merges in next cell\n",
    "player_stats = player_stats.rename(\n",
    "    columns={'Player': 'playerName', 'Year' : 'season', 'Team' : 'team'}\n",
    ")\n",
    "\n",
    "player_stats.head()"
   ]
  },
  {
   "cell_type": "markdown",
   "id": "37e0f59a",
   "metadata": {},
   "source": [
    "In this section the above defined *player_stats* is further enhanced with the MVP and All Star selection data. Therefore, once again, the files are read and brought into the same format as the *player_stats* dataframe. Lastly, the data types in the dataframe are adjusted in preparation for model fitting. The end result is a comprehensive dataframe with all necessary information. "
   ]
  },
  {
   "cell_type": "code",
   "execution_count": 339,
   "id": "8b119393",
   "metadata": {},
   "outputs": [
    {
     "data": {
      "text/html": [
       "<div>\n",
       "<style scoped>\n",
       "    .dataframe tbody tr th:only-of-type {\n",
       "        vertical-align: middle;\n",
       "    }\n",
       "\n",
       "    .dataframe tbody tr th {\n",
       "        vertical-align: top;\n",
       "    }\n",
       "\n",
       "    .dataframe thead th {\n",
       "        text-align: right;\n",
       "    }\n",
       "</style>\n",
       "<table border=\"1\" class=\"dataframe\">\n",
       "  <thead>\n",
       "    <tr style=\"text-align: right;\">\n",
       "      <th></th>\n",
       "      <th>playerName</th>\n",
       "      <th>season</th>\n",
       "      <th>Age</th>\n",
       "      <th>team</th>\n",
       "      <th>G</th>\n",
       "      <th>MP</th>\n",
       "      <th>FG%</th>\n",
       "      <th>3P%</th>\n",
       "      <th>2P%</th>\n",
       "      <th>eFG%</th>\n",
       "      <th>FT%</th>\n",
       "      <th>TRB</th>\n",
       "      <th>AST</th>\n",
       "      <th>STL</th>\n",
       "      <th>BLK</th>\n",
       "      <th>TOV</th>\n",
       "      <th>PF</th>\n",
       "      <th>PTS</th>\n",
       "      <th>Rank</th>\n",
       "      <th>AllStar</th>\n",
       "    </tr>\n",
       "  </thead>\n",
       "  <tbody>\n",
       "    <tr>\n",
       "      <th>0</th>\n",
       "      <td>Shaquille O'Neal</td>\n",
       "      <td>2000.0</td>\n",
       "      <td>27.0</td>\n",
       "      <td>LAL</td>\n",
       "      <td>79.0</td>\n",
       "      <td>40.0</td>\n",
       "      <td>0.574</td>\n",
       "      <td>0.000</td>\n",
       "      <td>0.575</td>\n",
       "      <td>0.574</td>\n",
       "      <td>0.524</td>\n",
       "      <td>13.6</td>\n",
       "      <td>3.8</td>\n",
       "      <td>0.5</td>\n",
       "      <td>3.0</td>\n",
       "      <td>2.8</td>\n",
       "      <td>3.2</td>\n",
       "      <td>29.7</td>\n",
       "      <td>0</td>\n",
       "      <td>1.0</td>\n",
       "    </tr>\n",
       "    <tr>\n",
       "      <th>1</th>\n",
       "      <td>Kevin Garnett</td>\n",
       "      <td>2000.0</td>\n",
       "      <td>23.0</td>\n",
       "      <td>MIN</td>\n",
       "      <td>81.0</td>\n",
       "      <td>40.0</td>\n",
       "      <td>0.497</td>\n",
       "      <td>0.370</td>\n",
       "      <td>0.504</td>\n",
       "      <td>0.507</td>\n",
       "      <td>0.765</td>\n",
       "      <td>11.8</td>\n",
       "      <td>5.0</td>\n",
       "      <td>1.5</td>\n",
       "      <td>1.6</td>\n",
       "      <td>3.3</td>\n",
       "      <td>2.5</td>\n",
       "      <td>22.9</td>\n",
       "      <td>0</td>\n",
       "      <td>1.0</td>\n",
       "    </tr>\n",
       "    <tr>\n",
       "      <th>2</th>\n",
       "      <td>Alonzo Mourning</td>\n",
       "      <td>2000.0</td>\n",
       "      <td>29.0</td>\n",
       "      <td>MIA</td>\n",
       "      <td>79.0</td>\n",
       "      <td>34.8</td>\n",
       "      <td>0.551</td>\n",
       "      <td>0.000</td>\n",
       "      <td>0.553</td>\n",
       "      <td>0.551</td>\n",
       "      <td>0.711</td>\n",
       "      <td>9.5</td>\n",
       "      <td>1.6</td>\n",
       "      <td>0.5</td>\n",
       "      <td>3.7</td>\n",
       "      <td>2.7</td>\n",
       "      <td>3.9</td>\n",
       "      <td>21.7</td>\n",
       "      <td>0</td>\n",
       "      <td>1.0</td>\n",
       "    </tr>\n",
       "    <tr>\n",
       "      <th>3</th>\n",
       "      <td>Juwan Howard</td>\n",
       "      <td>2000.0</td>\n",
       "      <td>26.0</td>\n",
       "      <td>WAS</td>\n",
       "      <td>82.0</td>\n",
       "      <td>35.5</td>\n",
       "      <td>0.459</td>\n",
       "      <td>0.000</td>\n",
       "      <td>0.462</td>\n",
       "      <td>0.459</td>\n",
       "      <td>0.735</td>\n",
       "      <td>5.7</td>\n",
       "      <td>3.0</td>\n",
       "      <td>0.8</td>\n",
       "      <td>0.3</td>\n",
       "      <td>2.7</td>\n",
       "      <td>3.6</td>\n",
       "      <td>14.9</td>\n",
       "      <td>0</td>\n",
       "      <td>0.0</td>\n",
       "    </tr>\n",
       "    <tr>\n",
       "      <th>4</th>\n",
       "      <td>Scottie Pippen</td>\n",
       "      <td>2000.0</td>\n",
       "      <td>34.0</td>\n",
       "      <td>POR</td>\n",
       "      <td>82.0</td>\n",
       "      <td>33.5</td>\n",
       "      <td>0.451</td>\n",
       "      <td>0.327</td>\n",
       "      <td>0.506</td>\n",
       "      <td>0.501</td>\n",
       "      <td>0.717</td>\n",
       "      <td>6.3</td>\n",
       "      <td>5.0</td>\n",
       "      <td>1.4</td>\n",
       "      <td>0.5</td>\n",
       "      <td>2.5</td>\n",
       "      <td>2.5</td>\n",
       "      <td>12.5</td>\n",
       "      <td>0</td>\n",
       "      <td>0.0</td>\n",
       "    </tr>\n",
       "  </tbody>\n",
       "</table>\n",
       "</div>"
      ],
      "text/plain": [
       "         playerName  season   Age team     G    MP    FG%    3P%    2P%  \\\n",
       "0  Shaquille O'Neal  2000.0  27.0  LAL  79.0  40.0  0.574  0.000  0.575   \n",
       "1     Kevin Garnett  2000.0  23.0  MIN  81.0  40.0  0.497  0.370  0.504   \n",
       "2   Alonzo Mourning  2000.0  29.0  MIA  79.0  34.8  0.551  0.000  0.553   \n",
       "3      Juwan Howard  2000.0  26.0  WAS  82.0  35.5  0.459  0.000  0.462   \n",
       "4    Scottie Pippen  2000.0  34.0  POR  82.0  33.5  0.451  0.327  0.506   \n",
       "\n",
       "    eFG%    FT%   TRB  AST  STL  BLK  TOV   PF   PTS  Rank  AllStar  \n",
       "0  0.574  0.524  13.6  3.8  0.5  3.0  2.8  3.2  29.7     0      1.0  \n",
       "1  0.507  0.765  11.8  5.0  1.5  1.6  3.3  2.5  22.9     0      1.0  \n",
       "2  0.551  0.711   9.5  1.6  0.5  3.7  2.7  3.9  21.7     0      1.0  \n",
       "3  0.459  0.735   5.7  3.0  0.8  0.3  2.7  3.6  14.9     0      0.0  \n",
       "4  0.501  0.717   6.3  5.0  1.4  0.5  2.5  2.5  12.5     0      0.0  "
      ]
     },
     "execution_count": 339,
     "metadata": {},
     "output_type": "execute_result"
    }
   ],
   "source": [
    "#read mvp data and perform data clean up\n",
    "current_folder = Path.cwd()\n",
    "\n",
    "mvp_files = [f for f in current_folder.glob(\"*.csv\") if \"MVP Data\" in f.name]\n",
    "\n",
    "mvps = pd.concat(\n",
    "    [pd.read_csv(file, sep=',', usecols=['Rank', 'Player', 'year', 'Tm'])\n",
    "     for file in mvp_files]\n",
    ")\n",
    "\n",
    "mvps = mvps[(~mvps['Rank'].str.contains('T')) & mvps.Rank == 1]\n",
    "mvps.Player = mvps.Player.apply(unidecode.unidecode)\n",
    "\n",
    "#add data to our main dataframe\n",
    "player_stats = player_stats.merge(\n",
    "    mvps,\n",
    "    how='left',\n",
    "    left_on=['playerName','season'],\n",
    "    right_on=['Player', 'year']\n",
    ").drop(['Player', 'Tm','year'], axis=1)\n",
    "\n",
    "#fill na fields with zero to prepare for forecasts \n",
    "player_stats.Rank = player_stats.Rank.fillna(0)\n",
    "#player_stats.ftPercent = player_stats.ftPercent.fillna(0)\n",
    "player_stats[['FG%', '3P%', '2P%', 'eFG%', 'FT%']] = player_stats[['FG%', '3P%', '2P%', 'eFG%', 'FT%']].fillna(0)\n",
    "\n",
    "\n",
    "#read all start data and again perform clean up\n",
    "df_allstar = pd.read_csv('1980-2022_AllStar_Data.csv',\n",
    "    sep=',',\n",
    "    usecols=['first', 'last', 'team', 'year']\n",
    ")\n",
    "\n",
    "df_allstar['PlayerName'] = df_allstar['first'].astype(str) + ' ' + df_allstar['last'].astype(str)\n",
    "\n",
    "#make seasons match\n",
    "df_allstar['year'] = df_allstar['year'] + 1\n",
    "df_allstar = df_allstar[['PlayerName', 'team', 'year']]\n",
    "#mark players that made the All Star Team in preparation for forecast\n",
    "df_allstar['AllStar'] = 1\n",
    "df_allstar = df_allstar.replace({'team' : team_names})\n",
    "\n",
    "#add data to main dataframe\n",
    "player_stats = player_stats.merge(\n",
    "    df_allstar,\n",
    "    how='outer',\n",
    "    left_on=['playerName','season', 'team'],\n",
    "    right_on=['PlayerName', 'year', 'team']\n",
    ").drop(['PlayerName','year'], axis=1)\n",
    "\n",
    "player_stats = player_stats[~player_stats.season.isna()]\n",
    "player_stats.AllStar = player_stats.AllStar.fillna(0)\n",
    "\n",
    "#change column variable due to malfunction in GraphQL API\n",
    "columns = ['season', 'Age', 'G', 'MP', 'FG%', '3P%', '2P%', 'eFG%', 'FT%', 'TRB', 'AST', 'STL', 'BLK', 'TOV', 'PF', 'PTS', 'Rank']\n",
    "# columns = ['points', 'assists', 'turnovers', 'games', 'ftPercent', 'blocks', 'totalRb', 'wins', 'Rank']\n",
    "player_stats[columns] = player_stats[columns].apply(pd.to_numeric, errors='coerce')\n",
    "\n",
    "player_stats.head()"
   ]
  },
  {
   "cell_type": "code",
   "execution_count": 340,
   "id": "7a0af39e",
   "metadata": {},
   "outputs": [
    {
     "data": {
      "text/html": [
       "<div>\n",
       "<style scoped>\n",
       "    .dataframe tbody tr th:only-of-type {\n",
       "        vertical-align: middle;\n",
       "    }\n",
       "\n",
       "    .dataframe tbody tr th {\n",
       "        vertical-align: top;\n",
       "    }\n",
       "\n",
       "    .dataframe thead th {\n",
       "        text-align: right;\n",
       "    }\n",
       "</style>\n",
       "<table border=\"1\" class=\"dataframe\">\n",
       "  <thead>\n",
       "    <tr style=\"text-align: right;\">\n",
       "      <th></th>\n",
       "      <th>Age</th>\n",
       "      <th>G</th>\n",
       "      <th>MP</th>\n",
       "      <th>FG%</th>\n",
       "      <th>3P%</th>\n",
       "      <th>2P%</th>\n",
       "      <th>eFG%</th>\n",
       "      <th>FT%</th>\n",
       "      <th>TRB</th>\n",
       "      <th>AST</th>\n",
       "      <th>STL</th>\n",
       "      <th>BLK</th>\n",
       "      <th>TOV</th>\n",
       "      <th>PF</th>\n",
       "      <th>PTS</th>\n",
       "      <th>Rank</th>\n",
       "    </tr>\n",
       "  </thead>\n",
       "  <tbody>\n",
       "    <tr>\n",
       "      <th>count</th>\n",
       "      <td>10484.000000</td>\n",
       "      <td>10484.000000</td>\n",
       "      <td>10484.000000</td>\n",
       "      <td>10484.000000</td>\n",
       "      <td>10484.000000</td>\n",
       "      <td>10484.000000</td>\n",
       "      <td>10484.000000</td>\n",
       "      <td>10484.000000</td>\n",
       "      <td>10484.000000</td>\n",
       "      <td>10484.000000</td>\n",
       "      <td>10484.000000</td>\n",
       "      <td>10484.000000</td>\n",
       "      <td>10484.000000</td>\n",
       "      <td>10484.000000</td>\n",
       "      <td>10484.000000</td>\n",
       "      <td>10484.000000</td>\n",
       "    </tr>\n",
       "    <tr>\n",
       "      <th>mean</th>\n",
       "      <td>26.468333</td>\n",
       "      <td>53.277852</td>\n",
       "      <td>20.967570</td>\n",
       "      <td>0.443931</td>\n",
       "      <td>0.261866</td>\n",
       "      <td>0.481261</td>\n",
       "      <td>0.490870</td>\n",
       "      <td>0.713861</td>\n",
       "      <td>3.728548</td>\n",
       "      <td>1.955933</td>\n",
       "      <td>0.660177</td>\n",
       "      <td>0.432011</td>\n",
       "      <td>1.198378</td>\n",
       "      <td>1.832650</td>\n",
       "      <td>8.786389</td>\n",
       "      <td>0.149466</td>\n",
       "    </tr>\n",
       "    <tr>\n",
       "      <th>std</th>\n",
       "      <td>4.299332</td>\n",
       "      <td>23.881280</td>\n",
       "      <td>9.731078</td>\n",
       "      <td>0.093928</td>\n",
       "      <td>0.165770</td>\n",
       "      <td>0.107309</td>\n",
       "      <td>0.095774</td>\n",
       "      <td>0.183957</td>\n",
       "      <td>2.470164</td>\n",
       "      <td>1.861626</td>\n",
       "      <td>0.431298</td>\n",
       "      <td>0.466723</td>\n",
       "      <td>0.812211</td>\n",
       "      <td>0.781999</td>\n",
       "      <td>6.207002</td>\n",
       "      <td>1.113547</td>\n",
       "    </tr>\n",
       "    <tr>\n",
       "      <th>min</th>\n",
       "      <td>18.000000</td>\n",
       "      <td>1.000000</td>\n",
       "      <td>0.000000</td>\n",
       "      <td>0.000000</td>\n",
       "      <td>0.000000</td>\n",
       "      <td>0.000000</td>\n",
       "      <td>0.000000</td>\n",
       "      <td>0.000000</td>\n",
       "      <td>0.000000</td>\n",
       "      <td>0.000000</td>\n",
       "      <td>0.000000</td>\n",
       "      <td>0.000000</td>\n",
       "      <td>0.000000</td>\n",
       "      <td>0.000000</td>\n",
       "      <td>0.000000</td>\n",
       "      <td>0.000000</td>\n",
       "    </tr>\n",
       "    <tr>\n",
       "      <th>25%</th>\n",
       "      <td>23.000000</td>\n",
       "      <td>36.000000</td>\n",
       "      <td>13.000000</td>\n",
       "      <td>0.404000</td>\n",
       "      <td>0.147750</td>\n",
       "      <td>0.439750</td>\n",
       "      <td>0.455000</td>\n",
       "      <td>0.664000</td>\n",
       "      <td>1.900000</td>\n",
       "      <td>0.700000</td>\n",
       "      <td>0.300000</td>\n",
       "      <td>0.100000</td>\n",
       "      <td>0.600000</td>\n",
       "      <td>1.300000</td>\n",
       "      <td>4.000000</td>\n",
       "      <td>0.000000</td>\n",
       "    </tr>\n",
       "    <tr>\n",
       "      <th>50%</th>\n",
       "      <td>26.000000</td>\n",
       "      <td>60.000000</td>\n",
       "      <td>20.700000</td>\n",
       "      <td>0.442000</td>\n",
       "      <td>0.320000</td>\n",
       "      <td>0.483000</td>\n",
       "      <td>0.497000</td>\n",
       "      <td>0.754000</td>\n",
       "      <td>3.200000</td>\n",
       "      <td>1.300000</td>\n",
       "      <td>0.600000</td>\n",
       "      <td>0.300000</td>\n",
       "      <td>1.000000</td>\n",
       "      <td>1.800000</td>\n",
       "      <td>7.300000</td>\n",
       "      <td>0.000000</td>\n",
       "    </tr>\n",
       "    <tr>\n",
       "      <th>75%</th>\n",
       "      <td>29.000000</td>\n",
       "      <td>74.000000</td>\n",
       "      <td>29.100000</td>\n",
       "      <td>0.486000</td>\n",
       "      <td>0.371000</td>\n",
       "      <td>0.532000</td>\n",
       "      <td>0.537000</td>\n",
       "      <td>0.821000</td>\n",
       "      <td>4.900000</td>\n",
       "      <td>2.600000</td>\n",
       "      <td>0.900000</td>\n",
       "      <td>0.600000</td>\n",
       "      <td>1.600000</td>\n",
       "      <td>2.400000</td>\n",
       "      <td>12.100000</td>\n",
       "      <td>0.000000</td>\n",
       "    </tr>\n",
       "    <tr>\n",
       "      <th>max</th>\n",
       "      <td>43.000000</td>\n",
       "      <td>85.000000</td>\n",
       "      <td>43.700000</td>\n",
       "      <td>1.000000</td>\n",
       "      <td>1.000000</td>\n",
       "      <td>1.000000</td>\n",
       "      <td>1.500000</td>\n",
       "      <td>1.000000</td>\n",
       "      <td>16.000000</td>\n",
       "      <td>11.700000</td>\n",
       "      <td>3.000000</td>\n",
       "      <td>3.800000</td>\n",
       "      <td>5.700000</td>\n",
       "      <td>5.000000</td>\n",
       "      <td>36.100000</td>\n",
       "      <td>17.000000</td>\n",
       "    </tr>\n",
       "  </tbody>\n",
       "</table>\n",
       "</div>"
      ],
      "text/plain": [
       "                Age             G            MP           FG%           3P%  \\\n",
       "count  10484.000000  10484.000000  10484.000000  10484.000000  10484.000000   \n",
       "mean      26.468333     53.277852     20.967570      0.443931      0.261866   \n",
       "std        4.299332     23.881280      9.731078      0.093928      0.165770   \n",
       "min       18.000000      1.000000      0.000000      0.000000      0.000000   \n",
       "25%       23.000000     36.000000     13.000000      0.404000      0.147750   \n",
       "50%       26.000000     60.000000     20.700000      0.442000      0.320000   \n",
       "75%       29.000000     74.000000     29.100000      0.486000      0.371000   \n",
       "max       43.000000     85.000000     43.700000      1.000000      1.000000   \n",
       "\n",
       "                2P%          eFG%           FT%           TRB           AST  \\\n",
       "count  10484.000000  10484.000000  10484.000000  10484.000000  10484.000000   \n",
       "mean       0.481261      0.490870      0.713861      3.728548      1.955933   \n",
       "std        0.107309      0.095774      0.183957      2.470164      1.861626   \n",
       "min        0.000000      0.000000      0.000000      0.000000      0.000000   \n",
       "25%        0.439750      0.455000      0.664000      1.900000      0.700000   \n",
       "50%        0.483000      0.497000      0.754000      3.200000      1.300000   \n",
       "75%        0.532000      0.537000      0.821000      4.900000      2.600000   \n",
       "max        1.000000      1.500000      1.000000     16.000000     11.700000   \n",
       "\n",
       "                STL           BLK           TOV            PF           PTS  \\\n",
       "count  10484.000000  10484.000000  10484.000000  10484.000000  10484.000000   \n",
       "mean       0.660177      0.432011      1.198378      1.832650      8.786389   \n",
       "std        0.431298      0.466723      0.812211      0.781999      6.207002   \n",
       "min        0.000000      0.000000      0.000000      0.000000      0.000000   \n",
       "25%        0.300000      0.100000      0.600000      1.300000      4.000000   \n",
       "50%        0.600000      0.300000      1.000000      1.800000      7.300000   \n",
       "75%        0.900000      0.600000      1.600000      2.400000     12.100000   \n",
       "max        3.000000      3.800000      5.700000      5.000000     36.100000   \n",
       "\n",
       "               Rank  \n",
       "count  10484.000000  \n",
       "mean       0.149466  \n",
       "std        1.113547  \n",
       "min        0.000000  \n",
       "25%        0.000000  \n",
       "50%        0.000000  \n",
       "75%        0.000000  \n",
       "max       17.000000  "
      ]
     },
     "execution_count": 340,
     "metadata": {},
     "output_type": "execute_result"
    }
   ],
   "source": [
    "player_stats.describe().drop(columns=['season', 'AllStar'])"
   ]
  },
  {
   "cell_type": "code",
   "execution_count": 341,
   "id": "4a13b201",
   "metadata": {},
   "outputs": [
    {
     "data": {
      "text/html": [
       "<div>\n",
       "<style scoped>\n",
       "    .dataframe tbody tr th:only-of-type {\n",
       "        vertical-align: middle;\n",
       "    }\n",
       "\n",
       "    .dataframe tbody tr th {\n",
       "        vertical-align: top;\n",
       "    }\n",
       "\n",
       "    .dataframe thead th {\n",
       "        text-align: right;\n",
       "    }\n",
       "</style>\n",
       "<table border=\"1\" class=\"dataframe\">\n",
       "  <thead>\n",
       "    <tr style=\"text-align: right;\">\n",
       "      <th></th>\n",
       "      <th>AllStar</th>\n",
       "      <th>Rank</th>\n",
       "    </tr>\n",
       "  </thead>\n",
       "  <tbody>\n",
       "    <tr>\n",
       "      <th>season</th>\n",
       "      <td>-0.065384</td>\n",
       "      <td>-0.044104</td>\n",
       "    </tr>\n",
       "    <tr>\n",
       "      <th>Age</th>\n",
       "      <td>0.043538</td>\n",
       "      <td>0.032919</td>\n",
       "    </tr>\n",
       "    <tr>\n",
       "      <th>G</th>\n",
       "      <td>0.180217</td>\n",
       "      <td>0.110332</td>\n",
       "    </tr>\n",
       "    <tr>\n",
       "      <th>MP</th>\n",
       "      <td>0.341783</td>\n",
       "      <td>0.202089</td>\n",
       "    </tr>\n",
       "    <tr>\n",
       "      <th>FG%</th>\n",
       "      <td>0.091105</td>\n",
       "      <td>0.052044</td>\n",
       "    </tr>\n",
       "    <tr>\n",
       "      <th>3P%</th>\n",
       "      <td>0.063733</td>\n",
       "      <td>0.045075</td>\n",
       "    </tr>\n",
       "    <tr>\n",
       "      <th>2P%</th>\n",
       "      <td>0.062964</td>\n",
       "      <td>0.035336</td>\n",
       "    </tr>\n",
       "    <tr>\n",
       "      <th>eFG%</th>\n",
       "      <td>0.068196</td>\n",
       "      <td>0.038581</td>\n",
       "    </tr>\n",
       "    <tr>\n",
       "      <th>FT%</th>\n",
       "      <td>0.099206</td>\n",
       "      <td>0.061769</td>\n",
       "    </tr>\n",
       "    <tr>\n",
       "      <th>TRB</th>\n",
       "      <td>0.319058</td>\n",
       "      <td>0.175334</td>\n",
       "    </tr>\n",
       "    <tr>\n",
       "      <th>AST</th>\n",
       "      <td>0.349978</td>\n",
       "      <td>0.249541</td>\n",
       "    </tr>\n",
       "    <tr>\n",
       "      <th>STL</th>\n",
       "      <td>0.302469</td>\n",
       "      <td>0.202317</td>\n",
       "    </tr>\n",
       "    <tr>\n",
       "      <th>BLK</th>\n",
       "      <td>0.196254</td>\n",
       "      <td>0.111750</td>\n",
       "    </tr>\n",
       "    <tr>\n",
       "      <th>TOV</th>\n",
       "      <td>0.422396</td>\n",
       "      <td>0.266817</td>\n",
       "    </tr>\n",
       "    <tr>\n",
       "      <th>PF</th>\n",
       "      <td>0.175972</td>\n",
       "      <td>0.091300</td>\n",
       "    </tr>\n",
       "    <tr>\n",
       "      <th>PTS</th>\n",
       "      <td>0.476733</td>\n",
       "      <td>0.296775</td>\n",
       "    </tr>\n",
       "    <tr>\n",
       "      <th>Rank</th>\n",
       "      <td>0.476943</td>\n",
       "      <td>1.000000</td>\n",
       "    </tr>\n",
       "  </tbody>\n",
       "</table>\n",
       "</div>"
      ],
      "text/plain": [
       "         AllStar      Rank\n",
       "season -0.065384 -0.044104\n",
       "Age     0.043538  0.032919\n",
       "G       0.180217  0.110332\n",
       "MP      0.341783  0.202089\n",
       "FG%     0.091105  0.052044\n",
       "3P%     0.063733  0.045075\n",
       "2P%     0.062964  0.035336\n",
       "eFG%    0.068196  0.038581\n",
       "FT%     0.099206  0.061769\n",
       "TRB     0.319058  0.175334\n",
       "AST     0.349978  0.249541\n",
       "STL     0.302469  0.202317\n",
       "BLK     0.196254  0.111750\n",
       "TOV     0.422396  0.266817\n",
       "PF      0.175972  0.091300\n",
       "PTS     0.476733  0.296775\n",
       "Rank    0.476943  1.000000"
      ]
     },
     "execution_count": 341,
     "metadata": {},
     "output_type": "execute_result"
    }
   ],
   "source": [
    "player_stats.corr(numeric_only=True).loc[columns, ['AllStar', 'Rank']]"
   ]
  },
  {
   "cell_type": "code",
   "execution_count": 342,
   "id": "097342f6",
   "metadata": {},
   "outputs": [
    {
     "data": {
      "text/plain": [
       "<Axes: xlabel='AllStar', ylabel='PTS'>"
      ]
     },
     "execution_count": 342,
     "metadata": {},
     "output_type": "execute_result"
    },
    {
     "data": {
      "image/png": "[encoded data removed]",
      "text/plain": [
       "<Figure size 640x480 with 1 Axes>"
      ]
     },
     "metadata": {},
     "output_type": "display_data"
    }
   ],
   "source": [
    "sns.boxplot(data=player_stats, x=\"AllStar\", y=\"PTS\")"
   ]
  },
  {
   "cell_type": "code",
   "execution_count": 343,
   "id": "0f4646a9",
   "metadata": {},
   "outputs": [],
   "source": [
    "df_train = player_stats[player_stats.season.between(2000, 2015)]\n",
    "df_test = player_stats[player_stats.season.between(2015, 2023)]"
   ]
  },
  {
   "cell_type": "code",
   "execution_count": 344,
   "id": "1d587ff3",
   "metadata": {},
   "outputs": [],
   "source": [
    "X = df_train[columns]\n",
    "y_mvp = df_train.Rank.astype('int')\n",
    "y_allstar = df_train.AllStar.astype('int')\n",
    "\n",
    "model_xgb_mvp = XGBRegressor(n_estimators=1000, max_depth=7, eta=0.1, subsample=0.7, colsample_bytree=0.8)\n",
    "# fit model\n",
    "model_xgb_mvp.fit(X, y_mvp)\n",
    "\n",
    "model_xgb_allstar = XGBClassifier()\n",
    "model_xgb_allstar.fit(X, y_allstar)\n",
    "\n",
    "#Train Logistic Regression classifier\n",
    "model_log_mvp = LogisticRegression(solver='liblinear', C=1.0).fit(X, y_mvp)\n",
    "model_log_allstar = LogisticRegression(solver='liblinear', C=1.0).fit(X, y_allstar)\n",
    "\n",
    "# Train Decision Tree Classifer\n",
    "model_clf_mvp = DecisionTreeClassifier().fit(X,y_mvp)\n",
    "model_clf_allstar = DecisionTreeClassifier().fit(X,y_allstar)\n",
    "\n",
    "# define model evaluation method\n",
    "cv = RepeatedKFold(n_splits=10, n_repeats=3, random_state=1)\n",
    "\n",
    "# evaluate model\n",
    "#scores = cross_val_score(model, X, y, scoring='neg_mean_absolute_error', cv=cv, n_jobs=-1)\n",
    "\n",
    "# # force scores to be positive\n",
    "# scores = absolute(scores)\n",
    "\n",
    "# y_pred = cross_val_predict(model, X, y, cv=5, n_jobs=-1)"
   ]
  },
  {
   "cell_type": "code",
   "execution_count": 355,
   "id": "45360368",
   "metadata": {},
   "outputs": [
    {
     "data": {
      "text/plain": [
       "<Axes: >"
      ]
     },
     "execution_count": 355,
     "metadata": {},
     "output_type": "execute_result"
    },
    {
     "data": {
      "image/png": "[encoded data removed]",
      "text/plain": [
       "<Figure size 640x480 with 1 Axes>"
      ]
     },
     "metadata": {},
     "output_type": "display_data"
    }
   ],
   "source": [
    "pd.Series(model_xgb_allstar.feature_importances_, X.columns).plot(kind='bar')"
   ]
  },
  {
   "cell_type": "code",
   "execution_count": 356,
   "id": "0cd4af5c",
   "metadata": {},
   "outputs": [
    {
     "data": {
      "text/plain": [
       "<Axes: >"
      ]
     },
     "execution_count": 356,
     "metadata": {},
     "output_type": "execute_result"
    },
    {
     "data": {
      "image/png": "[encoded data removed]",
      "text/plain": [
       "<Figure size 640x480 with 1 Axes>"
      ]
     },
     "metadata": {},
     "output_type": "display_data"
    }
   ],
   "source": [
    "pd.Series(model_log_allstar.coef_[0], X.columns).plot(kind='bar')"
   ]
  },
  {
   "cell_type": "code",
   "execution_count": 358,
   "id": "2bdc461b",
   "metadata": {},
   "outputs": [
    {
     "data": {
      "text/plain": [
       "0.6127692973445991"
      ]
     },
     "execution_count": 358,
     "metadata": {},
     "output_type": "execute_result"
    }
   ],
   "source": [
    "cross_val_score(model_xgb_allstar, X, y_allstar, scoring='f1', cv=5).mean()"
   ]
  },
  {
   "cell_type": "code",
   "execution_count": 348,
   "id": "99c852cb",
   "metadata": {},
   "outputs": [],
   "source": [
    "df_score = df_test.copy()\n",
    "df_score = df_score[df_score.season < 2024]\n",
    "\n",
    "df_score['Log_Prediction'] = model_xgb_allstar.predict(df_score[columns])\n",
    "df_score['XGB_Prediction'] = model_log_allstar.predict(df_score[columns])\n",
    "df_score['Tree_Prediction'] = model_clf_allstar.predict(df_score[columns])\n",
    "\n",
    "f1 = (\n",
    "    df_score.groupby('season')\n",
    "    .apply(lambda x: pd.Series({\n",
    "        'F1_Log': f1_score(x['AllStar'], x['Log_Prediction']),\n",
    "        'F1_XGB': f1_score(x['AllStar'], x['XGB_Prediction']),\n",
    "        'F1_Tree': f1_score(x['AllStar'], x['Tree_Prediction'])\n",
    "    }))\n",
    "    .reset_index()\n",
    ")\n",
    "\n",
    "auc = (\n",
    "    df_score.groupby('season')\n",
    "    .apply(lambda x: pd.Series({\n",
    "        'AUC_Log': roc_auc_score(x['AllStar'], x['Log_Prediction']),\n",
    "        'AUC_XGB': roc_auc_score(x['AllStar'], x['XGB_Prediction']),\n",
    "        'AUC_Tree': roc_auc_score(x['AllStar'], x['Tree_Prediction'])\n",
    "    }))\n",
    "    .reset_index()\n",
    ")"
   ]
  },
  {
   "cell_type": "code",
   "execution_count": null,
   "id": "8cd7a5a3",
   "metadata": {},
   "outputs": [],
   "source": [
    "def score_evolution_plot(df_data, column_list, label):\n",
    "\n",
    "    x_axis = df_data.season\n",
    "\n",
    "    fig = go.Figure(data=[\n",
    "    go.Bar(name='Log Regression', x=x_axis, y=df_data[column_list[0]], marker_color='green'),\n",
    "    go.Bar(name='XGB Classifier', x=x_axis, y=df_data[column_list[1]], marker_color='chocolate'),\n",
    "    go.Bar(name='Decision Tree', x=x_axis, y=df_data[column_list[2]], marker_color='blue')\n",
    "    \n",
    "    ])\n",
    "\n",
    "    fig.update_layout(\n",
    "        barmode='group',\n",
    "        title=label\n",
    "    )\n",
    "    \n",
    "    fig.show()"
   ]
  },
  {
   "cell_type": "code",
   "execution_count": 350,
   "id": "04b4072e",
   "metadata": {},
   "outputs": [
    {
     "data": {
      "application/vnd.plotly.v1+json": {
       "config": {
        "plotlyServerURL": "https://plot.ly"
       },
       "data": [
        {
         "marker": {
          "color": "green"
         },
         "name": "Log Regression",
         "type": "bar",
         "x": [
          2015,
          2016,
          2017,
          2018,
          2019,
          2020,
          2021,
          2022,
          2023
         ],
         "y": [
          1,
          0.7346938775510203,
          0.6222222222222222,
          0.6222222222222222,
          0.6101694915254238,
          0.6,
          0.5,
          0.6181818181818182,
          0.625
         ]
        },
        {
         "marker": {
          "color": "chocolate"
         },
         "name": "XGB Classifier",
         "type": "bar",
         "x": [
          2015,
          2016,
          2017,
          2018,
          2019,
          2020,
          2021,
          2022,
          2023
         ],
         "y": [
          0.5,
          0.6842105263157895,
          0.631578947368421,
          0.6470588235294117,
          0.7391304347826085,
          0.6818181818181819,
          0.6976744186046512,
          0.6249999999999999,
          0.75
         ]
        },
        {
         "marker": {
          "color": "blue"
         },
         "name": "Decision Tree",
         "type": "bar",
         "x": [
          2015,
          2016,
          2017,
          2018,
          2019,
          2020,
          2021,
          2022,
          2023
         ],
         "y": [
          1,
          0.4888888888888889,
          0.45,
          0.44897959183673464,
          0.5185185185185185,
          0.45614035087719296,
          0.52,
          0.4482758620689656,
          0.40816326530612246
         ]
        }
       ],
       "layout": {
        "barmode": "group",
        "template": {
         "data": {
          "bar": [
           {
            "error_x": {
             "color": "#2a3f5f"
            },
            "error_y": {
             "color": "#2a3f5f"
            },
            "marker": {
             "line": {
              "color": "#E5ECF6",
              "width": 0.5
             },
             "pattern": {
              "fillmode": "overlay",
              "size": 10,
              "solidity": 0.2
             }
            },
            "type": "bar"
           }
          ],
          "barpolar": [
           {
            "marker": {
             "line": {
              "color": "#E5ECF6",
              "width": 0.5
             },
             "pattern": {
              "fillmode": "overlay",
              "size": 10,
              "solidity": 0.2
             }
            },
            "type": "barpolar"
           }
          ],
          "carpet": [
           {
            "aaxis": {
             "endlinecolor": "#2a3f5f",
             "gridcolor": "white",
             "linecolor": "white",
             "minorgridcolor": "white",
             "startlinecolor": "#2a3f5f"
            },
            "baxis": {
             "endlinecolor": "#2a3f5f",
             "gridcolor": "white",
             "linecolor": "white",
             "minorgridcolor": "white",
             "startlinecolor": "#2a3f5f"
            },
            "type": "carpet"
           }
          ],
          "choropleth": [
           {
            "colorbar": {
             "outlinewidth": 0,
             "ticks": ""
            },
            "type": "choropleth"
           }
          ],
          "contour": [
           {
            "colorbar": {
             "outlinewidth": 0,
             "ticks": ""
            },
            "colorscale": [
             [
              0,
              "#0d0887"
             ],
             [
              0.1111111111111111,
              "#46039f"
             ],
             [
              0.2222222222222222,
              "#7201a8"
             ],
             [
              0.3333333333333333,
              "#9c179e"
             ],
             [
              0.4444444444444444,
              "#bd3786"
             ],
             [
              0.5555555555555556,
              "#d8576b"
             ],
             [
              0.6666666666666666,
              "#ed7953"
             ],
             [
              0.7777777777777778,
              "#fb9f3a"
             ],
             [
              0.8888888888888888,
              "#fdca26"
             ],
             [
              1,
              "#f0f921"
             ]
            ],
            "type": "contour"
           }
          ],
          "contourcarpet": [
           {
            "colorbar": {
             "outlinewidth": 0,
             "ticks": ""
            },
            "type": "contourcarpet"
           }
          ],
          "heatmap": [
           {
            "colorbar": {
             "outlinewidth": 0,
             "ticks": ""
            },
            "colorscale": [
             [
              0,
              "#0d0887"
             ],
             [
              0.1111111111111111,
              "#46039f"
             ],
             [
              0.2222222222222222,
              "#7201a8"
             ],
             [
              0.3333333333333333,
              "#9c179e"
             ],
             [
              0.4444444444444444,
              "#bd3786"
             ],
             [
              0.5555555555555556,
              "#d8576b"
             ],
             [
              0.6666666666666666,
              "#ed7953"
             ],
             [
              0.7777777777777778,
              "#fb9f3a"
             ],
             [
              0.8888888888888888,
              "#fdca26"
             ],
             [
              1,
              "#f0f921"
             ]
            ],
            "type": "heatmap"
           }
          ],
          "heatmapgl": [
           {
            "colorbar": {
             "outlinewidth": 0,
             "ticks": ""
            },
            "colorscale": [
             [
              0,
              "#0d0887"
             ],
             [
              0.1111111111111111,
              "#46039f"
             ],
             [
              0.2222222222222222,
              "#7201a8"
             ],
             [
              0.3333333333333333,
              "#9c179e"
             ],
             [
              0.4444444444444444,
              "#bd3786"
             ],
             [
              0.5555555555555556,
              "#d8576b"
             ],
             [
              0.6666666666666666,
              "#ed7953"
             ],
             [
              0.7777777777777778,
              "#fb9f3a"
             ],
             [
              0.8888888888888888,
              "#fdca26"
             ],
             [
              1,
              "#f0f921"
             ]
            ],
            "type": "heatmapgl"
           }
          ],
          "histogram": [
           {
            "marker": {
             "pattern": {
              "fillmode": "overlay",
              "size": 10,
              "solidity": 0.2
             }
            },
            "type": "histogram"
           }
          ],
          "histogram2d": [
           {
            "colorbar": {
             "outlinewidth": 0,
             "ticks": ""
            },
            "colorscale": [
             [
              0,
              "#0d0887"
             ],
             [
              0.1111111111111111,
              "#46039f"
             ],
             [
              0.2222222222222222,
              "#7201a8"
             ],
             [
              0.3333333333333333,
              "#9c179e"
             ],
             [
              0.4444444444444444,
              "#bd3786"
             ],
             [
              0.5555555555555556,
              "#d8576b"
             ],
             [
              0.6666666666666666,
              "#ed7953"
             ],
             [
              0.7777777777777778,
              "#fb9f3a"
             ],
             [
              0.8888888888888888,
              "#fdca26"
             ],
             [
              1,
              "#f0f921"
             ]
            ],
            "type": "histogram2d"
           }
          ],
          "histogram2dcontour": [
           {
            "colorbar": {
             "outlinewidth": 0,
             "ticks": ""
            },
            "colorscale": [
             [
              0,
              "#0d0887"
             ],
             [
              0.1111111111111111,
              "#46039f"
             ],
             [
              0.2222222222222222,
              "#7201a8"
             ],
             [
              0.3333333333333333,
              "#9c179e"
             ],
             [
              0.4444444444444444,
              "#bd3786"
             ],
             [
              0.5555555555555556,
              "#d8576b"
             ],
             [
              0.6666666666666666,
              "#ed7953"
             ],
             [
              0.7777777777777778,
              "#fb9f3a"
             ],
             [
              0.8888888888888888,
              "#fdca26"
             ],
             [
              1,
              "#f0f921"
             ]
            ],
            "type": "histogram2dcontour"
           }
          ],
          "mesh3d": [
           {
            "colorbar": {
             "outlinewidth": 0,
             "ticks": ""
            },
            "type": "mesh3d"
           }
          ],
          "parcoords": [
           {
            "line": {
             "colorbar": {
              "outlinewidth": 0,
              "ticks": ""
             }
            },
            "type": "parcoords"
           }
          ],
          "pie": [
           {
            "automargin": true,
            "type": "pie"
           }
          ],
          "scatter": [
           {
            "fillpattern": {
             "fillmode": "overlay",
             "size": 10,
             "solidity": 0.2
            },
            "type": "scatter"
           }
          ],
          "scatter3d": [
           {
            "line": {
             "colorbar": {
              "outlinewidth": 0,
              "ticks": ""
             }
            },
            "marker": {
             "colorbar": {
              "outlinewidth": 0,
              "ticks": ""
             }
            },
            "type": "scatter3d"
           }
          ],
          "scattercarpet": [
           {
            "marker": {
             "colorbar": {
              "outlinewidth": 0,
              "ticks": ""
             }
            },
            "type": "scattercarpet"
           }
          ],
          "scattergeo": [
           {
            "marker": {
             "colorbar": {
              "outlinewidth": 0,
              "ticks": ""
             }
            },
            "type": "scattergeo"
           }
          ],
          "scattergl": [
           {
            "marker": {
             "colorbar": {
              "outlinewidth": 0,
              "ticks": ""
             }
            },
            "type": "scattergl"
           }
          ],
          "scattermapbox": [
           {
            "marker": {
             "colorbar": {
              "outlinewidth": 0,
              "ticks": ""
             }
            },
            "type": "scattermapbox"
           }
          ],
          "scatterpolar": [
           {
            "marker": {
             "colorbar": {
              "outlinewidth": 0,
              "ticks": ""
             }
            },
            "type": "scatterpolar"
           }
          ],
          "scatterpolargl": [
           {
            "marker": {
             "colorbar": {
              "outlinewidth": 0,
              "ticks": ""
             }
            },
            "type": "scatterpolargl"
           }
          ],
          "scatterternary": [
           {
            "marker": {
             "colorbar": {
              "outlinewidth": 0,
              "ticks": ""
             }
            },
            "type": "scatterternary"
           }
          ],
          "surface": [
           {
            "colorbar": {
             "outlinewidth": 0,
             "ticks": ""
            },
            "colorscale": [
             [
              0,
              "#0d0887"
             ],
             [
              0.1111111111111111,
              "#46039f"
             ],
             [
              0.2222222222222222,
              "#7201a8"
             ],
             [
              0.3333333333333333,
              "#9c179e"
             ],
             [
              0.4444444444444444,
              "#bd3786"
             ],
             [
              0.5555555555555556,
              "#d8576b"
             ],
             [
              0.6666666666666666,
              "#ed7953"
             ],
             [
              0.7777777777777778,
              "#fb9f3a"
             ],
             [
              0.8888888888888888,
              "#fdca26"
             ],
             [
              1,
              "#f0f921"
             ]
            ],
            "type": "surface"
           }
          ],
          "table": [
           {
            "cells": {
             "fill": {
              "color": "#EBF0F8"
             },
             "line": {
              "color": "white"
             }
            },
            "header": {
             "fill": {
              "color": "#C8D4E3"
             },
             "line": {
              "color": "white"
             }
            },
            "type": "table"
           }
          ]
         },
         "layout": {
          "annotationdefaults": {
           "arrowcolor": "#2a3f5f",
           "arrowhead": 0,
           "arrowwidth": 1
          },
          "autotypenumbers": "strict",
          "coloraxis": {
           "colorbar": {
            "outlinewidth": 0,
            "ticks": ""
           }
          },
          "colorscale": {
           "diverging": [
            [
             0,
             "#8e0152"
            ],
            [
             0.1,
             "#c51b7d"
            ],
            [
             0.2,
             "#de77ae"
            ],
            [
             0.3,
             "#f1b6da"
            ],
            [
             0.4,
             "#fde0ef"
            ],
            [
             0.5,
             "#f7f7f7"
            ],
            [
             0.6,
             "#e6f5d0"
            ],
            [
             0.7,
             "#b8e186"
            ],
            [
             0.8,
             "#7fbc41"
            ],
            [
             0.9,
             "#4d9221"
            ],
            [
             1,
             "#276419"
            ]
           ],
           "sequential": [
            [
             0,
             "#0d0887"
            ],
            [
             0.1111111111111111,
             "#46039f"
            ],
            [
             0.2222222222222222,
             "#7201a8"
            ],
            [
             0.3333333333333333,
             "#9c179e"
            ],
            [
             0.4444444444444444,
             "#bd3786"
            ],
            [
             0.5555555555555556,
             "#d8576b"
            ],
            [
             0.6666666666666666,
             "#ed7953"
            ],
            [
             0.7777777777777778,
             "#fb9f3a"
            ],
            [
             0.8888888888888888,
             "#fdca26"
            ],
            [
             1,
             "#f0f921"
            ]
           ],
           "sequentialminus": [
            [
             0,
             "#0d0887"
            ],
            [
             0.1111111111111111,
             "#46039f"
            ],
            [
             0.2222222222222222,
             "#7201a8"
            ],
            [
             0.3333333333333333,
             "#9c179e"
            ],
            [
             0.4444444444444444,
             "#bd3786"
            ],
            [
             0.5555555555555556,
             "#d8576b"
            ],
            [
             0.6666666666666666,
             "#ed7953"
            ],
            [
             0.7777777777777778,
             "#fb9f3a"
            ],
            [
             0.8888888888888888,
             "#fdca26"
            ],
            [
             1,
             "#f0f921"
            ]
           ]
          },
          "colorway": [
           "#636efa",
           "#EF553B",
           "#00cc96",
           "#ab63fa",
           "#FFA15A",
           "#19d3f3",
           "#FF6692",
           "#B6E880",
           "#FF97FF",
           "#FECB52"
          ],
          "font": {
           "color": "#2a3f5f"
          },
          "geo": {
           "bgcolor": "white",
           "lakecolor": "white",
           "landcolor": "#E5ECF6",
           "showlakes": true,
           "showland": true,
           "subunitcolor": "white"
          },
          "hoverlabel": {
           "align": "left"
          },
          "hovermode": "closest",
          "mapbox": {
           "style": "light"
          },
          "paper_bgcolor": "white",
          "plot_bgcolor": "#E5ECF6",
          "polar": {
           "angularaxis": {
            "gridcolor": "white",
            "linecolor": "white",
            "ticks": ""
           },
           "bgcolor": "#E5ECF6",
           "radialaxis": {
            "gridcolor": "white",
            "linecolor": "white",
            "ticks": ""
           }
          },
          "scene": {
           "xaxis": {
            "backgroundcolor": "#E5ECF6",
            "gridcolor": "white",
            "gridwidth": 2,
            "linecolor": "white",
            "showbackground": true,
            "ticks": "",
            "zerolinecolor": "white"
           },
           "yaxis": {
            "backgroundcolor": "#E5ECF6",
            "gridcolor": "white",
            "gridwidth": 2,
            "linecolor": "white",
            "showbackground": true,
            "ticks": "",
            "zerolinecolor": "white"
           },
           "zaxis": {
            "backgroundcolor": "#E5ECF6",
            "gridcolor": "white",
            "gridwidth": 2,
            "linecolor": "white",
            "showbackground": true,
            "ticks": "",
            "zerolinecolor": "white"
           }
          },
          "shapedefaults": {
           "line": {
            "color": "#2a3f5f"
           }
          },
          "ternary": {
           "aaxis": {
            "gridcolor": "white",
            "linecolor": "white",
            "ticks": ""
           },
           "baxis": {
            "gridcolor": "white",
            "linecolor": "white",
            "ticks": ""
           },
           "bgcolor": "#E5ECF6",
           "caxis": {
            "gridcolor": "white",
            "linecolor": "white",
            "ticks": ""
           }
          },
          "title": {
           "x": 0.05
          },
          "xaxis": {
           "automargin": true,
           "gridcolor": "white",
           "linecolor": "white",
           "ticks": "",
           "title": {
            "standoff": 15
           },
           "zerolinecolor": "white",
           "zerolinewidth": 2
          },
          "yaxis": {
           "automargin": true,
           "gridcolor": "white",
           "linecolor": "white",
           "ticks": "",
           "title": {
            "standoff": 15
           },
           "zerolinecolor": "white",
           "zerolinewidth": 2
          }
         }
        },
        "title": {
         "text": "F1 Score Evolution"
        }
       }
      }
     },
     "metadata": {},
     "output_type": "display_data"
    },
    {
     "data": {
      "application/vnd.plotly.v1+json": {
       "config": {
        "plotlyServerURL": "https://plot.ly"
       },
       "data": [
        {
         "marker": {
          "color": "green"
         },
         "name": "Log Regression",
         "type": "bar",
         "x": [
          2015,
          2016,
          2017,
          2018,
          2019,
          2020,
          2021,
          2022,
          2023
         ],
         "y": [
          1,
          0.8818480830506732,
          0.8376404494382023,
          0.8527552562869315,
          0.8701775872627068,
          0.8115238497256226,
          0.8631929574113728,
          0.8709196209196208,
          0.9504057228272473
         ]
        },
        {
         "marker": {
          "color": "chocolate"
         },
         "name": "XGB Classifier",
         "type": "bar",
         "x": [
          2015,
          2016,
          2017,
          2018,
          2019,
          2020,
          2021,
          2022,
          2023
         ],
         "y": [
          0.6727818217588039,
          0.7802446294583204,
          0.7932584269662921,
          0.7842517520956438,
          0.8625229638701776,
          0.8188054031236809,
          0.9059600285510351,
          0.8302913302913303,
          0.9184817424727739
         ]
        },
        {
         "marker": {
          "color": "blue"
         },
         "name": "Decision Tree",
         "type": "bar",
         "x": [
          2015,
          2016,
          2017,
          2018,
          2019,
          2020,
          2021,
          2022,
          2023
         ],
         "y": [
          1,
          0.7261280707164147,
          0.7126404494382022,
          0.7646695066648345,
          0.784394774443764,
          0.7571232587589699,
          0.840768498691411,
          0.7732537732537732,
          0.7179158658979287
         ]
        }
       ],
       "layout": {
        "barmode": "group",
        "template": {
         "data": {
          "bar": [
           {
            "error_x": {
             "color": "#2a3f5f"
            },
            "error_y": {
             "color": "#2a3f5f"
            },
            "marker": {
             "line": {
              "color": "#E5ECF6",
              "width": 0.5
             },
             "pattern": {
              "fillmode": "overlay",
              "size": 10,
              "solidity": 0.2
             }
            },
            "type": "bar"
           }
          ],
          "barpolar": [
           {
            "marker": {
             "line": {
              "color": "#E5ECF6",
              "width": 0.5
             },
             "pattern": {
              "fillmode": "overlay",
              "size": 10,
              "solidity": 0.2
             }
            },
            "type": "barpolar"
           }
          ],
          "carpet": [
           {
            "aaxis": {
             "endlinecolor": "#2a3f5f",
             "gridcolor": "white",
             "linecolor": "white",
             "minorgridcolor": "white",
             "startlinecolor": "#2a3f5f"
            },
            "baxis": {
             "endlinecolor": "#2a3f5f",
             "gridcolor": "white",
             "linecolor": "white",
             "minorgridcolor": "white",
             "startlinecolor": "#2a3f5f"
            },
            "type": "carpet"
           }
          ],
          "choropleth": [
           {
            "colorbar": {
             "outlinewidth": 0,
             "ticks": ""
            },
            "type": "choropleth"
           }
          ],
          "contour": [
           {
            "colorbar": {
             "outlinewidth": 0,
             "ticks": ""
            },
            "colorscale": [
             [
              0,
              "#0d0887"
             ],
             [
              0.1111111111111111,
              "#46039f"
             ],
             [
              0.2222222222222222,
              "#7201a8"
             ],
             [
              0.3333333333333333,
              "#9c179e"
             ],
             [
              0.4444444444444444,
              "#bd3786"
             ],
             [
              0.5555555555555556,
              "#d8576b"
             ],
             [
              0.6666666666666666,
              "#ed7953"
             ],
             [
              0.7777777777777778,
              "#fb9f3a"
             ],
             [
              0.8888888888888888,
              "#fdca26"
             ],
             [
              1,
              "#f0f921"
             ]
            ],
            "type": "contour"
           }
          ],
          "contourcarpet": [
           {
            "colorbar": {
             "outlinewidth": 0,
             "ticks": ""
            },
            "type": "contourcarpet"
           }
          ],
          "heatmap": [
           {
            "colorbar": {
             "outlinewidth": 0,
             "ticks": ""
            },
            "colorscale": [
             [
              0,
              "#0d0887"
             ],
             [
              0.1111111111111111,
              "#46039f"
             ],
             [
              0.2222222222222222,
              "#7201a8"
             ],
             [
              0.3333333333333333,
              "#9c179e"
             ],
             [
              0.4444444444444444,
              "#bd3786"
             ],
             [
              0.5555555555555556,
              "#d8576b"
             ],
             [
              0.6666666666666666,
              "#ed7953"
             ],
             [
              0.7777777777777778,
              "#fb9f3a"
             ],
             [
              0.8888888888888888,
              "#fdca26"
             ],
             [
              1,
              "#f0f921"
             ]
            ],
            "type": "heatmap"
           }
          ],
          "heatmapgl": [
           {
            "colorbar": {
             "outlinewidth": 0,
             "ticks": ""
            },
            "colorscale": [
             [
              0,
              "#0d0887"
             ],
             [
              0.1111111111111111,
              "#46039f"
             ],
             [
              0.2222222222222222,
              "#7201a8"
             ],
             [
              0.3333333333333333,
              "#9c179e"
             ],
             [
              0.4444444444444444,
              "#bd3786"
             ],
             [
              0.5555555555555556,
              "#d8576b"
             ],
             [
              0.6666666666666666,
              "#ed7953"
             ],
             [
              0.7777777777777778,
              "#fb9f3a"
             ],
             [
              0.8888888888888888,
              "#fdca26"
             ],
             [
              1,
              "#f0f921"
             ]
            ],
            "type": "heatmapgl"
           }
          ],
          "histogram": [
           {
            "marker": {
             "pattern": {
              "fillmode": "overlay",
              "size": 10,
              "solidity": 0.2
             }
            },
            "type": "histogram"
           }
          ],
          "histogram2d": [
           {
            "colorbar": {
             "outlinewidth": 0,
             "ticks": ""
            },
            "colorscale": [
             [
              0,
              "#0d0887"
             ],
             [
              0.1111111111111111,
              "#46039f"
             ],
             [
              0.2222222222222222,
              "#7201a8"
             ],
             [
              0.3333333333333333,
              "#9c179e"
             ],
             [
              0.4444444444444444,
              "#bd3786"
             ],
             [
              0.5555555555555556,
              "#d8576b"
             ],
             [
              0.6666666666666666,
              "#ed7953"
             ],
             [
              0.7777777777777778,
              "#fb9f3a"
             ],
             [
              0.8888888888888888,
              "#fdca26"
             ],
             [
              1,
              "#f0f921"
             ]
            ],
            "type": "histogram2d"
           }
          ],
          "histogram2dcontour": [
           {
            "colorbar": {
             "outlinewidth": 0,
             "ticks": ""
            },
            "colorscale": [
             [
              0,
              "#0d0887"
             ],
             [
              0.1111111111111111,
              "#46039f"
             ],
             [
              0.2222222222222222,
              "#7201a8"
             ],
             [
              0.3333333333333333,
              "#9c179e"
             ],
             [
              0.4444444444444444,
              "#bd3786"
             ],
             [
              0.5555555555555556,
              "#d8576b"
             ],
             [
              0.6666666666666666,
              "#ed7953"
             ],
             [
              0.7777777777777778,
              "#fb9f3a"
             ],
             [
              0.8888888888888888,
              "#fdca26"
             ],
             [
              1,
              "#f0f921"
             ]
            ],
            "type": "histogram2dcontour"
           }
          ],
          "mesh3d": [
           {
            "colorbar": {
             "outlinewidth": 0,
             "ticks": ""
            },
            "type": "mesh3d"
           }
          ],
          "parcoords": [
           {
            "line": {
             "colorbar": {
              "outlinewidth": 0,
              "ticks": ""
             }
            },
            "type": "parcoords"
           }
          ],
          "pie": [
           {
            "automargin": true,
            "type": "pie"
           }
          ],
          "scatter": [
           {
            "fillpattern": {
             "fillmode": "overlay",
             "size": 10,
             "solidity": 0.2
            },
            "type": "scatter"
           }
          ],
          "scatter3d": [
           {
            "line": {
             "colorbar": {
              "outlinewidth": 0,
              "ticks": ""
             }
            },
            "marker": {
             "colorbar": {
              "outlinewidth": 0,
              "ticks": ""
             }
            },
            "type": "scatter3d"
           }
          ],
          "scattercarpet": [
           {
            "marker": {
             "colorbar": {
              "outlinewidth": 0,
              "ticks": ""
             }
            },
            "type": "scattercarpet"
           }
          ],
          "scattergeo": [
           {
            "marker": {
             "colorbar": {
              "outlinewidth": 0,
              "ticks": ""
             }
            },
            "type": "scattergeo"
           }
          ],
          "scattergl": [
           {
            "marker": {
             "colorbar": {
              "outlinewidth": 0,
              "ticks": ""
             }
            },
            "type": "scattergl"
           }
          ],
          "scattermapbox": [
           {
            "marker": {
             "colorbar": {
              "outlinewidth": 0,
              "ticks": ""
             }
            },
            "type": "scattermapbox"
           }
          ],
          "scatterpolar": [
           {
            "marker": {
             "colorbar": {
              "outlinewidth": 0,
              "ticks": ""
             }
            },
            "type": "scatterpolar"
           }
          ],
          "scatterpolargl": [
           {
            "marker": {
             "colorbar": {
              "outlinewidth": 0,
              "ticks": ""
             }
            },
            "type": "scatterpolargl"
           }
          ],
          "scatterternary": [
           {
            "marker": {
             "colorbar": {
              "outlinewidth": 0,
              "ticks": ""
             }
            },
            "type": "scatterternary"
           }
          ],
          "surface": [
           {
            "colorbar": {
             "outlinewidth": 0,
             "ticks": ""
            },
            "colorscale": [
             [
              0,
              "#0d0887"
             ],
             [
              0.1111111111111111,
              "#46039f"
             ],
             [
              0.2222222222222222,
              "#7201a8"
             ],
             [
              0.3333333333333333,
              "#9c179e"
             ],
             [
              0.4444444444444444,
              "#bd3786"
             ],
             [
              0.5555555555555556,
              "#d8576b"
             ],
             [
              0.6666666666666666,
              "#ed7953"
             ],
             [
              0.7777777777777778,
              "#fb9f3a"
             ],
             [
              0.8888888888888888,
              "#fdca26"
             ],
             [
              1,
              "#f0f921"
             ]
            ],
            "type": "surface"
           }
          ],
          "table": [
           {
            "cells": {
             "fill": {
              "color": "#EBF0F8"
             },
             "line": {
              "color": "white"
             }
            },
            "header": {
             "fill": {
              "color": "#C8D4E3"
             },
             "line": {
              "color": "white"
             }
            },
            "type": "table"
           }
          ]
         },
         "layout": {
          "annotationdefaults": {
           "arrowcolor": "#2a3f5f",
           "arrowhead": 0,
           "arrowwidth": 1
          },
          "autotypenumbers": "strict",
          "coloraxis": {
           "colorbar": {
            "outlinewidth": 0,
            "ticks": ""
           }
          },
          "colorscale": {
           "diverging": [
            [
             0,
             "#8e0152"
            ],
            [
             0.1,
             "#c51b7d"
            ],
            [
             0.2,
             "#de77ae"
            ],
            [
             0.3,
             "#f1b6da"
            ],
            [
             0.4,
             "#fde0ef"
            ],
            [
             0.5,
             "#f7f7f7"
            ],
            [
             0.6,
             "#e6f5d0"
            ],
            [
             0.7,
             "#b8e186"
            ],
            [
             0.8,
             "#7fbc41"
            ],
            [
             0.9,
             "#4d9221"
            ],
            [
             1,
             "#276419"
            ]
           ],
           "sequential": [
            [
             0,
             "#0d0887"
            ],
            [
             0.1111111111111111,
             "#46039f"
            ],
            [
             0.2222222222222222,
             "#7201a8"
            ],
            [
             0.3333333333333333,
             "#9c179e"
            ],
            [
             0.4444444444444444,
             "#bd3786"
            ],
            [
             0.5555555555555556,
             "#d8576b"
            ],
            [
             0.6666666666666666,
             "#ed7953"
            ],
            [
             0.7777777777777778,
             "#fb9f3a"
            ],
            [
             0.8888888888888888,
             "#fdca26"
            ],
            [
             1,
             "#f0f921"
            ]
           ],
           "sequentialminus": [
            [
             0,
             "#0d0887"
            ],
            [
             0.1111111111111111,
             "#46039f"
            ],
            [
             0.2222222222222222,
             "#7201a8"
            ],
            [
             0.3333333333333333,
             "#9c179e"
            ],
            [
             0.4444444444444444,
             "#bd3786"
            ],
            [
             0.5555555555555556,
             "#d8576b"
            ],
            [
             0.6666666666666666,
             "#ed7953"
            ],
            [
             0.7777777777777778,
             "#fb9f3a"
            ],
            [
             0.8888888888888888,
             "#fdca26"
            ],
            [
             1,
             "#f0f921"
            ]
           ]
          },
          "colorway": [
           "#636efa",
           "#EF553B",
           "#00cc96",
           "#ab63fa",
           "#FFA15A",
           "#19d3f3",
           "#FF6692",
           "#B6E880",
           "#FF97FF",
           "#FECB52"
          ],
          "font": {
           "color": "#2a3f5f"
          },
          "geo": {
           "bgcolor": "white",
           "lakecolor": "white",
           "landcolor": "#E5ECF6",
           "showlakes": true,
           "showland": true,
           "subunitcolor": "white"
          },
          "hoverlabel": {
           "align": "left"
          },
          "hovermode": "closest",
          "mapbox": {
           "style": "light"
          },
          "paper_bgcolor": "white",
          "plot_bgcolor": "#E5ECF6",
          "polar": {
           "angularaxis": {
            "gridcolor": "white",
            "linecolor": "white",
            "ticks": ""
           },
           "bgcolor": "#E5ECF6",
           "radialaxis": {
            "gridcolor": "white",
            "linecolor": "white",
            "ticks": ""
           }
          },
          "scene": {
           "xaxis": {
            "backgroundcolor": "#E5ECF6",
            "gridcolor": "white",
            "gridwidth": 2,
            "linecolor": "white",
            "showbackground": true,
            "ticks": "",
            "zerolinecolor": "white"
           },
           "yaxis": {
            "backgroundcolor": "#E5ECF6",
            "gridcolor": "white",
            "gridwidth": 2,
            "linecolor": "white",
            "showbackground": true,
            "ticks": "",
            "zerolinecolor": "white"
           },
           "zaxis": {
            "backgroundcolor": "#E5ECF6",
            "gridcolor": "white",
            "gridwidth": 2,
            "linecolor": "white",
            "showbackground": true,
            "ticks": "",
            "zerolinecolor": "white"
           }
          },
          "shapedefaults": {
           "line": {
            "color": "#2a3f5f"
           }
          },
          "ternary": {
           "aaxis": {
            "gridcolor": "white",
            "linecolor": "white",
            "ticks": ""
           },
           "baxis": {
            "gridcolor": "white",
            "linecolor": "white",
            "ticks": ""
           },
           "bgcolor": "#E5ECF6",
           "caxis": {
            "gridcolor": "white",
            "linecolor": "white",
            "ticks": ""
           }
          },
          "title": {
           "x": 0.05
          },
          "xaxis": {
           "automargin": true,
           "gridcolor": "white",
           "linecolor": "white",
           "ticks": "",
           "title": {
            "standoff": 15
           },
           "zerolinecolor": "white",
           "zerolinewidth": 2
          },
          "yaxis": {
           "automargin": true,
           "gridcolor": "white",
           "linecolor": "white",
           "ticks": "",
           "title": {
            "standoff": 15
           },
           "zerolinecolor": "white",
           "zerolinewidth": 2
          }
         }
        },
        "title": {
         "text": "AUC Score Evolution"
        }
       }
      }
     },
     "metadata": {},
     "output_type": "display_data"
    }
   ],
   "source": [
    "score_evolution_plot(f1, ['F1_Log', 'F1_XGB', 'F1_Tree'], 'F1 Score Evolution')\n",
    "score_evolution_plot(auc, ['AUC_Log', 'AUC_XGB', 'AUC_Tree'], 'AUC Score Evolution')"
   ]
  },
  {
   "cell_type": "code",
   "execution_count": 351,
   "id": "4b935bf4",
   "metadata": {},
   "outputs": [
    {
     "data": {
      "text/html": [
       "<div>\n",
       "<style scoped>\n",
       "    .dataframe tbody tr th:only-of-type {\n",
       "        vertical-align: middle;\n",
       "    }\n",
       "\n",
       "    .dataframe tbody tr th {\n",
       "        vertical-align: top;\n",
       "    }\n",
       "\n",
       "    .dataframe thead th {\n",
       "        text-align: right;\n",
       "    }\n",
       "</style>\n",
       "<table border=\"1\" class=\"dataframe\">\n",
       "  <thead>\n",
       "    <tr style=\"text-align: right;\">\n",
       "      <th>Model</th>\n",
       "      <th>season</th>\n",
       "      <th>Log_Prediction</th>\n",
       "      <th>Tree_Prediction</th>\n",
       "      <th>XGB_Prediction</th>\n",
       "    </tr>\n",
       "  </thead>\n",
       "  <tbody>\n",
       "    <tr>\n",
       "      <th>0</th>\n",
       "      <td>2015.0</td>\n",
       "      <td>1.000000</td>\n",
       "      <td>1.000000</td>\n",
       "      <td>0.652174</td>\n",
       "    </tr>\n",
       "    <tr>\n",
       "      <th>1</th>\n",
       "      <td>2016.0</td>\n",
       "      <td>0.782609</td>\n",
       "      <td>0.521739</td>\n",
       "      <td>0.782609</td>\n",
       "    </tr>\n",
       "    <tr>\n",
       "      <th>2</th>\n",
       "      <td>2017.0</td>\n",
       "      <td>0.700000</td>\n",
       "      <td>0.550000</td>\n",
       "      <td>0.750000</td>\n",
       "    </tr>\n",
       "    <tr>\n",
       "      <th>3</th>\n",
       "      <td>2018.0</td>\n",
       "      <td>0.684211</td>\n",
       "      <td>0.526316</td>\n",
       "      <td>0.736842</td>\n",
       "    </tr>\n",
       "    <tr>\n",
       "      <th>4</th>\n",
       "      <td>2019.0</td>\n",
       "      <td>0.652174</td>\n",
       "      <td>0.608696</td>\n",
       "      <td>0.739130</td>\n",
       "    </tr>\n",
       "    <tr>\n",
       "      <th>5</th>\n",
       "      <td>2020.0</td>\n",
       "      <td>0.652174</td>\n",
       "      <td>0.347826</td>\n",
       "      <td>0.695652</td>\n",
       "    </tr>\n",
       "    <tr>\n",
       "      <th>6</th>\n",
       "      <td>2021.0</td>\n",
       "      <td>0.666667</td>\n",
       "      <td>0.611111</td>\n",
       "      <td>0.777778</td>\n",
       "    </tr>\n",
       "    <tr>\n",
       "      <th>7</th>\n",
       "      <td>2022.0</td>\n",
       "      <td>0.772727</td>\n",
       "      <td>0.454545</td>\n",
       "      <td>0.636364</td>\n",
       "    </tr>\n",
       "    <tr>\n",
       "      <th>8</th>\n",
       "      <td>2023.0</td>\n",
       "      <td>0.666667</td>\n",
       "      <td>0.428571</td>\n",
       "      <td>0.809524</td>\n",
       "    </tr>\n",
       "  </tbody>\n",
       "</table>\n",
       "</div>"
      ],
      "text/plain": [
       "Model  season  Log_Prediction  Tree_Prediction  XGB_Prediction\n",
       "0      2015.0        1.000000         1.000000        0.652174\n",
       "1      2016.0        0.782609         0.521739        0.782609\n",
       "2      2017.0        0.700000         0.550000        0.750000\n",
       "3      2018.0        0.684211         0.526316        0.736842\n",
       "4      2019.0        0.652174         0.608696        0.739130\n",
       "5      2020.0        0.652174         0.347826        0.695652\n",
       "6      2021.0        0.666667         0.611111        0.777778\n",
       "7      2022.0        0.772727         0.454545        0.636364\n",
       "8      2023.0        0.666667         0.428571        0.809524"
      ]
     },
     "execution_count": 351,
     "metadata": {},
     "output_type": "execute_result"
    }
   ],
   "source": [
    "# df = df_test[columns].copy()\n",
    "df = df_test.copy()\n",
    "\n",
    "df['Log_Prediction'] = model_xgb_allstar.predict_proba(df[columns])[:,1]\n",
    "df['XGB_Prediction'] = model_log_allstar.predict_proba(df[columns])[:,1]\n",
    "df['Tree_Prediction'] = model_clf_allstar.predict_proba(df[columns])[:,1]\n",
    "\n",
    "df_long = df.melt(\n",
    "    id_vars = ['season', 'playerName', 'AllStar'],\n",
    "    value_vars = ['Log_Prediction', 'XGB_Prediction', 'Tree_Prediction'],\n",
    "    var_name='Model',\n",
    "    value_name='Prediction'\n",
    ")\n",
    "\n",
    "top_preds = (\n",
    "    df_long\n",
    "        .sort_values(by=['season', 'Model', 'Prediction'], ascending=[True, True, False])\n",
    "        .groupby(by=['season', 'Model'])\n",
    "        .head(24)\n",
    ")\n",
    "\n",
    "allstars = df_test.groupby(by='season')['AllStar'].sum()\n",
    "\n",
    "correct = (\n",
    "    top_preds\n",
    "        .groupby(by=['season', 'Model'])['AllStar'].sum()\n",
    "        .reset_index(name=\"Correct\")\n",
    "        .merge(allstars, on=\"season\")\n",
    "        .assign(pct=lambda x : x.Correct / x.AllStar)\n",
    "        .pivot(index='season', columns='Model', values='pct')\n",
    "        .reset_index()\n",
    ")\n",
    "\n",
    "correct"
   ]
  },
  {
   "cell_type": "code",
   "execution_count": 352,
   "id": "91d35c96",
   "metadata": {},
   "outputs": [
    {
     "data": {
      "application/vnd.plotly.v1+json": {
       "config": {
        "plotlyServerURL": "https://plot.ly"
       },
       "data": [
        {
         "marker": {
          "color": "green"
         },
         "name": "Log Regression",
         "type": "bar",
         "x": [
          2015,
          2016,
          2017,
          2018,
          2019,
          2020,
          2021,
          2022,
          2023
         ],
         "y": [
          1,
          0.782608695652174,
          0.7,
          0.6842105263157895,
          0.6521739130434783,
          0.6521739130434783,
          0.6666666666666666,
          0.7727272727272727,
          0.6666666666666666
         ]
        },
        {
         "marker": {
          "color": "chocolate"
         },
         "name": "XGB Classifier",
         "type": "bar",
         "x": [
          2015,
          2016,
          2017,
          2018,
          2019,
          2020,
          2021,
          2022,
          2023
         ],
         "y": [
          0.6521739130434783,
          0.782608695652174,
          0.75,
          0.7368421052631579,
          0.7391304347826086,
          0.6956521739130435,
          0.7777777777777778,
          0.6363636363636364,
          0.8095238095238095
         ]
        },
        {
         "marker": {
          "color": "blue"
         },
         "name": "Decision Tree",
         "type": "bar",
         "x": [
          2015,
          2016,
          2017,
          2018,
          2019,
          2020,
          2021,
          2022,
          2023
         ],
         "y": [
          1,
          0.5217391304347826,
          0.55,
          0.5263157894736842,
          0.6086956521739131,
          0.34782608695652173,
          0.6111111111111112,
          0.45454545454545453,
          0.42857142857142855
         ]
        }
       ],
       "layout": {
        "barmode": "group",
        "template": {
         "data": {
          "bar": [
           {
            "error_x": {
             "color": "#2a3f5f"
            },
            "error_y": {
             "color": "#2a3f5f"
            },
            "marker": {
             "line": {
              "color": "#E5ECF6",
              "width": 0.5
             },
             "pattern": {
              "fillmode": "overlay",
              "size": 10,
              "solidity": 0.2
             }
            },
            "type": "bar"
           }
          ],
          "barpolar": [
           {
            "marker": {
             "line": {
              "color": "#E5ECF6",
              "width": 0.5
             },
             "pattern": {
              "fillmode": "overlay",
              "size": 10,
              "solidity": 0.2
             }
            },
            "type": "barpolar"
           }
          ],
          "carpet": [
           {
            "aaxis": {
             "endlinecolor": "#2a3f5f",
             "gridcolor": "white",
             "linecolor": "white",
             "minorgridcolor": "white",
             "startlinecolor": "#2a3f5f"
            },
            "baxis": {
             "endlinecolor": "#2a3f5f",
             "gridcolor": "white",
             "linecolor": "white",
             "minorgridcolor": "white",
             "startlinecolor": "#2a3f5f"
            },
            "type": "carpet"
           }
          ],
          "choropleth": [
           {
            "colorbar": {
             "outlinewidth": 0,
             "ticks": ""
            },
            "type": "choropleth"
           }
          ],
          "contour": [
           {
            "colorbar": {
             "outlinewidth": 0,
             "ticks": ""
            },
            "colorscale": [
             [
              0,
              "#0d0887"
             ],
             [
              0.1111111111111111,
              "#46039f"
             ],
             [
              0.2222222222222222,
              "#7201a8"
             ],
             [
              0.3333333333333333,
              "#9c179e"
             ],
             [
              0.4444444444444444,
              "#bd3786"
             ],
             [
              0.5555555555555556,
              "#d8576b"
             ],
             [
              0.6666666666666666,
              "#ed7953"
             ],
             [
              0.7777777777777778,
              "#fb9f3a"
             ],
             [
              0.8888888888888888,
              "#fdca26"
             ],
             [
              1,
              "#f0f921"
             ]
            ],
            "type": "contour"
           }
          ],
          "contourcarpet": [
           {
            "colorbar": {
             "outlinewidth": 0,
             "ticks": ""
            },
            "type": "contourcarpet"
           }
          ],
          "heatmap": [
           {
            "colorbar": {
             "outlinewidth": 0,
             "ticks": ""
            },
            "colorscale": [
             [
              0,
              "#0d0887"
             ],
             [
              0.1111111111111111,
              "#46039f"
             ],
             [
              0.2222222222222222,
              "#7201a8"
             ],
             [
              0.3333333333333333,
              "#9c179e"
             ],
             [
              0.4444444444444444,
              "#bd3786"
             ],
             [
              0.5555555555555556,
              "#d8576b"
             ],
             [
              0.6666666666666666,
              "#ed7953"
             ],
             [
              0.7777777777777778,
              "#fb9f3a"
             ],
             [
              0.8888888888888888,
              "#fdca26"
             ],
             [
              1,
              "#f0f921"
             ]
            ],
            "type": "heatmap"
           }
          ],
          "heatmapgl": [
           {
            "colorbar": {
             "outlinewidth": 0,
             "ticks": ""
            },
            "colorscale": [
             [
              0,
              "#0d0887"
             ],
             [
              0.1111111111111111,
              "#46039f"
             ],
             [
              0.2222222222222222,
              "#7201a8"
             ],
             [
              0.3333333333333333,
              "#9c179e"
             ],
             [
              0.4444444444444444,
              "#bd3786"
             ],
             [
              0.5555555555555556,
              "#d8576b"
             ],
             [
              0.6666666666666666,
              "#ed7953"
             ],
             [
              0.7777777777777778,
              "#fb9f3a"
             ],
             [
              0.8888888888888888,
              "#fdca26"
             ],
             [
              1,
              "#f0f921"
             ]
            ],
            "type": "heatmapgl"
           }
          ],
          "histogram": [
           {
            "marker": {
             "pattern": {
              "fillmode": "overlay",
              "size": 10,
              "solidity": 0.2
             }
            },
            "type": "histogram"
           }
          ],
          "histogram2d": [
           {
            "colorbar": {
             "outlinewidth": 0,
             "ticks": ""
            },
            "colorscale": [
             [
              0,
              "#0d0887"
             ],
             [
              0.1111111111111111,
              "#46039f"
             ],
             [
              0.2222222222222222,
              "#7201a8"
             ],
             [
              0.3333333333333333,
              "#9c179e"
             ],
             [
              0.4444444444444444,
              "#bd3786"
             ],
             [
              0.5555555555555556,
              "#d8576b"
             ],
             [
              0.6666666666666666,
              "#ed7953"
             ],
             [
              0.7777777777777778,
              "#fb9f3a"
             ],
             [
              0.8888888888888888,
              "#fdca26"
             ],
             [
              1,
              "#f0f921"
             ]
            ],
            "type": "histogram2d"
           }
          ],
          "histogram2dcontour": [
           {
            "colorbar": {
             "outlinewidth": 0,
             "ticks": ""
            },
            "colorscale": [
             [
              0,
              "#0d0887"
             ],
             [
              0.1111111111111111,
              "#46039f"
             ],
             [
              0.2222222222222222,
              "#7201a8"
             ],
             [
              0.3333333333333333,
              "#9c179e"
             ],
             [
              0.4444444444444444,
              "#bd3786"
             ],
             [
              0.5555555555555556,
              "#d8576b"
             ],
             [
              0.6666666666666666,
              "#ed7953"
             ],
             [
              0.7777777777777778,
              "#fb9f3a"
             ],
             [
              0.8888888888888888,
              "#fdca26"
             ],
             [
              1,
              "#f0f921"
             ]
            ],
            "type": "histogram2dcontour"
           }
          ],
          "mesh3d": [
           {
            "colorbar": {
             "outlinewidth": 0,
             "ticks": ""
            },
            "type": "mesh3d"
           }
          ],
          "parcoords": [
           {
            "line": {
             "colorbar": {
              "outlinewidth": 0,
              "ticks": ""
             }
            },
            "type": "parcoords"
           }
          ],
          "pie": [
           {
            "automargin": true,
            "type": "pie"
           }
          ],
          "scatter": [
           {
            "fillpattern": {
             "fillmode": "overlay",
             "size": 10,
             "solidity": 0.2
            },
            "type": "scatter"
           }
          ],
          "scatter3d": [
           {
            "line": {
             "colorbar": {
              "outlinewidth": 0,
              "ticks": ""
             }
            },
            "marker": {
             "colorbar": {
              "outlinewidth": 0,
              "ticks": ""
             }
            },
            "type": "scatter3d"
           }
          ],
          "scattercarpet": [
           {
            "marker": {
             "colorbar": {
              "outlinewidth": 0,
              "ticks": ""
             }
            },
            "type": "scattercarpet"
           }
          ],
          "scattergeo": [
           {
            "marker": {
             "colorbar": {
              "outlinewidth": 0,
              "ticks": ""
             }
            },
            "type": "scattergeo"
           }
          ],
          "scattergl": [
           {
            "marker": {
             "colorbar": {
              "outlinewidth": 0,
              "ticks": ""
             }
            },
            "type": "scattergl"
           }
          ],
          "scattermapbox": [
           {
            "marker": {
             "colorbar": {
              "outlinewidth": 0,
              "ticks": ""
             }
            },
            "type": "scattermapbox"
           }
          ],
          "scatterpolar": [
           {
            "marker": {
             "colorbar": {
              "outlinewidth": 0,
              "ticks": ""
             }
            },
            "type": "scatterpolar"
           }
          ],
          "scatterpolargl": [
           {
            "marker": {
             "colorbar": {
              "outlinewidth": 0,
              "ticks": ""
             }
            },
            "type": "scatterpolargl"
           }
          ],
          "scatterternary": [
           {
            "marker": {
             "colorbar": {
              "outlinewidth": 0,
              "ticks": ""
             }
            },
            "type": "scatterternary"
           }
          ],
          "surface": [
           {
            "colorbar": {
             "outlinewidth": 0,
             "ticks": ""
            },
            "colorscale": [
             [
              0,
              "#0d0887"
             ],
             [
              0.1111111111111111,
              "#46039f"
             ],
             [
              0.2222222222222222,
              "#7201a8"
             ],
             [
              0.3333333333333333,
              "#9c179e"
             ],
             [
              0.4444444444444444,
              "#bd3786"
             ],
             [
              0.5555555555555556,
              "#d8576b"
             ],
             [
              0.6666666666666666,
              "#ed7953"
             ],
             [
              0.7777777777777778,
              "#fb9f3a"
             ],
             [
              0.8888888888888888,
              "#fdca26"
             ],
             [
              1,
              "#f0f921"
             ]
            ],
            "type": "surface"
           }
          ],
          "table": [
           {
            "cells": {
             "fill": {
              "color": "#EBF0F8"
             },
             "line": {
              "color": "white"
             }
            },
            "header": {
             "fill": {
              "color": "#C8D4E3"
             },
             "line": {
              "color": "white"
             }
            },
            "type": "table"
           }
          ]
         },
         "layout": {
          "annotationdefaults": {
           "arrowcolor": "#2a3f5f",
           "arrowhead": 0,
           "arrowwidth": 1
          },
          "autotypenumbers": "strict",
          "coloraxis": {
           "colorbar": {
            "outlinewidth": 0,
            "ticks": ""
           }
          },
          "colorscale": {
           "diverging": [
            [
             0,
             "#8e0152"
            ],
            [
             0.1,
             "#c51b7d"
            ],
            [
             0.2,
             "#de77ae"
            ],
            [
             0.3,
             "#f1b6da"
            ],
            [
             0.4,
             "#fde0ef"
            ],
            [
             0.5,
             "#f7f7f7"
            ],
            [
             0.6,
             "#e6f5d0"
            ],
            [
             0.7,
             "#b8e186"
            ],
            [
             0.8,
             "#7fbc41"
            ],
            [
             0.9,
             "#4d9221"
            ],
            [
             1,
             "#276419"
            ]
           ],
           "sequential": [
            [
             0,
             "#0d0887"
            ],
            [
             0.1111111111111111,
             "#46039f"
            ],
            [
             0.2222222222222222,
             "#7201a8"
            ],
            [
             0.3333333333333333,
             "#9c179e"
            ],
            [
             0.4444444444444444,
             "#bd3786"
            ],
            [
             0.5555555555555556,
             "#d8576b"
            ],
            [
             0.6666666666666666,
             "#ed7953"
            ],
            [
             0.7777777777777778,
             "#fb9f3a"
            ],
            [
             0.8888888888888888,
             "#fdca26"
            ],
            [
             1,
             "#f0f921"
            ]
           ],
           "sequentialminus": [
            [
             0,
             "#0d0887"
            ],
            [
             0.1111111111111111,
             "#46039f"
            ],
            [
             0.2222222222222222,
             "#7201a8"
            ],
            [
             0.3333333333333333,
             "#9c179e"
            ],
            [
             0.4444444444444444,
             "#bd3786"
            ],
            [
             0.5555555555555556,
             "#d8576b"
            ],
            [
             0.6666666666666666,
             "#ed7953"
            ],
            [
             0.7777777777777778,
             "#fb9f3a"
            ],
            [
             0.8888888888888888,
             "#fdca26"
            ],
            [
             1,
             "#f0f921"
            ]
           ]
          },
          "colorway": [
           "#636efa",
           "#EF553B",
           "#00cc96",
           "#ab63fa",
           "#FFA15A",
           "#19d3f3",
           "#FF6692",
           "#B6E880",
           "#FF97FF",
           "#FECB52"
          ],
          "font": {
           "color": "#2a3f5f"
          },
          "geo": {
           "bgcolor": "white",
           "lakecolor": "white",
           "landcolor": "#E5ECF6",
           "showlakes": true,
           "showland": true,
           "subunitcolor": "white"
          },
          "hoverlabel": {
           "align": "left"
          },
          "hovermode": "closest",
          "mapbox": {
           "style": "light"
          },
          "paper_bgcolor": "white",
          "plot_bgcolor": "#E5ECF6",
          "polar": {
           "angularaxis": {
            "gridcolor": "white",
            "linecolor": "white",
            "ticks": ""
           },
           "bgcolor": "#E5ECF6",
           "radialaxis": {
            "gridcolor": "white",
            "linecolor": "white",
            "ticks": ""
           }
          },
          "scene": {
           "xaxis": {
            "backgroundcolor": "#E5ECF6",
            "gridcolor": "white",
            "gridwidth": 2,
            "linecolor": "white",
            "showbackground": true,
            "ticks": "",
            "zerolinecolor": "white"
           },
           "yaxis": {
            "backgroundcolor": "#E5ECF6",
            "gridcolor": "white",
            "gridwidth": 2,
            "linecolor": "white",
            "showbackground": true,
            "ticks": "",
            "zerolinecolor": "white"
           },
           "zaxis": {
            "backgroundcolor": "#E5ECF6",
            "gridcolor": "white",
            "gridwidth": 2,
            "linecolor": "white",
            "showbackground": true,
            "ticks": "",
            "zerolinecolor": "white"
           }
          },
          "shapedefaults": {
           "line": {
            "color": "#2a3f5f"
           }
          },
          "ternary": {
           "aaxis": {
            "gridcolor": "white",
            "linecolor": "white",
            "ticks": ""
           },
           "baxis": {
            "gridcolor": "white",
            "linecolor": "white",
            "ticks": ""
           },
           "bgcolor": "#E5ECF6",
           "caxis": {
            "gridcolor": "white",
            "linecolor": "white",
            "ticks": ""
           }
          },
          "title": {
           "x": 0.05
          },
          "xaxis": {
           "automargin": true,
           "gridcolor": "white",
           "linecolor": "white",
           "ticks": "",
           "title": {
            "standoff": 15
           },
           "zerolinecolor": "white",
           "zerolinewidth": 2
          },
          "yaxis": {
           "automargin": true,
           "gridcolor": "white",
           "linecolor": "white",
           "ticks": "",
           "title": {
            "standoff": 15
           },
           "zerolinecolor": "white",
           "zerolinewidth": 2
          }
         }
        },
        "title": {
         "text": "Accuracy Score Evolution"
        }
       }
      }
     },
     "metadata": {},
     "output_type": "display_data"
    }
   ],
   "source": [
    "score_evolution_plot(correct, ['Log_Prediction', 'XGB_Prediction', 'Tree_Prediction'], 'Accuracy Score Evolution')"
   ]
  },
  {
   "cell_type": "code",
   "execution_count": null,
   "id": "4dae2570",
   "metadata": {},
   "outputs": [],
   "source": []
  },
  {
   "cell_type": "code",
   "execution_count": null,
   "id": "5ecc8324",
   "metadata": {},
   "outputs": [],
   "source": []
  },
  {
   "cell_type": "code",
   "execution_count": null,
   "id": "7410677d",
   "metadata": {},
   "outputs": [],
   "source": []
  }
 ],
 "metadata": {
  "kernelspec": {
   "display_name": "base",
   "language": "python",
   "name": "python3"
  },
  "language_info": {
   "codemirror_mode": {
    "name": "ipython",
    "version": 3
   },
   "file_extension": ".py",
   "mimetype": "text/x-python",
   "name": "python",
   "nbconvert_exporter": "python",
   "pygments_lexer": "ipython3",
   "version": "3.11.5"
  }
 },
 "nbformat": 4,
 "nbformat_minor": 5
}
