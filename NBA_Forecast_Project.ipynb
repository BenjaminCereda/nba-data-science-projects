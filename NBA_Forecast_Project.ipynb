{
 "cells": [
  {
   "cell_type": "code",
   "execution_count": null,
   "id": "de0fdc73",
   "metadata": {},
   "outputs": [],
   "source": [
    "import pandas as pd\n",
    "import requests\n",
    "import numpy as np\n",
    "import unidecode\n",
    "import plotly.graph_objects as go\n",
    "import plotly.express as px\n",
    "import seaborn as sns\n",
    "from pathlib import Path\n",
    "import json\n",
    "from xgboost import XGBRegressor, XGBClassifier\n",
    "from sklearn.linear_model import LogisticRegression\n",
    "from sklearn.tree import DecisionTreeClassifier\n",
    "from sklearn.model_selection import RepeatedKFold, GridSearchCV, cross_val_score, RandomizedSearchCV\n",
    "from sklearn.ensemble import RandomForestClassifier\n",
    "from sklearn.naive_bayes import GaussianNB\n",
    "from sklearn.metrics import precision_score, recall_score, f1_score, accuracy_score,r2_score, mean_squared_error, roc_auc_score\n"
   ]
  },
  {
   "cell_type": "markdown",
   "id": "04752b54",
   "metadata": {},
   "source": [
    "# Part 0: A class to handle GraphQL queries"
   ]
  },
  {
   "cell_type": "code",
   "execution_count": 884,
   "id": "d04ff8ff",
   "metadata": {},
   "outputs": [],
   "source": [
    "\n",
    "class GraphqlQuery:\n",
    "    def __init__(self, contents : dict[str : list[str]], url : str):\n",
    "        self._contents = {}\n",
    "        self.add(contents)\n",
    "        self.url = url\n",
    "    \n",
    "    #method to add further tables and/or columns to the current query\n",
    "    def add(self, new_contents : dict[str : list[str]]):\n",
    "        \n",
    "        #validate passed arguments\n",
    "        if not isinstance(new_contents, dict):\n",
    "            raise ValueError(\"Contents must be passed as dictionary\")\n",
    "        \n",
    "        for key, val in new_contents.items() :\n",
    "            if not isinstance(key, str):\n",
    "                raise ValueError(\"Table arguments must be passed as strings\")\n",
    "            if not isinstance(val, list):\n",
    "                raise ValueError(\"Set of columns must be a list\")\n",
    "            if not all(isinstance(column, str) for column in val):\n",
    "                raise ValueError(\"Column arguments must be passed as strings\")\n",
    "            \n",
    "        for table, columns in new_contents.items():\n",
    "            if table not in self._contents:\n",
    "                self._contents[table] = columns\n",
    "            else:\n",
    "                self._contents[table].extend(columns)\n",
    "\n",
    "    #property to store current contents od query in dict format\n",
    "    @property\n",
    "    def contents(self):\n",
    "        return self._contents\n",
    "    \n",
    "    #property to store finished query in graphql format\n",
    "    @property\n",
    "    def query(self):\n",
    "        query_str =  [\"query Myquery {\"]\n",
    "        for index, (table, columns) in enumerate(self._contents.items()):\n",
    "            subquery = []\n",
    "            subquery.append(table)\n",
    "            subquery.append('{')\n",
    "            subquery.extend(columns)\n",
    "            query_str.extend(subquery)\n",
    "            if index != 0: query_str +=\"}\"\n",
    "        query_str +=\"}}\"\n",
    "        \n",
    "        return \" \".join(query_str)\n",
    "    \n",
    "    def __str__(self):\n",
    "        return self._query\n",
    "     \n",
    "    @classmethod\n",
    "    def select(cls, contents : dict[str : list[str]]):\n",
    "        return cls(contents)\n",
    "\n",
    "    #method to perform get request to graphql api\n",
    "    def get_data(self):\n",
    "        body = {\"query\" : self.query}\n",
    "        try:\n",
    "            response = requests.post(self.url, json=body,timeout=180)\n",
    "            response.raise_for_status()\n",
    "            data = response.json()\n",
    "            return pd.json_normalize(data['data'][list(self._contents)[0]])\n",
    "        except json.JSONDecodeError as e:\n",
    "            print(f\"JSON decode error: {e}\")\n",
    "            with open(\"bad_response_snippet.txt\", \"w\", encoding=\"utf-8\") as f:\n",
    "                f.write(response.text)\n",
    "            print(\"Saved response to bad_response_snippet.txt\")\n",
    "        except Exception as e:\n",
    "                print(f\"Error fetching data: {e}\")\n"
   ]
  },
  {
   "cell_type": "markdown",
   "id": "221a0925",
   "metadata": {},
   "source": [
    "# Part 1: Data Preparation"
   ]
  },
  {
   "cell_type": "markdown",
   "id": "8699a044",
   "metadata": {},
   "source": [
    "In this section the GraphQL API for NBA statistics is queried for player and team information via GraphqlQuery class. Additional data manipulation steps include:  \n",
    "- Elimination of unwanted characters and conversion of string formats in player names (e.g. change \"ć\" to \"c\") in order to avoid problems with merges.\n",
    "- Mapping of team abbreviations as these are not consistent in the API tables *teams* and *playerPerGame*.\n",
    "- Merging of both tables into one comprehensive dataframe containing all necessary information."
   ]
  },
  {
   "cell_type": "markdown",
   "id": "b1ecc3a2",
   "metadata": {},
   "source": [
    "***As of 20.10.2025, the GraphQL API stopped working. We are therefore forced to substitute the data therein by a flatfile, which was also downloaded from Kaggle.***\n",
    "\n",
    "The goal of this section, however, remains the same. That is, to create a single dataframe containing all necessary player statistics for the training of our models, plus our target columns, with All Star and MVP data. "
   ]
  },
  {
   "cell_type": "code",
   "execution_count": 885,
   "id": "97d7297a",
   "metadata": {},
   "outputs": [],
   "source": [
    "# url = 'https://nbaapi.com/graphql/'\n",
    "\n",
    "# #set down tables and columns to query from nbaapi\n",
    "# query_teams = {\n",
    "#     'team' :\n",
    "#     ['teamName','teamAbbr', 'season', 'wins']\n",
    "#     }\n",
    "\n",
    "# query_players = {\n",
    "#     'playerPerGame' : \n",
    "#     ['playerName', 'team', 'age', 'season', 'games', 'minutesPg', 'points', 'ftPercent', 'assists', 'totalRb', 'steals', 'turnovers', 'blocks']\n",
    "#     }\n",
    "\n",
    "# #define Graphqlquery objects\n",
    "# player_data = GraphqlQuery(query_players, url)\n",
    "# team_data = GraphqlQuery(query_teams, url)\n",
    "\n",
    "# #get data from the api and store it in respective dataframes\n",
    "# player_stats = player_data.get_data()\n",
    "# team_stats = team_data.get_data()\n",
    "\n",
    "# #replace \"*\" and handle string format of player names\n",
    "# team_stats.teamName = team_stats.teamName.str.replace('*', '')\n",
    "\n",
    "# player_stats.playerName = player_stats.playerName.str.replace('*', '')\n",
    "# player_stats.playerName = player_stats.playerName.apply(unidecode.unidecode)\n",
    "\n",
    "# player_stats = player_stats[player_stats.team != 'TOT']\n",
    "\n",
    "#set down team abbreviations that need to be changed\n",
    "team_names = {\n",
    "    'BRK' : 'NJN',\n",
    "    'NOP' : 'NOH',\n",
    "    'CHO' : 'CHA',\n",
    "    'SEA' : 'OKC',\n",
    "    'NOK' : 'CHA',\n",
    "    'CHH' : 'CHA',\n",
    "    'VAN' : 'MEM',\n",
    "    'WSB' : 'WAS'\n",
    "}\n",
    "# player_stats = player_stats.replace({'team' : team_names})\n",
    "\n",
    "# #merge player and team statistics into one dataframe\n",
    "# player_stats = player_stats.merge(\n",
    "#     team_stats,\n",
    "#     how='inner',\n",
    "#     left_on=['season', 'team'],\n",
    "#     right_on=['season', 'teamAbbr']\n",
    "# ).drop(['teamAbbr'], axis=1)\n",
    "\n",
    "# player_stats.head()"
   ]
  },
  {
   "cell_type": "code",
   "execution_count": 886,
   "id": "2a32e4d2",
   "metadata": {},
   "outputs": [
    {
     "data": {
      "text/html": [
       "<div>\n",
       "<style scoped>\n",
       "    .dataframe tbody tr th:only-of-type {\n",
       "        vertical-align: middle;\n",
       "    }\n",
       "\n",
       "    .dataframe tbody tr th {\n",
       "        vertical-align: top;\n",
       "    }\n",
       "\n",
       "    .dataframe thead th {\n",
       "        text-align: right;\n",
       "    }\n",
       "</style>\n",
       "<table border=\"1\" class=\"dataframe\">\n",
       "  <thead>\n",
       "    <tr style=\"text-align: right;\">\n",
       "      <th></th>\n",
       "      <th>playerName</th>\n",
       "      <th>season</th>\n",
       "      <th>Age</th>\n",
       "      <th>team</th>\n",
       "      <th>G</th>\n",
       "      <th>MP</th>\n",
       "      <th>FG%</th>\n",
       "      <th>3P%</th>\n",
       "      <th>2P%</th>\n",
       "      <th>eFG%</th>\n",
       "      <th>FT%</th>\n",
       "      <th>TRB</th>\n",
       "      <th>AST</th>\n",
       "      <th>STL</th>\n",
       "      <th>BLK</th>\n",
       "      <th>TOV</th>\n",
       "      <th>PF</th>\n",
       "      <th>PTS</th>\n",
       "    </tr>\n",
       "  </thead>\n",
       "  <tbody>\n",
       "    <tr>\n",
       "      <th>0</th>\n",
       "      <td>Shaquille O'Neal</td>\n",
       "      <td>2000</td>\n",
       "      <td>27</td>\n",
       "      <td>LAL</td>\n",
       "      <td>79</td>\n",
       "      <td>40.0</td>\n",
       "      <td>0.574</td>\n",
       "      <td>0.000</td>\n",
       "      <td>0.575</td>\n",
       "      <td>0.574</td>\n",
       "      <td>0.524</td>\n",
       "      <td>13.6</td>\n",
       "      <td>3.8</td>\n",
       "      <td>0.5</td>\n",
       "      <td>3.0</td>\n",
       "      <td>2.8</td>\n",
       "      <td>3.2</td>\n",
       "      <td>29.7</td>\n",
       "    </tr>\n",
       "    <tr>\n",
       "      <th>1</th>\n",
       "      <td>Kevin Garnett</td>\n",
       "      <td>2000</td>\n",
       "      <td>23</td>\n",
       "      <td>MIN</td>\n",
       "      <td>81</td>\n",
       "      <td>40.0</td>\n",
       "      <td>0.497</td>\n",
       "      <td>0.370</td>\n",
       "      <td>0.504</td>\n",
       "      <td>0.507</td>\n",
       "      <td>0.765</td>\n",
       "      <td>11.8</td>\n",
       "      <td>5.0</td>\n",
       "      <td>1.5</td>\n",
       "      <td>1.6</td>\n",
       "      <td>3.3</td>\n",
       "      <td>2.5</td>\n",
       "      <td>22.9</td>\n",
       "    </tr>\n",
       "    <tr>\n",
       "      <th>2</th>\n",
       "      <td>Alonzo Mourning</td>\n",
       "      <td>2000</td>\n",
       "      <td>29</td>\n",
       "      <td>MIA</td>\n",
       "      <td>79</td>\n",
       "      <td>34.8</td>\n",
       "      <td>0.551</td>\n",
       "      <td>0.000</td>\n",
       "      <td>0.553</td>\n",
       "      <td>0.551</td>\n",
       "      <td>0.711</td>\n",
       "      <td>9.5</td>\n",
       "      <td>1.6</td>\n",
       "      <td>0.5</td>\n",
       "      <td>3.7</td>\n",
       "      <td>2.7</td>\n",
       "      <td>3.9</td>\n",
       "      <td>21.7</td>\n",
       "    </tr>\n",
       "    <tr>\n",
       "      <th>3</th>\n",
       "      <td>Juwan Howard</td>\n",
       "      <td>2000</td>\n",
       "      <td>26</td>\n",
       "      <td>WAS</td>\n",
       "      <td>82</td>\n",
       "      <td>35.5</td>\n",
       "      <td>0.459</td>\n",
       "      <td>0.000</td>\n",
       "      <td>0.462</td>\n",
       "      <td>0.459</td>\n",
       "      <td>0.735</td>\n",
       "      <td>5.7</td>\n",
       "      <td>3.0</td>\n",
       "      <td>0.8</td>\n",
       "      <td>0.3</td>\n",
       "      <td>2.7</td>\n",
       "      <td>3.6</td>\n",
       "      <td>14.9</td>\n",
       "    </tr>\n",
       "    <tr>\n",
       "      <th>4</th>\n",
       "      <td>Scottie Pippen</td>\n",
       "      <td>2000</td>\n",
       "      <td>34</td>\n",
       "      <td>POR</td>\n",
       "      <td>82</td>\n",
       "      <td>33.5</td>\n",
       "      <td>0.451</td>\n",
       "      <td>0.327</td>\n",
       "      <td>0.506</td>\n",
       "      <td>0.501</td>\n",
       "      <td>0.717</td>\n",
       "      <td>6.3</td>\n",
       "      <td>5.0</td>\n",
       "      <td>1.4</td>\n",
       "      <td>0.5</td>\n",
       "      <td>2.5</td>\n",
       "      <td>2.5</td>\n",
       "      <td>12.5</td>\n",
       "    </tr>\n",
       "  </tbody>\n",
       "</table>\n",
       "</div>"
      ],
      "text/plain": [
       "         playerName  season  Age team   G    MP    FG%    3P%    2P%   eFG%  \\\n",
       "0  Shaquille O'Neal    2000   27  LAL  79  40.0  0.574  0.000  0.575  0.574   \n",
       "1     Kevin Garnett    2000   23  MIN  81  40.0  0.497  0.370  0.504  0.507   \n",
       "2   Alonzo Mourning    2000   29  MIA  79  34.8  0.551  0.000  0.553  0.551   \n",
       "3      Juwan Howard    2000   26  WAS  82  35.5  0.459  0.000  0.462  0.459   \n",
       "4    Scottie Pippen    2000   34  POR  82  33.5  0.451  0.327  0.506  0.501   \n",
       "\n",
       "     FT%   TRB  AST  STL  BLK  TOV   PF   PTS  \n",
       "0  0.524  13.6  3.8  0.5  3.0  2.8  3.2  29.7  \n",
       "1  0.765  11.8  5.0  1.5  1.6  3.3  2.5  22.9  \n",
       "2  0.711   9.5  1.6  0.5  3.7  2.7  3.9  21.7  \n",
       "3  0.735   5.7  3.0  0.8  0.3  2.7  3.6  14.9  \n",
       "4  0.717   6.3  5.0  1.4  0.5  2.5  2.5  12.5  "
      ]
     },
     "execution_count": 886,
     "metadata": {},
     "output_type": "execute_result"
    }
   ],
   "source": [
    "#read data from NBA stats flatfile and rename necessary columns \n",
    "cols = ['Player', 'Year', 'Age', 'Team', 'G', 'MP',\n",
    "       'FG%', '3P%', '2P%', 'eFG%', 'FT%', 'TRB', 'AST',\n",
    "       'STL', 'BLK', 'TOV', 'PF', 'PTS']\n",
    "player_stats = pd.read_csv(\"NBA Player Stats and Salaries_2000-2025.csv\", usecols=cols)\n",
    "\n",
    "#rename columns to match column names of dataframe extracted from GraphQL API, in preparation for merges in next cell\n",
    "player_stats = player_stats.rename(\n",
    "    columns={'Player': 'playerName', 'Year' : 'season', 'Team' : 'team'}\n",
    ")\n",
    "\n",
    "player_stats.head()"
   ]
  },
  {
   "cell_type": "markdown",
   "id": "37e0f59a",
   "metadata": {},
   "source": [
    "In this section the above defined *player_stats* is further enhanced with the features we want to predict:\n",
    "- MVP data, the relevant column being *Rank*\n",
    "- All Star selection data, the relevant column being *AllStar*\n",
    "\n",
    "Therefore, once again, we perform the following:\n",
    "\n",
    "- Flatfiles are read and brought into the same format as the *player_stats* dataframe \n",
    "- Adjust data types in *player_stats* dataframe in preparation for model training.\n",
    "\n",
    "The end result is a comprehensive dataframe with all necessary information. At the end of the section, the dataset is divided into a testing and training set, the latter comprising all data for the seasons 2020 to 2023. Also, the main statistical features of the dataset are briefly explored."
   ]
  },
  {
   "cell_type": "code",
   "execution_count": 887,
   "id": "8b119393",
   "metadata": {},
   "outputs": [
    {
     "data": {
      "text/html": [
       "<div>\n",
       "<style scoped>\n",
       "    .dataframe tbody tr th:only-of-type {\n",
       "        vertical-align: middle;\n",
       "    }\n",
       "\n",
       "    .dataframe tbody tr th {\n",
       "        vertical-align: top;\n",
       "    }\n",
       "\n",
       "    .dataframe thead th {\n",
       "        text-align: right;\n",
       "    }\n",
       "</style>\n",
       "<table border=\"1\" class=\"dataframe\">\n",
       "  <thead>\n",
       "    <tr style=\"text-align: right;\">\n",
       "      <th></th>\n",
       "      <th>playerName</th>\n",
       "      <th>season</th>\n",
       "      <th>Age</th>\n",
       "      <th>team</th>\n",
       "      <th>G</th>\n",
       "      <th>MP</th>\n",
       "      <th>FG%</th>\n",
       "      <th>3P%</th>\n",
       "      <th>2P%</th>\n",
       "      <th>eFG%</th>\n",
       "      <th>FT%</th>\n",
       "      <th>TRB</th>\n",
       "      <th>AST</th>\n",
       "      <th>STL</th>\n",
       "      <th>BLK</th>\n",
       "      <th>TOV</th>\n",
       "      <th>PF</th>\n",
       "      <th>PTS</th>\n",
       "      <th>Rank</th>\n",
       "      <th>AllStar</th>\n",
       "    </tr>\n",
       "  </thead>\n",
       "  <tbody>\n",
       "    <tr>\n",
       "      <th>0</th>\n",
       "      <td>Shaquille O'Neal</td>\n",
       "      <td>2000.0</td>\n",
       "      <td>27.0</td>\n",
       "      <td>LAL</td>\n",
       "      <td>79.0</td>\n",
       "      <td>40.0</td>\n",
       "      <td>0.574</td>\n",
       "      <td>0.000</td>\n",
       "      <td>0.575</td>\n",
       "      <td>0.574</td>\n",
       "      <td>0.524</td>\n",
       "      <td>13.6</td>\n",
       "      <td>3.8</td>\n",
       "      <td>0.5</td>\n",
       "      <td>3.0</td>\n",
       "      <td>2.8</td>\n",
       "      <td>3.2</td>\n",
       "      <td>29.7</td>\n",
       "      <td>0</td>\n",
       "      <td>1.0</td>\n",
       "    </tr>\n",
       "    <tr>\n",
       "      <th>1</th>\n",
       "      <td>Kevin Garnett</td>\n",
       "      <td>2000.0</td>\n",
       "      <td>23.0</td>\n",
       "      <td>MIN</td>\n",
       "      <td>81.0</td>\n",
       "      <td>40.0</td>\n",
       "      <td>0.497</td>\n",
       "      <td>0.370</td>\n",
       "      <td>0.504</td>\n",
       "      <td>0.507</td>\n",
       "      <td>0.765</td>\n",
       "      <td>11.8</td>\n",
       "      <td>5.0</td>\n",
       "      <td>1.5</td>\n",
       "      <td>1.6</td>\n",
       "      <td>3.3</td>\n",
       "      <td>2.5</td>\n",
       "      <td>22.9</td>\n",
       "      <td>0</td>\n",
       "      <td>1.0</td>\n",
       "    </tr>\n",
       "    <tr>\n",
       "      <th>2</th>\n",
       "      <td>Alonzo Mourning</td>\n",
       "      <td>2000.0</td>\n",
       "      <td>29.0</td>\n",
       "      <td>MIA</td>\n",
       "      <td>79.0</td>\n",
       "      <td>34.8</td>\n",
       "      <td>0.551</td>\n",
       "      <td>0.000</td>\n",
       "      <td>0.553</td>\n",
       "      <td>0.551</td>\n",
       "      <td>0.711</td>\n",
       "      <td>9.5</td>\n",
       "      <td>1.6</td>\n",
       "      <td>0.5</td>\n",
       "      <td>3.7</td>\n",
       "      <td>2.7</td>\n",
       "      <td>3.9</td>\n",
       "      <td>21.7</td>\n",
       "      <td>0</td>\n",
       "      <td>1.0</td>\n",
       "    </tr>\n",
       "    <tr>\n",
       "      <th>3</th>\n",
       "      <td>Juwan Howard</td>\n",
       "      <td>2000.0</td>\n",
       "      <td>26.0</td>\n",
       "      <td>WAS</td>\n",
       "      <td>82.0</td>\n",
       "      <td>35.5</td>\n",
       "      <td>0.459</td>\n",
       "      <td>0.000</td>\n",
       "      <td>0.462</td>\n",
       "      <td>0.459</td>\n",
       "      <td>0.735</td>\n",
       "      <td>5.7</td>\n",
       "      <td>3.0</td>\n",
       "      <td>0.8</td>\n",
       "      <td>0.3</td>\n",
       "      <td>2.7</td>\n",
       "      <td>3.6</td>\n",
       "      <td>14.9</td>\n",
       "      <td>0</td>\n",
       "      <td>0.0</td>\n",
       "    </tr>\n",
       "    <tr>\n",
       "      <th>4</th>\n",
       "      <td>Scottie Pippen</td>\n",
       "      <td>2000.0</td>\n",
       "      <td>34.0</td>\n",
       "      <td>POR</td>\n",
       "      <td>82.0</td>\n",
       "      <td>33.5</td>\n",
       "      <td>0.451</td>\n",
       "      <td>0.327</td>\n",
       "      <td>0.506</td>\n",
       "      <td>0.501</td>\n",
       "      <td>0.717</td>\n",
       "      <td>6.3</td>\n",
       "      <td>5.0</td>\n",
       "      <td>1.4</td>\n",
       "      <td>0.5</td>\n",
       "      <td>2.5</td>\n",
       "      <td>2.5</td>\n",
       "      <td>12.5</td>\n",
       "      <td>0</td>\n",
       "      <td>0.0</td>\n",
       "    </tr>\n",
       "  </tbody>\n",
       "</table>\n",
       "</div>"
      ],
      "text/plain": [
       "         playerName  season   Age team     G    MP    FG%    3P%    2P%  \\\n",
       "0  Shaquille O'Neal  2000.0  27.0  LAL  79.0  40.0  0.574  0.000  0.575   \n",
       "1     Kevin Garnett  2000.0  23.0  MIN  81.0  40.0  0.497  0.370  0.504   \n",
       "2   Alonzo Mourning  2000.0  29.0  MIA  79.0  34.8  0.551  0.000  0.553   \n",
       "3      Juwan Howard  2000.0  26.0  WAS  82.0  35.5  0.459  0.000  0.462   \n",
       "4    Scottie Pippen  2000.0  34.0  POR  82.0  33.5  0.451  0.327  0.506   \n",
       "\n",
       "    eFG%    FT%   TRB  AST  STL  BLK  TOV   PF   PTS  Rank  AllStar  \n",
       "0  0.574  0.524  13.6  3.8  0.5  3.0  2.8  3.2  29.7     0      1.0  \n",
       "1  0.507  0.765  11.8  5.0  1.5  1.6  3.3  2.5  22.9     0      1.0  \n",
       "2  0.551  0.711   9.5  1.6  0.5  3.7  2.7  3.9  21.7     0      1.0  \n",
       "3  0.459  0.735   5.7  3.0  0.8  0.3  2.7  3.6  14.9     0      0.0  \n",
       "4  0.501  0.717   6.3  5.0  1.4  0.5  2.5  2.5  12.5     0      0.0  "
      ]
     },
     "execution_count": 887,
     "metadata": {},
     "output_type": "execute_result"
    }
   ],
   "source": [
    "#read mvp data and perform data clean up\n",
    "current_folder = Path.cwd()\n",
    "\n",
    "mvp_files = [f for f in current_folder.glob(\"*.csv\") if \"MVP Data\" in f.name]\n",
    "\n",
    "mvps = pd.concat(\n",
    "    [pd.read_csv(file, sep=',', usecols=['Rank', 'Player', 'year', 'Tm'])\n",
    "     for file in mvp_files]\n",
    ")\n",
    "\n",
    "mvps = mvps[(~mvps['Rank'].str.contains('T'))]# & (mvps.Rank == '1')]\n",
    "mvps.Player = mvps.Player.apply(unidecode.unidecode)\n",
    "\n",
    "#add data to our main dataframe\n",
    "player_stats = player_stats.merge(\n",
    "    mvps,\n",
    "    how='left',\n",
    "    left_on=['playerName','season'],\n",
    "    right_on=['Player', 'year']\n",
    ").drop(['Player', 'Tm','year'], axis=1)\n",
    "\n",
    "#fill na fields with zero to prepare for forecasts \n",
    "player_stats.Rank = player_stats.Rank.fillna(0)\n",
    "#player_stats.ftPercent = player_stats.ftPercent.fillna(0)\n",
    "player_stats[['FG%', '3P%', '2P%', 'eFG%', 'FT%']] = player_stats[['FG%', '3P%', '2P%', 'eFG%', 'FT%']].fillna(0)\n",
    "\n",
    "\n",
    "#read all start data and again perform clean up\n",
    "df_allstar = pd.read_csv('1980-2022_AllStar_Data.csv',\n",
    "    sep=',',\n",
    "    usecols=['first', 'last', 'team', 'year']\n",
    ")\n",
    "\n",
    "df_allstar['PlayerName'] = df_allstar['first'].astype(str) + ' ' + df_allstar['last'].astype(str)\n",
    "\n",
    "#make seasons match\n",
    "df_allstar['year'] = df_allstar['year'] + 1\n",
    "df_allstar = df_allstar[['PlayerName', 'team', 'year']]\n",
    "#mark players that made the All Star Team in preparation for forecast\n",
    "df_allstar['AllStar'] = 1\n",
    "df_allstar = df_allstar.replace({'team' : team_names})\n",
    "\n",
    "#add data to main dataframe\n",
    "player_stats = player_stats.merge(\n",
    "    df_allstar,\n",
    "    how='outer',\n",
    "    left_on=['playerName','season', 'team'],\n",
    "    right_on=['PlayerName', 'year', 'team']\n",
    ").drop(['PlayerName','year'], axis=1)\n",
    "\n",
    "player_stats = player_stats[~player_stats.season.isna()]\n",
    "player_stats.AllStar = player_stats.AllStar.fillna(0)\n",
    "\n",
    "#change column variable due to malfunction in GraphQL API\n",
    "columns = ['Age', 'G', 'MP', 'FG%', '3P%', '2P%', 'eFG%', 'FT%', 'TRB', 'AST', 'STL', 'BLK', 'TOV', 'PF', 'PTS', 'Rank', 'AllStar']\n",
    "# columns = ['points', 'assists', 'turnovers', 'games', 'ftPercent', 'blocks', 'totalRb', 'wins', 'Rank']\n",
    "player_stats[columns] = player_stats[columns].apply(pd.to_numeric, errors='coerce')\n",
    "\n",
    "player_stats.head()"
   ]
  },
  {
   "cell_type": "markdown",
   "id": "c435a32e",
   "metadata": {},
   "source": [
    "In preparation for the training of the models to predict All Star appearance and MVP Rank, we perform a brief exploration of the dataset, by displaying its basic statistical metrics: "
   ]
  },
  {
   "cell_type": "code",
   "execution_count": 888,
   "id": "7a0af39e",
   "metadata": {},
   "outputs": [
    {
     "data": {
      "text/html": [
       "<div>\n",
       "<style scoped>\n",
       "    .dataframe tbody tr th:only-of-type {\n",
       "        vertical-align: middle;\n",
       "    }\n",
       "\n",
       "    .dataframe tbody tr th {\n",
       "        vertical-align: top;\n",
       "    }\n",
       "\n",
       "    .dataframe thead th {\n",
       "        text-align: right;\n",
       "    }\n",
       "</style>\n",
       "<table border=\"1\" class=\"dataframe\">\n",
       "  <thead>\n",
       "    <tr style=\"text-align: right;\">\n",
       "      <th></th>\n",
       "      <th>Age</th>\n",
       "      <th>G</th>\n",
       "      <th>MP</th>\n",
       "      <th>FG%</th>\n",
       "      <th>3P%</th>\n",
       "      <th>2P%</th>\n",
       "      <th>eFG%</th>\n",
       "      <th>FT%</th>\n",
       "      <th>TRB</th>\n",
       "      <th>AST</th>\n",
       "      <th>STL</th>\n",
       "      <th>BLK</th>\n",
       "      <th>TOV</th>\n",
       "      <th>PF</th>\n",
       "      <th>PTS</th>\n",
       "      <th>Rank</th>\n",
       "    </tr>\n",
       "  </thead>\n",
       "  <tbody>\n",
       "    <tr>\n",
       "      <th>count</th>\n",
       "      <td>10484.000000</td>\n",
       "      <td>10484.000000</td>\n",
       "      <td>10484.000000</td>\n",
       "      <td>10484.000000</td>\n",
       "      <td>10484.000000</td>\n",
       "      <td>10484.000000</td>\n",
       "      <td>10484.000000</td>\n",
       "      <td>10484.000000</td>\n",
       "      <td>10484.000000</td>\n",
       "      <td>10484.000000</td>\n",
       "      <td>10484.000000</td>\n",
       "      <td>10484.000000</td>\n",
       "      <td>10484.000000</td>\n",
       "      <td>10484.000000</td>\n",
       "      <td>10484.000000</td>\n",
       "      <td>10484.000000</td>\n",
       "    </tr>\n",
       "    <tr>\n",
       "      <th>mean</th>\n",
       "      <td>26.468333</td>\n",
       "      <td>53.277852</td>\n",
       "      <td>20.967570</td>\n",
       "      <td>0.443931</td>\n",
       "      <td>0.261866</td>\n",
       "      <td>0.481261</td>\n",
       "      <td>0.490870</td>\n",
       "      <td>0.713861</td>\n",
       "      <td>3.728548</td>\n",
       "      <td>1.955933</td>\n",
       "      <td>0.660177</td>\n",
       "      <td>0.432011</td>\n",
       "      <td>1.198378</td>\n",
       "      <td>1.832650</td>\n",
       "      <td>8.786389</td>\n",
       "      <td>0.149466</td>\n",
       "    </tr>\n",
       "    <tr>\n",
       "      <th>std</th>\n",
       "      <td>4.299332</td>\n",
       "      <td>23.881280</td>\n",
       "      <td>9.731078</td>\n",
       "      <td>0.093928</td>\n",
       "      <td>0.165770</td>\n",
       "      <td>0.107309</td>\n",
       "      <td>0.095774</td>\n",
       "      <td>0.183957</td>\n",
       "      <td>2.470164</td>\n",
       "      <td>1.861626</td>\n",
       "      <td>0.431298</td>\n",
       "      <td>0.466723</td>\n",
       "      <td>0.812211</td>\n",
       "      <td>0.781999</td>\n",
       "      <td>6.207002</td>\n",
       "      <td>1.113547</td>\n",
       "    </tr>\n",
       "    <tr>\n",
       "      <th>min</th>\n",
       "      <td>18.000000</td>\n",
       "      <td>1.000000</td>\n",
       "      <td>0.000000</td>\n",
       "      <td>0.000000</td>\n",
       "      <td>0.000000</td>\n",
       "      <td>0.000000</td>\n",
       "      <td>0.000000</td>\n",
       "      <td>0.000000</td>\n",
       "      <td>0.000000</td>\n",
       "      <td>0.000000</td>\n",
       "      <td>0.000000</td>\n",
       "      <td>0.000000</td>\n",
       "      <td>0.000000</td>\n",
       "      <td>0.000000</td>\n",
       "      <td>0.000000</td>\n",
       "      <td>0.000000</td>\n",
       "    </tr>\n",
       "    <tr>\n",
       "      <th>25%</th>\n",
       "      <td>23.000000</td>\n",
       "      <td>36.000000</td>\n",
       "      <td>13.000000</td>\n",
       "      <td>0.404000</td>\n",
       "      <td>0.147750</td>\n",
       "      <td>0.439750</td>\n",
       "      <td>0.455000</td>\n",
       "      <td>0.664000</td>\n",
       "      <td>1.900000</td>\n",
       "      <td>0.700000</td>\n",
       "      <td>0.300000</td>\n",
       "      <td>0.100000</td>\n",
       "      <td>0.600000</td>\n",
       "      <td>1.300000</td>\n",
       "      <td>4.000000</td>\n",
       "      <td>0.000000</td>\n",
       "    </tr>\n",
       "    <tr>\n",
       "      <th>50%</th>\n",
       "      <td>26.000000</td>\n",
       "      <td>60.000000</td>\n",
       "      <td>20.700000</td>\n",
       "      <td>0.442000</td>\n",
       "      <td>0.320000</td>\n",
       "      <td>0.483000</td>\n",
       "      <td>0.497000</td>\n",
       "      <td>0.754000</td>\n",
       "      <td>3.200000</td>\n",
       "      <td>1.300000</td>\n",
       "      <td>0.600000</td>\n",
       "      <td>0.300000</td>\n",
       "      <td>1.000000</td>\n",
       "      <td>1.800000</td>\n",
       "      <td>7.300000</td>\n",
       "      <td>0.000000</td>\n",
       "    </tr>\n",
       "    <tr>\n",
       "      <th>75%</th>\n",
       "      <td>29.000000</td>\n",
       "      <td>74.000000</td>\n",
       "      <td>29.100000</td>\n",
       "      <td>0.486000</td>\n",
       "      <td>0.371000</td>\n",
       "      <td>0.532000</td>\n",
       "      <td>0.537000</td>\n",
       "      <td>0.821000</td>\n",
       "      <td>4.900000</td>\n",
       "      <td>2.600000</td>\n",
       "      <td>0.900000</td>\n",
       "      <td>0.600000</td>\n",
       "      <td>1.600000</td>\n",
       "      <td>2.400000</td>\n",
       "      <td>12.100000</td>\n",
       "      <td>0.000000</td>\n",
       "    </tr>\n",
       "    <tr>\n",
       "      <th>max</th>\n",
       "      <td>43.000000</td>\n",
       "      <td>85.000000</td>\n",
       "      <td>43.700000</td>\n",
       "      <td>1.000000</td>\n",
       "      <td>1.000000</td>\n",
       "      <td>1.000000</td>\n",
       "      <td>1.500000</td>\n",
       "      <td>1.000000</td>\n",
       "      <td>16.000000</td>\n",
       "      <td>11.700000</td>\n",
       "      <td>3.000000</td>\n",
       "      <td>3.800000</td>\n",
       "      <td>5.700000</td>\n",
       "      <td>5.000000</td>\n",
       "      <td>36.100000</td>\n",
       "      <td>17.000000</td>\n",
       "    </tr>\n",
       "  </tbody>\n",
       "</table>\n",
       "</div>"
      ],
      "text/plain": [
       "                Age             G            MP           FG%           3P%  \\\n",
       "count  10484.000000  10484.000000  10484.000000  10484.000000  10484.000000   \n",
       "mean      26.468333     53.277852     20.967570      0.443931      0.261866   \n",
       "std        4.299332     23.881280      9.731078      0.093928      0.165770   \n",
       "min       18.000000      1.000000      0.000000      0.000000      0.000000   \n",
       "25%       23.000000     36.000000     13.000000      0.404000      0.147750   \n",
       "50%       26.000000     60.000000     20.700000      0.442000      0.320000   \n",
       "75%       29.000000     74.000000     29.100000      0.486000      0.371000   \n",
       "max       43.000000     85.000000     43.700000      1.000000      1.000000   \n",
       "\n",
       "                2P%          eFG%           FT%           TRB           AST  \\\n",
       "count  10484.000000  10484.000000  10484.000000  10484.000000  10484.000000   \n",
       "mean       0.481261      0.490870      0.713861      3.728548      1.955933   \n",
       "std        0.107309      0.095774      0.183957      2.470164      1.861626   \n",
       "min        0.000000      0.000000      0.000000      0.000000      0.000000   \n",
       "25%        0.439750      0.455000      0.664000      1.900000      0.700000   \n",
       "50%        0.483000      0.497000      0.754000      3.200000      1.300000   \n",
       "75%        0.532000      0.537000      0.821000      4.900000      2.600000   \n",
       "max        1.000000      1.500000      1.000000     16.000000     11.700000   \n",
       "\n",
       "                STL           BLK           TOV            PF           PTS  \\\n",
       "count  10484.000000  10484.000000  10484.000000  10484.000000  10484.000000   \n",
       "mean       0.660177      0.432011      1.198378      1.832650      8.786389   \n",
       "std        0.431298      0.466723      0.812211      0.781999      6.207002   \n",
       "min        0.000000      0.000000      0.000000      0.000000      0.000000   \n",
       "25%        0.300000      0.100000      0.600000      1.300000      4.000000   \n",
       "50%        0.600000      0.300000      1.000000      1.800000      7.300000   \n",
       "75%        0.900000      0.600000      1.600000      2.400000     12.100000   \n",
       "max        3.000000      3.800000      5.700000      5.000000     36.100000   \n",
       "\n",
       "               Rank  \n",
       "count  10484.000000  \n",
       "mean       0.149466  \n",
       "std        1.113547  \n",
       "min        0.000000  \n",
       "25%        0.000000  \n",
       "50%        0.000000  \n",
       "75%        0.000000  \n",
       "max       17.000000  "
      ]
     },
     "execution_count": 888,
     "metadata": {},
     "output_type": "execute_result"
    }
   ],
   "source": [
    "player_stats.describe().drop(columns=['season', 'AllStar'])"
   ]
  },
  {
   "cell_type": "code",
   "execution_count": null,
   "id": "4a13b201",
   "metadata": {},
   "outputs": [
    {
     "data": {
      "text/html": [
       "<div>\n",
       "<style scoped>\n",
       "    .dataframe tbody tr th:only-of-type {\n",
       "        vertical-align: middle;\n",
       "    }\n",
       "\n",
       "    .dataframe tbody tr th {\n",
       "        vertical-align: top;\n",
       "    }\n",
       "\n",
       "    .dataframe thead th {\n",
       "        text-align: right;\n",
       "    }\n",
       "</style>\n",
       "<table border=\"1\" class=\"dataframe\">\n",
       "  <thead>\n",
       "    <tr style=\"text-align: right;\">\n",
       "      <th></th>\n",
       "      <th>Age</th>\n",
       "      <th>G</th>\n",
       "      <th>MP</th>\n",
       "      <th>FG%</th>\n",
       "      <th>3P%</th>\n",
       "      <th>2P%</th>\n",
       "      <th>eFG%</th>\n",
       "      <th>FT%</th>\n",
       "      <th>TRB</th>\n",
       "      <th>AST</th>\n",
       "      <th>STL</th>\n",
       "      <th>BLK</th>\n",
       "      <th>TOV</th>\n",
       "      <th>PF</th>\n",
       "      <th>PTS</th>\n",
       "      <th>Rank</th>\n",
       "      <th>AllStar</th>\n",
       "    </tr>\n",
       "  </thead>\n",
       "  <tbody>\n",
       "    <tr>\n",
       "      <th>AllStar</th>\n",
       "      <td>0.043538</td>\n",
       "      <td>0.180217</td>\n",
       "      <td>0.341783</td>\n",
       "      <td>0.091105</td>\n",
       "      <td>0.063733</td>\n",
       "      <td>0.062964</td>\n",
       "      <td>0.068196</td>\n",
       "      <td>0.099206</td>\n",
       "      <td>0.319058</td>\n",
       "      <td>0.349978</td>\n",
       "      <td>0.302469</td>\n",
       "      <td>0.196254</td>\n",
       "      <td>0.422396</td>\n",
       "      <td>0.175972</td>\n",
       "      <td>0.476733</td>\n",
       "      <td>0.476943</td>\n",
       "      <td>1.000000</td>\n",
       "    </tr>\n",
       "    <tr>\n",
       "      <th>Rank</th>\n",
       "      <td>0.032919</td>\n",
       "      <td>0.110332</td>\n",
       "      <td>0.202089</td>\n",
       "      <td>0.052044</td>\n",
       "      <td>0.045075</td>\n",
       "      <td>0.035336</td>\n",
       "      <td>0.038581</td>\n",
       "      <td>0.061769</td>\n",
       "      <td>0.175334</td>\n",
       "      <td>0.249541</td>\n",
       "      <td>0.202317</td>\n",
       "      <td>0.111750</td>\n",
       "      <td>0.266817</td>\n",
       "      <td>0.091300</td>\n",
       "      <td>0.296775</td>\n",
       "      <td>1.000000</td>\n",
       "      <td>0.476943</td>\n",
       "    </tr>\n",
       "  </tbody>\n",
       "</table>\n",
       "</div>"
      ],
      "text/plain": [
       "              Age         G        MP       FG%       3P%       2P%      eFG%  \\\n",
       "AllStar  0.043538  0.180217  0.341783  0.091105  0.063733  0.062964  0.068196   \n",
       "Rank     0.032919  0.110332  0.202089  0.052044  0.045075  0.035336  0.038581   \n",
       "\n",
       "              FT%       TRB       AST       STL       BLK       TOV        PF  \\\n",
       "AllStar  0.099206  0.319058  0.349978  0.302469  0.196254  0.422396  0.175972   \n",
       "Rank     0.061769  0.175334  0.249541  0.202317  0.111750  0.266817  0.091300   \n",
       "\n",
       "              PTS      Rank   AllStar  \n",
       "AllStar  0.476733  0.476943  1.000000  \n",
       "Rank     0.296775  1.000000  0.476943  "
      ]
     },
     "execution_count": 889,
     "metadata": {},
     "output_type": "execute_result"
    }
   ],
   "source": [
    "#Compute correlations of all columns in our feature dataset with our target features, AllStar and Rank\n",
    "player_stats.corr(numeric_only=True).loc[columns, ['AllStar', 'Rank']].transpose()"
   ]
  },
  {
   "cell_type": "code",
   "execution_count": 890,
   "id": "097342f6",
   "metadata": {},
   "outputs": [
    {
     "data": {
      "text/plain": [
       "<Axes: xlabel='AllStar', ylabel='PTS'>"
      ]
     },
     "execution_count": 890,
     "metadata": {},
     "output_type": "execute_result"
    },
    {
     "data": {
      "image/png": "[encoded data removed]",
      "text/plain": [
       "<Figure size 640x480 with 1 Axes>"
      ]
     },
     "metadata": {},
     "output_type": "display_data"
    }
   ],
   "source": [
    "\"\"\"\n",
    "We additionally create a quick boxplot of the distribution of the points per game statistic,\n",
    "the arguably most important statistic for determining if a player will be selected for the All Star game,\n",
    "as can also be seen in the above correlation matrix:\n",
    "\"\"\"\n",
    "sns.boxplot(data=player_stats, x=\"AllStar\", y=\"PTS\")"
   ]
  },
  {
   "cell_type": "code",
   "execution_count": 891,
   "id": "aa1f147d",
   "metadata": {},
   "outputs": [],
   "source": [
    "#divide main dataframe into training and testing datasets\n",
    "df_train = player_stats[player_stats.season.between(2000, 2020)]\n",
    "df_test = player_stats[player_stats.season.between(2021, 2023)]"
   ]
  },
  {
   "cell_type": "markdown",
   "id": "b5318e60",
   "metadata": {},
   "source": [
    "# Part 2: All Star game predictions "
   ]
  },
  {
   "cell_type": "markdown",
   "id": "84844d1e",
   "metadata": {},
   "source": [
    "The goal of this section is, firstly, the prediction of the players selected for the All Star Game in the season contained in *df_test* and secondly, to analyse the performance of said prediction. Accordingly, the section can be divided into the following steps:\n",
    "1. Definition of feature and target datasets\n",
    "2. Training of models. The models used are:\n",
    "    - Logistic Regression Classifier\n",
    "    - XGBoost Classifier\n",
    "    - Decision Tree Classifier\n",
    "3. Brief visualisation of the feature importance for XGBoost and logistic regression.\n",
    "4. Analysis and visualisation of model performance via standard classification metrics, namely F1 and AUC-ROC.\n",
    "5. Same as above, but with a custom performance metric, where the players with highest likelihood as predicted by the model are selected and compared with the actual All Star Game selections.\n",
    "\n",
    "**The main result is**: the best performing model is the logistic regression classifier, with an average AUC-Score of ~88% \n"
   ]
  },
  {
   "cell_type": "code",
   "execution_count": 892,
   "id": "236a4a79",
   "metadata": {},
   "outputs": [],
   "source": [
    "#create feature and target dataset\n",
    "cols_allstar = [c for c in columns if c != 'AllStar']\n",
    "X_allstar = df_train[cols_allstar]\n",
    "y_allstar = df_train.AllStar.astype('int')"
   ]
  },
  {
   "cell_type": "code",
   "execution_count": 893,
   "id": "5463736b",
   "metadata": {},
   "outputs": [],
   "source": [
    "#initialize and train XGB Classifier\n",
    "model_xgb_allstar = XGBClassifier().fit(X_allstar, y_allstar)\n",
    "\n",
    "#Train Logistic Regression classifier\n",
    "#model_log_mvp = LogisticRegression(solver='liblinear', C=1.0).fit(X, y_mvp)\n",
    "\n",
    "#initialize and train Logistic Regression Classifier\n",
    "model_log_allstar = LogisticRegression(solver='liblinear', C=1.0).fit(X_allstar, y_allstar)\n",
    "\n",
    "# Train Decision Tree Classifer\n",
    "#model_clf_mvp = DecisionTreeClassifier().fit(X,y_mvp)\n",
    "\n",
    "#initialize and train Decision Tree Classifier\n",
    "model_clf_allstar = DecisionTreeClassifier().fit(X_allstar,y_allstar)"
   ]
  },
  {
   "cell_type": "code",
   "execution_count": 894,
   "id": "2849e99c",
   "metadata": {},
   "outputs": [
    {
     "data": {
      "text/plain": [
       "<Axes: title={'center': 'Feature Importance of XGB Classifier'}>"
      ]
     },
     "execution_count": 894,
     "metadata": {},
     "output_type": "execute_result"
    },
    {
     "data": {
      "image/png": "[encoded data removed]",
      "text/plain": [
       "<Figure size 640x480 with 1 Axes>"
      ]
     },
     "metadata": {},
     "output_type": "display_data"
    }
   ],
   "source": [
    "#generate quick plot of feature importance in XGBoost\n",
    "pd.Series(\n",
    "    model_xgb_allstar.feature_importances_,\n",
    "    X_allstar.columns\n",
    "    \n",
    ").plot(kind='bar',title='Feature Importance of XGB Classifier')"
   ]
  },
  {
   "cell_type": "code",
   "execution_count": 895,
   "id": "ec859042",
   "metadata": {},
   "outputs": [
    {
     "data": {
      "text/plain": [
       "<Axes: title={'center': 'Logistic Regression Classifier Coefficients'}>"
      ]
     },
     "execution_count": 895,
     "metadata": {},
     "output_type": "execute_result"
    },
    {
     "data": {
      "image/png": "[encoded data removed]",
      "text/plain": [
       "<Figure size 640x480 with 1 Axes>"
      ]
     },
     "metadata": {},
     "output_type": "display_data"
    }
   ],
   "source": [
    "#Generate graph of Log. Reg. Coefficients\n",
    "pd.Series(\n",
    "    model_log_allstar.coef_[0],\n",
    "    X_allstar.columns\n",
    "\n",
    ").plot(kind='bar', title='Logistic Regression Classifier Coefficients')"
   ]
  },
  {
   "cell_type": "code",
   "execution_count": 896,
   "id": "7ad833ad",
   "metadata": {},
   "outputs": [],
   "source": [
    "\"\"\" \n",
    "In this cell we generate dataframes that contain the F1/AUC scores for all three models across the seasons in the testing dataset\n",
    "\"\"\"\n",
    "\n",
    "#create separeate dataframe for score evaluation and filter for pertinent years\n",
    "df_score = df_test.copy()\n",
    "df_score = df_score[df_score.season < 2024]\n",
    "\n",
    "#generate predictions on testing set for all three models\n",
    "df_score['Log_Prediction'] = model_xgb_allstar.predict(df_score[cols_allstar])\n",
    "df_score['XGB_Prediction'] = model_log_allstar.predict(df_score[cols_allstar])\n",
    "df_score['Tree_Prediction'] = model_clf_allstar.predict(df_score[cols_allstar])\n",
    "\n",
    "#compute f1 score for each season\n",
    "f1 = (\n",
    "    df_score.groupby('season')\n",
    "    .apply(lambda x: pd.Series({\n",
    "        'F1_Log': f1_score(x['AllStar'], x['Log_Prediction']),\n",
    "        'F1_XGB': f1_score(x['AllStar'], x['XGB_Prediction']),\n",
    "        'F1_Tree': f1_score(x['AllStar'], x['Tree_Prediction'])\n",
    "    }))\n",
    "    .reset_index()\n",
    ")\n",
    "\n",
    "#compute total f1 score, i.e. accross all seasons\n",
    "total_f1 = pd.Series({\n",
    "    'F1_Log': f1_score(df_score['AllStar'], df_score['Log_Prediction']),\n",
    "    'F1_XGB': f1_score(df_score['AllStar'], df_score['XGB_Prediction']),\n",
    "    'F1_Tree': f1_score(df_score['AllStar'], df_score['Tree_Prediction'])\n",
    "})\n",
    "\n",
    "#join f1 and f1_total together, in order to have all information in one dataframe\n",
    "f1_total = pd.concat([\n",
    "    f1,\n",
    "    pd.DataFrame([['Total', *total_f1.values]], columns=f1.columns)\n",
    "])\n",
    "\n",
    "#compute AUC score for each season\n",
    "auc = (\n",
    "    df_score.groupby('season')\n",
    "    .apply(lambda x: pd.Series({\n",
    "        'AUC_Log': roc_auc_score(x['AllStar'], x['Log_Prediction']),\n",
    "        'AUC_XGB': roc_auc_score(x['AllStar'], x['XGB_Prediction']),\n",
    "        'AUC_Tree': roc_auc_score(x['AllStar'], x['Tree_Prediction'])\n",
    "    }))\n",
    "    .reset_index()\n",
    ")\n",
    "\n",
    "#compute total AUC score, i.e. accross all seasons\n",
    "total_auc = pd.Series({\n",
    "    'AUC_Log': roc_auc_score(df_score['AllStar'], df_score['Log_Prediction']),\n",
    "    'AUC_XGB': roc_auc_score(df_score['AllStar'], df_score['XGB_Prediction']),\n",
    "    'AUC_Tree': roc_auc_score(df_score['AllStar'], df_score['Tree_Prediction'])\n",
    "})\n",
    "\n",
    "#join auc and auc_total together, in order to have all information in one dataframe\n",
    "auc_total = pd.concat([\n",
    "    auc,\n",
    "    pd.DataFrame([['Total', *total_auc.values]], columns=auc.columns)\n",
    "])"
   ]
  },
  {
   "cell_type": "code",
   "execution_count": 897,
   "id": "4cfbcbc1",
   "metadata": {},
   "outputs": [],
   "source": [
    "#plotting of the above dataframes is carried out by this function\n",
    "def score_evolution_plot(df_data, column_list, label):\n",
    "    \"\"\"\n",
    "    Args:\n",
    "        df_data: dataframe containing model performance score data\n",
    "        column_list: names for items of y-axis\n",
    "        label: title for the graph\n",
    "\n",
    "    Returns:\n",
    "        A bar graph of the model scores\n",
    "\n",
    "    \"\"\"\n",
    "    x_axis = df_data.season.astype(str)\n",
    "\n",
    "    fig = go.Figure(data=[\n",
    "    go.Bar(name='Log Regression', x=x_axis, y=df_data[column_list[0]], marker_color='pink'),\n",
    "    go.Bar(name='XGB Classifier', x=x_axis, y=df_data[column_list[1]], marker_color='chocolate'),\n",
    "    go.Bar(name='Decision Tree', x=x_axis, y=df_data[column_list[2]], marker_color='burlywood')\n",
    "    \n",
    "    ])\n",
    "\n",
    "    fig.update_layout(\n",
    "        barmode='group',\n",
    "        title=label\n",
    "    )\n",
    "    \n",
    "    fig.show()"
   ]
  },
  {
   "cell_type": "code",
   "execution_count": 898,
   "id": "ed9a5aef",
   "metadata": {},
   "outputs": [
    {
     "data": {
      "application/vnd.plotly.v1+json": {
       "config": {
        "plotlyServerURL": "https://plot.ly"
       },
       "data": [
        {
         "marker": {
          "color": "pink"
         },
         "name": "Log Regression",
         "type": "bar",
         "x": [
          "2021.0",
          "2022.0",
          "2023.0",
          "Total"
         ],
         "y": [
          0.625,
          0.7272727272727273,
          0.6666666666666665,
          0.6712328767123288
         ]
        },
        {
         "marker": {
          "color": "chocolate"
         },
         "name": "XGB Classifier",
         "type": "bar",
         "x": [
          "2021.0",
          "2022.0",
          "2023.0",
          "Total"
         ],
         "y": [
          0.6511627906976745,
          0.6818181818181818,
          0.782608695652174,
          0.7067669172932329
         ]
        },
        {
         "marker": {
          "color": "burlywood"
         },
         "name": "Decision Tree",
         "type": "bar",
         "x": [
          "2021.0",
          "2022.0",
          "2023.0",
          "Total"
         ],
         "y": [
          0.5365853658536586,
          0.5714285714285714,
          0.5490196078431373,
          0.554054054054054
         ]
        }
       ],
       "layout": {
        "barmode": "group",
        "template": {
         "data": {
          "bar": [
           {
            "error_x": {
             "color": "#2a3f5f"
            },
            "error_y": {
             "color": "#2a3f5f"
            },
            "marker": {
             "line": {
              "color": "#E5ECF6",
              "width": 0.5
             },
             "pattern": {
              "fillmode": "overlay",
              "size": 10,
              "solidity": 0.2
             }
            },
            "type": "bar"
           }
          ],
          "barpolar": [
           {
            "marker": {
             "line": {
              "color": "#E5ECF6",
              "width": 0.5
             },
             "pattern": {
              "fillmode": "overlay",
              "size": 10,
              "solidity": 0.2
             }
            },
            "type": "barpolar"
           }
          ],
          "carpet": [
           {
            "aaxis": {
             "endlinecolor": "#2a3f5f",
             "gridcolor": "white",
             "linecolor": "white",
             "minorgridcolor": "white",
             "startlinecolor": "#2a3f5f"
            },
            "baxis": {
             "endlinecolor": "#2a3f5f",
             "gridcolor": "white",
             "linecolor": "white",
             "minorgridcolor": "white",
             "startlinecolor": "#2a3f5f"
            },
            "type": "carpet"
           }
          ],
          "choropleth": [
           {
            "colorbar": {
             "outlinewidth": 0,
             "ticks": ""
            },
            "type": "choropleth"
           }
          ],
          "contour": [
           {
            "colorbar": {
             "outlinewidth": 0,
             "ticks": ""
            },
            "colorscale": [
             [
              0,
              "#0d0887"
             ],
             [
              0.1111111111111111,
              "#46039f"
             ],
             [
              0.2222222222222222,
              "#7201a8"
             ],
             [
              0.3333333333333333,
              "#9c179e"
             ],
             [
              0.4444444444444444,
              "#bd3786"
             ],
             [
              0.5555555555555556,
              "#d8576b"
             ],
             [
              0.6666666666666666,
              "#ed7953"
             ],
             [
              0.7777777777777778,
              "#fb9f3a"
             ],
             [
              0.8888888888888888,
              "#fdca26"
             ],
             [
              1,
              "#f0f921"
             ]
            ],
            "type": "contour"
           }
          ],
          "contourcarpet": [
           {
            "colorbar": {
             "outlinewidth": 0,
             "ticks": ""
            },
            "type": "contourcarpet"
           }
          ],
          "heatmap": [
           {
            "colorbar": {
             "outlinewidth": 0,
             "ticks": ""
            },
            "colorscale": [
             [
              0,
              "#0d0887"
             ],
             [
              0.1111111111111111,
              "#46039f"
             ],
             [
              0.2222222222222222,
              "#7201a8"
             ],
             [
              0.3333333333333333,
              "#9c179e"
             ],
             [
              0.4444444444444444,
              "#bd3786"
             ],
             [
              0.5555555555555556,
              "#d8576b"
             ],
             [
              0.6666666666666666,
              "#ed7953"
             ],
             [
              0.7777777777777778,
              "#fb9f3a"
             ],
             [
              0.8888888888888888,
              "#fdca26"
             ],
             [
              1,
              "#f0f921"
             ]
            ],
            "type": "heatmap"
           }
          ],
          "heatmapgl": [
           {
            "colorbar": {
             "outlinewidth": 0,
             "ticks": ""
            },
            "colorscale": [
             [
              0,
              "#0d0887"
             ],
             [
              0.1111111111111111,
              "#46039f"
             ],
             [
              0.2222222222222222,
              "#7201a8"
             ],
             [
              0.3333333333333333,
              "#9c179e"
             ],
             [
              0.4444444444444444,
              "#bd3786"
             ],
             [
              0.5555555555555556,
              "#d8576b"
             ],
             [
              0.6666666666666666,
              "#ed7953"
             ],
             [
              0.7777777777777778,
              "#fb9f3a"
             ],
             [
              0.8888888888888888,
              "#fdca26"
             ],
             [
              1,
              "#f0f921"
             ]
            ],
            "type": "heatmapgl"
           }
          ],
          "histogram": [
           {
            "marker": {
             "pattern": {
              "fillmode": "overlay",
              "size": 10,
              "solidity": 0.2
             }
            },
            "type": "histogram"
           }
          ],
          "histogram2d": [
           {
            "colorbar": {
             "outlinewidth": 0,
             "ticks": ""
            },
            "colorscale": [
             [
              0,
              "#0d0887"
             ],
             [
              0.1111111111111111,
              "#46039f"
             ],
             [
              0.2222222222222222,
              "#7201a8"
             ],
             [
              0.3333333333333333,
              "#9c179e"
             ],
             [
              0.4444444444444444,
              "#bd3786"
             ],
             [
              0.5555555555555556,
              "#d8576b"
             ],
             [
              0.6666666666666666,
              "#ed7953"
             ],
             [
              0.7777777777777778,
              "#fb9f3a"
             ],
             [
              0.8888888888888888,
              "#fdca26"
             ],
             [
              1,
              "#f0f921"
             ]
            ],
            "type": "histogram2d"
           }
          ],
          "histogram2dcontour": [
           {
            "colorbar": {
             "outlinewidth": 0,
             "ticks": ""
            },
            "colorscale": [
             [
              0,
              "#0d0887"
             ],
             [
              0.1111111111111111,
              "#46039f"
             ],
             [
              0.2222222222222222,
              "#7201a8"
             ],
             [
              0.3333333333333333,
              "#9c179e"
             ],
             [
              0.4444444444444444,
              "#bd3786"
             ],
             [
              0.5555555555555556,
              "#d8576b"
             ],
             [
              0.6666666666666666,
              "#ed7953"
             ],
             [
              0.7777777777777778,
              "#fb9f3a"
             ],
             [
              0.8888888888888888,
              "#fdca26"
             ],
             [
              1,
              "#f0f921"
             ]
            ],
            "type": "histogram2dcontour"
           }
          ],
          "mesh3d": [
           {
            "colorbar": {
             "outlinewidth": 0,
             "ticks": ""
            },
            "type": "mesh3d"
           }
          ],
          "parcoords": [
           {
            "line": {
             "colorbar": {
              "outlinewidth": 0,
              "ticks": ""
             }
            },
            "type": "parcoords"
           }
          ],
          "pie": [
           {
            "automargin": true,
            "type": "pie"
           }
          ],
          "scatter": [
           {
            "fillpattern": {
             "fillmode": "overlay",
             "size": 10,
             "solidity": 0.2
            },
            "type": "scatter"
           }
          ],
          "scatter3d": [
           {
            "line": {
             "colorbar": {
              "outlinewidth": 0,
              "ticks": ""
             }
            },
            "marker": {
             "colorbar": {
              "outlinewidth": 0,
              "ticks": ""
             }
            },
            "type": "scatter3d"
           }
          ],
          "scattercarpet": [
           {
            "marker": {
             "colorbar": {
              "outlinewidth": 0,
              "ticks": ""
             }
            },
            "type": "scattercarpet"
           }
          ],
          "scattergeo": [
           {
            "marker": {
             "colorbar": {
              "outlinewidth": 0,
              "ticks": ""
             }
            },
            "type": "scattergeo"
           }
          ],
          "scattergl": [
           {
            "marker": {
             "colorbar": {
              "outlinewidth": 0,
              "ticks": ""
             }
            },
            "type": "scattergl"
           }
          ],
          "scattermapbox": [
           {
            "marker": {
             "colorbar": {
              "outlinewidth": 0,
              "ticks": ""
             }
            },
            "type": "scattermapbox"
           }
          ],
          "scatterpolar": [
           {
            "marker": {
             "colorbar": {
              "outlinewidth": 0,
              "ticks": ""
             }
            },
            "type": "scatterpolar"
           }
          ],
          "scatterpolargl": [
           {
            "marker": {
             "colorbar": {
              "outlinewidth": 0,
              "ticks": ""
             }
            },
            "type": "scatterpolargl"
           }
          ],
          "scatterternary": [
           {
            "marker": {
             "colorbar": {
              "outlinewidth": 0,
              "ticks": ""
             }
            },
            "type": "scatterternary"
           }
          ],
          "surface": [
           {
            "colorbar": {
             "outlinewidth": 0,
             "ticks": ""
            },
            "colorscale": [
             [
              0,
              "#0d0887"
             ],
             [
              0.1111111111111111,
              "#46039f"
             ],
             [
              0.2222222222222222,
              "#7201a8"
             ],
             [
              0.3333333333333333,
              "#9c179e"
             ],
             [
              0.4444444444444444,
              "#bd3786"
             ],
             [
              0.5555555555555556,
              "#d8576b"
             ],
             [
              0.6666666666666666,
              "#ed7953"
             ],
             [
              0.7777777777777778,
              "#fb9f3a"
             ],
             [
              0.8888888888888888,
              "#fdca26"
             ],
             [
              1,
              "#f0f921"
             ]
            ],
            "type": "surface"
           }
          ],
          "table": [
           {
            "cells": {
             "fill": {
              "color": "#EBF0F8"
             },
             "line": {
              "color": "white"
             }
            },
            "header": {
             "fill": {
              "color": "#C8D4E3"
             },
             "line": {
              "color": "white"
             }
            },
            "type": "table"
           }
          ]
         },
         "layout": {
          "annotationdefaults": {
           "arrowcolor": "#2a3f5f",
           "arrowhead": 0,
           "arrowwidth": 1
          },
          "autotypenumbers": "strict",
          "coloraxis": {
           "colorbar": {
            "outlinewidth": 0,
            "ticks": ""
           }
          },
          "colorscale": {
           "diverging": [
            [
             0,
             "#8e0152"
            ],
            [
             0.1,
             "#c51b7d"
            ],
            [
             0.2,
             "#de77ae"
            ],
            [
             0.3,
             "#f1b6da"
            ],
            [
             0.4,
             "#fde0ef"
            ],
            [
             0.5,
             "#f7f7f7"
            ],
            [
             0.6,
             "#e6f5d0"
            ],
            [
             0.7,
             "#b8e186"
            ],
            [
             0.8,
             "#7fbc41"
            ],
            [
             0.9,
             "#4d9221"
            ],
            [
             1,
             "#276419"
            ]
           ],
           "sequential": [
            [
             0,
             "#0d0887"
            ],
            [
             0.1111111111111111,
             "#46039f"
            ],
            [
             0.2222222222222222,
             "#7201a8"
            ],
            [
             0.3333333333333333,
             "#9c179e"
            ],
            [
             0.4444444444444444,
             "#bd3786"
            ],
            [
             0.5555555555555556,
             "#d8576b"
            ],
            [
             0.6666666666666666,
             "#ed7953"
            ],
            [
             0.7777777777777778,
             "#fb9f3a"
            ],
            [
             0.8888888888888888,
             "#fdca26"
            ],
            [
             1,
             "#f0f921"
            ]
           ],
           "sequentialminus": [
            [
             0,
             "#0d0887"
            ],
            [
             0.1111111111111111,
             "#46039f"
            ],
            [
             0.2222222222222222,
             "#7201a8"
            ],
            [
             0.3333333333333333,
             "#9c179e"
            ],
            [
             0.4444444444444444,
             "#bd3786"
            ],
            [
             0.5555555555555556,
             "#d8576b"
            ],
            [
             0.6666666666666666,
             "#ed7953"
            ],
            [
             0.7777777777777778,
             "#fb9f3a"
            ],
            [
             0.8888888888888888,
             "#fdca26"
            ],
            [
             1,
             "#f0f921"
            ]
           ]
          },
          "colorway": [
           "#636efa",
           "#EF553B",
           "#00cc96",
           "#ab63fa",
           "#FFA15A",
           "#19d3f3",
           "#FF6692",
           "#B6E880",
           "#FF97FF",
           "#FECB52"
          ],
          "font": {
           "color": "#2a3f5f"
          },
          "geo": {
           "bgcolor": "white",
           "lakecolor": "white",
           "landcolor": "#E5ECF6",
           "showlakes": true,
           "showland": true,
           "subunitcolor": "white"
          },
          "hoverlabel": {
           "align": "left"
          },
          "hovermode": "closest",
          "mapbox": {
           "style": "light"
          },
          "paper_bgcolor": "white",
          "plot_bgcolor": "#E5ECF6",
          "polar": {
           "angularaxis": {
            "gridcolor": "white",
            "linecolor": "white",
            "ticks": ""
           },
           "bgcolor": "#E5ECF6",
           "radialaxis": {
            "gridcolor": "white",
            "linecolor": "white",
            "ticks": ""
           }
          },
          "scene": {
           "xaxis": {
            "backgroundcolor": "#E5ECF6",
            "gridcolor": "white",
            "gridwidth": 2,
            "linecolor": "white",
            "showbackground": true,
            "ticks": "",
            "zerolinecolor": "white"
           },
           "yaxis": {
            "backgroundcolor": "#E5ECF6",
            "gridcolor": "white",
            "gridwidth": 2,
            "linecolor": "white",
            "showbackground": true,
            "ticks": "",
            "zerolinecolor": "white"
           },
           "zaxis": {
            "backgroundcolor": "#E5ECF6",
            "gridcolor": "white",
            "gridwidth": 2,
            "linecolor": "white",
            "showbackground": true,
            "ticks": "",
            "zerolinecolor": "white"
           }
          },
          "shapedefaults": {
           "line": {
            "color": "#2a3f5f"
           }
          },
          "ternary": {
           "aaxis": {
            "gridcolor": "white",
            "linecolor": "white",
            "ticks": ""
           },
           "baxis": {
            "gridcolor": "white",
            "linecolor": "white",
            "ticks": ""
           },
           "bgcolor": "#E5ECF6",
           "caxis": {
            "gridcolor": "white",
            "linecolor": "white",
            "ticks": ""
           }
          },
          "title": {
           "x": 0.05
          },
          "xaxis": {
           "automargin": true,
           "gridcolor": "white",
           "linecolor": "white",
           "ticks": "",
           "title": {
            "standoff": 15
           },
           "zerolinecolor": "white",
           "zerolinewidth": 2
          },
          "yaxis": {
           "automargin": true,
           "gridcolor": "white",
           "linecolor": "white",
           "ticks": "",
           "title": {
            "standoff": 15
           },
           "zerolinecolor": "white",
           "zerolinewidth": 2
          }
         }
        },
        "title": {
         "text": "F1 Score Evolution"
        }
       }
      }
     },
     "metadata": {},
     "output_type": "display_data"
    },
    {
     "data": {
      "application/vnd.plotly.v1+json": {
       "config": {
        "plotlyServerURL": "https://plot.ly"
       },
       "data": [
        {
         "marker": {
          "color": "pink"
         },
         "name": "Log Regression",
         "type": "bar",
         "x": [
          "2021.0",
          "2022.0",
          "2023.0",
          "Total"
         ],
         "y": [
          0.9006067094932192,
          0.8578448578448579,
          0.9117552850736708,
          0.8890607279100938
         ]
        },
        {
         "marker": {
          "color": "chocolate"
         },
         "name": "XGB Classifier",
         "type": "bar",
         "x": [
          "2021.0",
          "2022.0",
          "2023.0",
          "Total"
         ],
         "y": [
          0.8771115869616941,
          0.834152334152334,
          0.9207238949391415,
          0.8765107513947601
         ]
        },
        {
         "marker": {
          "color": "burlywood"
         },
         "name": "Decision Tree",
         "type": "bar",
         "x": [
          "2021.0",
          "2022.0",
          "2023.0",
          "Total"
         ],
         "y": [
          0.7927075898167976,
          0.8462618462618463,
          0.8153961136023915,
          0.8199928973204568
         ]
        }
       ],
       "layout": {
        "barmode": "group",
        "template": {
         "data": {
          "bar": [
           {
            "error_x": {
             "color": "#2a3f5f"
            },
            "error_y": {
             "color": "#2a3f5f"
            },
            "marker": {
             "line": {
              "color": "#E5ECF6",
              "width": 0.5
             },
             "pattern": {
              "fillmode": "overlay",
              "size": 10,
              "solidity": 0.2
             }
            },
            "type": "bar"
           }
          ],
          "barpolar": [
           {
            "marker": {
             "line": {
              "color": "#E5ECF6",
              "width": 0.5
             },
             "pattern": {
              "fillmode": "overlay",
              "size": 10,
              "solidity": 0.2
             }
            },
            "type": "barpolar"
           }
          ],
          "carpet": [
           {
            "aaxis": {
             "endlinecolor": "#2a3f5f",
             "gridcolor": "white",
             "linecolor": "white",
             "minorgridcolor": "white",
             "startlinecolor": "#2a3f5f"
            },
            "baxis": {
             "endlinecolor": "#2a3f5f",
             "gridcolor": "white",
             "linecolor": "white",
             "minorgridcolor": "white",
             "startlinecolor": "#2a3f5f"
            },
            "type": "carpet"
           }
          ],
          "choropleth": [
           {
            "colorbar": {
             "outlinewidth": 0,
             "ticks": ""
            },
            "type": "choropleth"
           }
          ],
          "contour": [
           {
            "colorbar": {
             "outlinewidth": 0,
             "ticks": ""
            },
            "colorscale": [
             [
              0,
              "#0d0887"
             ],
             [
              0.1111111111111111,
              "#46039f"
             ],
             [
              0.2222222222222222,
              "#7201a8"
             ],
             [
              0.3333333333333333,
              "#9c179e"
             ],
             [
              0.4444444444444444,
              "#bd3786"
             ],
             [
              0.5555555555555556,
              "#d8576b"
             ],
             [
              0.6666666666666666,
              "#ed7953"
             ],
             [
              0.7777777777777778,
              "#fb9f3a"
             ],
             [
              0.8888888888888888,
              "#fdca26"
             ],
             [
              1,
              "#f0f921"
             ]
            ],
            "type": "contour"
           }
          ],
          "contourcarpet": [
           {
            "colorbar": {
             "outlinewidth": 0,
             "ticks": ""
            },
            "type": "contourcarpet"
           }
          ],
          "heatmap": [
           {
            "colorbar": {
             "outlinewidth": 0,
             "ticks": ""
            },
            "colorscale": [
             [
              0,
              "#0d0887"
             ],
             [
              0.1111111111111111,
              "#46039f"
             ],
             [
              0.2222222222222222,
              "#7201a8"
             ],
             [
              0.3333333333333333,
              "#9c179e"
             ],
             [
              0.4444444444444444,
              "#bd3786"
             ],
             [
              0.5555555555555556,
              "#d8576b"
             ],
             [
              0.6666666666666666,
              "#ed7953"
             ],
             [
              0.7777777777777778,
              "#fb9f3a"
             ],
             [
              0.8888888888888888,
              "#fdca26"
             ],
             [
              1,
              "#f0f921"
             ]
            ],
            "type": "heatmap"
           }
          ],
          "heatmapgl": [
           {
            "colorbar": {
             "outlinewidth": 0,
             "ticks": ""
            },
            "colorscale": [
             [
              0,
              "#0d0887"
             ],
             [
              0.1111111111111111,
              "#46039f"
             ],
             [
              0.2222222222222222,
              "#7201a8"
             ],
             [
              0.3333333333333333,
              "#9c179e"
             ],
             [
              0.4444444444444444,
              "#bd3786"
             ],
             [
              0.5555555555555556,
              "#d8576b"
             ],
             [
              0.6666666666666666,
              "#ed7953"
             ],
             [
              0.7777777777777778,
              "#fb9f3a"
             ],
             [
              0.8888888888888888,
              "#fdca26"
             ],
             [
              1,
              "#f0f921"
             ]
            ],
            "type": "heatmapgl"
           }
          ],
          "histogram": [
           {
            "marker": {
             "pattern": {
              "fillmode": "overlay",
              "size": 10,
              "solidity": 0.2
             }
            },
            "type": "histogram"
           }
          ],
          "histogram2d": [
           {
            "colorbar": {
             "outlinewidth": 0,
             "ticks": ""
            },
            "colorscale": [
             [
              0,
              "#0d0887"
             ],
             [
              0.1111111111111111,
              "#46039f"
             ],
             [
              0.2222222222222222,
              "#7201a8"
             ],
             [
              0.3333333333333333,
              "#9c179e"
             ],
             [
              0.4444444444444444,
              "#bd3786"
             ],
             [
              0.5555555555555556,
              "#d8576b"
             ],
             [
              0.6666666666666666,
              "#ed7953"
             ],
             [
              0.7777777777777778,
              "#fb9f3a"
             ],
             [
              0.8888888888888888,
              "#fdca26"
             ],
             [
              1,
              "#f0f921"
             ]
            ],
            "type": "histogram2d"
           }
          ],
          "histogram2dcontour": [
           {
            "colorbar": {
             "outlinewidth": 0,
             "ticks": ""
            },
            "colorscale": [
             [
              0,
              "#0d0887"
             ],
             [
              0.1111111111111111,
              "#46039f"
             ],
             [
              0.2222222222222222,
              "#7201a8"
             ],
             [
              0.3333333333333333,
              "#9c179e"
             ],
             [
              0.4444444444444444,
              "#bd3786"
             ],
             [
              0.5555555555555556,
              "#d8576b"
             ],
             [
              0.6666666666666666,
              "#ed7953"
             ],
             [
              0.7777777777777778,
              "#fb9f3a"
             ],
             [
              0.8888888888888888,
              "#fdca26"
             ],
             [
              1,
              "#f0f921"
             ]
            ],
            "type": "histogram2dcontour"
           }
          ],
          "mesh3d": [
           {
            "colorbar": {
             "outlinewidth": 0,
             "ticks": ""
            },
            "type": "mesh3d"
           }
          ],
          "parcoords": [
           {
            "line": {
             "colorbar": {
              "outlinewidth": 0,
              "ticks": ""
             }
            },
            "type": "parcoords"
           }
          ],
          "pie": [
           {
            "automargin": true,
            "type": "pie"
           }
          ],
          "scatter": [
           {
            "fillpattern": {
             "fillmode": "overlay",
             "size": 10,
             "solidity": 0.2
            },
            "type": "scatter"
           }
          ],
          "scatter3d": [
           {
            "line": {
             "colorbar": {
              "outlinewidth": 0,
              "ticks": ""
             }
            },
            "marker": {
             "colorbar": {
              "outlinewidth": 0,
              "ticks": ""
             }
            },
            "type": "scatter3d"
           }
          ],
          "scattercarpet": [
           {
            "marker": {
             "colorbar": {
              "outlinewidth": 0,
              "ticks": ""
             }
            },
            "type": "scattercarpet"
           }
          ],
          "scattergeo": [
           {
            "marker": {
             "colorbar": {
              "outlinewidth": 0,
              "ticks": ""
             }
            },
            "type": "scattergeo"
           }
          ],
          "scattergl": [
           {
            "marker": {
             "colorbar": {
              "outlinewidth": 0,
              "ticks": ""
             }
            },
            "type": "scattergl"
           }
          ],
          "scattermapbox": [
           {
            "marker": {
             "colorbar": {
              "outlinewidth": 0,
              "ticks": ""
             }
            },
            "type": "scattermapbox"
           }
          ],
          "scatterpolar": [
           {
            "marker": {
             "colorbar": {
              "outlinewidth": 0,
              "ticks": ""
             }
            },
            "type": "scatterpolar"
           }
          ],
          "scatterpolargl": [
           {
            "marker": {
             "colorbar": {
              "outlinewidth": 0,
              "ticks": ""
             }
            },
            "type": "scatterpolargl"
           }
          ],
          "scatterternary": [
           {
            "marker": {
             "colorbar": {
              "outlinewidth": 0,
              "ticks": ""
             }
            },
            "type": "scatterternary"
           }
          ],
          "surface": [
           {
            "colorbar": {
             "outlinewidth": 0,
             "ticks": ""
            },
            "colorscale": [
             [
              0,
              "#0d0887"
             ],
             [
              0.1111111111111111,
              "#46039f"
             ],
             [
              0.2222222222222222,
              "#7201a8"
             ],
             [
              0.3333333333333333,
              "#9c179e"
             ],
             [
              0.4444444444444444,
              "#bd3786"
             ],
             [
              0.5555555555555556,
              "#d8576b"
             ],
             [
              0.6666666666666666,
              "#ed7953"
             ],
             [
              0.7777777777777778,
              "#fb9f3a"
             ],
             [
              0.8888888888888888,
              "#fdca26"
             ],
             [
              1,
              "#f0f921"
             ]
            ],
            "type": "surface"
           }
          ],
          "table": [
           {
            "cells": {
             "fill": {
              "color": "#EBF0F8"
             },
             "line": {
              "color": "white"
             }
            },
            "header": {
             "fill": {
              "color": "#C8D4E3"
             },
             "line": {
              "color": "white"
             }
            },
            "type": "table"
           }
          ]
         },
         "layout": {
          "annotationdefaults": {
           "arrowcolor": "#2a3f5f",
           "arrowhead": 0,
           "arrowwidth": 1
          },
          "autotypenumbers": "strict",
          "coloraxis": {
           "colorbar": {
            "outlinewidth": 0,
            "ticks": ""
           }
          },
          "colorscale": {
           "diverging": [
            [
             0,
             "#8e0152"
            ],
            [
             0.1,
             "#c51b7d"
            ],
            [
             0.2,
             "#de77ae"
            ],
            [
             0.3,
             "#f1b6da"
            ],
            [
             0.4,
             "#fde0ef"
            ],
            [
             0.5,
             "#f7f7f7"
            ],
            [
             0.6,
             "#e6f5d0"
            ],
            [
             0.7,
             "#b8e186"
            ],
            [
             0.8,
             "#7fbc41"
            ],
            [
             0.9,
             "#4d9221"
            ],
            [
             1,
             "#276419"
            ]
           ],
           "sequential": [
            [
             0,
             "#0d0887"
            ],
            [
             0.1111111111111111,
             "#46039f"
            ],
            [
             0.2222222222222222,
             "#7201a8"
            ],
            [
             0.3333333333333333,
             "#9c179e"
            ],
            [
             0.4444444444444444,
             "#bd3786"
            ],
            [
             0.5555555555555556,
             "#d8576b"
            ],
            [
             0.6666666666666666,
             "#ed7953"
            ],
            [
             0.7777777777777778,
             "#fb9f3a"
            ],
            [
             0.8888888888888888,
             "#fdca26"
            ],
            [
             1,
             "#f0f921"
            ]
           ],
           "sequentialminus": [
            [
             0,
             "#0d0887"
            ],
            [
             0.1111111111111111,
             "#46039f"
            ],
            [
             0.2222222222222222,
             "#7201a8"
            ],
            [
             0.3333333333333333,
             "#9c179e"
            ],
            [
             0.4444444444444444,
             "#bd3786"
            ],
            [
             0.5555555555555556,
             "#d8576b"
            ],
            [
             0.6666666666666666,
             "#ed7953"
            ],
            [
             0.7777777777777778,
             "#fb9f3a"
            ],
            [
             0.8888888888888888,
             "#fdca26"
            ],
            [
             1,
             "#f0f921"
            ]
           ]
          },
          "colorway": [
           "#636efa",
           "#EF553B",
           "#00cc96",
           "#ab63fa",
           "#FFA15A",
           "#19d3f3",
           "#FF6692",
           "#B6E880",
           "#FF97FF",
           "#FECB52"
          ],
          "font": {
           "color": "#2a3f5f"
          },
          "geo": {
           "bgcolor": "white",
           "lakecolor": "white",
           "landcolor": "#E5ECF6",
           "showlakes": true,
           "showland": true,
           "subunitcolor": "white"
          },
          "hoverlabel": {
           "align": "left"
          },
          "hovermode": "closest",
          "mapbox": {
           "style": "light"
          },
          "paper_bgcolor": "white",
          "plot_bgcolor": "#E5ECF6",
          "polar": {
           "angularaxis": {
            "gridcolor": "white",
            "linecolor": "white",
            "ticks": ""
           },
           "bgcolor": "#E5ECF6",
           "radialaxis": {
            "gridcolor": "white",
            "linecolor": "white",
            "ticks": ""
           }
          },
          "scene": {
           "xaxis": {
            "backgroundcolor": "#E5ECF6",
            "gridcolor": "white",
            "gridwidth": 2,
            "linecolor": "white",
            "showbackground": true,
            "ticks": "",
            "zerolinecolor": "white"
           },
           "yaxis": {
            "backgroundcolor": "#E5ECF6",
            "gridcolor": "white",
            "gridwidth": 2,
            "linecolor": "white",
            "showbackground": true,
            "ticks": "",
            "zerolinecolor": "white"
           },
           "zaxis": {
            "backgroundcolor": "#E5ECF6",
            "gridcolor": "white",
            "gridwidth": 2,
            "linecolor": "white",
            "showbackground": true,
            "ticks": "",
            "zerolinecolor": "white"
           }
          },
          "shapedefaults": {
           "line": {
            "color": "#2a3f5f"
           }
          },
          "ternary": {
           "aaxis": {
            "gridcolor": "white",
            "linecolor": "white",
            "ticks": ""
           },
           "baxis": {
            "gridcolor": "white",
            "linecolor": "white",
            "ticks": ""
           },
           "bgcolor": "#E5ECF6",
           "caxis": {
            "gridcolor": "white",
            "linecolor": "white",
            "ticks": ""
           }
          },
          "title": {
           "x": 0.05
          },
          "xaxis": {
           "automargin": true,
           "gridcolor": "white",
           "linecolor": "white",
           "ticks": "",
           "title": {
            "standoff": 15
           },
           "zerolinecolor": "white",
           "zerolinewidth": 2
          },
          "yaxis": {
           "automargin": true,
           "gridcolor": "white",
           "linecolor": "white",
           "ticks": "",
           "title": {
            "standoff": 15
           },
           "zerolinecolor": "white",
           "zerolinewidth": 2
          }
         }
        },
        "title": {
         "text": "AUC Score Evolution"
        }
       }
      }
     },
     "metadata": {},
     "output_type": "display_data"
    }
   ],
   "source": [
    "#plot evolution of scores for the F1 and AUC metrics\n",
    "score_evolution_plot(f1_total, ['F1_Log', 'F1_XGB', 'F1_Tree'], 'F1 Score Evolution')\n",
    "score_evolution_plot(auc_total, ['AUC_Log', 'AUC_XGB', 'AUC_Tree'], 'AUC Score Evolution')"
   ]
  },
  {
   "cell_type": "code",
   "execution_count": 899,
   "id": "049eda93",
   "metadata": {},
   "outputs": [
    {
     "data": {
      "text/html": [
       "<div>\n",
       "<style scoped>\n",
       "    .dataframe tbody tr th:only-of-type {\n",
       "        vertical-align: middle;\n",
       "    }\n",
       "\n",
       "    .dataframe tbody tr th {\n",
       "        vertical-align: top;\n",
       "    }\n",
       "\n",
       "    .dataframe thead th {\n",
       "        text-align: right;\n",
       "    }\n",
       "</style>\n",
       "<table border=\"1\" class=\"dataframe\">\n",
       "  <thead>\n",
       "    <tr style=\"text-align: right;\">\n",
       "      <th>Model</th>\n",
       "      <th>season</th>\n",
       "      <th>Log_Prediction</th>\n",
       "      <th>Tree_Prediction</th>\n",
       "      <th>XGB_Prediction</th>\n",
       "    </tr>\n",
       "  </thead>\n",
       "  <tbody>\n",
       "    <tr>\n",
       "      <th>0</th>\n",
       "      <td>2021.0</td>\n",
       "      <td>0.777778</td>\n",
       "      <td>0.611111</td>\n",
       "      <td>0.777778</td>\n",
       "    </tr>\n",
       "    <tr>\n",
       "      <th>1</th>\n",
       "      <td>2022.0</td>\n",
       "      <td>0.772727</td>\n",
       "      <td>0.545455</td>\n",
       "      <td>0.681818</td>\n",
       "    </tr>\n",
       "    <tr>\n",
       "      <th>2</th>\n",
       "      <td>2023.0</td>\n",
       "      <td>0.714286</td>\n",
       "      <td>0.666667</td>\n",
       "      <td>0.857143</td>\n",
       "    </tr>\n",
       "  </tbody>\n",
       "</table>\n",
       "</div>"
      ],
      "text/plain": [
       "Model  season  Log_Prediction  Tree_Prediction  XGB_Prediction\n",
       "0      2021.0        0.777778         0.611111        0.777778\n",
       "1      2022.0        0.772727         0.545455        0.681818\n",
       "2      2023.0        0.714286         0.666667        0.857143"
      ]
     },
     "execution_count": 899,
     "metadata": {},
     "output_type": "execute_result"
    }
   ],
   "source": [
    "\"\"\"\n",
    "We now aim to validate the performance of all three models through a custom metric. \n",
    "The metrics consists in taking 24 players with highest likelihood of being part of the All Star game for each season, as predicted by the model.\n",
    "In the next step, we check how many of these players were actually part of the All Star game.\n",
    "Afterwards, the results are plotted, making use of our plotting function.\n",
    "\"\"\"\n",
    "\n",
    "#create separeate dataframe for score evaluation and filter for pertinent years\n",
    "df_score = df_test.copy()\n",
    "\n",
    "#predict probabilities for All Star game appeareance for each player for each model\n",
    "df_score['Log_Prediction'] = model_xgb_allstar.predict_proba(df_score[cols_allstar])[:,1]\n",
    "df_score['XGB_Prediction'] = model_log_allstar.predict_proba(df_score[cols_allstar])[:,1]\n",
    "df_score['Tree_Prediction'] = model_clf_allstar.predict_proba(df_score[cols_allstar])[:,1]\n",
    "\n",
    "#modify dataframe so that for any player the prediction of each model is in a separate line \n",
    "df_long = df_score.melt(\n",
    "    id_vars = ['season', 'playerName', 'AllStar'],\n",
    "    value_vars = ['Log_Prediction', 'XGB_Prediction', 'Tree_Prediction'],\n",
    "    var_name='Model',\n",
    "    value_name='Prediction'\n",
    ")\n",
    "\n",
    "#group by season and model and only keep 24 player with highest probability\n",
    "top_preds = (\n",
    "    df_long\n",
    "        .sort_values(by=['season', 'Model', 'Prediction'], ascending=[True, True, False])\n",
    "        .groupby(by=['season', 'Model'])\n",
    "        .head(24)\n",
    ")\n",
    "\n",
    "#counts number of allstar for each season\n",
    "allstars = df_test.groupby(by='season')['AllStar'].sum()\n",
    "\n",
    "#create dataframe containing the percentage of correctly predicted All Star game players for each season, for each model \n",
    "correct = (\n",
    "    top_preds\n",
    "        .groupby(by=['season', 'Model'])['AllStar'].sum()\n",
    "        .reset_index(name=\"Correct\")\n",
    "        .merge(allstars, on=\"season\")\n",
    "        .assign(pct=lambda x : x.Correct / x.AllStar)\n",
    "        .pivot(index='season', columns='Model', values='pct')\n",
    "        .reset_index()\n",
    ")\n",
    "\n",
    "correct"
   ]
  },
  {
   "cell_type": "code",
   "execution_count": 900,
   "id": "1180ec65",
   "metadata": {},
   "outputs": [
    {
     "data": {
      "application/vnd.plotly.v1+json": {
       "config": {
        "plotlyServerURL": "https://plot.ly"
       },
       "data": [
        {
         "marker": {
          "color": "pink"
         },
         "name": "Log Regression",
         "type": "bar",
         "x": [
          "2021.0",
          "2022.0",
          "2023.0"
         ],
         "y": [
          0.7777777777777778,
          0.7727272727272727,
          0.7142857142857143
         ]
        },
        {
         "marker": {
          "color": "chocolate"
         },
         "name": "XGB Classifier",
         "type": "bar",
         "x": [
          "2021.0",
          "2022.0",
          "2023.0"
         ],
         "y": [
          0.7777777777777778,
          0.6818181818181818,
          0.8571428571428571
         ]
        },
        {
         "marker": {
          "color": "burlywood"
         },
         "name": "Decision Tree",
         "type": "bar",
         "x": [
          "2021.0",
          "2022.0",
          "2023.0"
         ],
         "y": [
          0.6111111111111112,
          0.5454545454545454,
          0.6666666666666666
         ]
        }
       ],
       "layout": {
        "barmode": "group",
        "template": {
         "data": {
          "bar": [
           {
            "error_x": {
             "color": "#2a3f5f"
            },
            "error_y": {
             "color": "#2a3f5f"
            },
            "marker": {
             "line": {
              "color": "#E5ECF6",
              "width": 0.5
             },
             "pattern": {
              "fillmode": "overlay",
              "size": 10,
              "solidity": 0.2
             }
            },
            "type": "bar"
           }
          ],
          "barpolar": [
           {
            "marker": {
             "line": {
              "color": "#E5ECF6",
              "width": 0.5
             },
             "pattern": {
              "fillmode": "overlay",
              "size": 10,
              "solidity": 0.2
             }
            },
            "type": "barpolar"
           }
          ],
          "carpet": [
           {
            "aaxis": {
             "endlinecolor": "#2a3f5f",
             "gridcolor": "white",
             "linecolor": "white",
             "minorgridcolor": "white",
             "startlinecolor": "#2a3f5f"
            },
            "baxis": {
             "endlinecolor": "#2a3f5f",
             "gridcolor": "white",
             "linecolor": "white",
             "minorgridcolor": "white",
             "startlinecolor": "#2a3f5f"
            },
            "type": "carpet"
           }
          ],
          "choropleth": [
           {
            "colorbar": {
             "outlinewidth": 0,
             "ticks": ""
            },
            "type": "choropleth"
           }
          ],
          "contour": [
           {
            "colorbar": {
             "outlinewidth": 0,
             "ticks": ""
            },
            "colorscale": [
             [
              0,
              "#0d0887"
             ],
             [
              0.1111111111111111,
              "#46039f"
             ],
             [
              0.2222222222222222,
              "#7201a8"
             ],
             [
              0.3333333333333333,
              "#9c179e"
             ],
             [
              0.4444444444444444,
              "#bd3786"
             ],
             [
              0.5555555555555556,
              "#d8576b"
             ],
             [
              0.6666666666666666,
              "#ed7953"
             ],
             [
              0.7777777777777778,
              "#fb9f3a"
             ],
             [
              0.8888888888888888,
              "#fdca26"
             ],
             [
              1,
              "#f0f921"
             ]
            ],
            "type": "contour"
           }
          ],
          "contourcarpet": [
           {
            "colorbar": {
             "outlinewidth": 0,
             "ticks": ""
            },
            "type": "contourcarpet"
           }
          ],
          "heatmap": [
           {
            "colorbar": {
             "outlinewidth": 0,
             "ticks": ""
            },
            "colorscale": [
             [
              0,
              "#0d0887"
             ],
             [
              0.1111111111111111,
              "#46039f"
             ],
             [
              0.2222222222222222,
              "#7201a8"
             ],
             [
              0.3333333333333333,
              "#9c179e"
             ],
             [
              0.4444444444444444,
              "#bd3786"
             ],
             [
              0.5555555555555556,
              "#d8576b"
             ],
             [
              0.6666666666666666,
              "#ed7953"
             ],
             [
              0.7777777777777778,
              "#fb9f3a"
             ],
             [
              0.8888888888888888,
              "#fdca26"
             ],
             [
              1,
              "#f0f921"
             ]
            ],
            "type": "heatmap"
           }
          ],
          "heatmapgl": [
           {
            "colorbar": {
             "outlinewidth": 0,
             "ticks": ""
            },
            "colorscale": [
             [
              0,
              "#0d0887"
             ],
             [
              0.1111111111111111,
              "#46039f"
             ],
             [
              0.2222222222222222,
              "#7201a8"
             ],
             [
              0.3333333333333333,
              "#9c179e"
             ],
             [
              0.4444444444444444,
              "#bd3786"
             ],
             [
              0.5555555555555556,
              "#d8576b"
             ],
             [
              0.6666666666666666,
              "#ed7953"
             ],
             [
              0.7777777777777778,
              "#fb9f3a"
             ],
             [
              0.8888888888888888,
              "#fdca26"
             ],
             [
              1,
              "#f0f921"
             ]
            ],
            "type": "heatmapgl"
           }
          ],
          "histogram": [
           {
            "marker": {
             "pattern": {
              "fillmode": "overlay",
              "size": 10,
              "solidity": 0.2
             }
            },
            "type": "histogram"
           }
          ],
          "histogram2d": [
           {
            "colorbar": {
             "outlinewidth": 0,
             "ticks": ""
            },
            "colorscale": [
             [
              0,
              "#0d0887"
             ],
             [
              0.1111111111111111,
              "#46039f"
             ],
             [
              0.2222222222222222,
              "#7201a8"
             ],
             [
              0.3333333333333333,
              "#9c179e"
             ],
             [
              0.4444444444444444,
              "#bd3786"
             ],
             [
              0.5555555555555556,
              "#d8576b"
             ],
             [
              0.6666666666666666,
              "#ed7953"
             ],
             [
              0.7777777777777778,
              "#fb9f3a"
             ],
             [
              0.8888888888888888,
              "#fdca26"
             ],
             [
              1,
              "#f0f921"
             ]
            ],
            "type": "histogram2d"
           }
          ],
          "histogram2dcontour": [
           {
            "colorbar": {
             "outlinewidth": 0,
             "ticks": ""
            },
            "colorscale": [
             [
              0,
              "#0d0887"
             ],
             [
              0.1111111111111111,
              "#46039f"
             ],
             [
              0.2222222222222222,
              "#7201a8"
             ],
             [
              0.3333333333333333,
              "#9c179e"
             ],
             [
              0.4444444444444444,
              "#bd3786"
             ],
             [
              0.5555555555555556,
              "#d8576b"
             ],
             [
              0.6666666666666666,
              "#ed7953"
             ],
             [
              0.7777777777777778,
              "#fb9f3a"
             ],
             [
              0.8888888888888888,
              "#fdca26"
             ],
             [
              1,
              "#f0f921"
             ]
            ],
            "type": "histogram2dcontour"
           }
          ],
          "mesh3d": [
           {
            "colorbar": {
             "outlinewidth": 0,
             "ticks": ""
            },
            "type": "mesh3d"
           }
          ],
          "parcoords": [
           {
            "line": {
             "colorbar": {
              "outlinewidth": 0,
              "ticks": ""
             }
            },
            "type": "parcoords"
           }
          ],
          "pie": [
           {
            "automargin": true,
            "type": "pie"
           }
          ],
          "scatter": [
           {
            "fillpattern": {
             "fillmode": "overlay",
             "size": 10,
             "solidity": 0.2
            },
            "type": "scatter"
           }
          ],
          "scatter3d": [
           {
            "line": {
             "colorbar": {
              "outlinewidth": 0,
              "ticks": ""
             }
            },
            "marker": {
             "colorbar": {
              "outlinewidth": 0,
              "ticks": ""
             }
            },
            "type": "scatter3d"
           }
          ],
          "scattercarpet": [
           {
            "marker": {
             "colorbar": {
              "outlinewidth": 0,
              "ticks": ""
             }
            },
            "type": "scattercarpet"
           }
          ],
          "scattergeo": [
           {
            "marker": {
             "colorbar": {
              "outlinewidth": 0,
              "ticks": ""
             }
            },
            "type": "scattergeo"
           }
          ],
          "scattergl": [
           {
            "marker": {
             "colorbar": {
              "outlinewidth": 0,
              "ticks": ""
             }
            },
            "type": "scattergl"
           }
          ],
          "scattermapbox": [
           {
            "marker": {
             "colorbar": {
              "outlinewidth": 0,
              "ticks": ""
             }
            },
            "type": "scattermapbox"
           }
          ],
          "scatterpolar": [
           {
            "marker": {
             "colorbar": {
              "outlinewidth": 0,
              "ticks": ""
             }
            },
            "type": "scatterpolar"
           }
          ],
          "scatterpolargl": [
           {
            "marker": {
             "colorbar": {
              "outlinewidth": 0,
              "ticks": ""
             }
            },
            "type": "scatterpolargl"
           }
          ],
          "scatterternary": [
           {
            "marker": {
             "colorbar": {
              "outlinewidth": 0,
              "ticks": ""
             }
            },
            "type": "scatterternary"
           }
          ],
          "surface": [
           {
            "colorbar": {
             "outlinewidth": 0,
             "ticks": ""
            },
            "colorscale": [
             [
              0,
              "#0d0887"
             ],
             [
              0.1111111111111111,
              "#46039f"
             ],
             [
              0.2222222222222222,
              "#7201a8"
             ],
             [
              0.3333333333333333,
              "#9c179e"
             ],
             [
              0.4444444444444444,
              "#bd3786"
             ],
             [
              0.5555555555555556,
              "#d8576b"
             ],
             [
              0.6666666666666666,
              "#ed7953"
             ],
             [
              0.7777777777777778,
              "#fb9f3a"
             ],
             [
              0.8888888888888888,
              "#fdca26"
             ],
             [
              1,
              "#f0f921"
             ]
            ],
            "type": "surface"
           }
          ],
          "table": [
           {
            "cells": {
             "fill": {
              "color": "#EBF0F8"
             },
             "line": {
              "color": "white"
             }
            },
            "header": {
             "fill": {
              "color": "#C8D4E3"
             },
             "line": {
              "color": "white"
             }
            },
            "type": "table"
           }
          ]
         },
         "layout": {
          "annotationdefaults": {
           "arrowcolor": "#2a3f5f",
           "arrowhead": 0,
           "arrowwidth": 1
          },
          "autotypenumbers": "strict",
          "coloraxis": {
           "colorbar": {
            "outlinewidth": 0,
            "ticks": ""
           }
          },
          "colorscale": {
           "diverging": [
            [
             0,
             "#8e0152"
            ],
            [
             0.1,
             "#c51b7d"
            ],
            [
             0.2,
             "#de77ae"
            ],
            [
             0.3,
             "#f1b6da"
            ],
            [
             0.4,
             "#fde0ef"
            ],
            [
             0.5,
             "#f7f7f7"
            ],
            [
             0.6,
             "#e6f5d0"
            ],
            [
             0.7,
             "#b8e186"
            ],
            [
             0.8,
             "#7fbc41"
            ],
            [
             0.9,
             "#4d9221"
            ],
            [
             1,
             "#276419"
            ]
           ],
           "sequential": [
            [
             0,
             "#0d0887"
            ],
            [
             0.1111111111111111,
             "#46039f"
            ],
            [
             0.2222222222222222,
             "#7201a8"
            ],
            [
             0.3333333333333333,
             "#9c179e"
            ],
            [
             0.4444444444444444,
             "#bd3786"
            ],
            [
             0.5555555555555556,
             "#d8576b"
            ],
            [
             0.6666666666666666,
             "#ed7953"
            ],
            [
             0.7777777777777778,
             "#fb9f3a"
            ],
            [
             0.8888888888888888,
             "#fdca26"
            ],
            [
             1,
             "#f0f921"
            ]
           ],
           "sequentialminus": [
            [
             0,
             "#0d0887"
            ],
            [
             0.1111111111111111,
             "#46039f"
            ],
            [
             0.2222222222222222,
             "#7201a8"
            ],
            [
             0.3333333333333333,
             "#9c179e"
            ],
            [
             0.4444444444444444,
             "#bd3786"
            ],
            [
             0.5555555555555556,
             "#d8576b"
            ],
            [
             0.6666666666666666,
             "#ed7953"
            ],
            [
             0.7777777777777778,
             "#fb9f3a"
            ],
            [
             0.8888888888888888,
             "#fdca26"
            ],
            [
             1,
             "#f0f921"
            ]
           ]
          },
          "colorway": [
           "#636efa",
           "#EF553B",
           "#00cc96",
           "#ab63fa",
           "#FFA15A",
           "#19d3f3",
           "#FF6692",
           "#B6E880",
           "#FF97FF",
           "#FECB52"
          ],
          "font": {
           "color": "#2a3f5f"
          },
          "geo": {
           "bgcolor": "white",
           "lakecolor": "white",
           "landcolor": "#E5ECF6",
           "showlakes": true,
           "showland": true,
           "subunitcolor": "white"
          },
          "hoverlabel": {
           "align": "left"
          },
          "hovermode": "closest",
          "mapbox": {
           "style": "light"
          },
          "paper_bgcolor": "white",
          "plot_bgcolor": "#E5ECF6",
          "polar": {
           "angularaxis": {
            "gridcolor": "white",
            "linecolor": "white",
            "ticks": ""
           },
           "bgcolor": "#E5ECF6",
           "radialaxis": {
            "gridcolor": "white",
            "linecolor": "white",
            "ticks": ""
           }
          },
          "scene": {
           "xaxis": {
            "backgroundcolor": "#E5ECF6",
            "gridcolor": "white",
            "gridwidth": 2,
            "linecolor": "white",
            "showbackground": true,
            "ticks": "",
            "zerolinecolor": "white"
           },
           "yaxis": {
            "backgroundcolor": "#E5ECF6",
            "gridcolor": "white",
            "gridwidth": 2,
            "linecolor": "white",
            "showbackground": true,
            "ticks": "",
            "zerolinecolor": "white"
           },
           "zaxis": {
            "backgroundcolor": "#E5ECF6",
            "gridcolor": "white",
            "gridwidth": 2,
            "linecolor": "white",
            "showbackground": true,
            "ticks": "",
            "zerolinecolor": "white"
           }
          },
          "shapedefaults": {
           "line": {
            "color": "#2a3f5f"
           }
          },
          "ternary": {
           "aaxis": {
            "gridcolor": "white",
            "linecolor": "white",
            "ticks": ""
           },
           "baxis": {
            "gridcolor": "white",
            "linecolor": "white",
            "ticks": ""
           },
           "bgcolor": "#E5ECF6",
           "caxis": {
            "gridcolor": "white",
            "linecolor": "white",
            "ticks": ""
           }
          },
          "title": {
           "x": 0.05
          },
          "xaxis": {
           "automargin": true,
           "gridcolor": "white",
           "linecolor": "white",
           "ticks": "",
           "title": {
            "standoff": 15
           },
           "zerolinecolor": "white",
           "zerolinewidth": 2
          },
          "yaxis": {
           "automargin": true,
           "gridcolor": "white",
           "linecolor": "white",
           "ticks": "",
           "title": {
            "standoff": 15
           },
           "zerolinecolor": "white",
           "zerolinewidth": 2
          }
         }
        },
        "title": {
         "text": "Accuracy Score Evolution"
        }
       }
      }
     },
     "metadata": {},
     "output_type": "display_data"
    }
   ],
   "source": [
    "#plot the results\n",
    "score_evolution_plot(correct, ['Log_Prediction', 'XGB_Prediction', 'Tree_Prediction'], 'Accuracy Score Evolution')"
   ]
  },
  {
   "cell_type": "markdown",
   "id": "07cf63ba",
   "metadata": {},
   "source": [
    "# Part 2: NBA MVP predictions "
   ]
  },
  {
   "cell_type": "markdown",
   "id": "d1d4039f",
   "metadata": {},
   "source": [
    "We now aim to predict the NBA MVP for the seasons 2021 through 2023. To make the prediction, multiple modeling strategies were made use of, these being:\n",
    "- Treating the problem as a classification problem with classes *0* and *1* in the column *Rank*. The models employed for this were the naive Bayes and the random forest classifiers. \n",
    "- Approaching the prediction through a regression model by allowing all possible values in the column *Rank*.\n",
    "\n",
    "Throughout the following section, the algortithm *GridSearchCV* was employed to find appropiate model parameters. To avoid performance issues, we also used *RandomizedSearchCV*. \n",
    "\n",
    "Furthermore, in the regression approach, we made use the standard data scaling routine available in the *sklearn* library."
   ]
  },
  {
   "cell_type": "code",
   "execution_count": 901,
   "id": "0f4646a9",
   "metadata": {},
   "outputs": [],
   "source": [
    "#define feature and target datasets\n",
    "cols_mvp = [c for c in columns if c != 'Rank']\n",
    "\n",
    "#for the classification approach, we limit the column Rank to two classes, MVP and non-MVP\n",
    "X_mvp_clf = df_train.loc[df_train.Rank.isin([0,1]), cols_mvp]\n",
    "y_mvp_clf = df_train.loc[df_train.Rank.isin([0,1]),'Rank'].astype('int')\n",
    "\n",
    "#for the regression approach, we leave df_train untouched, only limiting columns\n",
    "X_mvp_reg = df_train[cols_mvp]\n",
    "y_mvp_reg = df_train.Rank.astype('int')"
   ]
  },
  {
   "cell_type": "markdown",
   "id": "ee4236d4",
   "metadata": {},
   "source": [
    "## Part 2.1: Classification Approach"
   ]
  },
  {
   "cell_type": "markdown",
   "id": "8a9a65d8",
   "metadata": {},
   "source": [
    "As mentioned above, the contents of this section are:\n",
    "- A modeling with naive Bayes. The results are, however, unsatisfactory, as the number of false positives is quite large, as indicated by the recall score,\n",
    "- A modeling with a random forest classifier. The model is able to predict the NBA MVP two out of three times, but also wrongly marks to addtional players as MVP.\n",
    "- As the random forest classifier showed somewhat promising results, we aim to optimize the model parameters via the *GridSearchCV* algorithm. The result is a significant improvement of the model, resulting in merely one false positive and one false negative. "
   ]
  },
  {
   "cell_type": "code",
   "execution_count": null,
   "id": "cda0d6be",
   "metadata": {},
   "outputs": [
    {
     "name": "stdout",
     "output_type": "stream",
     "text": [
      "Accuracy: 0.976\n",
      "Precision: 0.079\n",
      "Recall: 1.000\n",
      "F1 Score: 0.146\n"
     ]
    }
   ],
   "source": [
    "df_score = df_test.loc[df_test.Rank.isin([0,1])]\n",
    "\n",
    "#fit naive Bayes\n",
    "model_nb = GaussianNB().fit(X_mvp_clf, y_mvp_clf)\n",
    "\n",
    "#make predictions on test set\n",
    "y_pred = model_nb.predict(df_score[cols_mvp])\n",
    "\n",
    "#compute key metrics\n",
    "accuracy = accuracy_score(df_score['Rank'], y_pred)\n",
    "precision = precision_score(df_score['Rank'], y_pred)\n",
    "recall = recall_score(df_score['Rank'], y_pred)\n",
    "f1 = f1_score(df_score['Rank'], y_pred)\n",
    "\n",
    "#print results\n",
    "print(f\"Accuracy: {accuracy:.3f}\")\n",
    "print(f\"Precision: {precision:.3f}\")\n",
    "print(f\"Recall: {recall:.3f}\")\n",
    "print(f\"F1 Score: {f1:.3f}\")\n"
   ]
  },
  {
   "cell_type": "code",
   "execution_count": null,
   "id": "c6f9c4fa",
   "metadata": {},
   "outputs": [
    {
     "data": {
      "text/html": [
       "<div>\n",
       "<style scoped>\n",
       "    .dataframe tbody tr th:only-of-type {\n",
       "        vertical-align: middle;\n",
       "    }\n",
       "\n",
       "    .dataframe tbody tr th {\n",
       "        vertical-align: top;\n",
       "    }\n",
       "\n",
       "    .dataframe thead th {\n",
       "        text-align: right;\n",
       "    }\n",
       "</style>\n",
       "<table border=\"1\" class=\"dataframe\">\n",
       "  <thead>\n",
       "    <tr style=\"text-align: right;\">\n",
       "      <th></th>\n",
       "      <th>playerName</th>\n",
       "      <th>season</th>\n",
       "      <th>Age</th>\n",
       "      <th>team</th>\n",
       "      <th>G</th>\n",
       "      <th>MP</th>\n",
       "      <th>FG%</th>\n",
       "      <th>3P%</th>\n",
       "      <th>2P%</th>\n",
       "      <th>eFG%</th>\n",
       "      <th>...</th>\n",
       "      <th>TRB</th>\n",
       "      <th>AST</th>\n",
       "      <th>STL</th>\n",
       "      <th>BLK</th>\n",
       "      <th>TOV</th>\n",
       "      <th>PF</th>\n",
       "      <th>PTS</th>\n",
       "      <th>Rank</th>\n",
       "      <th>AllStar</th>\n",
       "      <th>NB_pred</th>\n",
       "    </tr>\n",
       "  </thead>\n",
       "  <tbody>\n",
       "    <tr>\n",
       "      <th>8016</th>\n",
       "      <td>LeBron James</td>\n",
       "      <td>2021.0</td>\n",
       "      <td>36.0</td>\n",
       "      <td>LAL</td>\n",
       "      <td>45.0</td>\n",
       "      <td>33.4</td>\n",
       "      <td>0.513</td>\n",
       "      <td>0.365</td>\n",
       "      <td>0.591</td>\n",
       "      <td>0.576</td>\n",
       "      <td>...</td>\n",
       "      <td>7.7</td>\n",
       "      <td>7.8</td>\n",
       "      <td>1.1</td>\n",
       "      <td>0.6</td>\n",
       "      <td>3.7</td>\n",
       "      <td>1.6</td>\n",
       "      <td>25.0</td>\n",
       "      <td>0</td>\n",
       "      <td>1.0</td>\n",
       "      <td>1</td>\n",
       "    </tr>\n",
       "    <tr>\n",
       "      <th>8017</th>\n",
       "      <td>Paul George</td>\n",
       "      <td>2021.0</td>\n",
       "      <td>30.0</td>\n",
       "      <td>LAC</td>\n",
       "      <td>54.0</td>\n",
       "      <td>33.7</td>\n",
       "      <td>0.467</td>\n",
       "      <td>0.411</td>\n",
       "      <td>0.510</td>\n",
       "      <td>0.557</td>\n",
       "      <td>...</td>\n",
       "      <td>6.6</td>\n",
       "      <td>5.2</td>\n",
       "      <td>1.1</td>\n",
       "      <td>0.4</td>\n",
       "      <td>3.3</td>\n",
       "      <td>2.4</td>\n",
       "      <td>23.3</td>\n",
       "      <td>0</td>\n",
       "      <td>1.0</td>\n",
       "      <td>1</td>\n",
       "    </tr>\n",
       "    <tr>\n",
       "      <th>8018</th>\n",
       "      <td>Mike Conley</td>\n",
       "      <td>2021.0</td>\n",
       "      <td>33.0</td>\n",
       "      <td>UTA</td>\n",
       "      <td>51.0</td>\n",
       "      <td>29.4</td>\n",
       "      <td>0.444</td>\n",
       "      <td>0.412</td>\n",
       "      <td>0.479</td>\n",
       "      <td>0.552</td>\n",
       "      <td>...</td>\n",
       "      <td>3.5</td>\n",
       "      <td>6.0</td>\n",
       "      <td>1.4</td>\n",
       "      <td>0.2</td>\n",
       "      <td>1.9</td>\n",
       "      <td>1.9</td>\n",
       "      <td>16.2</td>\n",
       "      <td>0</td>\n",
       "      <td>1.0</td>\n",
       "      <td>1</td>\n",
       "    </tr>\n",
       "    <tr>\n",
       "      <th>8020</th>\n",
       "      <td>Kawhi Leonard</td>\n",
       "      <td>2021.0</td>\n",
       "      <td>29.0</td>\n",
       "      <td>LAC</td>\n",
       "      <td>52.0</td>\n",
       "      <td>34.1</td>\n",
       "      <td>0.512</td>\n",
       "      <td>0.398</td>\n",
       "      <td>0.557</td>\n",
       "      <td>0.568</td>\n",
       "      <td>...</td>\n",
       "      <td>6.5</td>\n",
       "      <td>5.2</td>\n",
       "      <td>1.6</td>\n",
       "      <td>0.4</td>\n",
       "      <td>2.0</td>\n",
       "      <td>1.6</td>\n",
       "      <td>24.8</td>\n",
       "      <td>0</td>\n",
       "      <td>1.0</td>\n",
       "      <td>1</td>\n",
       "    </tr>\n",
       "    <tr>\n",
       "      <th>8033</th>\n",
       "      <td>Nikola Jokic</td>\n",
       "      <td>2021.0</td>\n",
       "      <td>25.0</td>\n",
       "      <td>DEN</td>\n",
       "      <td>72.0</td>\n",
       "      <td>34.6</td>\n",
       "      <td>0.566</td>\n",
       "      <td>0.388</td>\n",
       "      <td>0.606</td>\n",
       "      <td>0.602</td>\n",
       "      <td>...</td>\n",
       "      <td>10.8</td>\n",
       "      <td>8.3</td>\n",
       "      <td>1.3</td>\n",
       "      <td>0.7</td>\n",
       "      <td>3.1</td>\n",
       "      <td>2.7</td>\n",
       "      <td>26.4</td>\n",
       "      <td>1</td>\n",
       "      <td>1.0</td>\n",
       "      <td>1</td>\n",
       "    </tr>\n",
       "  </tbody>\n",
       "</table>\n",
       "<p>5 rows × 21 columns</p>\n",
       "</div>"
      ],
      "text/plain": [
       "         playerName  season   Age team     G    MP    FG%    3P%    2P%  \\\n",
       "8016   LeBron James  2021.0  36.0  LAL  45.0  33.4  0.513  0.365  0.591   \n",
       "8017    Paul George  2021.0  30.0  LAC  54.0  33.7  0.467  0.411  0.510   \n",
       "8018    Mike Conley  2021.0  33.0  UTA  51.0  29.4  0.444  0.412  0.479   \n",
       "8020  Kawhi Leonard  2021.0  29.0  LAC  52.0  34.1  0.512  0.398  0.557   \n",
       "8033   Nikola Jokic  2021.0  25.0  DEN  72.0  34.6  0.566  0.388  0.606   \n",
       "\n",
       "       eFG%  ...   TRB  AST  STL  BLK  TOV   PF   PTS  Rank  AllStar  NB_pred  \n",
       "8016  0.576  ...   7.7  7.8  1.1  0.6  3.7  1.6  25.0     0      1.0        1  \n",
       "8017  0.557  ...   6.6  5.2  1.1  0.4  3.3  2.4  23.3     0      1.0        1  \n",
       "8018  0.552  ...   3.5  6.0  1.4  0.2  1.9  1.9  16.2     0      1.0        1  \n",
       "8020  0.568  ...   6.5  5.2  1.6  0.4  2.0  1.6  24.8     0      1.0        1  \n",
       "8033  0.602  ...  10.8  8.3  1.3  0.7  3.1  2.7  26.4     1      1.0        1  \n",
       "\n",
       "[5 rows x 21 columns]"
      ]
     },
     "execution_count": 903,
     "metadata": {},
     "output_type": "execute_result"
    }
   ],
   "source": [
    "#show player predictions\n",
    "df_test_clf = df_test[df_test.Rank.isin([0,1])]\n",
    "df_test_clf.loc[:,['NB_pred']] = y_pred\n",
    "#as number of false positives is quite large, we limit the number of rows to 10\n",
    "df_test_clf[(df_test_clf.Rank == 1) | (df_test_clf.NB_pred == 1)].head(10)"
   ]
  },
  {
   "cell_type": "code",
   "execution_count": null,
   "id": "7c775038",
   "metadata": {},
   "outputs": [
    {
     "name": "stdout",
     "output_type": "stream",
     "text": [
      "Accuracy: 0.998\n",
      "Precision: 0.500\n",
      "Recall: 0.667\n",
      "F1 Score: 0.571\n"
     ]
    }
   ],
   "source": [
    "#fit random forest\n",
    "clf = RandomForestClassifier(max_depth=10)\n",
    "clf.fit(X_mvp_clf, y_mvp_clf)\n",
    "\n",
    "#make predictions on test set\n",
    "y_pred = clf.predict(df_score[cols_mvp])\n",
    "\n",
    "#compute key metrics\n",
    "accuracy = accuracy_score(df_score['Rank'], y_pred)\n",
    "precision = precision_score(df_score['Rank'], y_pred)\n",
    "recall = recall_score(df_score['Rank'], y_pred)\n",
    "f1 = f1_score(df_score['Rank'], y_pred)\n",
    "\n",
    "#print results\n",
    "print(f\"Accuracy: {accuracy:.3f}\")\n",
    "print(f\"Precision: {precision:.3f}\")\n",
    "print(f\"Recall: {recall:.3f}\")\n",
    "print(f\"F1 Score: {f1:.3f}\")"
   ]
  },
  {
   "cell_type": "code",
   "execution_count": null,
   "id": "02ac13a7",
   "metadata": {},
   "outputs": [
    {
     "data": {
      "text/html": [
       "<div>\n",
       "<style scoped>\n",
       "    .dataframe tbody tr th:only-of-type {\n",
       "        vertical-align: middle;\n",
       "    }\n",
       "\n",
       "    .dataframe tbody tr th {\n",
       "        vertical-align: top;\n",
       "    }\n",
       "\n",
       "    .dataframe thead th {\n",
       "        text-align: right;\n",
       "    }\n",
       "</style>\n",
       "<table border=\"1\" class=\"dataframe\">\n",
       "  <thead>\n",
       "    <tr style=\"text-align: right;\">\n",
       "      <th></th>\n",
       "      <th>playerName</th>\n",
       "      <th>season</th>\n",
       "      <th>Age</th>\n",
       "      <th>team</th>\n",
       "      <th>G</th>\n",
       "      <th>MP</th>\n",
       "      <th>FG%</th>\n",
       "      <th>3P%</th>\n",
       "      <th>2P%</th>\n",
       "      <th>eFG%</th>\n",
       "      <th>...</th>\n",
       "      <th>TRB</th>\n",
       "      <th>AST</th>\n",
       "      <th>STL</th>\n",
       "      <th>BLK</th>\n",
       "      <th>TOV</th>\n",
       "      <th>PF</th>\n",
       "      <th>PTS</th>\n",
       "      <th>Rank</th>\n",
       "      <th>AllStar</th>\n",
       "      <th>RFclf_pred</th>\n",
       "    </tr>\n",
       "  </thead>\n",
       "  <tbody>\n",
       "    <tr>\n",
       "      <th>8033</th>\n",
       "      <td>Nikola Jokic</td>\n",
       "      <td>2021.0</td>\n",
       "      <td>25.0</td>\n",
       "      <td>DEN</td>\n",
       "      <td>72.0</td>\n",
       "      <td>34.6</td>\n",
       "      <td>0.566</td>\n",
       "      <td>0.388</td>\n",
       "      <td>0.606</td>\n",
       "      <td>0.602</td>\n",
       "      <td>...</td>\n",
       "      <td>10.8</td>\n",
       "      <td>8.3</td>\n",
       "      <td>1.3</td>\n",
       "      <td>0.7</td>\n",
       "      <td>3.1</td>\n",
       "      <td>2.7</td>\n",
       "      <td>26.4</td>\n",
       "      <td>1</td>\n",
       "      <td>1.0</td>\n",
       "      <td>0</td>\n",
       "    </tr>\n",
       "    <tr>\n",
       "      <th>8499</th>\n",
       "      <td>LeBron James</td>\n",
       "      <td>2022.0</td>\n",
       "      <td>37.0</td>\n",
       "      <td>LAL</td>\n",
       "      <td>56.0</td>\n",
       "      <td>37.2</td>\n",
       "      <td>0.524</td>\n",
       "      <td>0.359</td>\n",
       "      <td>0.620</td>\n",
       "      <td>0.590</td>\n",
       "      <td>...</td>\n",
       "      <td>8.2</td>\n",
       "      <td>6.2</td>\n",
       "      <td>1.3</td>\n",
       "      <td>1.1</td>\n",
       "      <td>3.5</td>\n",
       "      <td>2.2</td>\n",
       "      <td>30.3</td>\n",
       "      <td>0</td>\n",
       "      <td>1.0</td>\n",
       "      <td>1</td>\n",
       "    </tr>\n",
       "    <tr>\n",
       "      <th>8521</th>\n",
       "      <td>Nikola Jokic</td>\n",
       "      <td>2022.0</td>\n",
       "      <td>26.0</td>\n",
       "      <td>DEN</td>\n",
       "      <td>74.0</td>\n",
       "      <td>33.5</td>\n",
       "      <td>0.583</td>\n",
       "      <td>0.337</td>\n",
       "      <td>0.652</td>\n",
       "      <td>0.620</td>\n",
       "      <td>...</td>\n",
       "      <td>13.8</td>\n",
       "      <td>7.9</td>\n",
       "      <td>1.5</td>\n",
       "      <td>0.9</td>\n",
       "      <td>3.8</td>\n",
       "      <td>2.6</td>\n",
       "      <td>27.1</td>\n",
       "      <td>1</td>\n",
       "      <td>1.0</td>\n",
       "      <td>1</td>\n",
       "    </tr>\n",
       "    <tr>\n",
       "      <th>9044</th>\n",
       "      <td>Damian Lillard</td>\n",
       "      <td>2023.0</td>\n",
       "      <td>32.0</td>\n",
       "      <td>POR</td>\n",
       "      <td>58.0</td>\n",
       "      <td>36.3</td>\n",
       "      <td>0.463</td>\n",
       "      <td>0.371</td>\n",
       "      <td>0.574</td>\n",
       "      <td>0.564</td>\n",
       "      <td>...</td>\n",
       "      <td>4.8</td>\n",
       "      <td>7.3</td>\n",
       "      <td>0.9</td>\n",
       "      <td>0.3</td>\n",
       "      <td>3.3</td>\n",
       "      <td>1.9</td>\n",
       "      <td>32.2</td>\n",
       "      <td>0</td>\n",
       "      <td>1.0</td>\n",
       "      <td>1</td>\n",
       "    </tr>\n",
       "    <tr>\n",
       "      <th>9062</th>\n",
       "      <td>Joel Embiid</td>\n",
       "      <td>2023.0</td>\n",
       "      <td>28.0</td>\n",
       "      <td>PHI</td>\n",
       "      <td>66.0</td>\n",
       "      <td>34.6</td>\n",
       "      <td>0.548</td>\n",
       "      <td>0.330</td>\n",
       "      <td>0.587</td>\n",
       "      <td>0.573</td>\n",
       "      <td>...</td>\n",
       "      <td>10.2</td>\n",
       "      <td>4.2</td>\n",
       "      <td>1.0</td>\n",
       "      <td>1.7</td>\n",
       "      <td>3.4</td>\n",
       "      <td>3.1</td>\n",
       "      <td>33.1</td>\n",
       "      <td>1</td>\n",
       "      <td>1.0</td>\n",
       "      <td>1</td>\n",
       "    </tr>\n",
       "  </tbody>\n",
       "</table>\n",
       "<p>5 rows × 21 columns</p>\n",
       "</div>"
      ],
      "text/plain": [
       "          playerName  season   Age team     G    MP    FG%    3P%    2P%  \\\n",
       "8033    Nikola Jokic  2021.0  25.0  DEN  72.0  34.6  0.566  0.388  0.606   \n",
       "8499    LeBron James  2022.0  37.0  LAL  56.0  37.2  0.524  0.359  0.620   \n",
       "8521    Nikola Jokic  2022.0  26.0  DEN  74.0  33.5  0.583  0.337  0.652   \n",
       "9044  Damian Lillard  2023.0  32.0  POR  58.0  36.3  0.463  0.371  0.574   \n",
       "9062     Joel Embiid  2023.0  28.0  PHI  66.0  34.6  0.548  0.330  0.587   \n",
       "\n",
       "       eFG%  ...   TRB  AST  STL  BLK  TOV   PF   PTS  Rank  AllStar  \\\n",
       "8033  0.602  ...  10.8  8.3  1.3  0.7  3.1  2.7  26.4     1      1.0   \n",
       "8499  0.590  ...   8.2  6.2  1.3  1.1  3.5  2.2  30.3     0      1.0   \n",
       "8521  0.620  ...  13.8  7.9  1.5  0.9  3.8  2.6  27.1     1      1.0   \n",
       "9044  0.564  ...   4.8  7.3  0.9  0.3  3.3  1.9  32.2     0      1.0   \n",
       "9062  0.573  ...  10.2  4.2  1.0  1.7  3.4  3.1  33.1     1      1.0   \n",
       "\n",
       "      RFclf_pred  \n",
       "8033           0  \n",
       "8499           1  \n",
       "8521           1  \n",
       "9044           1  \n",
       "9062           1  \n",
       "\n",
       "[5 rows x 21 columns]"
      ]
     },
     "execution_count": 905,
     "metadata": {},
     "output_type": "execute_result"
    }
   ],
   "source": [
    "#show player predictions\n",
    "df_test_clf = df_test[df_test.Rank.isin([0,1])]\n",
    "df_test_clf.loc[:,['RFclf_pred']] = y_pred\n",
    "df_test_clf[(df_test_clf.Rank == 1) | (df_test_clf.RFclf_pred == 1)]"
   ]
  },
  {
   "cell_type": "code",
   "execution_count": null,
   "id": "1dc8a85f",
   "metadata": {},
   "outputs": [],
   "source": [
    "#perform parameter optimization for random forest classifier\n",
    "clf = GridSearchCV(\n",
    "    RandomForestClassifier(class_weight='balanced'), \n",
    "    param_grid= {\n",
    "        'n_estimators' : [200, 300],\n",
    "        'max_depth' : [3,10,20],\n",
    "        'min_samples_leaf' : [10,15,20],\n",
    "    },\n",
    "    scoring='f1',\n",
    "    cv = RepeatedKFold(n_splits=5),\n",
    "    verbose=2,\n",
    "    n_jobs=-1\n",
    ")"
   ]
  },
  {
   "cell_type": "code",
   "execution_count": null,
   "id": "c37932b8",
   "metadata": {},
   "outputs": [
    {
     "name": "stdout",
     "output_type": "stream",
     "text": [
      "Accuracy: 0.999\n",
      "Precision: 0.667\n",
      "Recall: 0.667\n",
      "F1 Score: 0.667\n"
     ]
    }
   ],
   "source": [
    "#fit optimized RF model\n",
    "clf.fit(X_mvp_clf, y_mvp_clf)\n",
    "\n",
    "#make predictions on test set\n",
    "y_pred = clf.predict(df_score[cols_mvp])\n",
    "\n",
    "#compute key metrics\n",
    "accuracy = accuracy_score(df_score['Rank'], y_pred)\n",
    "precision = precision_score(df_score['Rank'], y_pred)\n",
    "recall = recall_score(df_score['Rank'], y_pred)\n",
    "f1 = f1_score(df_score['Rank'], y_pred)\n",
    "\n",
    "#print results\n",
    "print(f\"Accuracy: {accuracy:.3f}\")\n",
    "print(f\"Precision: {precision:.3f}\")\n",
    "print(f\"Recall: {recall:.3f}\")\n",
    "print(f\"F1 Score: {f1:.3f}\")"
   ]
  },
  {
   "cell_type": "code",
   "execution_count": null,
   "id": "35ae6fbb",
   "metadata": {},
   "outputs": [
    {
     "data": {
      "text/html": [
       "<div>\n",
       "<style scoped>\n",
       "    .dataframe tbody tr th:only-of-type {\n",
       "        vertical-align: middle;\n",
       "    }\n",
       "\n",
       "    .dataframe tbody tr th {\n",
       "        vertical-align: top;\n",
       "    }\n",
       "\n",
       "    .dataframe thead th {\n",
       "        text-align: right;\n",
       "    }\n",
       "</style>\n",
       "<table border=\"1\" class=\"dataframe\">\n",
       "  <thead>\n",
       "    <tr style=\"text-align: right;\">\n",
       "      <th></th>\n",
       "      <th>playerName</th>\n",
       "      <th>season</th>\n",
       "      <th>Age</th>\n",
       "      <th>team</th>\n",
       "      <th>G</th>\n",
       "      <th>MP</th>\n",
       "      <th>FG%</th>\n",
       "      <th>3P%</th>\n",
       "      <th>2P%</th>\n",
       "      <th>eFG%</th>\n",
       "      <th>...</th>\n",
       "      <th>TRB</th>\n",
       "      <th>AST</th>\n",
       "      <th>STL</th>\n",
       "      <th>BLK</th>\n",
       "      <th>TOV</th>\n",
       "      <th>PF</th>\n",
       "      <th>PTS</th>\n",
       "      <th>Rank</th>\n",
       "      <th>AllStar</th>\n",
       "      <th>Opt_RFclf_pred</th>\n",
       "    </tr>\n",
       "  </thead>\n",
       "  <tbody>\n",
       "    <tr>\n",
       "      <th>8033</th>\n",
       "      <td>Nikola Jokic</td>\n",
       "      <td>2021.0</td>\n",
       "      <td>25.0</td>\n",
       "      <td>DEN</td>\n",
       "      <td>72.0</td>\n",
       "      <td>34.6</td>\n",
       "      <td>0.566</td>\n",
       "      <td>0.388</td>\n",
       "      <td>0.606</td>\n",
       "      <td>0.602</td>\n",
       "      <td>...</td>\n",
       "      <td>10.8</td>\n",
       "      <td>8.3</td>\n",
       "      <td>1.3</td>\n",
       "      <td>0.7</td>\n",
       "      <td>3.1</td>\n",
       "      <td>2.7</td>\n",
       "      <td>26.4</td>\n",
       "      <td>1</td>\n",
       "      <td>1.0</td>\n",
       "      <td>0</td>\n",
       "    </tr>\n",
       "    <tr>\n",
       "      <th>8499</th>\n",
       "      <td>LeBron James</td>\n",
       "      <td>2022.0</td>\n",
       "      <td>37.0</td>\n",
       "      <td>LAL</td>\n",
       "      <td>56.0</td>\n",
       "      <td>37.2</td>\n",
       "      <td>0.524</td>\n",
       "      <td>0.359</td>\n",
       "      <td>0.620</td>\n",
       "      <td>0.590</td>\n",
       "      <td>...</td>\n",
       "      <td>8.2</td>\n",
       "      <td>6.2</td>\n",
       "      <td>1.3</td>\n",
       "      <td>1.1</td>\n",
       "      <td>3.5</td>\n",
       "      <td>2.2</td>\n",
       "      <td>30.3</td>\n",
       "      <td>0</td>\n",
       "      <td>1.0</td>\n",
       "      <td>1</td>\n",
       "    </tr>\n",
       "    <tr>\n",
       "      <th>8521</th>\n",
       "      <td>Nikola Jokic</td>\n",
       "      <td>2022.0</td>\n",
       "      <td>26.0</td>\n",
       "      <td>DEN</td>\n",
       "      <td>74.0</td>\n",
       "      <td>33.5</td>\n",
       "      <td>0.583</td>\n",
       "      <td>0.337</td>\n",
       "      <td>0.652</td>\n",
       "      <td>0.620</td>\n",
       "      <td>...</td>\n",
       "      <td>13.8</td>\n",
       "      <td>7.9</td>\n",
       "      <td>1.5</td>\n",
       "      <td>0.9</td>\n",
       "      <td>3.8</td>\n",
       "      <td>2.6</td>\n",
       "      <td>27.1</td>\n",
       "      <td>1</td>\n",
       "      <td>1.0</td>\n",
       "      <td>1</td>\n",
       "    </tr>\n",
       "    <tr>\n",
       "      <th>9062</th>\n",
       "      <td>Joel Embiid</td>\n",
       "      <td>2023.0</td>\n",
       "      <td>28.0</td>\n",
       "      <td>PHI</td>\n",
       "      <td>66.0</td>\n",
       "      <td>34.6</td>\n",
       "      <td>0.548</td>\n",
       "      <td>0.330</td>\n",
       "      <td>0.587</td>\n",
       "      <td>0.573</td>\n",
       "      <td>...</td>\n",
       "      <td>10.2</td>\n",
       "      <td>4.2</td>\n",
       "      <td>1.0</td>\n",
       "      <td>1.7</td>\n",
       "      <td>3.4</td>\n",
       "      <td>3.1</td>\n",
       "      <td>33.1</td>\n",
       "      <td>1</td>\n",
       "      <td>1.0</td>\n",
       "      <td>1</td>\n",
       "    </tr>\n",
       "  </tbody>\n",
       "</table>\n",
       "<p>4 rows × 21 columns</p>\n",
       "</div>"
      ],
      "text/plain": [
       "        playerName  season   Age team     G    MP    FG%    3P%    2P%   eFG%  \\\n",
       "8033  Nikola Jokic  2021.0  25.0  DEN  72.0  34.6  0.566  0.388  0.606  0.602   \n",
       "8499  LeBron James  2022.0  37.0  LAL  56.0  37.2  0.524  0.359  0.620  0.590   \n",
       "8521  Nikola Jokic  2022.0  26.0  DEN  74.0  33.5  0.583  0.337  0.652  0.620   \n",
       "9062   Joel Embiid  2023.0  28.0  PHI  66.0  34.6  0.548  0.330  0.587  0.573   \n",
       "\n",
       "      ...   TRB  AST  STL  BLK  TOV   PF   PTS  Rank  AllStar  Opt_RFclf_pred  \n",
       "8033  ...  10.8  8.3  1.3  0.7  3.1  2.7  26.4     1      1.0               0  \n",
       "8499  ...   8.2  6.2  1.3  1.1  3.5  2.2  30.3     0      1.0               1  \n",
       "8521  ...  13.8  7.9  1.5  0.9  3.8  2.6  27.1     1      1.0               1  \n",
       "9062  ...  10.2  4.2  1.0  1.7  3.4  3.1  33.1     1      1.0               1  \n",
       "\n",
       "[4 rows x 21 columns]"
      ]
     },
     "execution_count": 908,
     "metadata": {},
     "output_type": "execute_result"
    }
   ],
   "source": [
    "#show player predictions\n",
    "df_test_clf = df_test[df_test.Rank.isin([0,1])]\n",
    "df_test_clf.loc[:,['Opt_RFclf_pred']] = y_pred\n",
    "df_test_clf[(df_test_clf.Rank == 1) | (df_test_clf.Opt_RFclf_pred == 1)]"
   ]
  },
  {
   "cell_type": "markdown",
   "id": "67e611ae",
   "metadata": {},
   "source": [
    "## Part 2.2: Regression Approach"
   ]
  },
  {
   "cell_type": "markdown",
   "id": "7461cff6",
   "metadata": {},
   "source": [
    "In an effort to further improve the results delivered by using a classification approach, in the following section the predictions will be made with a regression model. To also improve model performance, we try to mitigate the inbalance between the *MVP* and *Non-MVP* classes by allowing all values in the *Rank* column.\n",
    "\n",
    "The chosen model for this task is XGBoost. The model however fails to make correct prediction of the MVP voting Rank, thus showing that the classification approach to this problem provides sigficantly better results. \n",
    "\n",
    "A possible approach for improving results would be to include more statistics relevant to the MVP voting, such as wins of each team or win-shares of each player. "
   ]
  },
  {
   "cell_type": "code",
   "execution_count": null,
   "id": "a4962fd1",
   "metadata": {},
   "outputs": [
    {
     "name": "stdout",
     "output_type": "stream",
     "text": [
      "Fitting 50 folds for each of 10 candidates, totalling 500 fits\n"
     ]
    },
    {
     "data": {
      "text/html": [
       "<style>#sk-container-id-10 {color: black;}#sk-container-id-10 pre{padding: 0;}#sk-container-id-10 div.sk-toggleable {background-color: white;}#sk-container-id-10 label.sk-toggleable__label {cursor: pointer;display: block;width: 100%;margin-bottom: 0;padding: 0.3em;box-sizing: border-box;text-align: center;}#sk-container-id-10 label.sk-toggleable__label-arrow:before {content: \"▸\";float: left;margin-right: 0.25em;color: #696969;}#sk-container-id-10 label.sk-toggleable__label-arrow:hover:before {color: black;}#sk-container-id-10 div.sk-estimator:hover label.sk-toggleable__label-arrow:before {color: black;}#sk-container-id-10 div.sk-toggleable__content {max-height: 0;max-width: 0;overflow: hidden;text-align: left;background-color: #f0f8ff;}#sk-container-id-10 div.sk-toggleable__content pre {margin: 0.2em;color: black;border-radius: 0.25em;background-color: #f0f8ff;}#sk-container-id-10 input.sk-toggleable__control:checked~div.sk-toggleable__content {max-height: 200px;max-width: 100%;overflow: auto;}#sk-container-id-10 input.sk-toggleable__control:checked~label.sk-toggleable__label-arrow:before {content: \"▾\";}#sk-container-id-10 div.sk-estimator input.sk-toggleable__control:checked~label.sk-toggleable__label {background-color: #d4ebff;}#sk-container-id-10 div.sk-label input.sk-toggleable__control:checked~label.sk-toggleable__label {background-color: #d4ebff;}#sk-container-id-10 input.sk-hidden--visually {border: 0;clip: rect(1px 1px 1px 1px);clip: rect(1px, 1px, 1px, 1px);height: 1px;margin: -1px;overflow: hidden;padding: 0;position: absolute;width: 1px;}#sk-container-id-10 div.sk-estimator {font-family: monospace;background-color: #f0f8ff;border: 1px dotted black;border-radius: 0.25em;box-sizing: border-box;margin-bottom: 0.5em;}#sk-container-id-10 div.sk-estimator:hover {background-color: #d4ebff;}#sk-container-id-10 div.sk-parallel-item::after {content: \"\";width: 100%;border-bottom: 1px solid gray;flex-grow: 1;}#sk-container-id-10 div.sk-label:hover label.sk-toggleable__label {background-color: #d4ebff;}#sk-container-id-10 div.sk-serial::before {content: \"\";position: absolute;border-left: 1px solid gray;box-sizing: border-box;top: 0;bottom: 0;left: 50%;z-index: 0;}#sk-container-id-10 div.sk-serial {display: flex;flex-direction: column;align-items: center;background-color: white;padding-right: 0.2em;padding-left: 0.2em;position: relative;}#sk-container-id-10 div.sk-item {position: relative;z-index: 1;}#sk-container-id-10 div.sk-parallel {display: flex;align-items: stretch;justify-content: center;background-color: white;position: relative;}#sk-container-id-10 div.sk-item::before, #sk-container-id-10 div.sk-parallel-item::before {content: \"\";position: absolute;border-left: 1px solid gray;box-sizing: border-box;top: 0;bottom: 0;left: 50%;z-index: -1;}#sk-container-id-10 div.sk-parallel-item {display: flex;flex-direction: column;z-index: 1;position: relative;background-color: white;}#sk-container-id-10 div.sk-parallel-item:first-child::after {align-self: flex-end;width: 50%;}#sk-container-id-10 div.sk-parallel-item:last-child::after {align-self: flex-start;width: 50%;}#sk-container-id-10 div.sk-parallel-item:only-child::after {width: 0;}#sk-container-id-10 div.sk-dashed-wrapped {border: 1px dashed gray;margin: 0 0.4em 0.5em 0.4em;box-sizing: border-box;padding-bottom: 0.4em;background-color: white;}#sk-container-id-10 div.sk-label label {font-family: monospace;font-weight: bold;display: inline-block;line-height: 1.2em;}#sk-container-id-10 div.sk-label-container {text-align: center;}#sk-container-id-10 div.sk-container {/* jupyter's `normalize.less` sets `[hidden] { display: none; }` but bootstrap.min.css set `[hidden] { display: none !important; }` so we also need the `!important` here to be able to override the default hidden behavior on the sphinx rendered scikit-learn.org. See: https://github.com/scikit-learn/scikit-learn/issues/21755 */display: inline-block !important;position: relative;}#sk-container-id-10 div.sk-text-repr-fallback {display: none;}</style><div id=\"sk-container-id-10\" class=\"sk-top-container\"><div class=\"sk-text-repr-fallback\"><pre>RandomizedSearchCV(cv=RepeatedKFold(n_repeats=10, n_splits=5, random_state=None),\n",
       "                   estimator=XGBRegressor(base_score=None, booster=None,\n",
       "                                          callbacks=None,\n",
       "                                          colsample_bylevel=None,\n",
       "                                          colsample_bynode=None,\n",
       "                                          colsample_bytree=None, device=None,\n",
       "                                          early_stopping_rounds=None,\n",
       "                                          enable_categorical=False,\n",
       "                                          eval_metric=None, feature_types=None,\n",
       "                                          feature_weights=None, gamma=None,\n",
       "                                          grow_...\n",
       "                                          max_cat_threshold=None,\n",
       "                                          max_cat_to_onehot=None,\n",
       "                                          max_delta_step=None, max_depth=None,\n",
       "                                          max_leaves=None,\n",
       "                                          min_child_weight=None, missing=nan,\n",
       "                                          monotone_constraints=None,\n",
       "                                          multi_strategy=None, n_estimators=100,\n",
       "                                          n_jobs=None, num_parallel_tree=None, ...),\n",
       "                   n_jobs=-1,\n",
       "                   param_distributions={&#x27;learning_rate&#x27;: [0.05, 0.1],\n",
       "                                        &#x27;max_depth&#x27;: [3, 6, 10],\n",
       "                                        &#x27;subsample&#x27;: [0.5, 0.25]},\n",
       "                   scoring=&#x27;r2&#x27;, verbose=2)</pre><b>In a Jupyter environment, please rerun this cell to show the HTML representation or trust the notebook. <br />On GitHub, the HTML representation is unable to render, please try loading this page with nbviewer.org.</b></div><div class=\"sk-container\" hidden><div class=\"sk-item sk-dashed-wrapped\"><div class=\"sk-label-container\"><div class=\"sk-label sk-toggleable\"><input class=\"sk-toggleable__control sk-hidden--visually\" id=\"sk-estimator-id-28\" type=\"checkbox\" ><label for=\"sk-estimator-id-28\" class=\"sk-toggleable__label sk-toggleable__label-arrow\">RandomizedSearchCV</label><div class=\"sk-toggleable__content\"><pre>RandomizedSearchCV(cv=RepeatedKFold(n_repeats=10, n_splits=5, random_state=None),\n",
       "                   estimator=XGBRegressor(base_score=None, booster=None,\n",
       "                                          callbacks=None,\n",
       "                                          colsample_bylevel=None,\n",
       "                                          colsample_bynode=None,\n",
       "                                          colsample_bytree=None, device=None,\n",
       "                                          early_stopping_rounds=None,\n",
       "                                          enable_categorical=False,\n",
       "                                          eval_metric=None, feature_types=None,\n",
       "                                          feature_weights=None, gamma=None,\n",
       "                                          grow_...\n",
       "                                          max_cat_threshold=None,\n",
       "                                          max_cat_to_onehot=None,\n",
       "                                          max_delta_step=None, max_depth=None,\n",
       "                                          max_leaves=None,\n",
       "                                          min_child_weight=None, missing=nan,\n",
       "                                          monotone_constraints=None,\n",
       "                                          multi_strategy=None, n_estimators=100,\n",
       "                                          n_jobs=None, num_parallel_tree=None, ...),\n",
       "                   n_jobs=-1,\n",
       "                   param_distributions={&#x27;learning_rate&#x27;: [0.05, 0.1],\n",
       "                                        &#x27;max_depth&#x27;: [3, 6, 10],\n",
       "                                        &#x27;subsample&#x27;: [0.5, 0.25]},\n",
       "                   scoring=&#x27;r2&#x27;, verbose=2)</pre></div></div></div><div class=\"sk-parallel\"><div class=\"sk-parallel-item\"><div class=\"sk-item\"><div class=\"sk-label-container\"><div class=\"sk-label sk-toggleable\"><input class=\"sk-toggleable__control sk-hidden--visually\" id=\"sk-estimator-id-29\" type=\"checkbox\" ><label for=\"sk-estimator-id-29\" class=\"sk-toggleable__label sk-toggleable__label-arrow\">estimator: XGBRegressor</label><div class=\"sk-toggleable__content\"><pre>XGBRegressor(base_score=None, booster=None, callbacks=None,\n",
       "             colsample_bylevel=None, colsample_bynode=None,\n",
       "             colsample_bytree=None, device=None, early_stopping_rounds=None,\n",
       "             enable_categorical=False, eval_metric=None, feature_types=None,\n",
       "             feature_weights=None, gamma=None, grow_policy=None,\n",
       "             importance_type=None, interaction_constraints=None,\n",
       "             learning_rate=None, max_bin=None, max_cat_threshold=None,\n",
       "             max_cat_to_onehot=None, max_delta_step=None, max_depth=None,\n",
       "             max_leaves=None, min_child_weight=None, missing=nan,\n",
       "             monotone_constraints=None, multi_strategy=None, n_estimators=100,\n",
       "             n_jobs=None, num_parallel_tree=None, ...)</pre></div></div></div><div class=\"sk-serial\"><div class=\"sk-item\"><div class=\"sk-estimator sk-toggleable\"><input class=\"sk-toggleable__control sk-hidden--visually\" id=\"sk-estimator-id-30\" type=\"checkbox\" ><label for=\"sk-estimator-id-30\" class=\"sk-toggleable__label sk-toggleable__label-arrow\">XGBRegressor</label><div class=\"sk-toggleable__content\"><pre>XGBRegressor(base_score=None, booster=None, callbacks=None,\n",
       "             colsample_bylevel=None, colsample_bynode=None,\n",
       "             colsample_bytree=None, device=None, early_stopping_rounds=None,\n",
       "             enable_categorical=False, eval_metric=None, feature_types=None,\n",
       "             feature_weights=None, gamma=None, grow_policy=None,\n",
       "             importance_type=None, interaction_constraints=None,\n",
       "             learning_rate=None, max_bin=None, max_cat_threshold=None,\n",
       "             max_cat_to_onehot=None, max_delta_step=None, max_depth=None,\n",
       "             max_leaves=None, min_child_weight=None, missing=nan,\n",
       "             monotone_constraints=None, multi_strategy=None, n_estimators=100,\n",
       "             n_jobs=None, num_parallel_tree=None, ...)</pre></div></div></div></div></div></div></div></div></div></div>"
      ],
      "text/plain": [
       "RandomizedSearchCV(cv=RepeatedKFold(n_repeats=10, n_splits=5, random_state=None),\n",
       "                   estimator=XGBRegressor(base_score=None, booster=None,\n",
       "                                          callbacks=None,\n",
       "                                          colsample_bylevel=None,\n",
       "                                          colsample_bynode=None,\n",
       "                                          colsample_bytree=None, device=None,\n",
       "                                          early_stopping_rounds=None,\n",
       "                                          enable_categorical=False,\n",
       "                                          eval_metric=None, feature_types=None,\n",
       "                                          feature_weights=None, gamma=None,\n",
       "                                          grow_...\n",
       "                                          max_cat_threshold=None,\n",
       "                                          max_cat_to_onehot=None,\n",
       "                                          max_delta_step=None, max_depth=None,\n",
       "                                          max_leaves=None,\n",
       "                                          min_child_weight=None, missing=nan,\n",
       "                                          monotone_constraints=None,\n",
       "                                          multi_strategy=None, n_estimators=100,\n",
       "                                          n_jobs=None, num_parallel_tree=None, ...),\n",
       "                   n_jobs=-1,\n",
       "                   param_distributions={'learning_rate': [0.05, 0.1],\n",
       "                                        'max_depth': [3, 6, 10],\n",
       "                                        'subsample': [0.5, 0.25]},\n",
       "                   scoring='r2', verbose=2)"
      ]
     },
     "execution_count": 910,
     "metadata": {},
     "output_type": "execute_result"
    }
   ],
   "source": [
    "#perform parameter optimization for XGBoost regressor\n",
    "clf = RandomizedSearchCV(\n",
    "    XGBRegressor(objective='reg:squarederror',n_estimators=100), \n",
    "    param_distributions= {\n",
    "        'subsample' : [0.5, 0.25],\n",
    "        'max_depth' : [3,6,10],\n",
    "        'learning_rate' : [0.05,0.1],\n",
    "    },\n",
    "    scoring='r2',\n",
    "    cv = RepeatedKFold(n_splits=5),\n",
    "    verbose=2,\n",
    "    n_jobs=-1\n",
    ")\n",
    "\n",
    "#fit model\n",
    "clf.fit(X_mvp_reg, y_mvp_reg)"
   ]
  },
  {
   "cell_type": "code",
   "execution_count": null,
   "id": "fd3f8ddd",
   "metadata": {},
   "outputs": [
    {
     "name": "stdout",
     "output_type": "stream",
     "text": [
      "MSE: 0.718\n",
      "R2 Score: 0.208\n"
     ]
    }
   ],
   "source": [
    "#make predictions on test set\n",
    "y_pred = clf.predict(df_test[cols_mvp])\n",
    "\n",
    "#calculate metrics\n",
    "mse = mean_squared_error(df_test['Rank'], y_pred)\n",
    "r2 = r2_score(df_test['Rank'], y_pred)\n",
    "\n",
    "#print results\n",
    "print(f\"MSE: {mse:.3f}\")\n",
    "print(f\"R2 Score: {r2:.3f}\")"
   ]
  },
  {
   "cell_type": "code",
   "execution_count": null,
   "id": "95c63f29",
   "metadata": {},
   "outputs": [
    {
     "data": {
      "text/html": [
       "<div>\n",
       "<style scoped>\n",
       "    .dataframe tbody tr th:only-of-type {\n",
       "        vertical-align: middle;\n",
       "    }\n",
       "\n",
       "    .dataframe tbody tr th {\n",
       "        vertical-align: top;\n",
       "    }\n",
       "\n",
       "    .dataframe thead th {\n",
       "        text-align: right;\n",
       "    }\n",
       "</style>\n",
       "<table border=\"1\" class=\"dataframe\">\n",
       "  <thead>\n",
       "    <tr style=\"text-align: right;\">\n",
       "      <th></th>\n",
       "      <th>playerName</th>\n",
       "      <th>season</th>\n",
       "      <th>Rank</th>\n",
       "      <th>XGB_pred_rank</th>\n",
       "    </tr>\n",
       "  </thead>\n",
       "  <tbody>\n",
       "    <tr>\n",
       "      <th>8033</th>\n",
       "      <td>Nikola Jokic</td>\n",
       "      <td>2021.0</td>\n",
       "      <td>1</td>\n",
       "      <td>1.0</td>\n",
       "    </tr>\n",
       "    <tr>\n",
       "      <th>8027</th>\n",
       "      <td>Damian Lillard</td>\n",
       "      <td>2021.0</td>\n",
       "      <td>7</td>\n",
       "      <td>2.0</td>\n",
       "    </tr>\n",
       "    <tr>\n",
       "      <th>8020</th>\n",
       "      <td>Kawhi Leonard</td>\n",
       "      <td>2021.0</td>\n",
       "      <td>0</td>\n",
       "      <td>3.0</td>\n",
       "    </tr>\n",
       "    <tr>\n",
       "      <th>8534</th>\n",
       "      <td>DeMar DeRozan</td>\n",
       "      <td>2022.0</td>\n",
       "      <td>0</td>\n",
       "      <td>1.0</td>\n",
       "    </tr>\n",
       "    <tr>\n",
       "      <th>8495</th>\n",
       "      <td>Stephen Curry</td>\n",
       "      <td>2022.0</td>\n",
       "      <td>8</td>\n",
       "      <td>2.0</td>\n",
       "    </tr>\n",
       "    <tr>\n",
       "      <th>8514</th>\n",
       "      <td>Karl-Anthony Towns</td>\n",
       "      <td>2022.0</td>\n",
       "      <td>0</td>\n",
       "      <td>3.0</td>\n",
       "    </tr>\n",
       "    <tr>\n",
       "      <th>9115</th>\n",
       "      <td>Lauri Markkanen</td>\n",
       "      <td>2023.0</td>\n",
       "      <td>0</td>\n",
       "      <td>1.0</td>\n",
       "    </tr>\n",
       "    <tr>\n",
       "      <th>9091</th>\n",
       "      <td>Domantas Sabonis</td>\n",
       "      <td>2023.0</td>\n",
       "      <td>7</td>\n",
       "      <td>2.0</td>\n",
       "    </tr>\n",
       "    <tr>\n",
       "      <th>9080</th>\n",
       "      <td>DeMar DeRozan</td>\n",
       "      <td>2023.0</td>\n",
       "      <td>0</td>\n",
       "      <td>3.0</td>\n",
       "    </tr>\n",
       "  </tbody>\n",
       "</table>\n",
       "</div>"
      ],
      "text/plain": [
       "              playerName  season  Rank  XGB_pred_rank\n",
       "8033        Nikola Jokic  2021.0     1            1.0\n",
       "8027      Damian Lillard  2021.0     7            2.0\n",
       "8020       Kawhi Leonard  2021.0     0            3.0\n",
       "8534       DeMar DeRozan  2022.0     0            1.0\n",
       "8495       Stephen Curry  2022.0     8            2.0\n",
       "8514  Karl-Anthony Towns  2022.0     0            3.0\n",
       "9115     Lauri Markkanen  2023.0     0            1.0\n",
       "9091    Domantas Sabonis  2023.0     7            2.0\n",
       "9080       DeMar DeRozan  2023.0     0            3.0"
      ]
     },
     "execution_count": 931,
     "metadata": {},
     "output_type": "execute_result"
    }
   ],
   "source": [
    "#show top player predictions\n",
    "df_test.loc[:,'XGB_pred'] = y_pred\n",
    "df_test.loc[:,'XGB_pred_rank'] = df_test.groupby(by='season')['XGB_pred'].rank(ascending=False, method='first')\n",
    "(df_test[df_test['XGB_pred_rank'].isin([1,2,3])]\n",
    "    .sort_values(by=['season', 'XGB_pred_rank'])\n",
    "    .loc[:,['playerName', 'season', 'Rank', 'XGB_pred_rank']]\n",
    ")"
   ]
  }
 ],
 "metadata": {
  "kernelspec": {
   "display_name": "base",
   "language": "python",
   "name": "python3"
  },
  "language_info": {
   "codemirror_mode": {
    "name": "ipython",
    "version": 3
   },
   "file_extension": ".py",
   "mimetype": "text/x-python",
   "name": "python",
   "nbconvert_exporter": "python",
   "pygments_lexer": "ipython3",
   "version": "3.11.5"
  }
 },
 "nbformat": 4,
 "nbformat_minor": 5
}
