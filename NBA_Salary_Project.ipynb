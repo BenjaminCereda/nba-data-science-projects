{
 "cells": [
  {
   "cell_type": "code",
   "execution_count": 105,
   "id": "7c8d47a9",
   "metadata": {},
   "outputs": [],
   "source": [
    "import pandas as pd\n",
    "import requests\n",
    "import numpy as np\n",
    "import unidecode\n",
    "from sklearn.linear_model import LinearRegression\n",
    "import plotly.graph_objects as go\n",
    "import plotly.express as px\n",
    "import seaborn as sns\n",
    "import json"
   ]
  },
  {
   "cell_type": "markdown",
   "id": "7c39d30e",
   "metadata": {},
   "source": [
    "# Part 0: A class to handle GraphQL queries"
   ]
  },
  {
   "cell_type": "code",
   "execution_count": 106,
   "id": "82abb1d7",
   "metadata": {},
   "outputs": [],
   "source": [
    "\n",
    "class GraphqlQuery:\n",
    "    def __init__(self, contents : dict[str : list[str]], url : str):\n",
    "        self._contents = {}\n",
    "        self.add(contents)\n",
    "        self.url = url\n",
    "    \n",
    "    #method to add further tables and/or columns to the current query\n",
    "    def add(self, new_contents : dict[str : list[str]]):\n",
    "        \n",
    "        #validate passed arguments\n",
    "        if not isinstance(new_contents, dict):\n",
    "            raise ValueError(\"Contents must be passed as dictionary\")\n",
    "        \n",
    "        for key, val in new_contents.items() :\n",
    "            if not isinstance(key, str):\n",
    "                raise ValueError(\"Table arguments must be passed as strings\")\n",
    "            if not isinstance(val, list):\n",
    "                raise ValueError(\"Set of columns must be a list\")\n",
    "            if not all(isinstance(column, str) for column in val):\n",
    "                raise ValueError(\"Column arguments must be passed as strings\")\n",
    "            \n",
    "        for table, columns in new_contents.items():\n",
    "            if table not in self._contents:\n",
    "                self._contents[table] = columns\n",
    "            else:\n",
    "                self._contents[table].extend(columns)\n",
    "\n",
    "    #property to store current contents od query in dict format\n",
    "    @property\n",
    "    def contents(self):\n",
    "        return self._contents\n",
    "    \n",
    "    #property to store finished query in graphql format\n",
    "    @property\n",
    "    def query(self):\n",
    "        query_str =  [\"query Myquery {\"]\n",
    "        for index, (table, columns) in enumerate(self._contents.items()):\n",
    "            subquery = []\n",
    "            subquery.append(table)\n",
    "            subquery.append('{')\n",
    "            subquery.extend(columns)\n",
    "            query_str.extend(subquery)\n",
    "            if index != 0: query_str +=\"}\"\n",
    "        query_str +=\"}}\"\n",
    "        \n",
    "        return \" \".join(query_str)\n",
    "    ''\n",
    "    def __str__(self):\n",
    "        return self._query\n",
    "     \n",
    "    @classmethod\n",
    "    def select(cls, contents : dict[str : list[str]]):\n",
    "        return cls(contents)\n",
    "\n",
    "    #method to perform get request to graphql api\n",
    "    def get_data(self):\n",
    "        body = {\"query\" : self.query}\n",
    "        try:\n",
    "            response = requests.post(self.url, json=body,timeout=180)\n",
    "            response.raise_for_status()\n",
    "            data = response.json()\n",
    "            return pd.json_normalize(data['data'][list(self._contents)[0]])\n",
    "        except Exception as e:\n",
    "                print(f\"Error fetching data: {e}\")\n"
   ]
  },
  {
   "cell_type": "markdown",
   "id": "791b700f",
   "metadata": {},
   "source": [
    "# Part 1: Salary Data Analysis"
   ]
  },
  {
   "cell_type": "markdown",
   "id": "3b4052af",
   "metadata": {},
   "source": [
    "### 1. Wrangling of player data"
   ]
  },
  {
   "cell_type": "markdown",
   "id": "ff121386",
   "metadata": {},
   "source": [
    "In this section the graphql API for NBA statistics is queried for player and team information via GraphqlQuery class. Additional data manipulation steps include:  \n",
    "- Elimination of unwanted characters and conversion of string formats in player names (e.g. change \"ć\" to \"c\") in order to avoid problems with merges.\n",
    "- Mapping of team abbreviations as these are not consistent in the API tables *teams* and *playerPerGame*.\n",
    "- Merging of both tables into one comprehensive dataframe containing all necessary information."
   ]
  },
  {
   "cell_type": "markdown",
   "id": "7344530b",
   "metadata": {},
   "source": [
    "***As of 20.10.2025, the GraphQL API stopped working. We are therefore forced to substitute the data therein by a flatfile, which was also downloaded from Kaggle.***\n",
    "\n",
    "The goal of this section, however, remains the same. That is, to create a single dataframe containing all necessary player statistics."
   ]
  },
  {
   "cell_type": "code",
   "execution_count": 107,
   "id": "c3478ddb",
   "metadata": {},
   "outputs": [],
   "source": [
    "# url = 'https://nbaapi.com/graphql/'\n",
    "\n",
    "# #set down tables and columns to query from nbaapi\n",
    "# query_teams = {\n",
    "#     'team' :\n",
    "#     ['teamName','teamAbbr', 'season', 'wins']\n",
    "#     }\n",
    "\n",
    "# query_players = {\n",
    "#     'playerPerGame' : \n",
    "#     ['playerName', 'team', 'age', 'season', 'games', 'minutesPg', 'points', 'ftPercent', 'assists', 'totalRb', 'steals', 'turnovers', 'blocks']\n",
    "#     }\n",
    "\n",
    "# #define Graphqlquery objects\n",
    "# player_data = GraphqlQuery(query_players, url)\n",
    "# team_data = GraphqlQuery(query_teams, url)\n",
    "\n",
    "# #get data from the api and store it in respective dataframes\n",
    "# player_stats = player_data.get_data()\n",
    "# team_stats = team_data.get_data()\n",
    "\n",
    "# #replace \"*\" and handle string format of player names\n",
    "# team_stats.teamName = team_stats.teamName.str.replace('*', '')\n",
    "\n",
    "# player_stats.playerName = player_stats.playerName.str.replace('*', '')\n",
    "# player_stats.playerName = player_stats.playerName.apply(unidecode.unidecode)\n",
    "\n",
    "# player_stats = player_stats[player_stats.team != 'TOT']\n",
    "\n",
    "# #set down team abbreviations that need to be changed\n",
    "# team_names = {\n",
    "#     'BRK' : 'NJN',\n",
    "#     'NOP' : 'NOH',\n",
    "#     'CHO' : 'CHA',\n",
    "#     'SEA' : 'OKC',\n",
    "#     'NOK' : 'CHA',\n",
    "#     'CHH' : 'CHA',\n",
    "#     'VAN' : 'MEM',\n",
    "#     'WSB' : 'WAS'\n",
    "# }\n",
    "# player_stats = player_stats.replace({'team' : team_names})\n",
    "\n",
    "# #merge player and team statistics into one dataframe\n",
    "# player_stats = player_stats.merge(\n",
    "#     team_stats,\n",
    "#     how='inner',\n",
    "#     left_on=['season', 'team'],\n",
    "#     right_on=['season', 'teamAbbr']\n",
    "# ).drop(['teamAbbr'], axis=1)\n",
    "\n",
    "# player_stats.head()"
   ]
  },
  {
   "cell_type": "code",
   "execution_count": 121,
   "id": "8965e8de",
   "metadata": {},
   "outputs": [
    {
     "data": {
      "text/html": [
       "<div>\n",
       "<style scoped>\n",
       "    .dataframe tbody tr th:only-of-type {\n",
       "        vertical-align: middle;\n",
       "    }\n",
       "\n",
       "    .dataframe tbody tr th {\n",
       "        vertical-align: top;\n",
       "    }\n",
       "\n",
       "    .dataframe thead th {\n",
       "        text-align: right;\n",
       "    }\n",
       "</style>\n",
       "<table border=\"1\" class=\"dataframe\">\n",
       "  <thead>\n",
       "    <tr style=\"text-align: right;\">\n",
       "      <th></th>\n",
       "      <th>season</th>\n",
       "      <th>playerName</th>\n",
       "      <th>age</th>\n",
       "      <th>team_abbr</th>\n",
       "      <th>games</th>\n",
       "      <th>minutesPg</th>\n",
       "      <th>ftPercent</th>\n",
       "      <th>totalRb</th>\n",
       "      <th>assists</th>\n",
       "      <th>steals</th>\n",
       "      <th>blocks</th>\n",
       "      <th>turnovers</th>\n",
       "      <th>points</th>\n",
       "    </tr>\n",
       "  </thead>\n",
       "  <tbody>\n",
       "    <tr>\n",
       "      <th>0</th>\n",
       "      <td>1982</td>\n",
       "      <td>Kareem Abdul-Jabbar</td>\n",
       "      <td>34</td>\n",
       "      <td>LAL</td>\n",
       "      <td>76</td>\n",
       "      <td>35.2</td>\n",
       "      <td>0.706</td>\n",
       "      <td>8.7</td>\n",
       "      <td>3.0</td>\n",
       "      <td>0.8</td>\n",
       "      <td>2.7</td>\n",
       "      <td>3.0</td>\n",
       "      <td>23.9</td>\n",
       "    </tr>\n",
       "    <tr>\n",
       "      <th>1</th>\n",
       "      <td>1982</td>\n",
       "      <td>Alvan Adams</td>\n",
       "      <td>27</td>\n",
       "      <td>PHO</td>\n",
       "      <td>79</td>\n",
       "      <td>30.3</td>\n",
       "      <td>0.781</td>\n",
       "      <td>7.4</td>\n",
       "      <td>4.5</td>\n",
       "      <td>1.4</td>\n",
       "      <td>1.0</td>\n",
       "      <td>2.5</td>\n",
       "      <td>15.1</td>\n",
       "    </tr>\n",
       "    <tr>\n",
       "      <th>2</th>\n",
       "      <td>1982</td>\n",
       "      <td>Mark Aguirre</td>\n",
       "      <td>22</td>\n",
       "      <td>DAL</td>\n",
       "      <td>51</td>\n",
       "      <td>28.8</td>\n",
       "      <td>0.680</td>\n",
       "      <td>4.9</td>\n",
       "      <td>3.2</td>\n",
       "      <td>0.7</td>\n",
       "      <td>0.4</td>\n",
       "      <td>2.6</td>\n",
       "      <td>18.7</td>\n",
       "    </tr>\n",
       "    <tr>\n",
       "      <th>3</th>\n",
       "      <td>1982</td>\n",
       "      <td>Danny Ainge</td>\n",
       "      <td>22</td>\n",
       "      <td>BOS</td>\n",
       "      <td>53</td>\n",
       "      <td>10.6</td>\n",
       "      <td>0.862</td>\n",
       "      <td>1.1</td>\n",
       "      <td>1.6</td>\n",
       "      <td>0.7</td>\n",
       "      <td>0.1</td>\n",
       "      <td>1.0</td>\n",
       "      <td>4.1</td>\n",
       "    </tr>\n",
       "    <tr>\n",
       "      <th>4</th>\n",
       "      <td>1982</td>\n",
       "      <td>Tiny Archibald</td>\n",
       "      <td>33</td>\n",
       "      <td>BOS</td>\n",
       "      <td>68</td>\n",
       "      <td>31.9</td>\n",
       "      <td>0.747</td>\n",
       "      <td>1.7</td>\n",
       "      <td>8.0</td>\n",
       "      <td>0.8</td>\n",
       "      <td>0.0</td>\n",
       "      <td>2.6</td>\n",
       "      <td>12.6</td>\n",
       "    </tr>\n",
       "  </tbody>\n",
       "</table>\n",
       "</div>"
      ],
      "text/plain": [
       "   season           playerName  age team_abbr  games  minutesPg  ftPercent  \\\n",
       "0    1982  Kareem Abdul-Jabbar   34       LAL     76       35.2      0.706   \n",
       "1    1982          Alvan Adams   27       PHO     79       30.3      0.781   \n",
       "2    1982         Mark Aguirre   22       DAL     51       28.8      0.680   \n",
       "3    1982          Danny Ainge   22       BOS     53       10.6      0.862   \n",
       "4    1982       Tiny Archibald   33       BOS     68       31.9      0.747   \n",
       "\n",
       "   totalRb  assists  steals  blocks  turnovers  points  \n",
       "0      8.7      3.0     0.8     2.7        3.0    23.9  \n",
       "1      7.4      4.5     1.4     1.0        2.5    15.1  \n",
       "2      4.9      3.2     0.7     0.4        2.6    18.7  \n",
       "3      1.1      1.6     0.7     0.1        1.0     4.1  \n",
       "4      1.7      8.0     0.8     0.0        2.6    12.6  "
      ]
     },
     "execution_count": 121,
     "metadata": {},
     "output_type": "execute_result"
    }
   ],
   "source": [
    "#read in alternative datasource and change column names to match the ones used in the rest of the code\n",
    "columns = ['season', 'player', 'team_id', 'age', 'g', 'mp_per_g', 'pts_per_g', 'ft_pct',\n",
    "           'ast_per_g', 'trb_per_g', 'stl_per_g', 'tov_per_g', 'blk_per_g']\n",
    "\n",
    "player_stats = pd.read_csv('NBA_Dataset.csv', usecols=columns)\n",
    "player_stats = player_stats.rename(columns=\n",
    "    {'player' : 'playerName',\n",
    "     'team_id' : 'team_abbr',\n",
    "     'g' : 'games', \n",
    "     'mp_per_g' : 'minutesPg', \n",
    "     'pts_per_g' : 'points', \n",
    "     'ft_pct' : 'ftPercent', \n",
    "     'ast_per_g' : 'assists', \n",
    "     'trb_per_g' : 'totalRb', \n",
    "     'stl_per_g' : 'steals', \n",
    "     'tov_per_g' : 'turnovers', \n",
    "     'blk_per_g' : 'blocks'\n",
    "    })\n",
    "\n",
    "player_stats.head()"
   ]
  },
  {
   "cell_type": "markdown",
   "id": "931e9efd",
   "metadata": {},
   "source": [
    "### 2. Wrangling of salary data"
   ]
  },
  {
   "cell_type": "markdown",
   "id": "9f5e9d11",
   "metadata": {},
   "source": [
    "The goal of this section is to read in salary data and bring it into an appropiate form.  \n",
    "Because the data was in part not complete, several data sources where needed. Consequently, some of data manipulation was necessary to merge the data into one single dataframe.  \n",
    "All of the data in this section was sourced from Kaggle.  \n",
    "  \n",
    "Steps taken:  \n",
    "- Processed salary data for the timeframes 2000 to 2025 and 1995 to 2018.\n",
    "- Because above datasets do not contain team names or team name abbreviations, got these from the graphQL API and added them.\n",
    "- Merged all data together to form one comprehensive dataframe containing salary data for all seasons from 1995 to 2025."
   ]
  },
  {
   "cell_type": "code",
   "execution_count": 109,
   "id": "a47b8579",
   "metadata": {},
   "outputs": [],
   "source": [
    "# Salary datasets do not contain both team names and abbreviations\n",
    "# we use our class to store these in dataframe and later map them\n",
    "\n",
    "# url = 'https://nbaapi.com/graphql/'\n",
    "\n",
    "# #call graphql class\n",
    "# team_names = GraphqlQuery(\n",
    "#     {'team' : ['teamName','teamAbbr']},\n",
    "#       url\n",
    "# )\n",
    "\n",
    "# #get data from api and prepare data for mapping of team names\n",
    "# team_names = team_names.get_data()\n",
    "# team_names.teamName = team_names.teamName.str.replace('*', '')\n",
    "# team_names = team_names.replace(\n",
    "#     {'teamAbbr' : {'NJN' : 'BRK','NOH' : 'NOP','CHA' : 'CHO'}}\n",
    "# )\n",
    "\n",
    "# #create dictionary for mapping\n",
    "# team_names_dict = (team_names.drop_duplicates(subset=['teamAbbr'])\n",
    "#                    .set_index('teamAbbr')['teamName'].to_dict())"
   ]
  },
  {
   "cell_type": "code",
   "execution_count": 110,
   "id": "f370fb88",
   "metadata": {},
   "outputs": [],
   "source": [
    "#both datasets contain different timeframes\n",
    "#we therefore use two datasets and concatenate them\n",
    "\n",
    "#read data, extract necessary timeframe and \n",
    "df_salary_2 = pd.read_csv(\"NBA Player Stats and Salaries_2000-2025.csv\", usecols=['Player', 'Year', 'Salary', 'Team'])\n",
    "df_salary_2 = df_salary_2[df_salary_2['Year'] > 2018]\n",
    "\n",
    "#furnish with team names using dictionary defined in previous cell\n",
    "#df_salary_2['TeamLong'] = df_salary_2['Team'].map(team_names_dict)\n",
    "\n",
    "#rename columns to match columns of df_salary in preparation of concatenation of both dataframes\n",
    "df_salary_2 = df_salary_2.rename(\n",
    "    columns={'Player': 'name', 'Salary' : 'salary', 'Year' : 'year', 'Team' : 'team_abbr', 'TeamLong' : 'team'}\n",
    ")\n"
   ]
  },
  {
   "cell_type": "code",
   "execution_count": 111,
   "id": "1980b122",
   "metadata": {},
   "outputs": [
    {
     "data": {
      "text/html": [
       "<div>\n",
       "<style scoped>\n",
       "    .dataframe tbody tr th:only-of-type {\n",
       "        vertical-align: middle;\n",
       "    }\n",
       "\n",
       "    .dataframe tbody tr th {\n",
       "        vertical-align: top;\n",
       "    }\n",
       "\n",
       "    .dataframe thead th {\n",
       "        text-align: right;\n",
       "    }\n",
       "</style>\n",
       "<table border=\"1\" class=\"dataframe\">\n",
       "  <thead>\n",
       "    <tr style=\"text-align: right;\">\n",
       "      <th></th>\n",
       "      <th>salary</th>\n",
       "      <th>year</th>\n",
       "      <th>team</th>\n",
       "      <th>name</th>\n",
       "      <th>team_abbr</th>\n",
       "    </tr>\n",
       "  </thead>\n",
       "  <tbody>\n",
       "    <tr>\n",
       "      <th>0</th>\n",
       "      <td>395000.0</td>\n",
       "      <td>1991.0</td>\n",
       "      <td>Portland Trail Blazers</td>\n",
       "      <td>Alaa Abdelnaby</td>\n",
       "      <td>NaN</td>\n",
       "    </tr>\n",
       "    <tr>\n",
       "      <th>1</th>\n",
       "      <td>494000.0</td>\n",
       "      <td>1992.0</td>\n",
       "      <td>Portland Trail Blazers</td>\n",
       "      <td>Alaa Abdelnaby</td>\n",
       "      <td>NaN</td>\n",
       "    </tr>\n",
       "    <tr>\n",
       "      <th>2</th>\n",
       "      <td>500000.0</td>\n",
       "      <td>1993.0</td>\n",
       "      <td>Boston Celtics</td>\n",
       "      <td>Alaa Abdelnaby</td>\n",
       "      <td>NaN</td>\n",
       "    </tr>\n",
       "    <tr>\n",
       "      <th>3</th>\n",
       "      <td>805000.0</td>\n",
       "      <td>1994.0</td>\n",
       "      <td>Boston Celtics</td>\n",
       "      <td>Alaa Abdelnaby</td>\n",
       "      <td>NaN</td>\n",
       "    </tr>\n",
       "    <tr>\n",
       "      <th>4</th>\n",
       "      <td>650000.0</td>\n",
       "      <td>1995.0</td>\n",
       "      <td>Sacramento Kings</td>\n",
       "      <td>Alaa Abdelnaby</td>\n",
       "      <td>NaN</td>\n",
       "    </tr>\n",
       "  </tbody>\n",
       "</table>\n",
       "</div>"
      ],
      "text/plain": [
       "     salary    year                    team            name team_abbr\n",
       "0  395000.0  1991.0  Portland Trail Blazers  Alaa Abdelnaby       NaN\n",
       "1  494000.0  1992.0  Portland Trail Blazers  Alaa Abdelnaby       NaN\n",
       "2  500000.0  1993.0          Boston Celtics  Alaa Abdelnaby       NaN\n",
       "3  805000.0  1994.0          Boston Celtics  Alaa Abdelnaby       NaN\n",
       "4  650000.0  1995.0        Sacramento Kings  Alaa Abdelnaby       NaN"
      ]
     },
     "execution_count": 111,
     "metadata": {},
     "output_type": "execute_result"
    }
   ],
   "source": [
    "#dataset consists of two database style sheets\n",
    "#we thus have to read both in and perform a merge\n",
    "\n",
    "df_salary_aux = pd.read_csv('players.csv', sep=',', usecols=['name', 'id'])\n",
    "df_salary = pd.read_csv('salaries_1985to2018.csv', usecols=['player_id', 'salary', 'season_end', 'team'])\n",
    "\n",
    "#perform aforementioned merge / join\n",
    "df_salary = df_salary.merge(\n",
    "    df_salary_aux,\n",
    "    how='outer',\n",
    "    left_on='player_id',\n",
    "    right_on='id'\n",
    ").drop(['player_id', 'id'], axis=1) #drop unnecessary colummns\n",
    "\n",
    "#Add team column with abbreviations by merging with team_names dataframe\n",
    "# df_salary = df_salary.merge(\n",
    "#     team_names.drop_duplicates(),\n",
    "#     how='left',\n",
    "#     left_on='team',\n",
    "#     right_on='teamName'\n",
    "# ).drop(['teamName'], axis=1)\n",
    "\n",
    "#Many rows contain no salary data, we drop these\n",
    "df_salary = df_salary[~df_salary.isna().any(axis=1)]\n",
    "\n",
    "#prepare columns for concatenation with second salary\n",
    "df_salary = df_salary.rename(columns={'season_end' : 'year', 'teamAbbr' : 'team_abbr'})\n",
    "\n",
    "#concatenation of both dataframes\n",
    "df_salary = pd.concat([df_salary, df_salary_2], axis=0).reset_index(drop=True)\n",
    "df_salary.head()"
   ]
  },
  {
   "cell_type": "markdown",
   "id": "435de7d1",
   "metadata": {},
   "source": [
    "### 3. Plot of salary evolution over the years"
   ]
  },
  {
   "cell_type": "markdown",
   "id": "4fa6cc5e",
   "metadata": {},
   "source": [
    "In this section the cleaned salary data is used for a first display.  \n",
    "This consists of a visualisation of the evolution of statistical indicators of the salaries of NBA players over the seasons.\n",
    "  \n",
    "In accordance with recent developments like the increase of NBA revenue via enormous TV deals, an increase in the mean compensation of NBA players can be observed. \n",
    "This is particularily the case for NBA stars, where the increase is much stronger than that of the mean salary. That this is not only the case for the highest payed player can be derived from the growth of standard deviation and the increasing distance between median and mean."
   ]
  },
  {
   "cell_type": "code",
   "execution_count": 112,
   "id": "94298400",
   "metadata": {},
   "outputs": [
    {
     "data": {
      "application/vnd.plotly.v1+json": {
       "config": {
        "plotlyServerURL": "https://plot.ly"
       },
       "data": [
        {
         "hovertemplate": "Season: %{x}<br>Mean: %{y}<extra></extra>",
         "mode": "lines+markers",
         "name": "Mean",
         "type": "scatter",
         "x": [
          1985,
          1986,
          1987,
          1988,
          1989,
          1990,
          1991,
          1992,
          1993,
          1994,
          1995,
          1996,
          1997,
          1998,
          1999,
          2000,
          2001,
          2002,
          2003,
          2004,
          2005,
          2006,
          2007,
          2008,
          2009,
          2010,
          2011,
          2012,
          2013,
          2014,
          2015,
          2016,
          2017,
          2018,
          2019,
          2020,
          2021,
          2022,
          2023,
          2024,
          2025
         ],
         "y": [
          400553.3980582524,
          370103.3952702703,
          543033.325,
          459204.31353135314,
          528010.9750778816,
          1670937.5,
          831623.2294617564,
          954346.2532299742,
          1061757.8712871287,
          1269884.1751269035,
          1360403.9114832536,
          1734345.3608247424,
          1935172.397094431,
          2121414.975225225,
          2456729.141203704,
          2498707.574144487,
          3236010.808189655,
          3395648.4836601308,
          3636157.9673202615,
          3650913.8558951966,
          3705739.5543933054,
          3839336.6720647775,
          3793015.5166340508,
          4244495.942386831,
          4581769.445859873,
          4476258.141949153,
          4334884.211991435,
          4289844.014957265,
          4239566.570564516,
          4865642.441463415,
          4018813.830570902,
          4441493.231499052,
          5282659.303956835,
          6011007.75862069,
          7039937.06013363,
          7710968.795402299,
          8709021.841237113,
          7641741.988888889,
          8924018.2248394,
          8861958.496957405,
          10455002.208588958
         ]
        },
        {
         "hovertemplate": "Season: %{x}<br>Median: %{y}<extra></extra>",
         "mode": "lines+markers",
         "name": "Median",
         "type": "scatter",
         "x": [
          1985,
          1986,
          1987,
          1988,
          1989,
          1990,
          1991,
          1992,
          1993,
          1994,
          1995,
          1996,
          1997,
          1998,
          1999,
          2000,
          2001,
          2002,
          2003,
          2004,
          2005,
          2006,
          2007,
          2008,
          2009,
          2010,
          2011,
          2012,
          2013,
          2014,
          2015,
          2016,
          2017,
          2018,
          2019,
          2020,
          2021,
          2022,
          2023,
          2024,
          2025
         ],
         "y": [
          302500,
          257500,
          495833.5,
          339250,
          380000,
          1500000,
          650000,
          750000,
          813500,
          1074000,
          1059750,
          1307000,
          1235000,
          1306620,
          1511500,
          1429360,
          2200000,
          2200000,
          2149259,
          1971605.5,
          2057460,
          2400513.5,
          2137200,
          2511456.5,
          2661027,
          2691000,
          2500000,
          2500000,
          2568720,
          3120151,
          2090000,
          2357760,
          2581020,
          2500000,
          3314365,
          3540000,
          3613225,
          2777011,
          3946434,
          3832636,
          5000000
         ]
        },
        {
         "hovertemplate": "Season: %{x}<br>Stand. Deviation: %{y}<extra></extra>",
         "mode": "lines+markers",
         "name": "Standard Deviation",
         "type": "scatter",
         "x": [
          1985,
          1986,
          1987,
          1988,
          1989,
          1990,
          1991,
          1992,
          1993,
          1994,
          1995,
          1996,
          1997,
          1998,
          1999,
          2000,
          2001,
          2002,
          2003,
          2004,
          2005,
          2006,
          2007,
          2008,
          2009,
          2010,
          2011,
          2012,
          2013,
          2014,
          2015,
          2016,
          2017,
          2018,
          2019,
          2020,
          2021,
          2022,
          2023,
          2024,
          2025
         ],
         "y": [
          345335.7850727483,
          340629.5448111433,
          385118.9170999995,
          410417.57835538266,
          471670.71168555255,
          646427.8369723093,
          660061.7027147368,
          800249.8664229935,
          876176.0553499837,
          977938.8774792553,
          1161800.1145514753,
          1675939.973610744,
          2465440.4714798895,
          2769253.970339086,
          2692681.345576777,
          3057339.7293824526,
          3467070.957169424,
          3688108.668603314,
          4034786.0406405474,
          4008431.8469371656,
          3954779.7667752975,
          4013707.402105734,
          4161748.247782729,
          4471519.107189352,
          4728000.260830135,
          4642577.589148275,
          4564574.140131517,
          4603913.714170119,
          4625241.993301912,
          4869137.778860139,
          4665747.326161541,
          5107775.898986164,
          6284701.909299682,
          7235439.298018429,
          8020512.890504463,
          8953889.952680368,
          11355735.07984513,
          10801261.14156986,
          11353689.136042926,
          11419102.425837915,
          12461579.005479686
         ]
        },
        {
         "customdata": [
          "Magic Johnson",
          "Magic Johnson",
          "Larry Bird",
          "Patrick Ewing",
          "Patrick Ewing",
          "Patrick Ewing",
          "Patrick Ewing",
          "Larry Bird",
          "David Robinson",
          "David Robinson",
          "David Robinson",
          "Patrick Ewing",
          "Michael Jordan",
          "Michael Jordan",
          "Patrick Ewing",
          "Shaquille O'Neal",
          "Kevin Garnett",
          "Kevin Garnett",
          "Kevin Garnett",
          "Kevin Garnett",
          "Shaquille O'Neal",
          "Shaquille O'Neal",
          "Kevin Garnett",
          "Kevin Garnett",
          "Kevin Garnett",
          "Tracy McGrady",
          "Kobe Bryant",
          "Kobe Bryant",
          "Kobe Bryant",
          "Kobe Bryant",
          "Kobe Bryant",
          "Kobe Bryant",
          "LeBron James",
          "Stephen Curry",
          "Stephen Curry",
          "Stephen Curry",
          "Stephen Curry",
          "Stephen Curry",
          "Stephen Curry",
          "Stephen Curry",
          "Stephen Curry"
         ],
         "hovertemplate": "Season: %{x}<br>Max salary: %{y}<br>Player: %{customdata}<br><extra></extra>",
         "mode": "lines+markers",
         "name": "Max",
         "type": "scatter",
         "x": [
          1985,
          1986,
          1987,
          1988,
          1989,
          1990,
          1991,
          1992,
          1993,
          1994,
          1995,
          1996,
          1997,
          1998,
          1999,
          2000,
          2001,
          2002,
          2003,
          2004,
          2005,
          2006,
          2007,
          2008,
          2009,
          2010,
          2011,
          2012,
          2013,
          2014,
          2015,
          2016,
          2017,
          2018,
          2019,
          2020,
          2021,
          2022,
          2023,
          2024,
          2025
         ],
         "y": [
          2500000,
          2500000,
          1800000,
          2750000,
          3250000,
          3750000,
          4250000,
          7070000,
          5720000,
          5740000,
          7300000,
          18724000,
          30140000,
          33140000,
          18500000,
          17142858,
          19610000,
          22400000,
          25200000,
          28000000,
          27696430,
          20000000,
          21000000,
          23750000,
          24751934,
          23239562,
          24806250,
          25244493,
          27849149,
          30453805,
          23500000,
          25000000,
          30963450,
          34682550,
          37457154,
          40231758,
          52411485,
          52938707,
          50968059,
          53458234,
          55761216
         ]
        }
       ],
       "layout": {
        "hovermode": "closest",
        "template": {
         "data": {
          "bar": [
           {
            "error_x": {
             "color": "#2a3f5f"
            },
            "error_y": {
             "color": "#2a3f5f"
            },
            "marker": {
             "line": {
              "color": "#E5ECF6",
              "width": 0.5
             },
             "pattern": {
              "fillmode": "overlay",
              "size": 10,
              "solidity": 0.2
             }
            },
            "type": "bar"
           }
          ],
          "barpolar": [
           {
            "marker": {
             "line": {
              "color": "#E5ECF6",
              "width": 0.5
             },
             "pattern": {
              "fillmode": "overlay",
              "size": 10,
              "solidity": 0.2
             }
            },
            "type": "barpolar"
           }
          ],
          "carpet": [
           {
            "aaxis": {
             "endlinecolor": "#2a3f5f",
             "gridcolor": "white",
             "linecolor": "white",
             "minorgridcolor": "white",
             "startlinecolor": "#2a3f5f"
            },
            "baxis": {
             "endlinecolor": "#2a3f5f",
             "gridcolor": "white",
             "linecolor": "white",
             "minorgridcolor": "white",
             "startlinecolor": "#2a3f5f"
            },
            "type": "carpet"
           }
          ],
          "choropleth": [
           {
            "colorbar": {
             "outlinewidth": 0,
             "ticks": ""
            },
            "type": "choropleth"
           }
          ],
          "contour": [
           {
            "colorbar": {
             "outlinewidth": 0,
             "ticks": ""
            },
            "colorscale": [
             [
              0,
              "#0d0887"
             ],
             [
              0.1111111111111111,
              "#46039f"
             ],
             [
              0.2222222222222222,
              "#7201a8"
             ],
             [
              0.3333333333333333,
              "#9c179e"
             ],
             [
              0.4444444444444444,
              "#bd3786"
             ],
             [
              0.5555555555555556,
              "#d8576b"
             ],
             [
              0.6666666666666666,
              "#ed7953"
             ],
             [
              0.7777777777777778,
              "#fb9f3a"
             ],
             [
              0.8888888888888888,
              "#fdca26"
             ],
             [
              1,
              "#f0f921"
             ]
            ],
            "type": "contour"
           }
          ],
          "contourcarpet": [
           {
            "colorbar": {
             "outlinewidth": 0,
             "ticks": ""
            },
            "type": "contourcarpet"
           }
          ],
          "heatmap": [
           {
            "colorbar": {
             "outlinewidth": 0,
             "ticks": ""
            },
            "colorscale": [
             [
              0,
              "#0d0887"
             ],
             [
              0.1111111111111111,
              "#46039f"
             ],
             [
              0.2222222222222222,
              "#7201a8"
             ],
             [
              0.3333333333333333,
              "#9c179e"
             ],
             [
              0.4444444444444444,
              "#bd3786"
             ],
             [
              0.5555555555555556,
              "#d8576b"
             ],
             [
              0.6666666666666666,
              "#ed7953"
             ],
             [
              0.7777777777777778,
              "#fb9f3a"
             ],
             [
              0.8888888888888888,
              "#fdca26"
             ],
             [
              1,
              "#f0f921"
             ]
            ],
            "type": "heatmap"
           }
          ],
          "heatmapgl": [
           {
            "colorbar": {
             "outlinewidth": 0,
             "ticks": ""
            },
            "colorscale": [
             [
              0,
              "#0d0887"
             ],
             [
              0.1111111111111111,
              "#46039f"
             ],
             [
              0.2222222222222222,
              "#7201a8"
             ],
             [
              0.3333333333333333,
              "#9c179e"
             ],
             [
              0.4444444444444444,
              "#bd3786"
             ],
             [
              0.5555555555555556,
              "#d8576b"
             ],
             [
              0.6666666666666666,
              "#ed7953"
             ],
             [
              0.7777777777777778,
              "#fb9f3a"
             ],
             [
              0.8888888888888888,
              "#fdca26"
             ],
             [
              1,
              "#f0f921"
             ]
            ],
            "type": "heatmapgl"
           }
          ],
          "histogram": [
           {
            "marker": {
             "pattern": {
              "fillmode": "overlay",
              "size": 10,
              "solidity": 0.2
             }
            },
            "type": "histogram"
           }
          ],
          "histogram2d": [
           {
            "colorbar": {
             "outlinewidth": 0,
             "ticks": ""
            },
            "colorscale": [
             [
              0,
              "#0d0887"
             ],
             [
              0.1111111111111111,
              "#46039f"
             ],
             [
              0.2222222222222222,
              "#7201a8"
             ],
             [
              0.3333333333333333,
              "#9c179e"
             ],
             [
              0.4444444444444444,
              "#bd3786"
             ],
             [
              0.5555555555555556,
              "#d8576b"
             ],
             [
              0.6666666666666666,
              "#ed7953"
             ],
             [
              0.7777777777777778,
              "#fb9f3a"
             ],
             [
              0.8888888888888888,
              "#fdca26"
             ],
             [
              1,
              "#f0f921"
             ]
            ],
            "type": "histogram2d"
           }
          ],
          "histogram2dcontour": [
           {
            "colorbar": {
             "outlinewidth": 0,
             "ticks": ""
            },
            "colorscale": [
             [
              0,
              "#0d0887"
             ],
             [
              0.1111111111111111,
              "#46039f"
             ],
             [
              0.2222222222222222,
              "#7201a8"
             ],
             [
              0.3333333333333333,
              "#9c179e"
             ],
             [
              0.4444444444444444,
              "#bd3786"
             ],
             [
              0.5555555555555556,
              "#d8576b"
             ],
             [
              0.6666666666666666,
              "#ed7953"
             ],
             [
              0.7777777777777778,
              "#fb9f3a"
             ],
             [
              0.8888888888888888,
              "#fdca26"
             ],
             [
              1,
              "#f0f921"
             ]
            ],
            "type": "histogram2dcontour"
           }
          ],
          "mesh3d": [
           {
            "colorbar": {
             "outlinewidth": 0,
             "ticks": ""
            },
            "type": "mesh3d"
           }
          ],
          "parcoords": [
           {
            "line": {
             "colorbar": {
              "outlinewidth": 0,
              "ticks": ""
             }
            },
            "type": "parcoords"
           }
          ],
          "pie": [
           {
            "automargin": true,
            "type": "pie"
           }
          ],
          "scatter": [
           {
            "fillpattern": {
             "fillmode": "overlay",
             "size": 10,
             "solidity": 0.2
            },
            "type": "scatter"
           }
          ],
          "scatter3d": [
           {
            "line": {
             "colorbar": {
              "outlinewidth": 0,
              "ticks": ""
             }
            },
            "marker": {
             "colorbar": {
              "outlinewidth": 0,
              "ticks": ""
             }
            },
            "type": "scatter3d"
           }
          ],
          "scattercarpet": [
           {
            "marker": {
             "colorbar": {
              "outlinewidth": 0,
              "ticks": ""
             }
            },
            "type": "scattercarpet"
           }
          ],
          "scattergeo": [
           {
            "marker": {
             "colorbar": {
              "outlinewidth": 0,
              "ticks": ""
             }
            },
            "type": "scattergeo"
           }
          ],
          "scattergl": [
           {
            "marker": {
             "colorbar": {
              "outlinewidth": 0,
              "ticks": ""
             }
            },
            "type": "scattergl"
           }
          ],
          "scattermapbox": [
           {
            "marker": {
             "colorbar": {
              "outlinewidth": 0,
              "ticks": ""
             }
            },
            "type": "scattermapbox"
           }
          ],
          "scatterpolar": [
           {
            "marker": {
             "colorbar": {
              "outlinewidth": 0,
              "ticks": ""
             }
            },
            "type": "scatterpolar"
           }
          ],
          "scatterpolargl": [
           {
            "marker": {
             "colorbar": {
              "outlinewidth": 0,
              "ticks": ""
             }
            },
            "type": "scatterpolargl"
           }
          ],
          "scatterternary": [
           {
            "marker": {
             "colorbar": {
              "outlinewidth": 0,
              "ticks": ""
             }
            },
            "type": "scatterternary"
           }
          ],
          "surface": [
           {
            "colorbar": {
             "outlinewidth": 0,
             "ticks": ""
            },
            "colorscale": [
             [
              0,
              "#0d0887"
             ],
             [
              0.1111111111111111,
              "#46039f"
             ],
             [
              0.2222222222222222,
              "#7201a8"
             ],
             [
              0.3333333333333333,
              "#9c179e"
             ],
             [
              0.4444444444444444,
              "#bd3786"
             ],
             [
              0.5555555555555556,
              "#d8576b"
             ],
             [
              0.6666666666666666,
              "#ed7953"
             ],
             [
              0.7777777777777778,
              "#fb9f3a"
             ],
             [
              0.8888888888888888,
              "#fdca26"
             ],
             [
              1,
              "#f0f921"
             ]
            ],
            "type": "surface"
           }
          ],
          "table": [
           {
            "cells": {
             "fill": {
              "color": "#EBF0F8"
             },
             "line": {
              "color": "white"
             }
            },
            "header": {
             "fill": {
              "color": "#C8D4E3"
             },
             "line": {
              "color": "white"
             }
            },
            "type": "table"
           }
          ]
         },
         "layout": {
          "annotationdefaults": {
           "arrowcolor": "#2a3f5f",
           "arrowhead": 0,
           "arrowwidth": 1
          },
          "autotypenumbers": "strict",
          "coloraxis": {
           "colorbar": {
            "outlinewidth": 0,
            "ticks": ""
           }
          },
          "colorscale": {
           "diverging": [
            [
             0,
             "#8e0152"
            ],
            [
             0.1,
             "#c51b7d"
            ],
            [
             0.2,
             "#de77ae"
            ],
            [
             0.3,
             "#f1b6da"
            ],
            [
             0.4,
             "#fde0ef"
            ],
            [
             0.5,
             "#f7f7f7"
            ],
            [
             0.6,
             "#e6f5d0"
            ],
            [
             0.7,
             "#b8e186"
            ],
            [
             0.8,
             "#7fbc41"
            ],
            [
             0.9,
             "#4d9221"
            ],
            [
             1,
             "#276419"
            ]
           ],
           "sequential": [
            [
             0,
             "#0d0887"
            ],
            [
             0.1111111111111111,
             "#46039f"
            ],
            [
             0.2222222222222222,
             "#7201a8"
            ],
            [
             0.3333333333333333,
             "#9c179e"
            ],
            [
             0.4444444444444444,
             "#bd3786"
            ],
            [
             0.5555555555555556,
             "#d8576b"
            ],
            [
             0.6666666666666666,
             "#ed7953"
            ],
            [
             0.7777777777777778,
             "#fb9f3a"
            ],
            [
             0.8888888888888888,
             "#fdca26"
            ],
            [
             1,
             "#f0f921"
            ]
           ],
           "sequentialminus": [
            [
             0,
             "#0d0887"
            ],
            [
             0.1111111111111111,
             "#46039f"
            ],
            [
             0.2222222222222222,
             "#7201a8"
            ],
            [
             0.3333333333333333,
             "#9c179e"
            ],
            [
             0.4444444444444444,
             "#bd3786"
            ],
            [
             0.5555555555555556,
             "#d8576b"
            ],
            [
             0.6666666666666666,
             "#ed7953"
            ],
            [
             0.7777777777777778,
             "#fb9f3a"
            ],
            [
             0.8888888888888888,
             "#fdca26"
            ],
            [
             1,
             "#f0f921"
            ]
           ]
          },
          "colorway": [
           "#636efa",
           "#EF553B",
           "#00cc96",
           "#ab63fa",
           "#FFA15A",
           "#19d3f3",
           "#FF6692",
           "#B6E880",
           "#FF97FF",
           "#FECB52"
          ],
          "font": {
           "color": "#2a3f5f"
          },
          "geo": {
           "bgcolor": "white",
           "lakecolor": "white",
           "landcolor": "#E5ECF6",
           "showlakes": true,
           "showland": true,
           "subunitcolor": "white"
          },
          "hoverlabel": {
           "align": "left"
          },
          "hovermode": "closest",
          "mapbox": {
           "style": "light"
          },
          "paper_bgcolor": "white",
          "plot_bgcolor": "#E5ECF6",
          "polar": {
           "angularaxis": {
            "gridcolor": "white",
            "linecolor": "white",
            "ticks": ""
           },
           "bgcolor": "#E5ECF6",
           "radialaxis": {
            "gridcolor": "white",
            "linecolor": "white",
            "ticks": ""
           }
          },
          "scene": {
           "xaxis": {
            "backgroundcolor": "#E5ECF6",
            "gridcolor": "white",
            "gridwidth": 2,
            "linecolor": "white",
            "showbackground": true,
            "ticks": "",
            "zerolinecolor": "white"
           },
           "yaxis": {
            "backgroundcolor": "#E5ECF6",
            "gridcolor": "white",
            "gridwidth": 2,
            "linecolor": "white",
            "showbackground": true,
            "ticks": "",
            "zerolinecolor": "white"
           },
           "zaxis": {
            "backgroundcolor": "#E5ECF6",
            "gridcolor": "white",
            "gridwidth": 2,
            "linecolor": "white",
            "showbackground": true,
            "ticks": "",
            "zerolinecolor": "white"
           }
          },
          "shapedefaults": {
           "line": {
            "color": "#2a3f5f"
           }
          },
          "ternary": {
           "aaxis": {
            "gridcolor": "white",
            "linecolor": "white",
            "ticks": ""
           },
           "baxis": {
            "gridcolor": "white",
            "linecolor": "white",
            "ticks": ""
           },
           "bgcolor": "#E5ECF6",
           "caxis": {
            "gridcolor": "white",
            "linecolor": "white",
            "ticks": ""
           }
          },
          "title": {
           "x": 0.05
          },
          "xaxis": {
           "automargin": true,
           "gridcolor": "white",
           "linecolor": "white",
           "ticks": "",
           "title": {
            "standoff": 15
           },
           "zerolinecolor": "white",
           "zerolinewidth": 2
          },
          "yaxis": {
           "automargin": true,
           "gridcolor": "white",
           "linecolor": "white",
           "ticks": "",
           "title": {
            "standoff": 15
           },
           "zerolinecolor": "white",
           "zerolinewidth": 2
          }
         }
        },
        "title": {
         "text": "Salary trends"
        },
        "xaxis": {
         "title": {
          "text": "Season"
         }
        },
        "yaxis": {
         "title": {
          "text": "Salary"
         }
        }
       }
      }
     },
     "metadata": {},
     "output_type": "display_data"
    }
   ],
   "source": [
    "#aggregate stats per season and sort\n",
    "salary_stats = (df_salary\n",
    "                .groupby('year')['salary']\n",
    "                .agg(['mean', 'median', 'min', 'max', 'std'])\n",
    "                .reset_index()\n",
    "                .sort_values('year'))\n",
    "\n",
    "#find the row index of the max salary per season, then get necessary columns\n",
    "idx = df_salary.groupby('year')['salary'].idxmax()\n",
    "max_players = (df_salary.loc[idx, ['year', 'name', 'salary', 'team_abbr']]\n",
    "               .set_index('year')\n",
    "               .sort_index())\n",
    "\n",
    "#do the same for players with min salary per season\n",
    "idx = df_salary.groupby('year')['salary'].idxmin()\n",
    "min_players = (df_salary.loc[idx, ['year', 'name', 'salary', 'team_abbr']]\n",
    "               .set_index('year')\n",
    "               .sort_index())\n",
    "\n",
    "#align both frames by year\n",
    "salary_stats = salary_stats.set_index('year')\n",
    "max_players = max_players.reindex(salary_stats.index)\n",
    "min_players = min_players.reindex(salary_stats.index)\n",
    "\n",
    "#build graph\n",
    "fig = go.Figure()\n",
    "fig.add_trace(go.Scatter(x=salary_stats.index,\n",
    "                         y=salary_stats['mean'],\n",
    "                         mode='lines+markers',\n",
    "                         name='Mean',\n",
    "                         hovertemplate='Season: %{x}<br>Mean: %{y}<extra></extra>'))#\n",
    "\n",
    "fig.add_trace(go.Scatter(x=salary_stats.index,\n",
    "                         y=salary_stats['median'],\n",
    "                         mode='lines+markers',\n",
    "                         name='Median',\n",
    "                         hovertemplate='Season: %{x}<br>Median: %{y}<extra></extra>'))\n",
    "\n",
    "fig.add_trace(go.Scatter(x=salary_stats.index,\n",
    "                         y=salary_stats['std'],\n",
    "                         mode='lines+markers',\n",
    "                         name='Standard Deviation',\n",
    "                         hovertemplate='Season: %{x}<br>Stand. Deviation: %{y}<extra></extra>'))\n",
    "\n",
    "# fig.add_trace(go.Scatter(x=salary_stats.index,\n",
    "#                          y=salary_stats['min'],\n",
    "#                          text=min_players['name'].to_list(),\n",
    "#                          mode='lines+markers',\n",
    "#                          name='Min',\n",
    "#                          customdata=list(zip(min_players['name'], min_players['team_abbr'])),\n",
    "#                          hovertemplate='Season: %{x}<br>Min salary: %{y}<br>Player: %{customdata[0]}<br>Team: %{customdata[1]}<extra></extra>'))\n",
    "\n",
    "fig.add_trace(go.Scatter(x=salary_stats.index,\n",
    "                         y=salary_stats['max'],\n",
    "                         mode='lines+markers',\n",
    "                         name='Max',\n",
    "                         #20251022_Begin: due to API being down\n",
    "                         #  customdata = list(zip(max_players['name'], max_players['team_abbr'])),  # per-point player name\n",
    "                         #  hovertemplate='Season: %{x}<br>Max salary: %{y}<br>Player: %{customdata[0]}<br>Team: %{customdata[1]}<extra></extra>'))\n",
    "                         customdata = max_players['name'],  # per-point player name\n",
    "                         hovertemplate='Season: %{x}<br>Max salary: %{y}<br>Player: %{customdata}<br><extra></extra>'))\n",
    "                         #20251022_Begin\n",
    "\n",
    "fig.update_layout(title='Salary trends', xaxis_title='Season', yaxis_title='Salary',\n",
    "                  hovermode='closest')\n",
    "fig.show()"
   ]
  },
  {
   "cell_type": "markdown",
   "id": "96cd6684",
   "metadata": {},
   "source": [
    "### 4. Analysis of the relation between player salary and efficiency"
   ]
  },
  {
   "cell_type": "markdown",
   "id": "8772e8f3",
   "metadata": {},
   "source": [
    "In order to carry out the analysis of player salary and efficiency, the following steps were carried out:\n",
    "- To compute player efficiency, the total and per minute rating of each player was calculated accross seasons, making use of per-game statistics such as points, assists, rebounds, steals, blocks, and turnovers.\n",
    "- Because the aim of this analysis is to investigate the value of any given player, the total rating is computed by taking the total rating accross all games played. \n",
    "- To explore the relationship between performance and player compensation, the efficiency data was merged with the salary information. \n",
    "- The analysis was carried out without outlariers, that is, players that played 10 games or less in an entire season.\n",
    "- A function to visualize the data for a total or per minute rating was defined, with the optional argument of limiting the graph to a single season.\n",
    "- The visualization includes regression lines to examine trends and correlations. In particular, as salary data is not evenly \n",
    "- Lastly, the coefficients of the regression lines for all available seasons where also plotted, in order to further investigate the impact on performance on compensation accross various seasons."
   ]
  },
  {
   "cell_type": "code",
   "execution_count": 113,
   "id": "01a56869",
   "metadata": {},
   "outputs": [
    {
     "data": {
      "text/html": [
       "<div>\n",
       "<style scoped>\n",
       "    .dataframe tbody tr th:only-of-type {\n",
       "        vertical-align: middle;\n",
       "    }\n",
       "\n",
       "    .dataframe tbody tr th {\n",
       "        vertical-align: top;\n",
       "    }\n",
       "\n",
       "    .dataframe thead th {\n",
       "        text-align: right;\n",
       "    }\n",
       "</style>\n",
       "<table border=\"1\" class=\"dataframe\">\n",
       "  <thead>\n",
       "    <tr style=\"text-align: right;\">\n",
       "      <th></th>\n",
       "      <th>season</th>\n",
       "      <th>playerName</th>\n",
       "      <th>age</th>\n",
       "      <th>team_abbr</th>\n",
       "      <th>games</th>\n",
       "      <th>minutesPg</th>\n",
       "      <th>ftPercent</th>\n",
       "      <th>totalRb</th>\n",
       "      <th>assists</th>\n",
       "      <th>steals</th>\n",
       "      <th>blocks</th>\n",
       "      <th>turnovers</th>\n",
       "      <th>points</th>\n",
       "      <th>rating</th>\n",
       "      <th>ratingPm</th>\n",
       "      <th>ratingTotal</th>\n",
       "    </tr>\n",
       "  </thead>\n",
       "  <tbody>\n",
       "    <tr>\n",
       "      <th>14924</th>\n",
       "      <td>2017</td>\n",
       "      <td>Russell Westbrook</td>\n",
       "      <td>28</td>\n",
       "      <td>OKC</td>\n",
       "      <td>81</td>\n",
       "      <td>34.6</td>\n",
       "      <td>0.845</td>\n",
       "      <td>10.7</td>\n",
       "      <td>10.4</td>\n",
       "      <td>1.6</td>\n",
       "      <td>0.4</td>\n",
       "      <td>5.4</td>\n",
       "      <td>31.6</td>\n",
       "      <td>49.3</td>\n",
       "      <td>1.424855</td>\n",
       "      <td>3993.3</td>\n",
       "    </tr>\n",
       "    <tr>\n",
       "      <th>2067</th>\n",
       "      <td>1988</td>\n",
       "      <td>Michael Jordan</td>\n",
       "      <td>24</td>\n",
       "      <td>CHI</td>\n",
       "      <td>82</td>\n",
       "      <td>40.4</td>\n",
       "      <td>0.841</td>\n",
       "      <td>5.5</td>\n",
       "      <td>5.9</td>\n",
       "      <td>3.2</td>\n",
       "      <td>1.6</td>\n",
       "      <td>3.1</td>\n",
       "      <td>35.0</td>\n",
       "      <td>48.1</td>\n",
       "      <td>1.190594</td>\n",
       "      <td>3944.2</td>\n",
       "    </tr>\n",
       "    <tr>\n",
       "      <th>2416</th>\n",
       "      <td>1989</td>\n",
       "      <td>Michael Jordan</td>\n",
       "      <td>25</td>\n",
       "      <td>CHI</td>\n",
       "      <td>81</td>\n",
       "      <td>40.2</td>\n",
       "      <td>0.850</td>\n",
       "      <td>8.0</td>\n",
       "      <td>8.0</td>\n",
       "      <td>2.9</td>\n",
       "      <td>0.8</td>\n",
       "      <td>3.6</td>\n",
       "      <td>32.5</td>\n",
       "      <td>48.6</td>\n",
       "      <td>1.208955</td>\n",
       "      <td>3936.6</td>\n",
       "    </tr>\n",
       "    <tr>\n",
       "      <th>1727</th>\n",
       "      <td>1987</td>\n",
       "      <td>Michael Jordan</td>\n",
       "      <td>23</td>\n",
       "      <td>CHI</td>\n",
       "      <td>82</td>\n",
       "      <td>40.0</td>\n",
       "      <td>0.857</td>\n",
       "      <td>5.2</td>\n",
       "      <td>4.6</td>\n",
       "      <td>2.9</td>\n",
       "      <td>1.5</td>\n",
       "      <td>3.3</td>\n",
       "      <td>37.1</td>\n",
       "      <td>48.0</td>\n",
       "      <td>1.200000</td>\n",
       "      <td>3936.0</td>\n",
       "    </tr>\n",
       "    <tr>\n",
       "      <th>2775</th>\n",
       "      <td>1990</td>\n",
       "      <td>Michael Jordan</td>\n",
       "      <td>26</td>\n",
       "      <td>CHI</td>\n",
       "      <td>82</td>\n",
       "      <td>39.0</td>\n",
       "      <td>0.848</td>\n",
       "      <td>6.9</td>\n",
       "      <td>6.3</td>\n",
       "      <td>2.8</td>\n",
       "      <td>0.7</td>\n",
       "      <td>3.0</td>\n",
       "      <td>33.6</td>\n",
       "      <td>47.3</td>\n",
       "      <td>1.212821</td>\n",
       "      <td>3878.6</td>\n",
       "    </tr>\n",
       "    <tr>\n",
       "      <th>...</th>\n",
       "      <td>...</td>\n",
       "      <td>...</td>\n",
       "      <td>...</td>\n",
       "      <td>...</td>\n",
       "      <td>...</td>\n",
       "      <td>...</td>\n",
       "      <td>...</td>\n",
       "      <td>...</td>\n",
       "      <td>...</td>\n",
       "      <td>...</td>\n",
       "      <td>...</td>\n",
       "      <td>...</td>\n",
       "      <td>...</td>\n",
       "      <td>...</td>\n",
       "      <td>...</td>\n",
       "      <td>...</td>\n",
       "    </tr>\n",
       "    <tr>\n",
       "      <th>1833</th>\n",
       "      <td>1987</td>\n",
       "      <td>John Schweitz</td>\n",
       "      <td>26</td>\n",
       "      <td>DET</td>\n",
       "      <td>3</td>\n",
       "      <td>2.3</td>\n",
       "      <td>NaN</td>\n",
       "      <td>0.3</td>\n",
       "      <td>0.0</td>\n",
       "      <td>0.0</td>\n",
       "      <td>0.0</td>\n",
       "      <td>0.7</td>\n",
       "      <td>0.0</td>\n",
       "      <td>-0.4</td>\n",
       "      <td>-0.173913</td>\n",
       "      <td>-1.2</td>\n",
       "    </tr>\n",
       "    <tr>\n",
       "      <th>10017</th>\n",
       "      <td>2007</td>\n",
       "      <td>Mile Ilić</td>\n",
       "      <td>22</td>\n",
       "      <td>NJN</td>\n",
       "      <td>5</td>\n",
       "      <td>1.2</td>\n",
       "      <td>NaN</td>\n",
       "      <td>0.2</td>\n",
       "      <td>0.0</td>\n",
       "      <td>0.0</td>\n",
       "      <td>0.0</td>\n",
       "      <td>0.6</td>\n",
       "      <td>0.0</td>\n",
       "      <td>-0.4</td>\n",
       "      <td>-0.333333</td>\n",
       "      <td>-2.0</td>\n",
       "    </tr>\n",
       "    <tr>\n",
       "      <th>10089</th>\n",
       "      <td>2007</td>\n",
       "      <td>Chris McCray</td>\n",
       "      <td>22</td>\n",
       "      <td>MIL</td>\n",
       "      <td>5</td>\n",
       "      <td>2.4</td>\n",
       "      <td>NaN</td>\n",
       "      <td>0.0</td>\n",
       "      <td>0.0</td>\n",
       "      <td>0.0</td>\n",
       "      <td>0.0</td>\n",
       "      <td>0.4</td>\n",
       "      <td>0.0</td>\n",
       "      <td>-0.4</td>\n",
       "      <td>-0.166667</td>\n",
       "      <td>-2.0</td>\n",
       "    </tr>\n",
       "    <tr>\n",
       "      <th>9542</th>\n",
       "      <td>2006</td>\n",
       "      <td>Nenê</td>\n",
       "      <td>23</td>\n",
       "      <td>DEN</td>\n",
       "      <td>1</td>\n",
       "      <td>3.0</td>\n",
       "      <td>NaN</td>\n",
       "      <td>0.0</td>\n",
       "      <td>0.0</td>\n",
       "      <td>0.0</td>\n",
       "      <td>0.0</td>\n",
       "      <td>2.0</td>\n",
       "      <td>0.0</td>\n",
       "      <td>-2.0</td>\n",
       "      <td>-0.666667</td>\n",
       "      <td>-2.0</td>\n",
       "    </tr>\n",
       "    <tr>\n",
       "      <th>16944</th>\n",
       "      <td>2021</td>\n",
       "      <td>Anžejs Pasečņiks</td>\n",
       "      <td>25</td>\n",
       "      <td>WAS</td>\n",
       "      <td>1</td>\n",
       "      <td>6.0</td>\n",
       "      <td>NaN</td>\n",
       "      <td>1.0</td>\n",
       "      <td>1.0</td>\n",
       "      <td>0.0</td>\n",
       "      <td>0.0</td>\n",
       "      <td>5.0</td>\n",
       "      <td>0.0</td>\n",
       "      <td>-3.0</td>\n",
       "      <td>-0.500000</td>\n",
       "      <td>-3.0</td>\n",
       "    </tr>\n",
       "  </tbody>\n",
       "</table>\n",
       "<p>17697 rows × 16 columns</p>\n",
       "</div>"
      ],
      "text/plain": [
       "       season         playerName  age team_abbr  games  minutesPg  ftPercent  \\\n",
       "14924    2017  Russell Westbrook   28       OKC     81       34.6      0.845   \n",
       "2067     1988     Michael Jordan   24       CHI     82       40.4      0.841   \n",
       "2416     1989     Michael Jordan   25       CHI     81       40.2      0.850   \n",
       "1727     1987     Michael Jordan   23       CHI     82       40.0      0.857   \n",
       "2775     1990     Michael Jordan   26       CHI     82       39.0      0.848   \n",
       "...       ...                ...  ...       ...    ...        ...        ...   \n",
       "1833     1987      John Schweitz   26       DET      3        2.3        NaN   \n",
       "10017    2007          Mile Ilić   22       NJN      5        1.2        NaN   \n",
       "10089    2007       Chris McCray   22       MIL      5        2.4        NaN   \n",
       "9542     2006               Nenê   23       DEN      1        3.0        NaN   \n",
       "16944    2021   Anžejs Pasečņiks   25       WAS      1        6.0        NaN   \n",
       "\n",
       "       totalRb  assists  steals  blocks  turnovers  points  rating  ratingPm  \\\n",
       "14924     10.7     10.4     1.6     0.4        5.4    31.6    49.3  1.424855   \n",
       "2067       5.5      5.9     3.2     1.6        3.1    35.0    48.1  1.190594   \n",
       "2416       8.0      8.0     2.9     0.8        3.6    32.5    48.6  1.208955   \n",
       "1727       5.2      4.6     2.9     1.5        3.3    37.1    48.0  1.200000   \n",
       "2775       6.9      6.3     2.8     0.7        3.0    33.6    47.3  1.212821   \n",
       "...        ...      ...     ...     ...        ...     ...     ...       ...   \n",
       "1833       0.3      0.0     0.0     0.0        0.7     0.0    -0.4 -0.173913   \n",
       "10017      0.2      0.0     0.0     0.0        0.6     0.0    -0.4 -0.333333   \n",
       "10089      0.0      0.0     0.0     0.0        0.4     0.0    -0.4 -0.166667   \n",
       "9542       0.0      0.0     0.0     0.0        2.0     0.0    -2.0 -0.666667   \n",
       "16944      1.0      1.0     0.0     0.0        5.0     0.0    -3.0 -0.500000   \n",
       "\n",
       "       ratingTotal  \n",
       "14924       3993.3  \n",
       "2067        3944.2  \n",
       "2416        3936.6  \n",
       "1727        3936.0  \n",
       "2775        3878.6  \n",
       "...            ...  \n",
       "1833          -1.2  \n",
       "10017         -2.0  \n",
       "10089         -2.0  \n",
       "9542          -2.0  \n",
       "16944         -3.0  \n",
       "\n",
       "[17697 rows x 16 columns]"
      ]
     },
     "execution_count": 113,
     "metadata": {},
     "output_type": "execute_result"
    }
   ],
   "source": [
    "#define dataframe used for carrying out analysis\n",
    "df_efficiency = player_stats.iloc[:,:13].copy()\n",
    "\n",
    "#ensure correct data types\n",
    "cols_to_numeric = ['points', 'assists', 'totalRb', 'steals', 'blocks', 'turnovers', 'minutesPg']\n",
    "df_efficiency[cols_to_numeric] = df_efficiency[cols_to_numeric].apply(pd.to_numeric, errors=\"coerce\")\n",
    "\n",
    "#compute ratings, total and per minute\n",
    "df_efficiency = df_efficiency.assign(\n",
    "    rating = (\n",
    "        df_efficiency[\"points\"]\n",
    "      + df_efficiency[\"assists\"]\n",
    "      + df_efficiency[\"totalRb\"]\n",
    "      + df_efficiency[\"steals\"]\n",
    "      + df_efficiency[\"blocks\"]\n",
    "      - df_efficiency[\"turnovers\"]\n",
    "    ),\n",
    "    ratingPm = lambda x: np.where(x[\"minutesPg\"] != 0, x[\"rating\"] / x[\"minutesPg\"], 0), #default to zero \n",
    "    ratingTotal = lambda x: x['rating'] * x['games']\n",
    ")\n",
    "\n",
    "df_efficiency.sort_values(by='ratingTotal', ascending = False)"
   ]
  },
  {
   "cell_type": "code",
   "execution_count": 114,
   "id": "9fb5b087",
   "metadata": {},
   "outputs": [],
   "source": [
    "#add salary information to our ratings dataframe\n",
    "df_efficiency = df_efficiency.merge(df_salary[['name', 'salary', 'year']],\n",
    "    how='left',\n",
    "    left_on=['playerName', 'season'],\n",
    "    right_on=['name', 'year']\n",
    ").drop(columns=['name', 'year'])\n",
    "\n",
    "#eliminate outliers\n",
    "df_efficiency = df_efficiency[df_efficiency.games > 10]\n",
    "\n",
    "#some players miss salary data, drop corresponding rows\n",
    "df_efficiency = df_efficiency[df_efficiency.salary.notna()]"
   ]
  },
  {
   "cell_type": "code",
   "execution_count": 115,
   "id": "6533f930",
   "metadata": {},
   "outputs": [
    {
     "data": {
      "text/plain": [
       "<Axes: xlabel='ratingPm', ylabel='Count'>"
      ]
     },
     "execution_count": 115,
     "metadata": {},
     "output_type": "execute_result"
    },
    {
     "data": {
      "image/png": "[encoded data removed]",
      "text/plain": [
       "<Figure size 640x480 with 1 Axes>"
      ]
     },
     "metadata": {},
     "output_type": "display_data"
    }
   ],
   "source": [
    "#quick illustration of the distribution of ratings per minute\n",
    "sns.histplot(df_efficiency['ratingPm'], kde=True)"
   ]
  },
  {
   "cell_type": "code",
   "execution_count": 116,
   "id": "c611e91a",
   "metadata": {},
   "outputs": [
    {
     "data": {
      "text/plain": [
       "<Axes: xlabel='salary', ylabel='Count'>"
      ]
     },
     "execution_count": 116,
     "metadata": {},
     "output_type": "execute_result"
    },
    {
     "data": {
      "image/png": "[encoded data removed]",
      "text/plain": [
       "<Figure size 640x480 with 1 Axes>"
      ]
     },
     "metadata": {},
     "output_type": "display_data"
    }
   ],
   "source": [
    "#quick illustration of salary distribution\n",
    "sns.histplot(df_efficiency['salary'], kde=True)"
   ]
  },
  {
   "cell_type": "code",
   "execution_count": 117,
   "id": "a2a7251c",
   "metadata": {},
   "outputs": [],
   "source": [
    "#function to produce a graph and output the regression coefficients\n",
    "def efficiency_plot(df, metric, year=None, plot=True):\n",
    "\n",
    "    #if a season was passed, filter the dataframe\n",
    "    if year is not None:\n",
    "        df = df[df.season == year]\n",
    "\n",
    "    #set feature and prediction variables\n",
    "    X = df[metric].values.reshape(-1,1)\n",
    "    y = df['salary'].values\n",
    "\n",
    "    #linear regression on salary\n",
    "    lin_model = LinearRegression()\n",
    "    lin_model.fit(X,y)\n",
    "    y_pred_lin = lin_model.predict(X)\n",
    "\n",
    "    #linear regression on log(salary)\n",
    "    lin_log_model = LinearRegression()\n",
    "\n",
    "    #apply log to prediction variable\n",
    "    y_log = y.copy()\n",
    "    mask = (y != 0)\n",
    "    y_log[mask] = np.log(y[mask])\n",
    "\n",
    "    lin_log_model.fit(X,y_log)\n",
    "    y_pred_log = np.exp(lin_log_model.predict(X))\n",
    "\n",
    "    if plot:\n",
    "        fig = px.scatter(\n",
    "            df,\n",
    "            x=metric,\n",
    "            y=\"salary\",\n",
    "            hover_data=['playerName', 'team', 'season'],\n",
    "            labels={  # rename axis labels and hover names\n",
    "                metric : \"Efficiency Rating\",\n",
    "                \"salary\" : \"Salary (USD)\",\n",
    "                \"playerName\" : \"Player\",\n",
    "                \"team\" : \"Team\"\n",
    "            }\n",
    "        )\n",
    "\n",
    "        #sort for smooth line plotting\n",
    "        sort_idx = np.argsort(X.flatten())\n",
    "\n",
    "        #add linear regression line\n",
    "        fig.add_trace(go.Scatter(\n",
    "            x=X.flatten()[sort_idx],\n",
    "            y=y_pred_lin[sort_idx],\n",
    "            mode=\"lines\",\n",
    "            name=\"Linear fit\",\n",
    "            line=dict(color=\"green\")\n",
    "        ))\n",
    "\n",
    "        fig.add_trace(go.Scatter(\n",
    "            x=X.flatten()[sort_idx],\n",
    "            y=y_pred_log[sort_idx],\n",
    "            mode=\"lines\",\n",
    "            name=\"Log-Linear fit\",\n",
    "            line=dict(color=\"purple\")\n",
    "        ))\n",
    "\n",
    "        fig.update_traces(marker=dict(size=6), selector=dict(mode=\"markers\"))\n",
    "        fig.show()\n",
    "\n",
    "    return lin_model.coef_[0], lin_log_model.coef_[0]"
   ]
  },
  {
   "cell_type": "code",
   "execution_count": 118,
   "id": "82c6c982",
   "metadata": {},
   "outputs": [
    {
     "data": {
      "text/html": [
       "<div>\n",
       "<style scoped>\n",
       "    .dataframe tbody tr th:only-of-type {\n",
       "        vertical-align: middle;\n",
       "    }\n",
       "\n",
       "    .dataframe tbody tr th {\n",
       "        vertical-align: top;\n",
       "    }\n",
       "\n",
       "    .dataframe thead th {\n",
       "        text-align: right;\n",
       "    }\n",
       "</style>\n",
       "<table border=\"1\" class=\"dataframe\">\n",
       "  <thead>\n",
       "    <tr style=\"text-align: right;\">\n",
       "      <th></th>\n",
       "      <th>season</th>\n",
       "      <th>playerName</th>\n",
       "      <th>age</th>\n",
       "      <th>team_abbr</th>\n",
       "      <th>games</th>\n",
       "      <th>minutesPg</th>\n",
       "      <th>ftPercent</th>\n",
       "      <th>totalRb</th>\n",
       "      <th>assists</th>\n",
       "      <th>steals</th>\n",
       "      <th>blocks</th>\n",
       "      <th>turnovers</th>\n",
       "      <th>points</th>\n",
       "      <th>rating</th>\n",
       "      <th>ratingPm</th>\n",
       "      <th>ratingTotal</th>\n",
       "      <th>salary</th>\n",
       "    </tr>\n",
       "  </thead>\n",
       "  <tbody>\n",
       "    <tr>\n",
       "      <th>942</th>\n",
       "      <td>1985</td>\n",
       "      <td>Kareem Abdul-Jabbar</td>\n",
       "      <td>37</td>\n",
       "      <td>LAL</td>\n",
       "      <td>79</td>\n",
       "      <td>33.3</td>\n",
       "      <td>0.732</td>\n",
       "      <td>7.9</td>\n",
       "      <td>3.2</td>\n",
       "      <td>0.8</td>\n",
       "      <td>2.1</td>\n",
       "      <td>2.5</td>\n",
       "      <td>22.0</td>\n",
       "      <td>33.5</td>\n",
       "      <td>1.006006</td>\n",
       "      <td>2646.5</td>\n",
       "      <td>1530000.0</td>\n",
       "    </tr>\n",
       "    <tr>\n",
       "      <th>943</th>\n",
       "      <td>1985</td>\n",
       "      <td>Alvan Adams</td>\n",
       "      <td>30</td>\n",
       "      <td>PHO</td>\n",
       "      <td>82</td>\n",
       "      <td>26.0</td>\n",
       "      <td>0.883</td>\n",
       "      <td>6.1</td>\n",
       "      <td>3.8</td>\n",
       "      <td>1.4</td>\n",
       "      <td>0.6</td>\n",
       "      <td>2.4</td>\n",
       "      <td>14.7</td>\n",
       "      <td>24.2</td>\n",
       "      <td>0.930769</td>\n",
       "      <td>1984.4</td>\n",
       "      <td>500000.0</td>\n",
       "    </tr>\n",
       "    <tr>\n",
       "      <th>944</th>\n",
       "      <td>1985</td>\n",
       "      <td>Mark Aguirre</td>\n",
       "      <td>25</td>\n",
       "      <td>DAL</td>\n",
       "      <td>80</td>\n",
       "      <td>33.7</td>\n",
       "      <td>0.759</td>\n",
       "      <td>6.0</td>\n",
       "      <td>3.1</td>\n",
       "      <td>0.8</td>\n",
       "      <td>0.3</td>\n",
       "      <td>3.2</td>\n",
       "      <td>25.7</td>\n",
       "      <td>32.7</td>\n",
       "      <td>0.970326</td>\n",
       "      <td>2616.0</td>\n",
       "      <td>800000.0</td>\n",
       "    </tr>\n",
       "    <tr>\n",
       "      <th>945</th>\n",
       "      <td>1985</td>\n",
       "      <td>Danny Ainge</td>\n",
       "      <td>25</td>\n",
       "      <td>BOS</td>\n",
       "      <td>75</td>\n",
       "      <td>34.2</td>\n",
       "      <td>0.868</td>\n",
       "      <td>3.6</td>\n",
       "      <td>5.3</td>\n",
       "      <td>1.6</td>\n",
       "      <td>0.1</td>\n",
       "      <td>2.0</td>\n",
       "      <td>12.9</td>\n",
       "      <td>21.5</td>\n",
       "      <td>0.628655</td>\n",
       "      <td>1612.5</td>\n",
       "      <td>400000.0</td>\n",
       "    </tr>\n",
       "    <tr>\n",
       "      <th>949</th>\n",
       "      <td>1985</td>\n",
       "      <td>John Bagley</td>\n",
       "      <td>24</td>\n",
       "      <td>CLE</td>\n",
       "      <td>81</td>\n",
       "      <td>29.6</td>\n",
       "      <td>0.749</td>\n",
       "      <td>3.6</td>\n",
       "      <td>8.6</td>\n",
       "      <td>1.6</td>\n",
       "      <td>0.1</td>\n",
       "      <td>2.6</td>\n",
       "      <td>9.9</td>\n",
       "      <td>21.2</td>\n",
       "      <td>0.716216</td>\n",
       "      <td>1717.2</td>\n",
       "      <td>209000.0</td>\n",
       "    </tr>\n",
       "  </tbody>\n",
       "</table>\n",
       "</div>"
      ],
      "text/plain": [
       "     season           playerName  age team_abbr  games  minutesPg  ftPercent  \\\n",
       "942    1985  Kareem Abdul-Jabbar   37       LAL     79       33.3      0.732   \n",
       "943    1985          Alvan Adams   30       PHO     82       26.0      0.883   \n",
       "944    1985         Mark Aguirre   25       DAL     80       33.7      0.759   \n",
       "945    1985          Danny Ainge   25       BOS     75       34.2      0.868   \n",
       "949    1985          John Bagley   24       CLE     81       29.6      0.749   \n",
       "\n",
       "     totalRb  assists  steals  blocks  turnovers  points  rating  ratingPm  \\\n",
       "942      7.9      3.2     0.8     2.1        2.5    22.0    33.5  1.006006   \n",
       "943      6.1      3.8     1.4     0.6        2.4    14.7    24.2  0.930769   \n",
       "944      6.0      3.1     0.8     0.3        3.2    25.7    32.7  0.970326   \n",
       "945      3.6      5.3     1.6     0.1        2.0    12.9    21.5  0.628655   \n",
       "949      3.6      8.6     1.6     0.1        2.6     9.9    21.2  0.716216   \n",
       "\n",
       "     ratingTotal     salary  \n",
       "942       2646.5  1530000.0  \n",
       "943       1984.4   500000.0  \n",
       "944       2616.0   800000.0  \n",
       "945       1612.5   400000.0  \n",
       "949       1717.2   209000.0  "
      ]
     },
     "execution_count": 118,
     "metadata": {},
     "output_type": "execute_result"
    }
   ],
   "source": [
    "df_efficiency.head()"
   ]
  },
  {
   "cell_type": "code",
   "execution_count": 119,
   "id": "c6a33890",
   "metadata": {},
   "outputs": [
    {
     "data": {
      "application/vnd.plotly.v1+json": {
       "config": {
        "plotlyServerURL": "https://plot.ly"
       },
       "data": [
        {
         "customdata": [
          [
           "Precious Achiuwa",
           "TOR",
           2022
          ],
          [
           "Steven Adams",
           "MEM",
           2022
          ],
          [
           "Bam Adebayo",
           "MIA",
           2022
          ],
          [
           "LaMarcus Aldridge",
           "BRK",
           2022
          ],
          [
           "Nickeil Alexander-Walker",
           "TOT",
           2022
          ],
          [
           "Grayson Allen",
           "MIL",
           2022
          ],
          [
           "Jarrett Allen",
           "CLE",
           2022
          ],
          [
           "Jose Alvarado",
           "NOP",
           2022
          ],
          [
           "Justin Anderson",
           "TOT",
           2022
          ],
          [
           "Kyle Anderson",
           "MEM",
           2022
          ],
          [
           "Giannis Antetokounmpo",
           "MIL",
           2022
          ],
          [
           "Thanasis Antetokounmpo",
           "MIL",
           2022
          ],
          [
           "Carmelo Anthony",
           "LAL",
           2022
          ],
          [
           "Cole Anthony",
           "ORL",
           2022
          ],
          [
           "OG Anunoby",
           "TOR",
           2022
          ],
          [
           "Trevor Ariza",
           "LAL",
           2022
          ],
          [
           "LaMelo Ball",
           "CHO",
           2022
          ],
          [
           "Mo Bamba",
           "ORL",
           2022
          ],
          [
           "Desmond Bane",
           "MEM",
           2022
          ],
          [
           "Dalano Banton",
           "TOR",
           2022
          ],
          [
           "Harrison Barnes",
           "SAC",
           2022
          ],
          [
           "Scottie Barnes",
           "TOR",
           2022
          ],
          [
           "RJ Barrett",
           "NYK",
           2022
          ],
          [
           "Will Barton",
           "DEN",
           2022
          ],
          [
           "Charles Bassey",
           "PHI",
           2022
          ],
          [
           "Keita Bates-Diop",
           "SAS",
           2022
          ],
          [
           "Nicolas Batum",
           "LAC",
           2022
          ],
          [
           "Kent Bazemore",
           "LAL",
           2022
          ],
          [
           "Darius Bazley",
           "OKC",
           2022
          ],
          [
           "Bradley Beal",
           "WAS",
           2022
          ],
          [
           "Malik Beasley",
           "MIN",
           2022
          ],
          [
           "Patrick Beverley",
           "MIN",
           2022
          ],
          [
           "Saddiq Bey",
           "DET",
           2022
          ],
          [
           "Khem Birch",
           "TOR",
           2022
          ],
          [
           "Goga Bitadze",
           "IND",
           2022
          ],
          [
           "Bismack Biyombo",
           "PHO",
           2022
          ],
          [
           "Nemanja Bjelica",
           "GSW",
           2022
          ],
          [
           "Eric Bledsoe",
           "LAC",
           2022
          ],
          [
           "Keljin Blevins",
           "POR",
           2022
          ],
          [
           "Bol Bol",
           "DEN",
           2022
          ],
          [
           "Leandro Bolmaro",
           "MIN",
           2022
          ],
          [
           "Isaac Bonga",
           "TOR",
           2022
          ],
          [
           "Devin Booker",
           "PHO",
           2022
          ],
          [
           "Chris Boucher",
           "TOR",
           2022
          ],
          [
           "James Bouknight",
           "CHO",
           2022
          ],
          [
           "Avery Bradley",
           "LAL",
           2022
          ],
          [
           "Tony Bradley",
           "CHI",
           2022
          ],
          [
           "Ignas Brazdeikis",
           "ORL",
           2022
          ],
          [
           "Mikal Bridges",
           "PHO",
           2022
          ],
          [
           "Miles Bridges",
           "CHO",
           2022
          ],
          [
           "Oshae Brissett",
           "IND",
           2022
          ],
          [
           "Malcolm Brogdon",
           "IND",
           2022
          ],
          [
           "Armoni Brooks",
           "TOT",
           2022
          ],
          [
           "Dillon Brooks",
           "MEM",
           2022
          ],
          [
           "Bruce Brown",
           "BRK",
           2022
          ],
          [
           "Jaylen Brown",
           "BOS",
           2022
          ],
          [
           "Moses Brown",
           "TOT",
           2022
          ],
          [
           "Sterling Brown",
           "DAL",
           2022
          ],
          [
           "Jalen Brunson",
           "DAL",
           2022
          ],
          [
           "Thomas Bryant",
           "WAS",
           2022
          ],
          [
           "Reggie Bullock",
           "DAL",
           2022
          ],
          [
           "Trey Burke",
           "DAL",
           2022
          ],
          [
           "Alec Burks",
           "NYK",
           2022
          ],
          [
           "Jared Butler",
           "UTA",
           2022
          ],
          [
           "Jimmy Butler",
           "MIA",
           2022
          ],
          [
           "Devontae Cacok",
           "SAS",
           2022
          ],
          [
           "Kentavious Caldwell-Pope",
           "WAS",
           2022
          ],
          [
           "Facundo Campazzo",
           "DEN",
           2022
          ],
          [
           "Clint Capela",
           "ATL",
           2022
          ],
          [
           "Jevon Carter",
           "TOT",
           2022
          ],
          [
           "Alex Caruso",
           "CHI",
           2022
          ],
          [
           "Willie Cauley-Stein",
           "TOT",
           2022
          ],
          [
           "Justin Champagnie",
           "TOR",
           2022
          ],
          [
           "Chris Chiozza",
           "GSW",
           2022
          ],
          [
           "Marquese Chriss",
           "DAL",
           2022
          ],
          [
           "Josh Christopher",
           "HOU",
           2022
          ],
          [
           "Gary Clark",
           "NOP",
           2022
          ],
          [
           "Brandon Clarke",
           "MEM",
           2022
          ],
          [
           "Jordan Clarkson",
           "UTA",
           2022
          ],
          [
           "Amir Coffey",
           "LAC",
           2022
          ],
          [
           "John Collins",
           "ATL",
           2022
          ],
          [
           "Zach Collins",
           "SAS",
           2022
          ],
          [
           "Mike Conley",
           "UTA",
           2022
          ],
          [
           "Pat Connaughton",
           "MIL",
           2022
          ],
          [
           "Tyler Cook",
           "CHI",
           2022
          ],
          [
           "Sharife Cooper",
           "ATL",
           2022
          ],
          [
           "Petr Cornelie",
           "DEN",
           2022
          ],
          [
           "DeMarcus Cousins",
           "TOT",
           2022
          ],
          [
           "Robert Covington",
           "TOT",
           2022
          ],
          [
           "Torrey Craig",
           "TOT",
           2022
          ],
          [
           "Jae Crowder",
           "PHO",
           2022
          ],
          [
           "Jarrett Culver",
           "MEM",
           2022
          ],
          [
           "Cade Cunningham",
           "DET",
           2022
          ],
          [
           "Seth Curry",
           "TOT",
           2022
          ],
          [
           "Stephen Curry",
           "GSW",
           2022
          ],
          [
           "Anthony Davis",
           "LAL",
           2022
          ],
          [
           "Ed Davis",
           "CLE",
           2022
          ],
          [
           "Terence Davis",
           "SAC",
           2022
          ],
          [
           "Dewayne Dedmon",
           "MIA",
           2022
          ],
          [
           "DeMar DeRozan",
           "CHI",
           2022
          ],
          [
           "Mamadi Diakite",
           "OKC",
           2022
          ],
          [
           "Hamidou Diallo",
           "DET",
           2022
          ],
          [
           "Gorgui Dieng",
           "ATL",
           2022
          ],
          [
           "Spencer Dinwiddie",
           "TOT",
           2022
          ],
          [
           "Donte DiVincenzo",
           "TOT",
           2022
          ],
          [
           "Luguentz Dort",
           "OKC",
           2022
          ],
          [
           "Ayo Dosunmu",
           "CHI",
           2022
          ],
          [
           "Devon Dotson",
           "CHI",
           2022
          ],
          [
           "PJ Dozier",
           "DEN",
           2022
          ],
          [
           "Andre Drummond",
           "TOT",
           2022
          ],
          [
           "Chris Duarte",
           "IND",
           2022
          ],
          [
           "Kris Dunn",
           "POR",
           2022
          ],
          [
           "Kevin Durant",
           "BRK",
           2022
          ],
          [
           "Anthony Edwards",
           "MIN",
           2022
          ],
          [
           "Kessler Edwards",
           "BRK",
           2022
          ],
          [
           "CJ Elleby",
           "POR",
           2022
          ],
          [
           "Wayne Ellington",
           "LAL",
           2022
          ],
          [
           "Joel Embiid",
           "PHI",
           2022
          ],
          [
           "Drew Eubanks",
           "TOT",
           2022
          ],
          [
           "Tacko Fall",
           "CLE",
           2022
          ],
          [
           "Derrick Favors",
           "OKC",
           2022
          ],
          [
           "Bruno Fernando",
           "TOT",
           2022
          ],
          [
           "Dorian Finney-Smith",
           "DAL",
           2022
          ],
          [
           "Malik Fitts",
           "TOT",
           2022
          ],
          [
           "Malachi Flynn",
           "TOR",
           2022
          ],
          [
           "Bryn Forbes",
           "TOT",
           2022
          ],
          [
           "Trent Forrest",
           "UTA",
           2022
          ],
          [
           "Evan Fournier",
           "NYK",
           2022
          ],
          [
           "De'Aaron Fox",
           "SAC",
           2022
          ],
          [
           "Tim Frazier",
           "TOT",
           2022
          ],
          [
           "Markelle Fultz",
           "ORL",
           2022
          ],
          [
           "Wenyen Gabriel",
           "TOT",
           2022
          ],
          [
           "Daniel Gafford",
           "WAS",
           2022
          ],
          [
           "Danilo Gallinari",
           "ATL",
           2022
          ],
          [
           "Darius Garland",
           "CLE",
           2022
          ],
          [
           "Marcus Garrett",
           "MIA",
           2022
          ],
          [
           "Usman Garuba",
           "HOU",
           2022
          ],
          [
           "Luka Garza",
           "DET",
           2022
          ],
          [
           "Rudy Gay",
           "UTA",
           2022
          ],
          [
           "Paul George",
           "LAC",
           2022
          ],
          [
           "Taj Gibson",
           "NYK",
           2022
          ],
          [
           "Josh Giddey",
           "OKC",
           2022
          ],
          [
           "Shai Gilgeous-Alexander",
           "OKC",
           2022
          ],
          [
           "Anthony Gill",
           "WAS",
           2022
          ],
          [
           "Rudy Gobert",
           "UTA",
           2022
          ],
          [
           "Brandon Goodwin",
           "CLE",
           2022
          ],
          [
           "Aaron Gordon",
           "DEN",
           2022
          ],
          [
           "Eric Gordon",
           "HOU",
           2022
          ],
          [
           "Jerami Grant",
           "DET",
           2022
          ],
          [
           "Danny Green",
           "PHI",
           2022
          ],
          [
           "Draymond Green",
           "GSW",
           2022
          ],
          [
           "Jalen Green",
           "HOU",
           2022
          ],
          [
           "JaMychal Green",
           "DEN",
           2022
          ],
          [
           "Javonte Green",
           "CHI",
           2022
          ],
          [
           "Jeff Green",
           "DEN",
           2022
          ],
          [
           "Josh Green",
           "DAL",
           2022
          ],
          [
           "Blake Griffin",
           "BRK",
           2022
          ],
          [
           "Quentin Grimes",
           "NYK",
           2022
          ],
          [
           "Kyle Guy",
           "MIA",
           2022
          ],
          [
           "Rui Hachimura",
           "WAS",
           2022
          ],
          [
           "Tyrese Haliburton",
           "TOT",
           2022
          ],
          [
           "James Harden",
           "TOT",
           2022
          ],
          [
           "Montrezl Harrell",
           "TOT",
           2022
          ],
          [
           "Gary Harris",
           "ORL",
           2022
          ],
          [
           "Joe Harris",
           "BRK",
           2022
          ],
          [
           "Tobias Harris",
           "PHI",
           2022
          ],
          [
           "Josh Hart",
           "TOT",
           2022
          ],
          [
           "Isaiah Hartenstein",
           "LAC",
           2022
          ],
          [
           "Udonis Haslem",
           "MIA",
           2022
          ],
          [
           "Sam Hauser",
           "BOS",
           2022
          ],
          [
           "Jaxson Hayes",
           "NOP",
           2022
          ],
          [
           "Killian Hayes",
           "DET",
           2022
          ],
          [
           "Gordon Hayward",
           "CHO",
           2022
          ],
          [
           "Tyler Herro",
           "MIA",
           2022
          ],
          [
           "Buddy Hield",
           "TOT",
           2022
          ],
          [
           "Haywood Highsmith",
           "MIA",
           2022
          ],
          [
           "George Hill",
           "MIL",
           2022
          ],
          [
           "Malcolm Hill",
           "TOT",
           2022
          ],
          [
           "Solomon Hill",
           "ATL",
           2022
          ],
          [
           "Aaron Holiday",
           "TOT",
           2022
          ],
          [
           "Jrue Holiday",
           "MIL",
           2022
          ],
          [
           "Justin Holiday",
           "TOT",
           2022
          ],
          [
           "Richaun Holmes",
           "SAC",
           2022
          ],
          [
           "Rodney Hood",
           "TOT",
           2022
          ],
          [
           "Al Horford",
           "BOS",
           2022
          ],
          [
           "Talen Horton-Tucker",
           "LAL",
           2022
          ],
          [
           "Dwight Howard",
           "LAL",
           2022
          ],
          [
           "Markus Howard",
           "DEN",
           2022
          ],
          [
           "Kevin Huerter",
           "ATL",
           2022
          ],
          [
           "Elijah Hughes",
           "TOT",
           2022
          ],
          [
           "De'Andre Hunter",
           "ATL",
           2022
          ],
          [
           "Bones Hyland",
           "DEN",
           2022
          ],
          [
           "Serge Ibaka",
           "TOT",
           2022
          ],
          [
           "Andre Iguodala",
           "GSW",
           2022
          ],
          [
           "Joe Ingles",
           "UTA",
           2022
          ],
          [
           "Brandon Ingram",
           "NOP",
           2022
          ],
          [
           "Kyrie Irving",
           "BRK",
           2022
          ],
          [
           "Frank Jackson",
           "DET",
           2022
          ],
          [
           "Isaiah Jackson",
           "IND",
           2022
          ],
          [
           "Josh Jackson",
           "TOT",
           2022
          ],
          [
           "Reggie Jackson",
           "LAC",
           2022
          ],
          [
           "LeBron James",
           "LAL",
           2022
          ],
          [
           "Ty Jerome",
           "OKC",
           2022
          ],
          [
           "Isaiah Joe",
           "PHI",
           2022
          ],
          [
           "Alize Johnson",
           "TOT",
           2022
          ],
          [
           "Cameron Johnson",
           "PHO",
           2022
          ],
          [
           "Jalen Johnson",
           "ATL",
           2022
          ],
          [
           "James Johnson",
           "BRK",
           2022
          ],
          [
           "Keldon Johnson",
           "SAS",
           2022
          ],
          [
           "Keon Johnson",
           "TOT",
           2022
          ],
          [
           "Stanley Johnson",
           "LAL",
           2022
          ],
          [
           "Damian Jones",
           "SAC",
           2022
          ],
          [
           "Kai Jones",
           "CHO",
           2022
          ],
          [
           "Tre Jones",
           "SAS",
           2022
          ],
          [
           "Tyus Jones",
           "MEM",
           2022
          ],
          [
           "DeAndre Jordan",
           "TOT",
           2022
          ],
          [
           "Cory Joseph",
           "DET",
           2022
          ],
          [
           "Georgios Kalaitzakis",
           "TOT",
           2022
          ],
          [
           "Luke Kennard",
           "LAC",
           2022
          ],
          [
           "Braxton Key",
           "TOT",
           2022
          ],
          [
           "Corey Kispert",
           "WAS",
           2022
          ],
          [
           "Maxi Kleber",
           "DAL",
           2022
          ],
          [
           "Nathan Knight",
           "MIN",
           2022
          ],
          [
           "Kevin Knox",
           "TOT",
           2022
          ],
          [
           "John Konchar",
           "MEM",
           2022
          ],
          [
           "Furkan Korkmaz",
           "PHI",
           2022
          ],
          [
           "Luke Kornet",
           "TOT",
           2022
          ],
          [
           "Vit Krejci",
           "OKC",
           2022
          ],
          [
           "Jonathan Kuminga",
           "GSW",
           2022
          ],
          [
           "Kyle Kuzma",
           "WAS",
           2022
          ],
          [
           "Jeremy Lamb",
           "TOT",
           2022
          ],
          [
           "Jock Landale",
           "SAS",
           2022
          ],
          [
           "Romeo Langford",
           "TOT",
           2022
          ],
          [
           "Zach LaVine",
           "CHI",
           2022
          ],
          [
           "Jake Layman",
           "MIN",
           2022
          ],
          [
           "Damion Lee",
           "GSW",
           2022
          ],
          [
           "Saben Lee",
           "DET",
           2022
          ],
          [
           "Alex Len",
           "SAC",
           2022
          ],
          [
           "Caris LeVert",
           "TOT",
           2022
          ],
          [
           "Damian Lillard",
           "POR",
           2022
          ],
          [
           "Nassir Little",
           "POR",
           2022
          ],
          [
           "Isaiah Livers",
           "DET",
           2022
          ],
          [
           "Kevon Looney",
           "GSW",
           2022
          ],
          [
           "Brook Lopez",
           "MIL",
           2022
          ],
          [
           "Robin Lopez",
           "ORL",
           2022
          ],
          [
           "Kevin Love",
           "CLE",
           2022
          ],
          [
           "Kyle Lowry",
           "MIA",
           2022
          ],
          [
           "Trey Lyles",
           "TOT",
           2022
          ],
          [
           "Sandro Mamukelashvili",
           "MIL",
           2022
          ],
          [
           "Terance Mann",
           "LAC",
           2022
          ],
          [
           "Tre Mann",
           "OKC",
           2022
          ],
          [
           "Lauri Markkanen",
           "CLE",
           2022
          ],
          [
           "Naji Marshall",
           "NOP",
           2022
          ],
          [
           "Caleb Martin",
           "MIA",
           2022
          ],
          [
           "Cody Martin",
           "CHO",
           2022
          ],
          [
           "Kelan Martin",
           "TOT",
           2022
          ],
          [
           "Garrison Mathews",
           "HOU",
           2022
          ],
          [
           "Wesley Matthews",
           "MIL",
           2022
          ],
          [
           "Tyrese Maxey",
           "PHI",
           2022
          ],
          [
           "Skylar Mays",
           "ATL",
           2022
          ],
          [
           "Miles McBride",
           "NYK",
           2022
          ],
          [
           "CJ McCollum",
           "TOT",
           2022
          ],
          [
           "Jaden McDaniels",
           "MIN",
           2022
          ],
          [
           "Jalen McDaniels",
           "CHO",
           2022
          ],
          [
           "Doug McDermott",
           "SAS",
           2022
          ],
          [
           "JaVale McGee",
           "PHO",
           2022
          ],
          [
           "Rodney McGruder",
           "DET",
           2022
          ],
          [
           "Alfonzo McKinnie",
           "CHI",
           2022
          ],
          [
           "Jordan McLaughlin",
           "MIN",
           2022
          ],
          [
           "Ben McLemore",
           "POR",
           2022
          ],
          [
           "De'Anthony Melton",
           "MEM",
           2022
          ],
          [
           "Chimezie Metu",
           "SAC",
           2022
          ],
          [
           "Khris Middleton",
           "MIL",
           2022
          ],
          [
           "Paul Millsap",
           "TOT",
           2022
          ],
          [
           "Shake Milton",
           "PHI",
           2022
          ],
          [
           "Davion Mitchell",
           "SAC",
           2022
          ],
          [
           "Donovan Mitchell",
           "UTA",
           2022
          ],
          [
           "Evan Mobley",
           "CLE",
           2022
          ],
          [
           "Malik Monk",
           "LAL",
           2022
          ],
          [
           "Greg Monroe",
           "TOT",
           2022
          ],
          [
           "Moses Moody",
           "GSW",
           2022
          ],
          [
           "Ja Morant",
           "MEM",
           2022
          ],
          [
           "Marcus Morris",
           "LAC",
           2022
          ],
          [
           "Markieff Morris",
           "MIA",
           2022
          ],
          [
           "Monte Morris",
           "DEN",
           2022
          ],
          [
           "Mychal Mulder",
           "TOT",
           2022
          ],
          [
           "Dejounte Murray",
           "SAS",
           2022
          ],
          [
           "Mike Muscala",
           "OKC",
           2022
          ],
          [
           "Abdel Nader",
           "PHO",
           2022
          ],
          [
           "Aaron Nesmith",
           "BOS",
           2022
          ],
          [
           "Raul Neto",
           "WAS",
           2022
          ],
          [
           "Georges Niang",
           "PHI",
           2022
          ],
          [
           "Daishen Nix",
           "HOU",
           2022
          ],
          [
           "Zeke Nnaji",
           "DEN",
           2022
          ],
          [
           "Nerlens Noel",
           "NYK",
           2022
          ],
          [
           "Jaylen Nowell",
           "MIN",
           2022
          ],
          [
           "Frank Ntilikina",
           "DAL",
           2022
          ],
          [
           "David Nwaba",
           "HOU",
           2022
          ],
          [
           "Jordan Nwora",
           "MIL",
           2022
          ],
          [
           "Royce O'Neale",
           "UTA",
           2022
          ],
          [
           "Semi Ojeleye",
           "TOT",
           2022
          ],
          [
           "Chuma Okeke",
           "ORL",
           2022
          ],
          [
           "Josh Okogie",
           "MIN",
           2022
          ],
          [
           "Onyeka Okongwu",
           "ATL",
           2022
          ],
          [
           "Isaac Okoro",
           "CLE",
           2022
          ],
          [
           "KZ Okpala",
           "MIA",
           2022
          ],
          [
           "Kelly Olynyk",
           "DET",
           2022
          ],
          [
           "Miye Oni",
           "UTA",
           2022
          ],
          [
           "Cedi Osman",
           "CLE",
           2022
          ],
          [
           "Kevin Pangos",
           "CLE",
           2022
          ],
          [
           "Jabari Parker",
           "BOS",
           2022
          ],
          [
           "Eric Paschall",
           "UTA",
           2022
          ],
          [
           "Chris Paul",
           "PHO",
           2022
          ],
          [
           "Cameron Payne",
           "PHO",
           2022
          ],
          [
           "Elfrid Payton",
           "PHO",
           2022
          ],
          [
           "Gary Payton II",
           "GSW",
           2022
          ],
          [
           "Jamorko Pickett",
           "DET",
           2022
          ],
          [
           "Theo Pinson",
           "DAL",
           2022
          ],
          [
           "Mason Plumlee",
           "CHO",
           2022
          ],
          [
           "Jakob Poeltl",
           "SAS",
           2022
          ],
          [
           "Aleksej Pokusevski",
           "OKC",
           2022
          ],
          [
           "Yves Pons",
           "MEM",
           2022
          ],
          [
           "Jordan Poole",
           "GSW",
           2022
          ],
          [
           "Bobby Portis",
           "MIL",
           2022
          ],
          [
           "Dwight Powell",
           "DAL",
           2022
          ],
          [
           "Myles Powell",
           "PHI",
           2022
          ],
          [
           "Norman Powell",
           "TOT",
           2022
          ],
          [
           "Taurean Prince",
           "MIN",
           2022
          ],
          [
           "Payton Pritchard",
           "BOS",
           2022
          ],
          [
           "Neemias Queta",
           "SAC",
           2022
          ],
          [
           "Immanuel Quickley",
           "NYK",
           2022
          ],
          [
           "Jahmi'us Ramsey",
           "SAC",
           2022
          ],
          [
           "Julius Randle",
           "NYK",
           2022
          ],
          [
           "Austin Reaves",
           "LAL",
           2022
          ],
          [
           "Cam Reddish",
           "TOT",
           2022
          ],
          [
           "Davon Reed",
           "DEN",
           2022
          ],
          [
           "Paul Reed",
           "PHI",
           2022
          ],
          [
           "Naz Reid",
           "MIN",
           2022
          ],
          [
           "Nick Richards",
           "CHO",
           2022
          ],
          [
           "Josh Richardson",
           "TOT",
           2022
          ],
          [
           "Austin Rivers",
           "DEN",
           2022
          ],
          [
           "Duncan Robinson",
           "MIA",
           2022
          ],
          [
           "Justin Robinson",
           "TOT",
           2022
          ],
          [
           "Mitchell Robinson",
           "NYK",
           2022
          ],
          [
           "Jeremiah Robinson-Earl",
           "OKC",
           2022
          ],
          [
           "Isaiah Roby",
           "OKC",
           2022
          ],
          [
           "Rajon Rondo",
           "TOT",
           2022
          ],
          [
           "Derrick Rose",
           "NYK",
           2022
          ],
          [
           "Terrence Ross",
           "ORL",
           2022
          ],
          [
           "Terry Rozier",
           "CHO",
           2022
          ],
          [
           "Ricky Rubio",
           "CLE",
           2022
          ],
          [
           "D'Angelo Russell",
           "MIN",
           2022
          ],
          [
           "Domantas Sabonis",
           "TOT",
           2022
          ],
          [
           "Olivier Sarr",
           "OKC",
           2022
          ],
          [
           "Admiral Schofield",
           "ORL",
           2022
          ],
          [
           "Jay Scrubb",
           "LAC",
           2022
          ],
          [
           "Collin Sexton",
           "CLE",
           2022
          ],
          [
           "Landry Shamet",
           "PHO",
           2022
          ],
          [
           "Day'Ron Sharpe",
           "BRK",
           2022
          ],
          [
           "Pascal Siakam",
           "TOR",
           2022
          ],
          [
           "Anfernee Simons",
           "POR",
           2022
          ],
          [
           "Jericho Sims",
           "NYK",
           2022
          ],
          [
           "Marcus Smart",
           "BOS",
           2022
          ],
          [
           "Jalen Smith",
           "TOT",
           2022
          ],
          [
           "Tony Snell",
           "TOT",
           2022
          ],
          [
           "Lance Stephenson",
           "TOT",
           2022
          ],
          [
           "Lamar Stevens",
           "CLE",
           2022
          ],
          [
           "Isaiah Stewart",
           "DET",
           2022
          ],
          [
           "Max Strus",
           "MIA",
           2022
          ],
          [
           "Jalen Suggs",
           "ORL",
           2022
          ],
          [
           "Keifer Sykes",
           "IND",
           2022
          ],
          [
           "Jae'Sean Tate",
           "HOU",
           2022
          ],
          [
           "Jayson Tatum",
           "BOS",
           2022
          ],
          [
           "Terry Taylor",
           "IND",
           2022
          ],
          [
           "Garrett Temple",
           "NOP",
           2022
          ],
          [
           "Daniel Theis",
           "TOT",
           2022
          ],
          [
           "Brodric Thomas",
           "BOS",
           2022
          ],
          [
           "Cam Thomas",
           "BRK",
           2022
          ],
          [
           "Isaiah Thomas",
           "TOT",
           2022
          ],
          [
           "Matt Thomas",
           "CHI",
           2022
          ],
          [
           "Klay Thompson",
           "GSW",
           2022
          ],
          [
           "Tristan Thompson",
           "TOT",
           2022
          ],
          [
           "JT Thor",
           "CHO",
           2022
          ],
          [
           "Matisse Thybulle",
           "PHI",
           2022
          ],
          [
           "Killian Tillie",
           "MEM",
           2022
          ],
          [
           "Isaiah Todd",
           "WAS",
           2022
          ],
          [
           "Obi Toppin",
           "NYK",
           2022
          ],
          [
           "Juan Toscano-Anderson",
           "GSW",
           2022
          ],
          [
           "Karl-Anthony Towns",
           "MIN",
           2022
          ],
          [
           "Myles Turner",
           "IND",
           2022
          ],
          [
           "Denzel Valentine",
           "TOT",
           2022
          ],
          [
           "Jarred Vanderbilt",
           "MIN",
           2022
          ],
          [
           "Fred VanVleet",
           "TOR",
           2022
          ],
          [
           "Devin Vassell",
           "SAS",
           2022
          ],
          [
           "Gabe Vincent",
           "MIA",
           2022
          ],
          [
           "Dean Wade",
           "CLE",
           2022
          ],
          [
           "Franz Wagner",
           "ORL",
           2022
          ],
          [
           "Moritz Wagner",
           "ORL",
           2022
          ],
          [
           "Kemba Walker",
           "NYK",
           2022
          ],
          [
           "Brad Wanamaker",
           "TOT",
           2022
          ],
          [
           "Yuta Watanabe",
           "TOR",
           2022
          ],
          [
           "Lindy Waters III",
           "OKC",
           2022
          ],
          [
           "Trendon Watford",
           "POR",
           2022
          ],
          [
           "Quinndary Weatherspoon",
           "GSW",
           2022
          ],
          [
           "Russell Westbrook",
           "LAL",
           2022
          ],
          [
           "Coby White",
           "CHI",
           2022
          ],
          [
           "Derrick White",
           "TOT",
           2022
          ],
          [
           "Hassan Whiteside",
           "UTA",
           2022
          ],
          [
           "Joe Wieskamp",
           "SAS",
           2022
          ],
          [
           "Aaron Wiggins",
           "OKC",
           2022
          ],
          [
           "Andrew Wiggins",
           "GSW",
           2022
          ],
          [
           "Lindell Wigginton",
           "MIL",
           2022
          ],
          [
           "Brandon Williams",
           "POR",
           2022
          ],
          [
           "Grant Williams",
           "BOS",
           2022
          ],
          [
           "Kenrich Williams",
           "OKC",
           2022
          ],
          [
           "Patrick Williams",
           "CHI",
           2022
          ],
          [
           "Robert Williams",
           "BOS",
           2022
          ],
          [
           "Ziaire Williams",
           "MEM",
           2022
          ],
          [
           "Dylan Windler",
           "CLE",
           2022
          ],
          [
           "Justise Winslow",
           "TOT",
           2022
          ],
          [
           "Christian Wood",
           "HOU",
           2022
          ],
          [
           "Delon Wright",
           "ATL",
           2022
          ],
          [
           "Thaddeus Young",
           "TOT",
           2022
          ],
          [
           "Trae Young",
           "ATL",
           2022
          ],
          [
           "Omer Yurtseven",
           "MIA",
           2022
          ],
          [
           "Cody Zeller",
           "POR",
           2022
          ],
          [
           "Ivica Zubac",
           "LAC",
           2022
          ]
         ],
         "hovertemplate": "Efficiency Rating=%{x}<br>Salary (USD)=%{y}<br>Player=%{customdata[0]}<br>Team=%{customdata[1]}<br>season=%{customdata[2]}<extra></extra>",
         "legendgroup": "",
         "marker": {
          "color": "#636efa",
          "size": 6,
          "symbol": "circle"
         },
         "mode": "markers",
         "name": "",
         "orientation": "v",
         "showlegend": false,
         "type": "scatter",
         "x": [
          0.7033898305084746,
          0.779467680608365,
          0.9877300613496931,
          0.883408071748879,
          0.6902654867256637,
          0.5970695970695971,
          0.8947368421052634,
          0.7467532467532467,
          0.595959595959596,
          0.7627906976744186,
          1.4133738601823709,
          0.6363636363636362,
          0.7346153846153847,
          0.8138801261829652,
          0.7083333333333335,
          0.45595854922279794,
          1.0247678018575854,
          0.8171206225680933,
          0.8523489932885904,
          0.5871559633027523,
          0.7083333333333333,
          0.7429378531073447,
          0.7942028985507247,
          0.7102803738317756,
          0.904109589041096,
          0.6296296296296297,
          0.6169354838709677,
          0.45714285714285713,
          0.6810035842293907,
          0.8999999999999999,
          0.6679999999999999,
          0.7362204724409448,
          0.7333333333333334,
          0.5722222222222223,
          0.815068493150685,
          0.8014184397163121,
          0.7577639751552795,
          0.6785714285714285,
          0.4513274336283186,
          0.7068965517241378,
          0.4347826086956522,
          0.4565217391304348,
          1.0347826086956522,
          0.8009478672985783,
          0.693877551020408,
          0.43171806167400884,
          0.7100000000000001,
          0.5859375,
          0.617816091954023,
          0.8676056338028169,
          0.6781115879828324,
          0.8716417910447761,
          0.5448717948717949,
          0.8736462093862816,
          0.6869918699186991,
          0.949404761904762,
          0.9069767441860465,
          0.5390624999999999,
          0.7586206896551724,
          0.7730061349693252,
          0.4821428571428571,
          0.6666666666666666,
          0.6923076923076923,
          0.7209302325581397,
          0.967551622418879,
          0.8765432098765432,
          0.6158940397350994,
          0.587912087912088,
          0.9275362318840579,
          0.5474452554744526,
          0.5607142857142856,
          0.4673913043478261,
          0.6025641025641025,
          0.4128440366972477,
          0.8137254901960785,
          0.6666666666666666,
          0.5858585858585859,
          0.9333333333333335,
          0.7896678966789666,
          0.6079295154185023,
          0.8538961038961039,
          0.8491620111731845,
          0.7657342657342657,
          0.6153846153846154,
          0.6300000000000001,
          0.3,
          0.7931034482758623,
          1.0266666666666666,
          0.6227106227106227,
          0.5853658536585366,
          0.6263345195729536,
          0.6373626373626373,
          0.8190184049079754,
          0.6287425149700601,
          1.0289855072463765,
          1.0712250712250713,
          0.5230769230769231,
          0.8324022346368716,
          0.8050314465408805,
          1.0193905817174513,
          0.6620689655172414,
          0.8036529680365297,
          0.857142857142857,
          0.7567567567567566,
          0.6416666666666667,
          0.6963190184049078,
          0.5364963503649636,
          0.5714285714285714,
          0.5661375661375663,
          0.9847715736040609,
          0.6749999999999998,
          0.6749999999999999,
          1.1290322580645158,
          0.8571428571428572,
          0.4999999999999999,
          0.5495049504950495,
          0.5,
          1.3609467455621302,
          0.8114285714285715,
          0.6666666666666667,
          0.6646706586826349,
          0.9411764705882355,
          0.5498489425981874,
          0.6428571428571428,
          0.6229508196721312,
          0.6257309941520468,
          0.5156249999999999,
          0.6372881355932204,
          0.8923512747875354,
          0.39306358381502887,
          0.9100000000000001,
          0.6956521739130436,
          0.8407960199004973,
          0.7075098814229247,
          0.879551820728291,
          0.38317757009345793,
          0.68,
          0.7704918032786886,
          0.7089947089947091,
          1.0201729106628241,
          0.5549450549450551,
          0.7873015873015872,
          0.9999999999999998,
          0.6285714285714284,
          1.0093457943925235,
          0.6402877697841726,
          0.719242902208202,
          0.5802047781569967,
          0.8087774294670845,
          0.4724770642201835,
          0.7335640138408306,
          0.6990595611285267,
          0.7160493827160493,
          0.5683760683760685,
          0.5910931174089069,
          0.5548387096774193,
          0.736842105263158,
          0.5438596491228069,
          0.5612244897959183,
          0.7155555555555555,
          0.7771428571428571,
          1.0080645161290323,
          0.9177489177489176,
          0.5281690140845071,
          0.52317880794702,
          0.7787356321839082,
          0.7650602409638553,
          0.9050279329608941,
          0.7031249999999997,
          0.6557377049180327,
          0.745,
          0.5720000000000001,
          0.7460815047021944,
          0.8558282208588956,
          0.715210355987055,
          0.4767441860465116,
          0.4913793103448276,
          0.5714285714285715,
          0.34579439252336447,
          0.6358024691358024,
          0.8784194528875381,
          0.5287769784172661,
          0.7782426778242677,
          0.4044117647058823,
          0.7697594501718213,
          0.6349206349206349,
          0.8086419753086419,
          0.8421052631578947,
          0.6114864864864864,
          0.4793388429752066,
          0.5973154362416107,
          0.8052631578947369,
          0.7592592592592592,
          0.5948717948717949,
          0.5301204819277109,
          0.9558823529411763,
          0.9867021276595743,
          0.6,
          0.9133333333333334,
          0.6319018404907976,
          0.7628205128205129,
          1.172043010752688,
          0.6526946107784429,
          0.4774774774774775,
          0.6301369863013699,
          0.7061068702290076,
          0.6363636363636365,
          0.5885416666666666,
          0.7836990595611286,
          0.6063829787234043,
          0.530701754385965,
          0.7637362637362638,
          0.5,
          0.6987951807228916,
          0.7452830188679245,
          0.7999999999999999,
          0.5650406504065041,
          0.5212121212121212,
          0.6240875912408761,
          0.7597765363128492,
          0.5213675213675214,
          0.6016260162601625,
          0.9027777777777778,
          0.6621621621621621,
          0.6368715083798883,
          0.5687203791469194,
          0.7101449275362319,
          0.4956521739130435,
          0.775147928994083,
          0.8383233532934132,
          0.7065868263473054,
          0.7522935779816514,
          0.47826086956521735,
          0.9164265129682996,
          0.5588235294117647,
          0.5879396984924624,
          0.6871165644171779,
          0.6981132075471699,
          0.7947882736156352,
          0.9203296703296704,
          0.6640926640926642,
          0.5346534653465346,
          0.7440758293838862,
          0.7816593886462884,
          0.6764705882352942,
          0.9911111111111109,
          0.7109144542772862,
          0.8097560975609753,
          0.6363636363636364,
          0.6503496503496504,
          0.6403508771929824,
          0.7175324675324676,
          0.6940298507462686,
          0.6419213973799126,
          0.5703422053231938,
          0.5600000000000002,
          0.5551330798479088,
          0.392156862745098,
          0.7053824362606232,
          0.5443037974683543,
          0.4946236559139786,
          0.8959537572254335,
          0.5775193798449613,
          0.6503067484662577,
          0.6041666666666667,
          1.0506329113924051,
          0.5743243243243243,
          0.4628099173553718,
          0.6,
          0.6268656716417909,
          0.8105726872246696,
          0.7464788732394365,
          0.9104938271604939,
          0.7017543859649125,
          0.6214953271028038,
          0.6281588447653429,
          1.0088757396449706,
          0.7810650887573966,
          0.7010676156583628,
          0.8633093525179855,
          0.5384615384615385,
          1.1480362537764353,
          0.7379310344827585,
          0.6228571428571429,
          0.6655518394648829,
          0.3971631205673758,
          1.1005747126436782,
          0.8840579710144927,
          0.4711538461538461,
          0.5272727272727273,
          0.6224489795918368,
          0.5701754385964911,
          0.5321100917431193,
          0.6294117647058824,
          0.511111111111111,
          0.802547770700637,
          0.5762711864406779,
          0.7348484848484849,
          0.643979057591623,
          0.48717948717948717,
          0.45925925925925926,
          0.66,
          0.45714285714285713,
          0.782608695652174,
          0.4662162162162163,
          0.5775862068965517,
          0.8429319371727747,
          0.32142857142857145,
          0.6711711711711711,
          0.46376811594202905,
          0.7419354838709676,
          0.6299212598425196,
          0.9027355623100303,
          0.8136363636363637,
          0.5909090909090908,
          0.7159090909090909,
          0.5111111111111111,
          0.5897435897435898,
          0.7073170731707318,
          0.9103448275862068,
          0.7227722772277226,
          0.423728813559322,
          0.8166666666666667,
          0.8865248226950354,
          0.684931506849315,
          0.3829787234042553,
          0.7469135802469136,
          0.6432748538011696,
          0.7092198581560284,
          0.7093023255813954,
          0.7532467532467532,
          0.5915492957746478,
          0.9320113314447594,
          0.5344827586206897,
          0.6425120772946861,
          0.5899280575539567,
          0.8734177215189874,
          0.8481012658227849,
          0.6986301369863015,
          0.6138211382113822,
          0.4117647058823529,
          0.5791505791505791,
          0.40163934426229514,
          0.7548638132295721,
          0.6396396396396397,
          0.8104265402843602,
          0.6312849162011174,
          0.7673469387755102,
          0.6,
          0.8427299703264095,
          0.7999999999999998,
          0.8531250000000001,
          0.9999999999999998,
          0.6335078534031414,
          0.5203252032520325,
          0.5970149253731343,
          0.6794425087108014,
          0.5576923076923077,
          0.9508196721311476,
          0.9445910290237467,
          0.7593220338983051,
          0.5259259259259259,
          0.6687306501547988,
          0.8839779005524862,
          0.3870967741935484,
          0.7740112994350282,
          0.5900621118012422,
          0.71875,
          0.6351931330472103,
          0.6764705882352943,
          0.4745762711864407,
          0.7424242424242424,
          1.0584958217270195,
          0.736111111111111,
          0.5,
          0.6778846153846153,
          0.64,
          0.6761363636363635,
          0.7284768211920531,
          0.5130434782608695,
          0.91156462585034,
          0.7452229299363057,
          0.5189873417721519,
          0.4431372549019608,
          0.48437499999999994,
          0.5161290322580645,
          0.8070175438596491,
          0.6029411764705881,
          1.1044776119402986,
          0.7891156462585034,
          0.5376344086021505,
          0.6889763779527561,
          0.8179419525065963,
          0.7106227106227107,
          0.5726495726495726,
          0.4999999999999999,
          0.7296416938110748,
          0.9013157894736843,
          0.6914062499999999,
          0.525179856115108,
          0.641025641025641,
          0.6774193548387097,
          0.7513812154696131,
          0.6666666666666666,
          0.8892128279883381,
          0.6618181818181817,
          0.7406143344709897,
          0.9664804469273744,
          0.4225352112676057,
          0.5371900826446281,
          0.7554858934169278,
          0.6190476190476191,
          0.7078651685393259,
          0.5245901639344263,
          0.6529680365296805,
          0.5685483870967741,
          0.8006756756756757,
          0.5207373271889401,
          0.5217391304347826,
          0.7391304347826085,
          0.9805194805194803,
          0.5555555555555556,
          0.7668711656441718,
          1.1117478510028653,
          0.9126984126984129,
          0.7938931297709925,
          0.8360655737704918
         ],
         "xaxis": "x",
         "y": [
          3135181,
          19742519,
          32497412,
          3054712,
          3771404,
          4688636,
          23126950,
          2226438,
          515532,
          11490798,
          45496378,
          1999575,
          3054712,
          3988705,
          18584157,
          3054712,
          9518775,
          8752097,
          2351039,
          1069919,
          23455458,
          8418672,
          9972248,
          18067930,
          1069919,
          1999575,
          13907389,
          2777011,
          2905947,
          38996895,
          16757746,
          16560038,
          3265895,
          7342806,
          3582827,
          1755581,
          2416128,
          20958799,
          534959,
          2499042,
          2721255,
          1999575,
          36599093,
          8117559,
          4803930,
          3054712,
          2069001,
          534959,
          6426661,
          6269130,
          1967632,
          25092741,
          2010962,
          14107439,
          5476579,
          30942620,
          2236270,
          3469042,
          2083804,
          10021679,
          11026930,
          3642494,
          11026930,
          1069919,
          41647244,
          839656,
          15077455,
          3584677,
          20355703,
          4749291,
          9944588,
          4879881,
          534959,
          534959,
          1495041,
          2612466,
          938044,
          3153220,
          14361836,
          663253,
          26595993,
          8094432,
          24283298,
          6167187,
          534959,
          534959,
          252108,
          2357725,
          15004153,
          5640719,
          11240738,
          7395027,
          11621431,
          9490743,
          52938707,
          40890021,
          3054712,
          4625390,
          6078118,
          30065035,
          1004956,
          6013007,
          4625390,
          22334024,
          5406884,
          2061329,
          1069919,
          276703,
          2209618,
          2777011,
          4335609,
          6148796,
          48588451,
          11847335,
          535632,
          1755313,
          3054712,
          36516749,
          2590009,
          252108,
          11240738,
          2061329,
          4625390,
          729508,
          2368246,
          5203563,
          535632,
          19823100,
          32497412,
          446496,
          19079734,
          603628,
          2061329,
          23676215,
          8141704,
          273628,
          2721255,
          1069919,
          6810886,
          45496459,
          5677666,
          6924209,
          6354744,
          1755313,
          40870904,
          397769,
          18974611,
          21067285,
          23129841,
          11563475,
          27783229,
          10397969,
          9482049,
          1930149,
          5203563,
          3419920,
          37472385,
          2507701,
          442972,
          5684789,
          4652679,
          51238730,
          11240738,
          24204831,
          20070889,
          41623828,
          13876170,
          1999575,
          3054712,
          716354,
          6184470,
          6443954,
          34603699,
          4630339,
          26680677,
          633332,
          6100300,
          375086,
          2763255,
          4602900,
          36044894,
          6945508,
          12008090,
          2589691,
          31221383,
          10985301,
          3054712,
          534959,
          4918358,
          1755313,
          8991064,
          2424722,
          11240738,
          3054712,
          15074567,
          34075017,
          40852255,
          3469042,
          2834485,
          5787924,
          12008090,
          47619020,
          2790081,
          1755313,
          1160670,
          5130714,
          3075514,
          3054712,
          2481198,
          2952432,
          1583036,
          2286111,
          3203730,
          1755313,
          9685897,
          12846241,
          8452900,
          578001,
          15434611,
          147574,
          3912663,
          10118040,
          534959,
          6759982,
          2543964,
          5353461,
          939374,
          1069919,
          6321011,
          15032517,
          12141649,
          1069919,
          4399162,
          22548776,
          4556222,
          2209618,
          1721876,
          4315489,
          20236081,
          45496378,
          2678378,
          1222559,
          5988228,
          15382110,
          5781737,
          36145407,
          31203029,
          2890868,
          534959,
          2061329,
          3354841,
          18144143,
          1755313,
          975970,
          2061329,
          1149131,
          2312695,
          2264700,
          3009880,
          590786,
          1069919,
          35689739,
          2385868,
          2061329,
          15899778,
          5781737,
          2242562,
          1260426,
          2312695,
          2763255,
          10182768,
          2038404,
          41050337,
          3054712,
          2135470,
          5322898,
          32497412,
          9337691,
          2069001,
          708612,
          4119141,
          11104821,
          18071291,
          3054712,
          9770065,
          298223,
          17841147,
          4047216,
          2312695,
          4198929,
          2416128,
          3815946,
          1067398,
          2889434,
          10175858,
          2061329,
          2069001,
          5377016,
          1755313,
          10175858,
          2069001,
          3789443,
          4727037,
          7058669,
          7771488,
          2061329,
          14101799,
          1094206,
          9404960,
          1814515,
          1350944,
          2061329,
          35615504,
          7516258,
          2589691,
          1930149,
          534959,
          509613,
          10694287,
          10118040,
          3599894,
          534959,
          2499375,
          5027336,
          12812475,
          347416,
          17943324,
          15419171,
          2471623,
          534959,
          2556268,
          1755313,
          22895681,
          1069919,
          5400328,
          615637,
          1755313,
          2061329,
          1755313,
          13431355,
          2777011,
          18096838,
          307533,
          2083804,
          2312695,
          2061329,
          8672605,
          15547231,
          14454344,
          20704706,
          20582986,
          34706036,
          21392429,
          258257,
          836895,
          534959,
          7342426,
          4357512,
          2323287,
          38164020,
          4554642,
          534959,
          16003023,
          5154997,
          2763255,
          1867297,
          1755313,
          3789443,
          1930149,
          7623706,
          645640,
          1755313,
          32497412,
          1035075,
          5677666,
          9574963,
          534959,
          2354647,
          1053345,
          1930149,
          43918911,
          11501738,
          1445434,
          3284212,
          2198939,
          1734521,
          5903339,
          1967632,
          36599093,
          20814255,
          1162860,
          4683207,
          22752208,
          4897316,
          1930149,
          2061329,
          5790803,
          1999575,
          40434514,
          942327,
          2038404,
          184468,
          889034,
          400664,
          51123449,
          6750479,
          18129876,
          2777011,
          651790,
          1509913,
          36516749,
          270554,
          209065,
          3027086,
          2312695,
          8582411,
          4234516,
          5056754,
          2589293,
          4512575,
          15803416,
          9859384,
          16408571,
          9628294,
          1721876,
          2763255,
          8694019
         ],
         "yaxis": "y"
        },
        {
         "line": {
          "color": "green"
         },
         "mode": "lines",
         "name": "Linear fit",
         "type": "scatter",
         "x": [
          0.3,
          0.32142857142857145,
          0.34579439252336447,
          0.3829787234042553,
          0.38317757009345793,
          0.3870967741935484,
          0.392156862745098,
          0.39306358381502887,
          0.3971631205673758,
          0.40163934426229514,
          0.4044117647058823,
          0.4117647058823529,
          0.4128440366972477,
          0.4225352112676057,
          0.423728813559322,
          0.43171806167400884,
          0.4347826086956522,
          0.4431372549019608,
          0.4513274336283186,
          0.45595854922279794,
          0.4565217391304348,
          0.45714285714285713,
          0.45714285714285713,
          0.45925925925925926,
          0.4628099173553718,
          0.46376811594202905,
          0.4662162162162163,
          0.4673913043478261,
          0.4711538461538461,
          0.4724770642201835,
          0.4745762711864407,
          0.4767441860465116,
          0.4774774774774775,
          0.47826086956521735,
          0.4793388429752066,
          0.4821428571428571,
          0.48437499999999994,
          0.48717948717948717,
          0.4913793103448276,
          0.4946236559139786,
          0.4956521739130435,
          0.4999999999999999,
          0.4999999999999999,
          0.5,
          0.5,
          0.5,
          0.511111111111111,
          0.5111111111111111,
          0.5130434782608695,
          0.5156249999999999,
          0.5161290322580645,
          0.5189873417721519,
          0.5203252032520325,
          0.5207373271889401,
          0.5212121212121212,
          0.5213675213675214,
          0.5217391304347826,
          0.5230769230769231,
          0.52317880794702,
          0.5245901639344263,
          0.525179856115108,
          0.5259259259259259,
          0.5272727272727273,
          0.5281690140845071,
          0.5287769784172661,
          0.5301204819277109,
          0.530701754385965,
          0.5321100917431193,
          0.5344827586206897,
          0.5346534653465346,
          0.5364963503649636,
          0.5371900826446281,
          0.5376344086021505,
          0.5384615384615385,
          0.5390624999999999,
          0.5438596491228069,
          0.5443037974683543,
          0.5448717948717949,
          0.5474452554744526,
          0.5495049504950495,
          0.5498489425981874,
          0.5548387096774193,
          0.5549450549450551,
          0.5551330798479088,
          0.5555555555555556,
          0.5576923076923077,
          0.5588235294117647,
          0.5600000000000002,
          0.5607142857142856,
          0.5612244897959183,
          0.5650406504065041,
          0.5661375661375663,
          0.5683760683760685,
          0.5685483870967741,
          0.5687203791469194,
          0.5701754385964911,
          0.5703422053231938,
          0.5714285714285714,
          0.5714285714285715,
          0.5720000000000001,
          0.5722222222222223,
          0.5726495726495726,
          0.5743243243243243,
          0.5762711864406779,
          0.5775193798449613,
          0.5775862068965517,
          0.5791505791505791,
          0.5802047781569967,
          0.5853658536585366,
          0.5858585858585859,
          0.5859375,
          0.5871559633027523,
          0.587912087912088,
          0.5879396984924624,
          0.5885416666666666,
          0.5897435897435898,
          0.5899280575539567,
          0.5900621118012422,
          0.5909090909090908,
          0.5910931174089069,
          0.5915492957746478,
          0.5948717948717949,
          0.595959595959596,
          0.5970149253731343,
          0.5970695970695971,
          0.5973154362416107,
          0.6,
          0.6,
          0.6,
          0.6016260162601625,
          0.6025641025641025,
          0.6029411764705881,
          0.6041666666666667,
          0.6063829787234043,
          0.6079295154185023,
          0.6114864864864864,
          0.6138211382113822,
          0.6153846153846154,
          0.6158940397350994,
          0.6169354838709677,
          0.617816091954023,
          0.6190476190476191,
          0.6214953271028038,
          0.6224489795918368,
          0.6227106227106227,
          0.6228571428571429,
          0.6229508196721312,
          0.6240875912408761,
          0.6257309941520468,
          0.6263345195729536,
          0.6268656716417909,
          0.6281588447653429,
          0.6285714285714284,
          0.6287425149700601,
          0.6294117647058824,
          0.6296296296296297,
          0.6299212598425196,
          0.6300000000000001,
          0.6301369863013699,
          0.6312849162011174,
          0.6319018404907976,
          0.6335078534031414,
          0.6349206349206349,
          0.6351931330472103,
          0.6358024691358024,
          0.6363636363636362,
          0.6363636363636364,
          0.6363636363636365,
          0.6368715083798883,
          0.6372881355932204,
          0.6373626373626373,
          0.6396396396396397,
          0.64,
          0.6402877697841726,
          0.6403508771929824,
          0.641025641025641,
          0.6416666666666667,
          0.6419213973799126,
          0.6425120772946861,
          0.6428571428571428,
          0.6432748538011696,
          0.643979057591623,
          0.6503067484662577,
          0.6503496503496504,
          0.6526946107784429,
          0.6529680365296805,
          0.6557377049180327,
          0.66,
          0.6618181818181817,
          0.6620689655172414,
          0.6621621621621621,
          0.6640926640926642,
          0.6646706586826349,
          0.6655518394648829,
          0.6666666666666666,
          0.6666666666666666,
          0.6666666666666666,
          0.6666666666666667,
          0.6679999999999999,
          0.6687306501547988,
          0.6711711711711711,
          0.6749999999999998,
          0.6749999999999999,
          0.6761363636363635,
          0.6764705882352942,
          0.6764705882352943,
          0.6774193548387097,
          0.6778846153846153,
          0.6781115879828324,
          0.6785714285714285,
          0.6794425087108014,
          0.68,
          0.6810035842293907,
          0.684931506849315,
          0.6869918699186991,
          0.6871165644171779,
          0.6889763779527561,
          0.6902654867256637,
          0.6914062499999999,
          0.6923076923076923,
          0.693877551020408,
          0.6940298507462686,
          0.6956521739130436,
          0.6963190184049078,
          0.6981132075471699,
          0.6986301369863015,
          0.6987951807228916,
          0.6990595611285267,
          0.7010676156583628,
          0.7017543859649125,
          0.7031249999999997,
          0.7033898305084746,
          0.7053824362606232,
          0.7061068702290076,
          0.7065868263473054,
          0.7068965517241378,
          0.7073170731707318,
          0.7075098814229247,
          0.7078651685393259,
          0.7083333333333333,
          0.7083333333333335,
          0.7089947089947091,
          0.7092198581560284,
          0.7093023255813954,
          0.7100000000000001,
          0.7101449275362319,
          0.7102803738317756,
          0.7106227106227107,
          0.7109144542772862,
          0.715210355987055,
          0.7155555555555555,
          0.7159090909090909,
          0.7160493827160493,
          0.7175324675324676,
          0.71875,
          0.719242902208202,
          0.7209302325581397,
          0.7227722772277226,
          0.7284768211920531,
          0.7296416938110748,
          0.7333333333333334,
          0.7335640138408306,
          0.7346153846153847,
          0.7348484848484849,
          0.736111111111111,
          0.7362204724409448,
          0.736842105263158,
          0.7379310344827585,
          0.7391304347826085,
          0.7406143344709897,
          0.7419354838709676,
          0.7424242424242424,
          0.7429378531073447,
          0.7440758293838862,
          0.745,
          0.7452229299363057,
          0.7452830188679245,
          0.7460815047021944,
          0.7464788732394365,
          0.7467532467532467,
          0.7469135802469136,
          0.7513812154696131,
          0.7522935779816514,
          0.7532467532467532,
          0.7548638132295721,
          0.7554858934169278,
          0.7567567567567566,
          0.7577639751552795,
          0.7586206896551724,
          0.7592592592592592,
          0.7593220338983051,
          0.7597765363128492,
          0.7627906976744186,
          0.7628205128205129,
          0.7637362637362638,
          0.7650602409638553,
          0.7657342657342657,
          0.7668711656441718,
          0.7673469387755102,
          0.7697594501718213,
          0.7704918032786886,
          0.7730061349693252,
          0.7740112994350282,
          0.775147928994083,
          0.7771428571428571,
          0.7782426778242677,
          0.7787356321839082,
          0.779467680608365,
          0.7810650887573966,
          0.7816593886462884,
          0.782608695652174,
          0.7836990595611286,
          0.7873015873015872,
          0.7891156462585034,
          0.7896678966789666,
          0.7931034482758623,
          0.7938931297709925,
          0.7942028985507247,
          0.7947882736156352,
          0.7999999999999998,
          0.7999999999999999,
          0.8006756756756757,
          0.8009478672985783,
          0.8014184397163121,
          0.802547770700637,
          0.8036529680365297,
          0.8050314465408805,
          0.8052631578947369,
          0.8070175438596491,
          0.8086419753086419,
          0.8087774294670845,
          0.8097560975609753,
          0.8104265402843602,
          0.8105726872246696,
          0.8114285714285715,
          0.8136363636363637,
          0.8137254901960785,
          0.8138801261829652,
          0.815068493150685,
          0.8166666666666667,
          0.8171206225680933,
          0.8179419525065963,
          0.8190184049079754,
          0.8324022346368716,
          0.8360655737704918,
          0.8383233532934132,
          0.8407960199004973,
          0.8421052631578947,
          0.8427299703264095,
          0.8429319371727747,
          0.8481012658227849,
          0.8491620111731845,
          0.8523489932885904,
          0.8531250000000001,
          0.8538961038961039,
          0.8558282208588956,
          0.857142857142857,
          0.8571428571428572,
          0.8633093525179855,
          0.8676056338028169,
          0.8716417910447761,
          0.8734177215189874,
          0.8736462093862816,
          0.8765432098765432,
          0.8784194528875381,
          0.879551820728291,
          0.883408071748879,
          0.8839779005524862,
          0.8840579710144927,
          0.8865248226950354,
          0.8892128279883381,
          0.8923512747875354,
          0.8947368421052634,
          0.8959537572254335,
          0.8999999999999999,
          0.9013157894736843,
          0.9027355623100303,
          0.9027777777777778,
          0.904109589041096,
          0.9050279329608941,
          0.9069767441860465,
          0.9100000000000001,
          0.9103448275862068,
          0.9104938271604939,
          0.91156462585034,
          0.9126984126984129,
          0.9133333333333334,
          0.9164265129682996,
          0.9177489177489176,
          0.9203296703296704,
          0.9275362318840579,
          0.9320113314447594,
          0.9333333333333335,
          0.9411764705882355,
          0.9445910290237467,
          0.949404761904762,
          0.9508196721311476,
          0.9558823529411763,
          0.9664804469273744,
          0.967551622418879,
          0.9805194805194803,
          0.9847715736040609,
          0.9867021276595743,
          0.9877300613496931,
          0.9911111111111109,
          0.9999999999999998,
          0.9999999999999998,
          1.0080645161290323,
          1.0088757396449706,
          1.0093457943925235,
          1.0193905817174513,
          1.0201729106628241,
          1.0247678018575854,
          1.0266666666666666,
          1.0289855072463765,
          1.0347826086956522,
          1.0506329113924051,
          1.0584958217270195,
          1.0712250712250713,
          1.1005747126436782,
          1.1044776119402986,
          1.1117478510028653,
          1.1290322580645158,
          1.1480362537764353,
          1.172043010752688,
          1.3609467455621302,
          1.4133738601823709
         ],
         "y": [
          -6041033.063436836,
          -5232300.674898684,
          -4312714.002573375,
          -2909345.941863572,
          -2901841.299827691,
          -2753927.2261527404,
          -2562955.2094623074,
          -2528734.790286565,
          -2374014.8099707104,
          -2205078.3462176286,
          -2100444.856540162,
          -1822938.6447868757,
          -1782203.7880157512,
          -1416450.6726412121,
          -1371403.113798475,
          -1069882.1406457946,
          -954223.54712441,
          -638912.1413061824,
          -329807.8771231696,
          -155025.66222825646,
          -133770.39933208376,
          -110328.88082373142,
          -110328.88082373142,
          -30454.077017493546,
          103550.75912023708,
          139713.98326535895,
          232107.35576449707,
          276456.17456407845,
          418457.680912748,
          468397.0485888906,
          547622.8929022215,
          629441.831172403,
          657116.8692605197,
          686682.7484602407,
          727366.3756234981,
          833192.2391374409,
          917435.1962768324,
          1023278.911657095,
          1181783.7859211303,
          1304228.1285189874,
          1343045.2666941062,
          1507135.896252565,
          1507135.896252565,
          1507135.8962525688,
          1507135.8962525688,
          1507135.8962525688,
          1926478.6162353083,
          1926478.616235312,
          1999407.7849279605,
          2096836.5962282978,
          2115859.199453328,
          2223734.215210423,
          2274226.2376844175,
          2289780.1432249695,
          2307699.270765081,
          2313564.2039116956,
          2327589.0440448932,
          2378078.4685244225,
          2381923.68959406,
          2435189.45687012,
          2457444.937940087,
          2485602.2428789735,
          2536431.6634829454,
          2570258.284941219,
          2593203.3724668697,
          2643908.3299407326,
          2665846.0435733125,
          2718997.8851935305,
          2808544.33757833,
          2814986.9536244906,
          2884538.991086405,
          2910721.033384897,
          2927490.270387672,
          2958706.850038994,
          2981387.6461919025,
          3162436.1067107692,
          3179198.640487559,
          3200635.342336733,
          3297759.9195365496,
          3375494.5496410355,
          3388477.1022174545,
          3576795.1271351464,
          3580808.6873760372,
          3587904.9060528837,
          3603849.4961662926,
          3684492.3269322067,
          3727185.590278864,
          3771586.5841593966,
          3798544.3304439895,
          3817799.8635044247,
          3961824.988834489,
          4003223.515197482,
          4087706.48076177,
          4094209.934855789,
          4100701.0601268895,
          4155616.2329856902,
          4161910.1501357183,
          4202910.524713069,
          4202910.524713073,
          4224476.721740756,
          4232863.576140411,
          4248992.142293591,
          4312198.685326334,
          4385674.906303611,
          4432782.779853113,
          4435304.889235526,
          4494345.619681772,
          4534131.980769653,
          4728915.330266338,
          4747511.459755596,
          4750489.746119108,
          4796475.580520887,
          4825012.362050112,
          4826054.4086788185,
          4848773.196115065,
          4894134.788420893,
          4901096.759422261,
          4906156.079963636,
          4938121.787020478,
          4945067.102588836,
          4962283.659490671,
          5087677.582259081,
          5128732.114285365,
          5168561.13789295,
          5170624.493904021,
          5179902.671940364,
          5281220.376097269,
          5281220.376097269,
          5281220.376097269,
          5342587.603411816,
          5377991.773016363,
          5392222.860798579,
          5438473.896090802,
          5522119.385449063,
          5580486.986833859,
          5714730.079863213,
          5802841.808270931,
          5861848.757611841,
          5881074.862960007,
          5920379.844458066,
          5953614.737448912,
          6000093.6103534065,
          6092472.180176038,
          6128463.830756288,
          6138338.463094968,
          6143868.257204633,
          6147403.699340317,
          6190306.418687608,
          6252329.832899418,
          6275107.392141778,
          6295153.519936141,
          6343958.96608964,
          6359530.227481466,
          6365987.172699347,
          6391245.2231104225,
          6399467.629384592,
          6410473.999987807,
          6413445.720050685,
          6418615.698790196,
          6461939.542976063,
          6485222.786845274,
          6545835.070914347,
          6599154.638900183,
          6609438.948403131,
          6632435.807152778,
          6653614.732404429,
          6653614.732404433,
          6653614.732404441,
          6672782.251347274,
          6688506.114344452,
          6691317.874061223,
          6777253.863603279,
          6790854.168035153,
          6801714.8427972905,
          6804096.569718815,
          6829562.726802789,
          6853755.576032564,
          6863369.328346577,
          6885662.087335601,
          6898685.15317357,
          6914449.917082697,
          6941027.163044676,
          7179839.562276814,
          7181458.7155995,
          7269959.50320106,
          7280278.822042413,
          7384808.446830381,
          7545671.064004093,
          7614290.781819448,
          7623755.570483636,
          7627272.890595324,
          7700131.664337508,
          7721945.668451935,
          7755202.175594132,
          7797276.695993736,
          7797276.695993736,
          7797276.695993736,
          7797276.69599374,
          7847597.8223916665,
          7875173.176485892,
          7967280.501392145,
          8111783.73598079,
          8111783.735980794,
          8154671.059615392,
          8167284.978331458,
          8167284.978331462,
          8203092.231460914,
          8220651.557514776,
          8229217.695117589,
          8246572.467403818,
          8279447.7677509,
          8300487.9599730335,
          8338364.076616634,
          8486607.194595508,
          8564367.037425585,
          8569073.113139898,
          8639264.047140203,
          8687916.101266824,
          8730969.470955316,
          8764990.665184688,
          8824238.459216781,
          8829986.379533328,
          8891214.226383511,
          8916381.500855658,
          8984095.71481283,
          9003605.068546847,
          9009833.958594449,
          9019811.898451272,
          9095597.572808638,
          9121516.864360306,
          9173244.995937109,
          9183239.923055355,
          9258442.547491688,
          9285783.297459207,
          9303897.24682995,
          9315586.544207118,
          9331457.378857441,
          9338734.125179313,
          9352142.961098298,
          9369811.895929027,
          9369811.895929039,
          9394772.772118483,
          9403270.091672335,
          9406382.48197404,
          9432713.303926446,
          9438182.991578393,
          9443294.84919703,
          9456214.928892512,
          9467225.580880776,
          9629356.540578544,
          9642384.663917813,
          9655727.386826359,
          9661022.11813927,
          9716994.992018644,
          9762945.695912853,
          9781548.241653416,
          9845229.514514126,
          9914749.836500663,
          10130044.144904379,
          10174007.421628833,
          10313333.01589021,
          10322039.093121689,
          10361718.714349758,
          10370516.114069674,
          10418168.69588589,
          10422296.084862098,
          10445757.032726865,
          10486854.141400304,
          10532120.521968156,
          10588124.14980381,
          10637985.444263943,
          10656431.604966998,
          10675815.706044786,
          10718763.89208205,
          10753642.87187209,
          10762056.435999129,
          10764324.24304146,
          10794459.772986397,
          10809456.79727824,
          10819811.885479756,
          10825863.00698023,
          10994475.334536206,
          11028908.666502964,
          11064882.306248888,
          11125911.516090237,
          11149389.34789342,
          11197352.803961933,
          11235366.077218726,
          11267699.20619576,
          11291799.362516608,
          11294168.530426119,
          11311321.83551395,
          11425078.831658415,
          11426204.0804598,
          11460765.293645192,
          11510733.3127084,
          11536171.576958768,
          11579079.140009902,
          11597035.219919015,
          11688085.43810168,
          11715725.063045617,
          11810618.065153752,
          11848553.821250763,
          11891451.181032378,
          11966741.454679314,
          12008249.61632255,
          12026854.130302463,
          12054482.256274834,
          12114769.789307207,
          12137199.16917761,
          12173026.817552816,
          12214178.072614502,
          12350140.512949247,
          12418604.630497456,
          12439447.027906034,
          12569107.647521533,
          12598910.894269444,
          12610601.829708721,
          12632694.37918239,
          12829389.335786667,
          12829389.335786674,
          12854889.906596437,
          12865162.64839184,
          12882922.448975962,
          12925544.354381446,
          12967255.435507033,
          13019280.378797732,
          13028025.361041661,
          13094237.369459987,
          13155544.784662139,
          13160656.939033229,
          13197592.69967395,
          13222895.77444347,
          13228411.483435452,
          13260713.276340358,
          13344037.219401866,
          13347400.93105948,
          13353237.023840826,
          13398086.99713314,
          13458403.415760793,
          13475536.094981872,
          13506533.780719232,
          13547160.003732596,
          14052277.044339709,
          14190534.558025748,
          14275745.064589437,
          14369065.5912457,
          14418477.53782655,
          14442054.514117941,
          14449676.913521044,
          14644771.743813243,
          14684805.169453349,
          14805084.566846307,
          14834371.715704177,
          14863473.828170508,
          14936393.554595679,
          14986009.03855507,
          14986009.038555078,
          15218737.783458136,
          15380883.068639431,
          15533211.052690342,
          15600236.169090383,
          15608859.494228259,
          15718194.740112249,
          15789005.73639438,
          15831742.255326986,
          15977280.42659885,
          15998786.247037474,
          16001808.173917003,
          16094909.240333151,
          16196356.830925092,
          16314804.464481778,
          16404837.790376402,
          16450765.195059627,
          16603473.815631375,
          16653132.821945123,
          16706716.248210713,
          16708309.49562706,
          16758573.177816778,
          16793232.253165476,
          16866782.035155423,
          16980882.263615854,
          16993896.3480291,
          16999519.717837304,
          17039932.565001167,
          17082722.63846881,
          17106685.079610676,
          17223424.29214765,
          17273332.965733677,
          17370732.74834706,
          17642714.46950165,
          17811608.50747969,
          17861501.97557962,
          18157508.601449795,
          18286376.92141965,
          18468051.266983226,
          18521451.174240984,
          18712521.024956353,
          19112502.045248806,
          19152929.113225587,
          19642347.033168666,
          19802824.61834237,
          19875685.35932651,
          19914480.44518838,
          20042084.11948988,
          20377558.29547607,
          20377558.29547607,
          20681919.947076455,
          20712536.207888335,
          20730276.471162505,
          21109375.230626017,
          21138900.98593466,
          21312316.0613819,
          21383980.823434666,
          21471495.825865835,
          21690283.331943803,
          22288487.14603036,
          22585240.024633147,
          23065652.654339828,
          24173332.916009545,
          24320631.632627264,
          24595016.5967352,
          25247344.721082136,
          25964571.57379604,
          26870606.86295083,
          33999993.40024098,
          35978636.99635388
         ]
        },
        {
         "line": {
          "color": "purple"
         },
         "mode": "lines",
         "name": "Log-Linear fit",
         "type": "scatter",
         "x": [
          0.3,
          0.32142857142857145,
          0.34579439252336447,
          0.3829787234042553,
          0.38317757009345793,
          0.3870967741935484,
          0.392156862745098,
          0.39306358381502887,
          0.3971631205673758,
          0.40163934426229514,
          0.4044117647058823,
          0.4117647058823529,
          0.4128440366972477,
          0.4225352112676057,
          0.423728813559322,
          0.43171806167400884,
          0.4347826086956522,
          0.4431372549019608,
          0.4513274336283186,
          0.45595854922279794,
          0.4565217391304348,
          0.45714285714285713,
          0.45714285714285713,
          0.45925925925925926,
          0.4628099173553718,
          0.46376811594202905,
          0.4662162162162163,
          0.4673913043478261,
          0.4711538461538461,
          0.4724770642201835,
          0.4745762711864407,
          0.4767441860465116,
          0.4774774774774775,
          0.47826086956521735,
          0.4793388429752066,
          0.4821428571428571,
          0.48437499999999994,
          0.48717948717948717,
          0.4913793103448276,
          0.4946236559139786,
          0.4956521739130435,
          0.4999999999999999,
          0.4999999999999999,
          0.5,
          0.5,
          0.5,
          0.511111111111111,
          0.5111111111111111,
          0.5130434782608695,
          0.5156249999999999,
          0.5161290322580645,
          0.5189873417721519,
          0.5203252032520325,
          0.5207373271889401,
          0.5212121212121212,
          0.5213675213675214,
          0.5217391304347826,
          0.5230769230769231,
          0.52317880794702,
          0.5245901639344263,
          0.525179856115108,
          0.5259259259259259,
          0.5272727272727273,
          0.5281690140845071,
          0.5287769784172661,
          0.5301204819277109,
          0.530701754385965,
          0.5321100917431193,
          0.5344827586206897,
          0.5346534653465346,
          0.5364963503649636,
          0.5371900826446281,
          0.5376344086021505,
          0.5384615384615385,
          0.5390624999999999,
          0.5438596491228069,
          0.5443037974683543,
          0.5448717948717949,
          0.5474452554744526,
          0.5495049504950495,
          0.5498489425981874,
          0.5548387096774193,
          0.5549450549450551,
          0.5551330798479088,
          0.5555555555555556,
          0.5576923076923077,
          0.5588235294117647,
          0.5600000000000002,
          0.5607142857142856,
          0.5612244897959183,
          0.5650406504065041,
          0.5661375661375663,
          0.5683760683760685,
          0.5685483870967741,
          0.5687203791469194,
          0.5701754385964911,
          0.5703422053231938,
          0.5714285714285714,
          0.5714285714285715,
          0.5720000000000001,
          0.5722222222222223,
          0.5726495726495726,
          0.5743243243243243,
          0.5762711864406779,
          0.5775193798449613,
          0.5775862068965517,
          0.5791505791505791,
          0.5802047781569967,
          0.5853658536585366,
          0.5858585858585859,
          0.5859375,
          0.5871559633027523,
          0.587912087912088,
          0.5879396984924624,
          0.5885416666666666,
          0.5897435897435898,
          0.5899280575539567,
          0.5900621118012422,
          0.5909090909090908,
          0.5910931174089069,
          0.5915492957746478,
          0.5948717948717949,
          0.595959595959596,
          0.5970149253731343,
          0.5970695970695971,
          0.5973154362416107,
          0.6,
          0.6,
          0.6,
          0.6016260162601625,
          0.6025641025641025,
          0.6029411764705881,
          0.6041666666666667,
          0.6063829787234043,
          0.6079295154185023,
          0.6114864864864864,
          0.6138211382113822,
          0.6153846153846154,
          0.6158940397350994,
          0.6169354838709677,
          0.617816091954023,
          0.6190476190476191,
          0.6214953271028038,
          0.6224489795918368,
          0.6227106227106227,
          0.6228571428571429,
          0.6229508196721312,
          0.6240875912408761,
          0.6257309941520468,
          0.6263345195729536,
          0.6268656716417909,
          0.6281588447653429,
          0.6285714285714284,
          0.6287425149700601,
          0.6294117647058824,
          0.6296296296296297,
          0.6299212598425196,
          0.6300000000000001,
          0.6301369863013699,
          0.6312849162011174,
          0.6319018404907976,
          0.6335078534031414,
          0.6349206349206349,
          0.6351931330472103,
          0.6358024691358024,
          0.6363636363636362,
          0.6363636363636364,
          0.6363636363636365,
          0.6368715083798883,
          0.6372881355932204,
          0.6373626373626373,
          0.6396396396396397,
          0.64,
          0.6402877697841726,
          0.6403508771929824,
          0.641025641025641,
          0.6416666666666667,
          0.6419213973799126,
          0.6425120772946861,
          0.6428571428571428,
          0.6432748538011696,
          0.643979057591623,
          0.6503067484662577,
          0.6503496503496504,
          0.6526946107784429,
          0.6529680365296805,
          0.6557377049180327,
          0.66,
          0.6618181818181817,
          0.6620689655172414,
          0.6621621621621621,
          0.6640926640926642,
          0.6646706586826349,
          0.6655518394648829,
          0.6666666666666666,
          0.6666666666666666,
          0.6666666666666666,
          0.6666666666666667,
          0.6679999999999999,
          0.6687306501547988,
          0.6711711711711711,
          0.6749999999999998,
          0.6749999999999999,
          0.6761363636363635,
          0.6764705882352942,
          0.6764705882352943,
          0.6774193548387097,
          0.6778846153846153,
          0.6781115879828324,
          0.6785714285714285,
          0.6794425087108014,
          0.68,
          0.6810035842293907,
          0.684931506849315,
          0.6869918699186991,
          0.6871165644171779,
          0.6889763779527561,
          0.6902654867256637,
          0.6914062499999999,
          0.6923076923076923,
          0.693877551020408,
          0.6940298507462686,
          0.6956521739130436,
          0.6963190184049078,
          0.6981132075471699,
          0.6986301369863015,
          0.6987951807228916,
          0.6990595611285267,
          0.7010676156583628,
          0.7017543859649125,
          0.7031249999999997,
          0.7033898305084746,
          0.7053824362606232,
          0.7061068702290076,
          0.7065868263473054,
          0.7068965517241378,
          0.7073170731707318,
          0.7075098814229247,
          0.7078651685393259,
          0.7083333333333333,
          0.7083333333333335,
          0.7089947089947091,
          0.7092198581560284,
          0.7093023255813954,
          0.7100000000000001,
          0.7101449275362319,
          0.7102803738317756,
          0.7106227106227107,
          0.7109144542772862,
          0.715210355987055,
          0.7155555555555555,
          0.7159090909090909,
          0.7160493827160493,
          0.7175324675324676,
          0.71875,
          0.719242902208202,
          0.7209302325581397,
          0.7227722772277226,
          0.7284768211920531,
          0.7296416938110748,
          0.7333333333333334,
          0.7335640138408306,
          0.7346153846153847,
          0.7348484848484849,
          0.736111111111111,
          0.7362204724409448,
          0.736842105263158,
          0.7379310344827585,
          0.7391304347826085,
          0.7406143344709897,
          0.7419354838709676,
          0.7424242424242424,
          0.7429378531073447,
          0.7440758293838862,
          0.745,
          0.7452229299363057,
          0.7452830188679245,
          0.7460815047021944,
          0.7464788732394365,
          0.7467532467532467,
          0.7469135802469136,
          0.7513812154696131,
          0.7522935779816514,
          0.7532467532467532,
          0.7548638132295721,
          0.7554858934169278,
          0.7567567567567566,
          0.7577639751552795,
          0.7586206896551724,
          0.7592592592592592,
          0.7593220338983051,
          0.7597765363128492,
          0.7627906976744186,
          0.7628205128205129,
          0.7637362637362638,
          0.7650602409638553,
          0.7657342657342657,
          0.7668711656441718,
          0.7673469387755102,
          0.7697594501718213,
          0.7704918032786886,
          0.7730061349693252,
          0.7740112994350282,
          0.775147928994083,
          0.7771428571428571,
          0.7782426778242677,
          0.7787356321839082,
          0.779467680608365,
          0.7810650887573966,
          0.7816593886462884,
          0.782608695652174,
          0.7836990595611286,
          0.7873015873015872,
          0.7891156462585034,
          0.7896678966789666,
          0.7931034482758623,
          0.7938931297709925,
          0.7942028985507247,
          0.7947882736156352,
          0.7999999999999998,
          0.7999999999999999,
          0.8006756756756757,
          0.8009478672985783,
          0.8014184397163121,
          0.802547770700637,
          0.8036529680365297,
          0.8050314465408805,
          0.8052631578947369,
          0.8070175438596491,
          0.8086419753086419,
          0.8087774294670845,
          0.8097560975609753,
          0.8104265402843602,
          0.8105726872246696,
          0.8114285714285715,
          0.8136363636363637,
          0.8137254901960785,
          0.8138801261829652,
          0.815068493150685,
          0.8166666666666667,
          0.8171206225680933,
          0.8179419525065963,
          0.8190184049079754,
          0.8324022346368716,
          0.8360655737704918,
          0.8383233532934132,
          0.8407960199004973,
          0.8421052631578947,
          0.8427299703264095,
          0.8429319371727747,
          0.8481012658227849,
          0.8491620111731845,
          0.8523489932885904,
          0.8531250000000001,
          0.8538961038961039,
          0.8558282208588956,
          0.857142857142857,
          0.8571428571428572,
          0.8633093525179855,
          0.8676056338028169,
          0.8716417910447761,
          0.8734177215189874,
          0.8736462093862816,
          0.8765432098765432,
          0.8784194528875381,
          0.879551820728291,
          0.883408071748879,
          0.8839779005524862,
          0.8840579710144927,
          0.8865248226950354,
          0.8892128279883381,
          0.8923512747875354,
          0.8947368421052634,
          0.8959537572254335,
          0.8999999999999999,
          0.9013157894736843,
          0.9027355623100303,
          0.9027777777777778,
          0.904109589041096,
          0.9050279329608941,
          0.9069767441860465,
          0.9100000000000001,
          0.9103448275862068,
          0.9104938271604939,
          0.91156462585034,
          0.9126984126984129,
          0.9133333333333334,
          0.9164265129682996,
          0.9177489177489176,
          0.9203296703296704,
          0.9275362318840579,
          0.9320113314447594,
          0.9333333333333335,
          0.9411764705882355,
          0.9445910290237467,
          0.949404761904762,
          0.9508196721311476,
          0.9558823529411763,
          0.9664804469273744,
          0.967551622418879,
          0.9805194805194803,
          0.9847715736040609,
          0.9867021276595743,
          0.9877300613496931,
          0.9911111111111109,
          0.9999999999999998,
          0.9999999999999998,
          1.0080645161290323,
          1.0088757396449706,
          1.0093457943925235,
          1.0193905817174513,
          1.0201729106628241,
          1.0247678018575854,
          1.0266666666666666,
          1.0289855072463765,
          1.0347826086956522,
          1.0506329113924051,
          1.0584958217270195,
          1.0712250712250713,
          1.1005747126436782,
          1.1044776119402986,
          1.1117478510028653,
          1.1290322580645158,
          1.1480362537764353,
          1.172043010752688,
          1.3609467455621302,
          1.4133738601823709
         ],
         "y": [
          920291.7571894098,
          999713.55066349,
          1098381.8748330525,
          1268049.9201813894,
          1269024.334042583,
          1288383.2693918257,
          1313815.040828908,
          1318424.932031217,
          1339470.249904098,
          1362833.1634989285,
          1377507.2606770047,
          1417195.2790941186,
          1423116.5086111673,
          1477403.209907439,
          1484231.0325160543,
          1530751.9462265598,
          1548981.0879308952,
          1599788.0373574796,
          1651212.0626804784,
          1681017.8729245113,
          1684679.057559181,
          1688726.068217234,
          1688726.068217234,
          1702589.0241520212,
          1726102.8030610476,
          1732503.8075141967,
          1748965.7279039198,
          1756922.9181963967,
          1782645.5820402813,
          1791781.007752714,
          1806369.9630154856,
          1821561.1127238418,
          1826728.3397045892,
          1832264.8023867344,
          1839910.5995083563,
          1859948.5398559072,
          1876055.6855089096,
          1896490.7369823162,
          1927509.993011804,
          1951819.1547740365,
          1959589.4307107052,
          1992779.7469800054,
          1992779.7469800054,
          1992779.7469800054,
          1992779.7469800054,
          1992779.7469800054,
          2080175.9245393502,
          2080175.9245393502,
          2095761.8854824214,
          2116766.1230143383,
          2120891.617438496,
          2144439.3726637173,
          2155550.7930091033,
          2158985.2159632877,
          2162948.6822997658,
          2164247.505248592,
          2167356.549555932,
          2178586.1360096512,
          2179443.7499398803,
          2191358.600350187,
          2196356.1313571627,
          2202695.2683135667,
          2214185.0062105544,
          2221864.5406526844,
          2227088.835605347,
          2238677.295935994,
          2243709.7619524878,
          2255949.6431367155,
          2276721.718578648,
          2278223.565654745,
          2294500.1509910314,
          2300657.361155593,
          2304609.6468100566,
          2311985.0711469683,
          2317358.5783569296,
          2360702.5411197115,
          2364756.355548085,
          2369950.705702057,
          2393628.3918853463,
          2412749.3857872495,
          2415957.65791702,
          2462977.7885331716,
          2463989.810176932,
          2465780.1436824948,
          2469807.6149994074,
          2490278.3206729037,
          2501184.3535797987,
          2512577.2970631267,
          2519519.7449515196,
          2524490.377617066,
          2561981.4058244526,
          2572860.4720755755,
          2595205.185098514,
          2596933.2921589613,
          2598659.2706362708,
          2613307.09523219,
          2614991.17119441,
          2625988.31645735,
          2625988.3164573545,
          2631791.3634922924,
          2634051.5656870436,
          2638403.5655052457,
          2655528.115603464,
          2675574.781132155,
          2688506.860256426,
          2689200.99124797,
          2705501.3891202905,
          2716541.587824741,
          2771245.070795512,
          2776524.916024078,
          2777371.4502783087,
          2790475.0566411493,
          2798637.644396493,
          2798936.1601779903,
          2805452.346606387,
          2818508.345425303,
          2820517.514998635,
          2821978.493284805,
          2831226.7312098434,
          2833240.137034135,
          2838237.290793288,
          2874900.0805715146,
          2887006.256365858,
          2898799.770797287,
          2899412.0486600487,
          2902166.8430267707,
          2932420.0819504517,
          2932420.0819504517,
          2932420.0819504517,
          2950897.3461756865,
          2961610.2193016154,
          2965927.3246721565,
          2980001.4256603406,
          3005624.412517069,
          3023634.457617681,
          3065467.4250607737,
          3093239.005433753,
          3111977.69036523,
          3118107.761239383,
          3130677.403538498,
          3141345.374076113,
          3156325.4854646865,
          3186311.459899019,
          3198071.2752321544,
          3201305.2667561565,
          3203117.7302715043,
          3204277.0561414696,
          3218379.0039483476,
          3238875.632852963,
          3246435.568936724,
          3253103.5324984523,
          3269395.055750409,
          3274609.975655601,
          3276774.8889818434,
          3285257.2793178554,
          3288023.338027799,
          3291729.581847063,
          3292730.983741695,
          3294473.8747596047,
          3309115.4108564234,
          3317010.9776465925,
          3337653.6416927087,
          3355918.8162794732,
          3359453.296011265,
          3367370.2599776727,
          3374677.8792313375,
          3374677.8792313375,
          3374677.8792313375,
          3381305.148651951,
          3386751.472421996,
          3387726.3146632365,
          3417656.2058641347,
          3422417.112133233,
          3426223.749189922,
          3427059.1039178288,
          3436003.7148903855,
          3444522.718051039,
          3447913.860140519,
          3455790.230249017,
          3460399.800138931,
          3465988.033032062,
          3475429.4719820064,
          3561428.6615809253,
          3562018.9421990397,
          3594432.163107705,
          3598230.740791718,
          3636935.4738094844,
          3697313.8323623403,
          3723373.6636607805,
          3726982.50872444,
          3728324.5248650247,
          3756232.3667289475,
          3764628.5726959337,
          3777465.126730066,
          3793768.0483033704,
          3793768.0483033704,
          3793768.0483033704,
          3793768.0483033704,
          3813358.766826037,
          3824137.112636158,
          3860360.306174961,
          3917881.969046035,
          3917881.969046035,
          3935118.274163692,
          3940202.191938451,
          3940202.191938451,
          3954669.7730618115,
          3961783.852544427,
          3965259.0264356793,
          3972308.985246931,
          3985698.16460117,
          3994290.9140192857,
          4009806.1205527578,
          4071112.7258238504,
          4103644.538442293,
          4105621.7063721856,
          4135224.4028500407,
          4155868.3325389964,
          4174222.576557951,
          4188783.598211779,
          4214262.924281796,
          4216743.031390679,
          4243252.315811696,
          4254197.040590003,
          4283784.907047223,
          4292347.682203799,
          4295085.183413071,
          4299473.973042554,
          4332954.961273247,
          4344465.451647657,
          4367528.869946575,
          4371999.28548898,
          4405782.107738232,
          4418128.826917942,
          4426327.8951587565,
          4431626.995394277,
          4438831.864119459,
          4442139.197579733,
          4448240.065337805,
          4456292.026449807,
          4456292.026449807,
          4467691.864516419,
          4471579.310344165,
          4473004.046613357,
          4485075.495022967,
          4487587.174231397,
          4489935.809506028,
          4495877.401567357,
          4500947.104992881,
          4576263.3581600925,
          4582369.864030316,
          4588632.274196248,
          4591119.728888212,
          4617498.29543039,
          4639266.917079304,
          4648108.816706513,
          4678504.680676185,
          4711914.585647158,
          4816901.270830248,
          4838625.561817247,
          4908122.166028309,
          4912497.807269989,
          4932490.091718674,
          4936933.604198062,
          4961072.288646953,
          4963168.586573838,
          4975101.22396675,
          4996073.098561572,
          5019274.88107241,
          5048129.330541743,
          5073958.65389945,
          5083547.652920495,
          5093643.756109138,
          5116084.571190733,
          5134381.881584222,
          5138805.37618538,
          5139998.344710276,
          5155877.306082564,
          5163797.783286188,
          5169273.784224585,
          5172476.439673377,
          5262519.687422885,
          5281099.812764103,
          5300581.1546874195,
          5333795.729503856,
          5346628.682498155,
          5372941.495755245,
          5393887.580345234,
          5411768.043971511,
          5425134.156345851,
          5426449.89396677,
          5435985.652115813,
          5499650.185944875,
          5500283.645579587,
          5519775.482334163,
          5548078.642375275,
          5562543.225150998,
          5587026.616717237,
          5597304.453964882,
          5649712.202262118,
          5665718.218352416,
          5721016.327748374,
          5743273.791842751,
          5768546.639935609,
          5813172.858017125,
          5837923.128014671,
          5849050.704401794,
          5865614.556207624,
          5901921.6924022045,
          5915486.687284429,
          5937219.485602362,
          5962280.085076693,
          6045834.050070846,
          6088350.023909739,
          6101352.346126898,
          6182865.848718115,
          6201755.602313373,
          6209181.24573971,
          6223237.8885423215,
          6349798.640808215,
          6349798.640808215,
          6366394.015757752,
          6373091.605476657,
          6384687.208759357,
          6412601.747955833,
          6440037.914693602,
          6474422.768203085,
          6480220.58754862,
          6524287.166102501,
          6565356.695490046,
          6568792.957137555,
          6593673.745101942,
          6610772.857831534,
          6614506.102808106,
          6636411.569152306,
          6693253.22541333,
          6695558.06705251,
          6699558.88693019,
          6730384.798798644,
          6772064.734937808,
          6783950.784706961,
          6805508.930863767,
          6833867.260412957,
          7196480.832944084,
          7299045.030108824,
          7362983.874129288,
          7433650.954660761,
          7471342.43023544,
          7489394.258370899,
          7495239.71083395,
          7646416.468040334,
          7677812.958626651,
          7772920.548193401,
          7796256.350520794,
          7819514.112682164,
          7878095.121063854,
          7918205.059132321,
          7918205.059132336,
          8109089.275363595,
          8244794.188043795,
          8374350.891979846,
          8431999.603469986,
          8439445.334208773,
          8534421.96751493,
          8596503.143479226,
          8634189.269520719,
          8763772.129306603,
          8783084.495254965,
          8785801.613198208,
          8869925.103209486,
          8962507.568807416,
          9071828.04915761,
          9155814.851506725,
          9198956.86466221,
          9343871.082023054,
          9391485.59760009,
          9443135.152824776,
          9444675.239456302,
          9493390.977701718,
          9527128.968556795,
          9599121.840691969,
          9711884.889042383,
          9724830.326813525,
          9730429.37209725,
          9770762.350697506,
          9813650.094451737,
          9837749.406262003,
          9956004.559381034,
          10006994.109002555,
          10107256.61716669,
          10392583.34530024,
          10573803.885627635,
          10627940.945636235,
          10954872.3047401,
          11100328.155311108,
          11308673.554605216,
          11370653.315535977,
          11595218.054770345,
          12079779.649694879,
          12129868.42535037,
          12752985.371459315,
          12964192.336915232,
          13061236.580954526,
          13113204.326325888,
          13285598.08810941,
          13749715.815611145,
          13749715.815611145,
          14184803.029017918,
          14229324.184648495,
          14255185.40429164,
          14819197.869750477,
          14864050.966530427,
          15130242.59890699,
          15241635.02735735,
          15378777.177069794,
          15727055.557164187,
          16720104.21199474,
          17235756.091943357,
          18104469.555673137,
          20277984.36500323,
          20586027.870386537,
          21172376.58234877,
          22634302.77952677,
          24358443.451698072,
          26725443.49558658,
          55442503.30139257,
          67888805.55768828
         ]
        }
       ],
       "layout": {
        "legend": {
         "tracegroupgap": 0
        },
        "margin": {
         "t": 60
        },
        "template": {
         "data": {
          "bar": [
           {
            "error_x": {
             "color": "#2a3f5f"
            },
            "error_y": {
             "color": "#2a3f5f"
            },
            "marker": {
             "line": {
              "color": "#E5ECF6",
              "width": 0.5
             },
             "pattern": {
              "fillmode": "overlay",
              "size": 10,
              "solidity": 0.2
             }
            },
            "type": "bar"
           }
          ],
          "barpolar": [
           {
            "marker": {
             "line": {
              "color": "#E5ECF6",
              "width": 0.5
             },
             "pattern": {
              "fillmode": "overlay",
              "size": 10,
              "solidity": 0.2
             }
            },
            "type": "barpolar"
           }
          ],
          "carpet": [
           {
            "aaxis": {
             "endlinecolor": "#2a3f5f",
             "gridcolor": "white",
             "linecolor": "white",
             "minorgridcolor": "white",
             "startlinecolor": "#2a3f5f"
            },
            "baxis": {
             "endlinecolor": "#2a3f5f",
             "gridcolor": "white",
             "linecolor": "white",
             "minorgridcolor": "white",
             "startlinecolor": "#2a3f5f"
            },
            "type": "carpet"
           }
          ],
          "choropleth": [
           {
            "colorbar": {
             "outlinewidth": 0,
             "ticks": ""
            },
            "type": "choropleth"
           }
          ],
          "contour": [
           {
            "colorbar": {
             "outlinewidth": 0,
             "ticks": ""
            },
            "colorscale": [
             [
              0,
              "#0d0887"
             ],
             [
              0.1111111111111111,
              "#46039f"
             ],
             [
              0.2222222222222222,
              "#7201a8"
             ],
             [
              0.3333333333333333,
              "#9c179e"
             ],
             [
              0.4444444444444444,
              "#bd3786"
             ],
             [
              0.5555555555555556,
              "#d8576b"
             ],
             [
              0.6666666666666666,
              "#ed7953"
             ],
             [
              0.7777777777777778,
              "#fb9f3a"
             ],
             [
              0.8888888888888888,
              "#fdca26"
             ],
             [
              1,
              "#f0f921"
             ]
            ],
            "type": "contour"
           }
          ],
          "contourcarpet": [
           {
            "colorbar": {
             "outlinewidth": 0,
             "ticks": ""
            },
            "type": "contourcarpet"
           }
          ],
          "heatmap": [
           {
            "colorbar": {
             "outlinewidth": 0,
             "ticks": ""
            },
            "colorscale": [
             [
              0,
              "#0d0887"
             ],
             [
              0.1111111111111111,
              "#46039f"
             ],
             [
              0.2222222222222222,
              "#7201a8"
             ],
             [
              0.3333333333333333,
              "#9c179e"
             ],
             [
              0.4444444444444444,
              "#bd3786"
             ],
             [
              0.5555555555555556,
              "#d8576b"
             ],
             [
              0.6666666666666666,
              "#ed7953"
             ],
             [
              0.7777777777777778,
              "#fb9f3a"
             ],
             [
              0.8888888888888888,
              "#fdca26"
             ],
             [
              1,
              "#f0f921"
             ]
            ],
            "type": "heatmap"
           }
          ],
          "heatmapgl": [
           {
            "colorbar": {
             "outlinewidth": 0,
             "ticks": ""
            },
            "colorscale": [
             [
              0,
              "#0d0887"
             ],
             [
              0.1111111111111111,
              "#46039f"
             ],
             [
              0.2222222222222222,
              "#7201a8"
             ],
             [
              0.3333333333333333,
              "#9c179e"
             ],
             [
              0.4444444444444444,
              "#bd3786"
             ],
             [
              0.5555555555555556,
              "#d8576b"
             ],
             [
              0.6666666666666666,
              "#ed7953"
             ],
             [
              0.7777777777777778,
              "#fb9f3a"
             ],
             [
              0.8888888888888888,
              "#fdca26"
             ],
             [
              1,
              "#f0f921"
             ]
            ],
            "type": "heatmapgl"
           }
          ],
          "histogram": [
           {
            "marker": {
             "pattern": {
              "fillmode": "overlay",
              "size": 10,
              "solidity": 0.2
             }
            },
            "type": "histogram"
           }
          ],
          "histogram2d": [
           {
            "colorbar": {
             "outlinewidth": 0,
             "ticks": ""
            },
            "colorscale": [
             [
              0,
              "#0d0887"
             ],
             [
              0.1111111111111111,
              "#46039f"
             ],
             [
              0.2222222222222222,
              "#7201a8"
             ],
             [
              0.3333333333333333,
              "#9c179e"
             ],
             [
              0.4444444444444444,
              "#bd3786"
             ],
             [
              0.5555555555555556,
              "#d8576b"
             ],
             [
              0.6666666666666666,
              "#ed7953"
             ],
             [
              0.7777777777777778,
              "#fb9f3a"
             ],
             [
              0.8888888888888888,
              "#fdca26"
             ],
             [
              1,
              "#f0f921"
             ]
            ],
            "type": "histogram2d"
           }
          ],
          "histogram2dcontour": [
           {
            "colorbar": {
             "outlinewidth": 0,
             "ticks": ""
            },
            "colorscale": [
             [
              0,
              "#0d0887"
             ],
             [
              0.1111111111111111,
              "#46039f"
             ],
             [
              0.2222222222222222,
              "#7201a8"
             ],
             [
              0.3333333333333333,
              "#9c179e"
             ],
             [
              0.4444444444444444,
              "#bd3786"
             ],
             [
              0.5555555555555556,
              "#d8576b"
             ],
             [
              0.6666666666666666,
              "#ed7953"
             ],
             [
              0.7777777777777778,
              "#fb9f3a"
             ],
             [
              0.8888888888888888,
              "#fdca26"
             ],
             [
              1,
              "#f0f921"
             ]
            ],
            "type": "histogram2dcontour"
           }
          ],
          "mesh3d": [
           {
            "colorbar": {
             "outlinewidth": 0,
             "ticks": ""
            },
            "type": "mesh3d"
           }
          ],
          "parcoords": [
           {
            "line": {
             "colorbar": {
              "outlinewidth": 0,
              "ticks": ""
             }
            },
            "type": "parcoords"
           }
          ],
          "pie": [
           {
            "automargin": true,
            "type": "pie"
           }
          ],
          "scatter": [
           {
            "fillpattern": {
             "fillmode": "overlay",
             "size": 10,
             "solidity": 0.2
            },
            "type": "scatter"
           }
          ],
          "scatter3d": [
           {
            "line": {
             "colorbar": {
              "outlinewidth": 0,
              "ticks": ""
             }
            },
            "marker": {
             "colorbar": {
              "outlinewidth": 0,
              "ticks": ""
             }
            },
            "type": "scatter3d"
           }
          ],
          "scattercarpet": [
           {
            "marker": {
             "colorbar": {
              "outlinewidth": 0,
              "ticks": ""
             }
            },
            "type": "scattercarpet"
           }
          ],
          "scattergeo": [
           {
            "marker": {
             "colorbar": {
              "outlinewidth": 0,
              "ticks": ""
             }
            },
            "type": "scattergeo"
           }
          ],
          "scattergl": [
           {
            "marker": {
             "colorbar": {
              "outlinewidth": 0,
              "ticks": ""
             }
            },
            "type": "scattergl"
           }
          ],
          "scattermapbox": [
           {
            "marker": {
             "colorbar": {
              "outlinewidth": 0,
              "ticks": ""
             }
            },
            "type": "scattermapbox"
           }
          ],
          "scatterpolar": [
           {
            "marker": {
             "colorbar": {
              "outlinewidth": 0,
              "ticks": ""
             }
            },
            "type": "scatterpolar"
           }
          ],
          "scatterpolargl": [
           {
            "marker": {
             "colorbar": {
              "outlinewidth": 0,
              "ticks": ""
             }
            },
            "type": "scatterpolargl"
           }
          ],
          "scatterternary": [
           {
            "marker": {
             "colorbar": {
              "outlinewidth": 0,
              "ticks": ""
             }
            },
            "type": "scatterternary"
           }
          ],
          "surface": [
           {
            "colorbar": {
             "outlinewidth": 0,
             "ticks": ""
            },
            "colorscale": [
             [
              0,
              "#0d0887"
             ],
             [
              0.1111111111111111,
              "#46039f"
             ],
             [
              0.2222222222222222,
              "#7201a8"
             ],
             [
              0.3333333333333333,
              "#9c179e"
             ],
             [
              0.4444444444444444,
              "#bd3786"
             ],
             [
              0.5555555555555556,
              "#d8576b"
             ],
             [
              0.6666666666666666,
              "#ed7953"
             ],
             [
              0.7777777777777778,
              "#fb9f3a"
             ],
             [
              0.8888888888888888,
              "#fdca26"
             ],
             [
              1,
              "#f0f921"
             ]
            ],
            "type": "surface"
           }
          ],
          "table": [
           {
            "cells": {
             "fill": {
              "color": "#EBF0F8"
             },
             "line": {
              "color": "white"
             }
            },
            "header": {
             "fill": {
              "color": "#C8D4E3"
             },
             "line": {
              "color": "white"
             }
            },
            "type": "table"
           }
          ]
         },
         "layout": {
          "annotationdefaults": {
           "arrowcolor": "#2a3f5f",
           "arrowhead": 0,
           "arrowwidth": 1
          },
          "autotypenumbers": "strict",
          "coloraxis": {
           "colorbar": {
            "outlinewidth": 0,
            "ticks": ""
           }
          },
          "colorscale": {
           "diverging": [
            [
             0,
             "#8e0152"
            ],
            [
             0.1,
             "#c51b7d"
            ],
            [
             0.2,
             "#de77ae"
            ],
            [
             0.3,
             "#f1b6da"
            ],
            [
             0.4,
             "#fde0ef"
            ],
            [
             0.5,
             "#f7f7f7"
            ],
            [
             0.6,
             "#e6f5d0"
            ],
            [
             0.7,
             "#b8e186"
            ],
            [
             0.8,
             "#7fbc41"
            ],
            [
             0.9,
             "#4d9221"
            ],
            [
             1,
             "#276419"
            ]
           ],
           "sequential": [
            [
             0,
             "#0d0887"
            ],
            [
             0.1111111111111111,
             "#46039f"
            ],
            [
             0.2222222222222222,
             "#7201a8"
            ],
            [
             0.3333333333333333,
             "#9c179e"
            ],
            [
             0.4444444444444444,
             "#bd3786"
            ],
            [
             0.5555555555555556,
             "#d8576b"
            ],
            [
             0.6666666666666666,
             "#ed7953"
            ],
            [
             0.7777777777777778,
             "#fb9f3a"
            ],
            [
             0.8888888888888888,
             "#fdca26"
            ],
            [
             1,
             "#f0f921"
            ]
           ],
           "sequentialminus": [
            [
             0,
             "#0d0887"
            ],
            [
             0.1111111111111111,
             "#46039f"
            ],
            [
             0.2222222222222222,
             "#7201a8"
            ],
            [
             0.3333333333333333,
             "#9c179e"
            ],
            [
             0.4444444444444444,
             "#bd3786"
            ],
            [
             0.5555555555555556,
             "#d8576b"
            ],
            [
             0.6666666666666666,
             "#ed7953"
            ],
            [
             0.7777777777777778,
             "#fb9f3a"
            ],
            [
             0.8888888888888888,
             "#fdca26"
            ],
            [
             1,
             "#f0f921"
            ]
           ]
          },
          "colorway": [
           "#636efa",
           "#EF553B",
           "#00cc96",
           "#ab63fa",
           "#FFA15A",
           "#19d3f3",
           "#FF6692",
           "#B6E880",
           "#FF97FF",
           "#FECB52"
          ],
          "font": {
           "color": "#2a3f5f"
          },
          "geo": {
           "bgcolor": "white",
           "lakecolor": "white",
           "landcolor": "#E5ECF6",
           "showlakes": true,
           "showland": true,
           "subunitcolor": "white"
          },
          "hoverlabel": {
           "align": "left"
          },
          "hovermode": "closest",
          "mapbox": {
           "style": "light"
          },
          "paper_bgcolor": "white",
          "plot_bgcolor": "#E5ECF6",
          "polar": {
           "angularaxis": {
            "gridcolor": "white",
            "linecolor": "white",
            "ticks": ""
           },
           "bgcolor": "#E5ECF6",
           "radialaxis": {
            "gridcolor": "white",
            "linecolor": "white",
            "ticks": ""
           }
          },
          "scene": {
           "xaxis": {
            "backgroundcolor": "#E5ECF6",
            "gridcolor": "white",
            "gridwidth": 2,
            "linecolor": "white",
            "showbackground": true,
            "ticks": "",
            "zerolinecolor": "white"
           },
           "yaxis": {
            "backgroundcolor": "#E5ECF6",
            "gridcolor": "white",
            "gridwidth": 2,
            "linecolor": "white",
            "showbackground": true,
            "ticks": "",
            "zerolinecolor": "white"
           },
           "zaxis": {
            "backgroundcolor": "#E5ECF6",
            "gridcolor": "white",
            "gridwidth": 2,
            "linecolor": "white",
            "showbackground": true,
            "ticks": "",
            "zerolinecolor": "white"
           }
          },
          "shapedefaults": {
           "line": {
            "color": "#2a3f5f"
           }
          },
          "ternary": {
           "aaxis": {
            "gridcolor": "white",
            "linecolor": "white",
            "ticks": ""
           },
           "baxis": {
            "gridcolor": "white",
            "linecolor": "white",
            "ticks": ""
           },
           "bgcolor": "#E5ECF6",
           "caxis": {
            "gridcolor": "white",
            "linecolor": "white",
            "ticks": ""
           }
          },
          "title": {
           "x": 0.05
          },
          "xaxis": {
           "automargin": true,
           "gridcolor": "white",
           "linecolor": "white",
           "ticks": "",
           "title": {
            "standoff": 15
           },
           "zerolinecolor": "white",
           "zerolinewidth": 2
          },
          "yaxis": {
           "automargin": true,
           "gridcolor": "white",
           "linecolor": "white",
           "ticks": "",
           "title": {
            "standoff": 15
           },
           "zerolinecolor": "white",
           "zerolinewidth": 2
          }
         }
        },
        "xaxis": {
         "anchor": "y",
         "domain": [
          0,
          1
         ],
         "title": {
          "text": "Efficiency Rating"
         }
        },
        "yaxis": {
         "anchor": "x",
         "domain": [
          0,
          1
         ],
         "title": {
          "text": "Salary (USD)"
         }
        }
       }
      }
     },
     "metadata": {},
     "output_type": "display_data"
    },
    {
     "data": {
      "text/plain": [
       "(37740844.79844702, 3.862975268252798)"
      ]
     },
     "execution_count": 119,
     "metadata": {},
     "output_type": "execute_result"
    }
   ],
   "source": [
    "#20251022_Begin\n",
    "# efficiency_plot(df_efficiency, 'ratingPm', year=2022)\n",
    "efficiency_plot(df_efficiency.rename(columns={'team_abbr' : 'team'}), 'ratingPm', year=2022)\n",
    "#20251022_End"
   ]
  },
  {
   "cell_type": "code",
   "execution_count": 120,
   "id": "692689f9",
   "metadata": {},
   "outputs": [
    {
     "ename": "ValueError",
     "evalue": "Found array with 0 sample(s) (shape=(0, 1)) while a minimum of 1 is required by LinearRegression.",
     "output_type": "error",
     "traceback": [
      "\u001b[1;31m---------------------------------------------------------------------------\u001b[0m",
      "\u001b[1;31mValueError\u001b[0m                                Traceback (most recent call last)",
      "Cell \u001b[1;32mIn[120], line 2\u001b[0m\n\u001b[0;32m      1\u001b[0m \u001b[38;5;66;03m#generate list of coefficients of linear regression for all available seasons\u001b[39;00m\n\u001b[1;32m----> 2\u001b[0m coeff_lin \u001b[38;5;241m=\u001b[39m [sublist[\u001b[38;5;241m0\u001b[39m] \u001b[38;5;28;01mfor\u001b[39;00m sublist \u001b[38;5;129;01min\u001b[39;00m (efficiency_plot(df_efficiency, \u001b[38;5;124m'\u001b[39m\u001b[38;5;124mratingPm\u001b[39m\u001b[38;5;124m'\u001b[39m, year\u001b[38;5;241m=\u001b[39mseason, plot\u001b[38;5;241m=\u001b[39m\u001b[38;5;28;01mFalse\u001b[39;00m) \u001b[38;5;28;01mfor\u001b[39;00m season \u001b[38;5;129;01min\u001b[39;00m \u001b[38;5;28mrange\u001b[39m(\u001b[38;5;241m1995\u001b[39m,\u001b[38;5;241m2024\u001b[39m))]\n\u001b[0;32m      4\u001b[0m \u001b[38;5;66;03m#build graph\u001b[39;00m\n\u001b[0;32m      5\u001b[0m fig \u001b[38;5;241m=\u001b[39m go\u001b[38;5;241m.\u001b[39mFigure()\n",
      "Cell \u001b[1;32mIn[120], line 2\u001b[0m, in \u001b[0;36m<listcomp>\u001b[1;34m(.0)\u001b[0m\n\u001b[0;32m      1\u001b[0m \u001b[38;5;66;03m#generate list of coefficients of linear regression for all available seasons\u001b[39;00m\n\u001b[1;32m----> 2\u001b[0m coeff_lin \u001b[38;5;241m=\u001b[39m [sublist[\u001b[38;5;241m0\u001b[39m] \u001b[38;5;28;01mfor\u001b[39;00m sublist \u001b[38;5;129;01min\u001b[39;00m (efficiency_plot(df_efficiency, \u001b[38;5;124m'\u001b[39m\u001b[38;5;124mratingPm\u001b[39m\u001b[38;5;124m'\u001b[39m, year\u001b[38;5;241m=\u001b[39mseason, plot\u001b[38;5;241m=\u001b[39m\u001b[38;5;28;01mFalse\u001b[39;00m) \u001b[38;5;28;01mfor\u001b[39;00m season \u001b[38;5;129;01min\u001b[39;00m \u001b[38;5;28mrange\u001b[39m(\u001b[38;5;241m1995\u001b[39m,\u001b[38;5;241m2024\u001b[39m))]\n\u001b[0;32m      4\u001b[0m \u001b[38;5;66;03m#build graph\u001b[39;00m\n\u001b[0;32m      5\u001b[0m fig \u001b[38;5;241m=\u001b[39m go\u001b[38;5;241m.\u001b[39mFigure()\n",
      "Cell \u001b[1;32mIn[120], line 2\u001b[0m, in \u001b[0;36m<genexpr>\u001b[1;34m(.0)\u001b[0m\n\u001b[0;32m      1\u001b[0m \u001b[38;5;66;03m#generate list of coefficients of linear regression for all available seasons\u001b[39;00m\n\u001b[1;32m----> 2\u001b[0m coeff_lin \u001b[38;5;241m=\u001b[39m [sublist[\u001b[38;5;241m0\u001b[39m] \u001b[38;5;28;01mfor\u001b[39;00m sublist \u001b[38;5;129;01min\u001b[39;00m (efficiency_plot(df_efficiency, \u001b[38;5;124m'\u001b[39m\u001b[38;5;124mratingPm\u001b[39m\u001b[38;5;124m'\u001b[39m, year\u001b[38;5;241m=\u001b[39mseason, plot\u001b[38;5;241m=\u001b[39m\u001b[38;5;28;01mFalse\u001b[39;00m) \u001b[38;5;28;01mfor\u001b[39;00m season \u001b[38;5;129;01min\u001b[39;00m \u001b[38;5;28mrange\u001b[39m(\u001b[38;5;241m1995\u001b[39m,\u001b[38;5;241m2024\u001b[39m))]\n\u001b[0;32m      4\u001b[0m \u001b[38;5;66;03m#build graph\u001b[39;00m\n\u001b[0;32m      5\u001b[0m fig \u001b[38;5;241m=\u001b[39m go\u001b[38;5;241m.\u001b[39mFigure()\n",
      "Cell \u001b[1;32mIn[117], line 14\u001b[0m, in \u001b[0;36mefficiency_plot\u001b[1;34m(df, metric, year, plot)\u001b[0m\n\u001b[0;32m     12\u001b[0m \u001b[38;5;66;03m#linear regression on salary\u001b[39;00m\n\u001b[0;32m     13\u001b[0m lin_model \u001b[38;5;241m=\u001b[39m LinearRegression()\n\u001b[1;32m---> 14\u001b[0m lin_model\u001b[38;5;241m.\u001b[39mfit(X,y)\n\u001b[0;32m     15\u001b[0m y_pred_lin \u001b[38;5;241m=\u001b[39m lin_model\u001b[38;5;241m.\u001b[39mpredict(X)\n\u001b[0;32m     17\u001b[0m \u001b[38;5;66;03m#linear regression on log(salary)\u001b[39;00m\n",
      "File \u001b[1;32mc:\\Users\\benja\\anaconda3\\Lib\\site-packages\\sklearn\\base.py:1151\u001b[0m, in \u001b[0;36m_fit_context.<locals>.decorator.<locals>.wrapper\u001b[1;34m(estimator, *args, **kwargs)\u001b[0m\n\u001b[0;32m   1144\u001b[0m     estimator\u001b[38;5;241m.\u001b[39m_validate_params()\n\u001b[0;32m   1146\u001b[0m \u001b[38;5;28;01mwith\u001b[39;00m config_context(\n\u001b[0;32m   1147\u001b[0m     skip_parameter_validation\u001b[38;5;241m=\u001b[39m(\n\u001b[0;32m   1148\u001b[0m         prefer_skip_nested_validation \u001b[38;5;129;01mor\u001b[39;00m global_skip_validation\n\u001b[0;32m   1149\u001b[0m     )\n\u001b[0;32m   1150\u001b[0m ):\n\u001b[1;32m-> 1151\u001b[0m     \u001b[38;5;28;01mreturn\u001b[39;00m fit_method(estimator, \u001b[38;5;241m*\u001b[39margs, \u001b[38;5;241m*\u001b[39m\u001b[38;5;241m*\u001b[39mkwargs)\n",
      "File \u001b[1;32mc:\\Users\\benja\\anaconda3\\Lib\\site-packages\\sklearn\\linear_model\\_base.py:678\u001b[0m, in \u001b[0;36mLinearRegression.fit\u001b[1;34m(self, X, y, sample_weight)\u001b[0m\n\u001b[0;32m    674\u001b[0m n_jobs_ \u001b[38;5;241m=\u001b[39m \u001b[38;5;28mself\u001b[39m\u001b[38;5;241m.\u001b[39mn_jobs\n\u001b[0;32m    676\u001b[0m accept_sparse \u001b[38;5;241m=\u001b[39m \u001b[38;5;28;01mFalse\u001b[39;00m \u001b[38;5;28;01mif\u001b[39;00m \u001b[38;5;28mself\u001b[39m\u001b[38;5;241m.\u001b[39mpositive \u001b[38;5;28;01melse\u001b[39;00m [\u001b[38;5;124m\"\u001b[39m\u001b[38;5;124mcsr\u001b[39m\u001b[38;5;124m\"\u001b[39m, \u001b[38;5;124m\"\u001b[39m\u001b[38;5;124mcsc\u001b[39m\u001b[38;5;124m\"\u001b[39m, \u001b[38;5;124m\"\u001b[39m\u001b[38;5;124mcoo\u001b[39m\u001b[38;5;124m\"\u001b[39m]\n\u001b[1;32m--> 678\u001b[0m X, y \u001b[38;5;241m=\u001b[39m \u001b[38;5;28mself\u001b[39m\u001b[38;5;241m.\u001b[39m_validate_data(\n\u001b[0;32m    679\u001b[0m     X, y, accept_sparse\u001b[38;5;241m=\u001b[39maccept_sparse, y_numeric\u001b[38;5;241m=\u001b[39m\u001b[38;5;28;01mTrue\u001b[39;00m, multi_output\u001b[38;5;241m=\u001b[39m\u001b[38;5;28;01mTrue\u001b[39;00m\n\u001b[0;32m    680\u001b[0m )\n\u001b[0;32m    682\u001b[0m has_sw \u001b[38;5;241m=\u001b[39m sample_weight \u001b[38;5;129;01mis\u001b[39;00m \u001b[38;5;129;01mnot\u001b[39;00m \u001b[38;5;28;01mNone\u001b[39;00m\n\u001b[0;32m    683\u001b[0m \u001b[38;5;28;01mif\u001b[39;00m has_sw:\n",
      "File \u001b[1;32mc:\\Users\\benja\\anaconda3\\Lib\\site-packages\\sklearn\\base.py:621\u001b[0m, in \u001b[0;36mBaseEstimator._validate_data\u001b[1;34m(self, X, y, reset, validate_separately, cast_to_ndarray, **check_params)\u001b[0m\n\u001b[0;32m    619\u001b[0m         y \u001b[38;5;241m=\u001b[39m check_array(y, input_name\u001b[38;5;241m=\u001b[39m\u001b[38;5;124m\"\u001b[39m\u001b[38;5;124my\u001b[39m\u001b[38;5;124m\"\u001b[39m, \u001b[38;5;241m*\u001b[39m\u001b[38;5;241m*\u001b[39mcheck_y_params)\n\u001b[0;32m    620\u001b[0m     \u001b[38;5;28;01melse\u001b[39;00m:\n\u001b[1;32m--> 621\u001b[0m         X, y \u001b[38;5;241m=\u001b[39m check_X_y(X, y, \u001b[38;5;241m*\u001b[39m\u001b[38;5;241m*\u001b[39mcheck_params)\n\u001b[0;32m    622\u001b[0m     out \u001b[38;5;241m=\u001b[39m X, y\n\u001b[0;32m    624\u001b[0m \u001b[38;5;28;01mif\u001b[39;00m \u001b[38;5;129;01mnot\u001b[39;00m no_val_X \u001b[38;5;129;01mand\u001b[39;00m check_params\u001b[38;5;241m.\u001b[39mget(\u001b[38;5;124m\"\u001b[39m\u001b[38;5;124mensure_2d\u001b[39m\u001b[38;5;124m\"\u001b[39m, \u001b[38;5;28;01mTrue\u001b[39;00m):\n",
      "File \u001b[1;32mc:\\Users\\benja\\anaconda3\\Lib\\site-packages\\sklearn\\utils\\validation.py:1147\u001b[0m, in \u001b[0;36mcheck_X_y\u001b[1;34m(X, y, accept_sparse, accept_large_sparse, dtype, order, copy, force_all_finite, ensure_2d, allow_nd, multi_output, ensure_min_samples, ensure_min_features, y_numeric, estimator)\u001b[0m\n\u001b[0;32m   1142\u001b[0m         estimator_name \u001b[38;5;241m=\u001b[39m _check_estimator_name(estimator)\n\u001b[0;32m   1143\u001b[0m     \u001b[38;5;28;01mraise\u001b[39;00m \u001b[38;5;167;01mValueError\u001b[39;00m(\n\u001b[0;32m   1144\u001b[0m         \u001b[38;5;124mf\u001b[39m\u001b[38;5;124m\"\u001b[39m\u001b[38;5;132;01m{\u001b[39;00mestimator_name\u001b[38;5;132;01m}\u001b[39;00m\u001b[38;5;124m requires y to be passed, but the target y is None\u001b[39m\u001b[38;5;124m\"\u001b[39m\n\u001b[0;32m   1145\u001b[0m     )\n\u001b[1;32m-> 1147\u001b[0m X \u001b[38;5;241m=\u001b[39m check_array(\n\u001b[0;32m   1148\u001b[0m     X,\n\u001b[0;32m   1149\u001b[0m     accept_sparse\u001b[38;5;241m=\u001b[39maccept_sparse,\n\u001b[0;32m   1150\u001b[0m     accept_large_sparse\u001b[38;5;241m=\u001b[39maccept_large_sparse,\n\u001b[0;32m   1151\u001b[0m     dtype\u001b[38;5;241m=\u001b[39mdtype,\n\u001b[0;32m   1152\u001b[0m     order\u001b[38;5;241m=\u001b[39morder,\n\u001b[0;32m   1153\u001b[0m     copy\u001b[38;5;241m=\u001b[39mcopy,\n\u001b[0;32m   1154\u001b[0m     force_all_finite\u001b[38;5;241m=\u001b[39mforce_all_finite,\n\u001b[0;32m   1155\u001b[0m     ensure_2d\u001b[38;5;241m=\u001b[39mensure_2d,\n\u001b[0;32m   1156\u001b[0m     allow_nd\u001b[38;5;241m=\u001b[39mallow_nd,\n\u001b[0;32m   1157\u001b[0m     ensure_min_samples\u001b[38;5;241m=\u001b[39mensure_min_samples,\n\u001b[0;32m   1158\u001b[0m     ensure_min_features\u001b[38;5;241m=\u001b[39mensure_min_features,\n\u001b[0;32m   1159\u001b[0m     estimator\u001b[38;5;241m=\u001b[39mestimator,\n\u001b[0;32m   1160\u001b[0m     input_name\u001b[38;5;241m=\u001b[39m\u001b[38;5;124m\"\u001b[39m\u001b[38;5;124mX\u001b[39m\u001b[38;5;124m\"\u001b[39m,\n\u001b[0;32m   1161\u001b[0m )\n\u001b[0;32m   1163\u001b[0m y \u001b[38;5;241m=\u001b[39m _check_y(y, multi_output\u001b[38;5;241m=\u001b[39mmulti_output, y_numeric\u001b[38;5;241m=\u001b[39my_numeric, estimator\u001b[38;5;241m=\u001b[39mestimator)\n\u001b[0;32m   1165\u001b[0m check_consistent_length(X, y)\n",
      "File \u001b[1;32mc:\\Users\\benja\\anaconda3\\Lib\\site-packages\\sklearn\\utils\\validation.py:969\u001b[0m, in \u001b[0;36mcheck_array\u001b[1;34m(array, accept_sparse, accept_large_sparse, dtype, order, copy, force_all_finite, ensure_2d, allow_nd, ensure_min_samples, ensure_min_features, estimator, input_name)\u001b[0m\n\u001b[0;32m    967\u001b[0m     n_samples \u001b[38;5;241m=\u001b[39m _num_samples(array)\n\u001b[0;32m    968\u001b[0m     \u001b[38;5;28;01mif\u001b[39;00m n_samples \u001b[38;5;241m<\u001b[39m ensure_min_samples:\n\u001b[1;32m--> 969\u001b[0m         \u001b[38;5;28;01mraise\u001b[39;00m \u001b[38;5;167;01mValueError\u001b[39;00m(\n\u001b[0;32m    970\u001b[0m             \u001b[38;5;124m\"\u001b[39m\u001b[38;5;124mFound array with \u001b[39m\u001b[38;5;132;01m%d\u001b[39;00m\u001b[38;5;124m sample(s) (shape=\u001b[39m\u001b[38;5;132;01m%s\u001b[39;00m\u001b[38;5;124m) while a\u001b[39m\u001b[38;5;124m\"\u001b[39m\n\u001b[0;32m    971\u001b[0m             \u001b[38;5;124m\"\u001b[39m\u001b[38;5;124m minimum of \u001b[39m\u001b[38;5;132;01m%d\u001b[39;00m\u001b[38;5;124m is required\u001b[39m\u001b[38;5;132;01m%s\u001b[39;00m\u001b[38;5;124m.\u001b[39m\u001b[38;5;124m\"\u001b[39m\n\u001b[0;32m    972\u001b[0m             \u001b[38;5;241m%\u001b[39m (n_samples, array\u001b[38;5;241m.\u001b[39mshape, ensure_min_samples, context)\n\u001b[0;32m    973\u001b[0m         )\n\u001b[0;32m    975\u001b[0m \u001b[38;5;28;01mif\u001b[39;00m ensure_min_features \u001b[38;5;241m>\u001b[39m \u001b[38;5;241m0\u001b[39m \u001b[38;5;129;01mand\u001b[39;00m array\u001b[38;5;241m.\u001b[39mndim \u001b[38;5;241m==\u001b[39m \u001b[38;5;241m2\u001b[39m:\n\u001b[0;32m    976\u001b[0m     n_features \u001b[38;5;241m=\u001b[39m array\u001b[38;5;241m.\u001b[39mshape[\u001b[38;5;241m1\u001b[39m]\n",
      "\u001b[1;31mValueError\u001b[0m: Found array with 0 sample(s) (shape=(0, 1)) while a minimum of 1 is required by LinearRegression."
     ]
    }
   ],
   "source": [
    "#generate list of coefficients of linear regression for all available seasons\n",
    "coeff_lin = [sublist[0] for sublist in (efficiency_plot(df_efficiency, 'ratingPm', year=season, plot=False) for season in range(1995,2024))]\n",
    "\n",
    "#build graph\n",
    "fig = go.Figure()\n",
    "fig.add_trace(go.Scatter(x=np.arange(1995,2023),\n",
    "                         y=coeff_lin,\n",
    "                         mode='lines+markers',\n",
    "                         name='Coeffs',\n",
    "                         hovertemplate='Season: %{x}<br>Season: %{y}<extra></extra>',\n",
    "                         line=dict(color='green')))\n",
    "\n",
    "fig.update_layout(title='Evolution of regression coefficients over the seasons', xaxis_title='Season', yaxis_title='Regression coefficient',\n",
    "                  hovermode='closest')\n",
    "fig.show()"
   ]
  }
 ],
 "metadata": {
  "kernelspec": {
   "display_name": "base",
   "language": "python",
   "name": "python3"
  },
  "language_info": {
   "codemirror_mode": {
    "name": "ipython",
    "version": 3
   },
   "file_extension": ".py",
   "mimetype": "text/x-python",
   "name": "python",
   "nbconvert_exporter": "python",
   "pygments_lexer": "ipython3",
   "version": "3.11.5"
  }
 },
 "nbformat": 4,
 "nbformat_minor": 5
}
