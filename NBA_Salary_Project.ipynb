{
 "cells": [
  {
   "cell_type": "code",
   "execution_count": null,
   "id": "7c8d47a9",
   "metadata": {},
   "outputs": [],
   "source": [
    "import pandas as pd\n",
    "import requests\n",
    "import numpy as np\n",
    "import unidecode\n",
    "from sklearn.linear_model import LinearRegression\n",
    "import plotly.graph_objects as go\n",
    "import plotly.express as px\n",
    "import seaborn as sns"
   ]
  },
  {
   "cell_type": "markdown",
   "id": "7c39d30e",
   "metadata": {},
   "source": [
    "# Part 0: A class to handle GraphQL queries"
   ]
  },
  {
   "cell_type": "code",
   "execution_count": 7,
   "id": "82abb1d7",
   "metadata": {},
   "outputs": [],
   "source": [
    "\n",
    "class GraphqlQuery:\n",
    "    def __init__(self, contents : dict[str : list[str]], url : str):\n",
    "        self._contents = {}\n",
    "        self.add(contents)\n",
    "        self.url = url\n",
    "    \n",
    "    #method to add further tables and/or columns to the current query\n",
    "    def add(self, new_contents : dict[str : list[str]]):\n",
    "        \n",
    "        #validate passed arguments\n",
    "        if not isinstance(new_contents, dict):\n",
    "            raise ValueError(\"Contents must be passed as dictionary\")\n",
    "        \n",
    "        for key, val in new_contents.items() :\n",
    "            if not isinstance(key, str):\n",
    "                raise ValueError(\"Table arguments must be passed as strings\")\n",
    "            if not isinstance(val, list):\n",
    "                raise ValueError(\"Set of columns must be a list\")\n",
    "            if not all(isinstance(column, str) for column in val):\n",
    "                raise ValueError(\"Column arguments must be passed as strings\")\n",
    "            \n",
    "        for table, columns in new_contents.items():\n",
    "            if table not in self._contents:\n",
    "                self._contents[table] = columns\n",
    "            else:\n",
    "                self._contents[table].extend(columns)\n",
    "\n",
    "    #property to store current contents od query in dict format\n",
    "    @property\n",
    "    def contents(self):\n",
    "        return self._contents\n",
    "    \n",
    "    #property to store finished query in graphql format\n",
    "    @property\n",
    "    def query(self):\n",
    "        query_str =  [\"query Myquery {\"]\n",
    "        for index, (table, columns) in enumerate(self._contents.items()):\n",
    "            subquery = []\n",
    "            subquery.append(table)\n",
    "            subquery.append('{')\n",
    "            subquery.extend(columns)\n",
    "            query_str.extend(subquery)\n",
    "            if index != 0: query_str +=\"}\"\n",
    "        query_str +=\"}}\"\n",
    "        \n",
    "        return \" \".join(query_str)\n",
    "    \n",
    "    def __str__(self):\n",
    "        return self._query\n",
    "     \n",
    "    @classmethod\n",
    "    def select(cls, contents : dict[str : list[str]]):\n",
    "        return cls(contents)\n",
    "\n",
    "    #method to perform get request to graphql api\n",
    "    def get_data(self):\n",
    "        body = {\"query\" : self.query}\n",
    "        response = requests.post(self.url, json=body)\n",
    "        if response.status_code == 200:\n",
    "            data = response.json()\n",
    "        else:\n",
    "            with Exception as e:\n",
    "                print(f\"Error fetching data: {e}\")\n",
    "    \n",
    "        return pd.json_normalize(data['data'][list(self._contents)[0]])\n"
   ]
  },
  {
   "cell_type": "markdown",
   "id": "791b700f",
   "metadata": {},
   "source": [
    "# Part 1: Salary Data Analysis"
   ]
  },
  {
   "cell_type": "markdown",
   "id": "3b4052af",
   "metadata": {},
   "source": [
    "### 1. Wrangling of player data"
   ]
  },
  {
   "cell_type": "markdown",
   "id": "ff121386",
   "metadata": {},
   "source": [
    "In this section the graphql API for NBA statistics is queried for player and team information via GraphqlQuery class. Additional data manipulation steps include:  \n",
    "- Elimination of unwanted characters and conversion of string formats in player names (e.g. change \"ć\" to \"c\") in order to avoid problems with merges.\n",
    "- Mapping of team abbreviations as these are not consistent in the API tables *teams* and *playerPerGame*.\n",
    "- Merging of both tables into one comprehensive dataframe containing all necessary information."
   ]
  },
  {
   "cell_type": "code",
   "execution_count": null,
   "id": "c3478ddb",
   "metadata": {},
   "outputs": [
    {
     "data": {
      "text/html": [
       "<div>\n",
       "<style scoped>\n",
       "    .dataframe tbody tr th:only-of-type {\n",
       "        vertical-align: middle;\n",
       "    }\n",
       "\n",
       "    .dataframe tbody tr th {\n",
       "        vertical-align: top;\n",
       "    }\n",
       "\n",
       "    .dataframe thead th {\n",
       "        text-align: right;\n",
       "    }\n",
       "</style>\n",
       "<table border=\"1\" class=\"dataframe\">\n",
       "  <thead>\n",
       "    <tr style=\"text-align: right;\">\n",
       "      <th></th>\n",
       "      <th>playerName</th>\n",
       "      <th>team</th>\n",
       "      <th>age</th>\n",
       "      <th>season</th>\n",
       "      <th>games</th>\n",
       "      <th>minutesPg</th>\n",
       "      <th>points</th>\n",
       "      <th>ftPercent</th>\n",
       "      <th>assists</th>\n",
       "      <th>totalRb</th>\n",
       "      <th>steals</th>\n",
       "      <th>turnovers</th>\n",
       "      <th>blocks</th>\n",
       "      <th>teamName</th>\n",
       "      <th>wins</th>\n",
       "    </tr>\n",
       "  </thead>\n",
       "  <tbody>\n",
       "    <tr>\n",
       "      <th>0</th>\n",
       "      <td>Precious Achiuwa</td>\n",
       "      <td>TOR</td>\n",
       "      <td>23</td>\n",
       "      <td>2023</td>\n",
       "      <td>55</td>\n",
       "      <td>20.7</td>\n",
       "      <td>9.2</td>\n",
       "      <td>0.702</td>\n",
       "      <td>0.9</td>\n",
       "      <td>6.0</td>\n",
       "      <td>0.6</td>\n",
       "      <td>1.1</td>\n",
       "      <td>0.5</td>\n",
       "      <td>Toronto Raptors</td>\n",
       "      <td>41</td>\n",
       "    </tr>\n",
       "    <tr>\n",
       "      <th>1</th>\n",
       "      <td>OG Anunoby</td>\n",
       "      <td>TOR</td>\n",
       "      <td>25</td>\n",
       "      <td>2023</td>\n",
       "      <td>67</td>\n",
       "      <td>35.6</td>\n",
       "      <td>16.8</td>\n",
       "      <td>0.838</td>\n",
       "      <td>2.0</td>\n",
       "      <td>5.0</td>\n",
       "      <td>1.9</td>\n",
       "      <td>2.0</td>\n",
       "      <td>0.7</td>\n",
       "      <td>Toronto Raptors</td>\n",
       "      <td>41</td>\n",
       "    </tr>\n",
       "    <tr>\n",
       "      <th>2</th>\n",
       "      <td>Dalano Banton</td>\n",
       "      <td>TOR</td>\n",
       "      <td>23</td>\n",
       "      <td>2023</td>\n",
       "      <td>31</td>\n",
       "      <td>9.0</td>\n",
       "      <td>4.6</td>\n",
       "      <td>0.708</td>\n",
       "      <td>1.2</td>\n",
       "      <td>1.5</td>\n",
       "      <td>0.4</td>\n",
       "      <td>0.6</td>\n",
       "      <td>0.4</td>\n",
       "      <td>Toronto Raptors</td>\n",
       "      <td>41</td>\n",
       "    </tr>\n",
       "    <tr>\n",
       "      <th>3</th>\n",
       "      <td>Scottie Barnes</td>\n",
       "      <td>TOR</td>\n",
       "      <td>21</td>\n",
       "      <td>2023</td>\n",
       "      <td>77</td>\n",
       "      <td>34.8</td>\n",
       "      <td>15.3</td>\n",
       "      <td>0.772</td>\n",
       "      <td>4.8</td>\n",
       "      <td>6.6</td>\n",
       "      <td>1.1</td>\n",
       "      <td>2.0</td>\n",
       "      <td>0.8</td>\n",
       "      <td>Toronto Raptors</td>\n",
       "      <td>41</td>\n",
       "    </tr>\n",
       "    <tr>\n",
       "      <th>4</th>\n",
       "      <td>Will Barton</td>\n",
       "      <td>TOR</td>\n",
       "      <td>32</td>\n",
       "      <td>2023</td>\n",
       "      <td>16</td>\n",
       "      <td>13.2</td>\n",
       "      <td>4.5</td>\n",
       "      <td>1.000</td>\n",
       "      <td>1.1</td>\n",
       "      <td>1.6</td>\n",
       "      <td>0.7</td>\n",
       "      <td>0.2</td>\n",
       "      <td>0.2</td>\n",
       "      <td>Toronto Raptors</td>\n",
       "      <td>41</td>\n",
       "    </tr>\n",
       "  </tbody>\n",
       "</table>\n",
       "</div>"
      ],
      "text/plain": [
       "         playerName team  age  season  games minutesPg points ftPercent  \\\n",
       "0  Precious Achiuwa  TOR   23    2023     55      20.7    9.2     0.702   \n",
       "1        OG Anunoby  TOR   25    2023     67      35.6   16.8     0.838   \n",
       "2     Dalano Banton  TOR   23    2023     31       9.0    4.6     0.708   \n",
       "3    Scottie Barnes  TOR   21    2023     77      34.8   15.3     0.772   \n",
       "4       Will Barton  TOR   32    2023     16      13.2    4.5     1.000   \n",
       "\n",
       "  assists totalRb steals turnovers blocks         teamName  wins  \n",
       "0     0.9     6.0    0.6       1.1    0.5  Toronto Raptors    41  \n",
       "1     2.0     5.0    1.9       2.0    0.7  Toronto Raptors    41  \n",
       "2     1.2     1.5    0.4       0.6    0.4  Toronto Raptors    41  \n",
       "3     4.8     6.6    1.1       2.0    0.8  Toronto Raptors    41  \n",
       "4     1.1     1.6    0.7       0.2    0.2  Toronto Raptors    41  "
      ]
     },
     "execution_count": 8,
     "metadata": {},
     "output_type": "execute_result"
    }
   ],
   "source": [
    "url = 'https://nbaapi.com/graphql/'\n",
    "\n",
    "#set down tables and columns to query from nbaapi\n",
    "query_teams = {\n",
    "    'team' :\n",
    "    ['teamName','teamAbbr', 'season', 'wins']\n",
    "    }\n",
    "\n",
    "query_players = {\n",
    "    'playerPerGame' : \n",
    "    ['playerName', 'team', 'age', 'season', 'games', 'minutesPg', 'points', 'ftPercent', 'assists', 'totalRb', 'steals', 'turnovers', 'blocks']\n",
    "    }\n",
    "\n",
    "#define Graphqlquery objects\n",
    "player_data = GraphqlQuery(query_players, url)\n",
    "team_data = GraphqlQuery(query_teams, url)\n",
    "\n",
    "#get data from the api and store it in respective dataframes\n",
    "player_stats = player_data.get_data()\n",
    "team_stats = team_data.get_data()\n",
    "\n",
    "#replace \"*\" and handle string format of player names\n",
    "team_stats.teamName = team_stats.teamName.str.replace('*', '')\n",
    "\n",
    "player_stats.playerName = player_stats.playerName.str.replace('*', '')\n",
    "player_stats.playerName = player_stats.playerName.apply(unidecode.unidecode)\n",
    "\n",
    "player_stats = player_stats[player_stats.team != 'TOT']\n",
    "\n",
    "#set down team abbreviations that need to be changed\n",
    "team_names = {\n",
    "    'BRK' : 'NJN',\n",
    "    'NOP' : 'NOH',\n",
    "    'CHO' : 'CHA',\n",
    "    'SEA' : 'OKC',\n",
    "    'NOK' : 'CHA',\n",
    "    'CHH' : 'CHA',\n",
    "    'VAN' : 'MEM',\n",
    "    'WSB' : 'WAS'\n",
    "}\n",
    "player_stats = player_stats.replace({'team' : team_names})\n",
    "\n",
    "#merge player and team statistics into one dataframe\n",
    "player_stats = player_stats.merge(\n",
    "    team_stats,\n",
    "    how='inner',\n",
    "    left_on=['season', 'team'],\n",
    "    right_on=['season', 'teamAbbr']\n",
    ").drop(['teamAbbr'], axis=1)\n",
    "\n",
    "player_stats.head()"
   ]
  },
  {
   "cell_type": "markdown",
   "id": "931e9efd",
   "metadata": {},
   "source": [
    "### 2. Wrangling of salary data"
   ]
  },
  {
   "cell_type": "markdown",
   "id": "9f5e9d11",
   "metadata": {},
   "source": [
    "The goal of this section is to read in salary data and bring it into an appropiate form.  \n",
    "Because the data was in part not complete, several data sources where needed. Consequently, some of data manipulation was necessary to merge the data into one single dataframe.  \n",
    "All of the data in this section was sourced from Kaggle.  \n",
    "  \n",
    "Steps taken:  \n",
    "- Processed salary data for the timeframes 2000 to 2025 and 1995 to 2018.\n",
    "- Because above datasets do not contain team names or team name abbreviations, got these from the graphQL API and added them.\n",
    "- Merged all data together to form one comprehensive dataframe containing salary data for all seasons from 1995 to 2025."
   ]
  },
  {
   "cell_type": "code",
   "execution_count": 9,
   "id": "a47b8579",
   "metadata": {},
   "outputs": [],
   "source": [
    "#Salary datasets do not contain both team names and abbreviations\n",
    "#we use our class to store these in dataframe and later map them\n",
    "\n",
    "url = 'https://nbaapi.com/graphql/'\n",
    "\n",
    "#call graphql class\n",
    "team_names = GraphqlQuery(\n",
    "    {'team' : ['teamName','teamAbbr']},\n",
    "      url\n",
    ")\n",
    "\n",
    "#get data from api and prepare data for mapping of team names\n",
    "team_names = team_names.get_data()\n",
    "team_names.teamName = team_names.teamName.str.replace('*', '')\n",
    "team_names = team_names.replace(\n",
    "    {'teamAbbr' : {'NJN' : 'BRK','NOH' : 'NOP','CHA' : 'CHO'}}\n",
    ")\n",
    "\n",
    "#create dictionary for mapping\n",
    "team_names_dict = (team_names.drop_duplicates(subset=['teamAbbr'])\n",
    "                   .set_index('teamAbbr')['teamName'].to_dict())"
   ]
  },
  {
   "cell_type": "code",
   "execution_count": 10,
   "id": "f370fb88",
   "metadata": {},
   "outputs": [],
   "source": [
    "#both datasets contain different timeframes\n",
    "#we therefore use two datasets and concatenate these\n",
    "\n",
    "#read data, extract necessary timeframe and \n",
    "df_salary_2 = pd.read_csv(\"NBA Player Stats and Salaries_2000-2025.csv\", usecols=['Player', 'Year', 'Salary', 'Team'])\n",
    "df_salary_2 = df_salary_2[df_salary_2['Year'] > 2018]\n",
    "\n",
    "#furnish with team names using dictionary defined in previous cell\n",
    "df_salary_2['TeamLong'] = df_salary_2['Team'].map(team_names_dict)\n",
    "\n",
    "#rename columns to match columns of df_salary in preparation of concatenation of both dataframes\n",
    "df_salary_2 = df_salary_2.rename(\n",
    "    columns={'Player': 'name', 'Salary' : 'salary', 'Year' : 'year', 'Team' : 'team_abbr', 'TeamLong' : 'team'}\n",
    ")\n"
   ]
  },
  {
   "cell_type": "code",
   "execution_count": null,
   "id": "1980b122",
   "metadata": {},
   "outputs": [
    {
     "data": {
      "text/html": [
       "<div>\n",
       "<style scoped>\n",
       "    .dataframe tbody tr th:only-of-type {\n",
       "        vertical-align: middle;\n",
       "    }\n",
       "\n",
       "    .dataframe tbody tr th {\n",
       "        vertical-align: top;\n",
       "    }\n",
       "\n",
       "    .dataframe thead th {\n",
       "        text-align: right;\n",
       "    }\n",
       "</style>\n",
       "<table border=\"1\" class=\"dataframe\">\n",
       "  <thead>\n",
       "    <tr style=\"text-align: right;\">\n",
       "      <th></th>\n",
       "      <th>salary</th>\n",
       "      <th>year</th>\n",
       "      <th>team</th>\n",
       "      <th>name</th>\n",
       "      <th>team_abbr</th>\n",
       "    </tr>\n",
       "  </thead>\n",
       "  <tbody>\n",
       "    <tr>\n",
       "      <th>0</th>\n",
       "      <td>395000.0</td>\n",
       "      <td>1991.0</td>\n",
       "      <td>Portland Trail Blazers</td>\n",
       "      <td>Alaa Abdelnaby</td>\n",
       "      <td>POR</td>\n",
       "    </tr>\n",
       "    <tr>\n",
       "      <th>1</th>\n",
       "      <td>494000.0</td>\n",
       "      <td>1992.0</td>\n",
       "      <td>Portland Trail Blazers</td>\n",
       "      <td>Alaa Abdelnaby</td>\n",
       "      <td>POR</td>\n",
       "    </tr>\n",
       "    <tr>\n",
       "      <th>2</th>\n",
       "      <td>500000.0</td>\n",
       "      <td>1993.0</td>\n",
       "      <td>Boston Celtics</td>\n",
       "      <td>Alaa Abdelnaby</td>\n",
       "      <td>BOS</td>\n",
       "    </tr>\n",
       "    <tr>\n",
       "      <th>3</th>\n",
       "      <td>805000.0</td>\n",
       "      <td>1994.0</td>\n",
       "      <td>Boston Celtics</td>\n",
       "      <td>Alaa Abdelnaby</td>\n",
       "      <td>BOS</td>\n",
       "    </tr>\n",
       "    <tr>\n",
       "      <th>4</th>\n",
       "      <td>650000.0</td>\n",
       "      <td>1995.0</td>\n",
       "      <td>Sacramento Kings</td>\n",
       "      <td>Alaa Abdelnaby</td>\n",
       "      <td>SAC</td>\n",
       "    </tr>\n",
       "    <tr>\n",
       "      <th>...</th>\n",
       "      <td>...</td>\n",
       "      <td>...</td>\n",
       "      <td>...</td>\n",
       "      <td>...</td>\n",
       "      <td>...</td>\n",
       "    </tr>\n",
       "    <tr>\n",
       "      <th>17512</th>\n",
       "      <td>11997.0</td>\n",
       "      <td>2025.0</td>\n",
       "      <td>Philadelphia 76ers</td>\n",
       "      <td>Isaiah Mobley</td>\n",
       "      <td>PHI</td>\n",
       "    </tr>\n",
       "    <tr>\n",
       "      <th>17513</th>\n",
       "      <td>11997.0</td>\n",
       "      <td>2025.0</td>\n",
       "      <td>Golden State Warriors</td>\n",
       "      <td>Braxton Key</td>\n",
       "      <td>GSW</td>\n",
       "    </tr>\n",
       "    <tr>\n",
       "      <th>17514</th>\n",
       "      <td>11997.0</td>\n",
       "      <td>2025.0</td>\n",
       "      <td>Boston Celtics</td>\n",
       "      <td>JD Davison</td>\n",
       "      <td>BOS</td>\n",
       "    </tr>\n",
       "    <tr>\n",
       "      <th>17515</th>\n",
       "      <td>73153.0</td>\n",
       "      <td>2025.0</td>\n",
       "      <td>New Orleans Pelicans</td>\n",
       "      <td>Kylor Kelley</td>\n",
       "      <td>NOP</td>\n",
       "    </tr>\n",
       "    <tr>\n",
       "      <th>17516</th>\n",
       "      <td>73153.0</td>\n",
       "      <td>2025.0</td>\n",
       "      <td>Charlotte Hornets</td>\n",
       "      <td>Jaylen Sims</td>\n",
       "      <td>CHO</td>\n",
       "    </tr>\n",
       "  </tbody>\n",
       "</table>\n",
       "<p>17517 rows × 5 columns</p>\n",
       "</div>"
      ],
      "text/plain": [
       "         salary    year                    team            name team_abbr\n",
       "0      395000.0  1991.0  Portland Trail Blazers  Alaa Abdelnaby       POR\n",
       "1      494000.0  1992.0  Portland Trail Blazers  Alaa Abdelnaby       POR\n",
       "2      500000.0  1993.0          Boston Celtics  Alaa Abdelnaby       BOS\n",
       "3      805000.0  1994.0          Boston Celtics  Alaa Abdelnaby       BOS\n",
       "4      650000.0  1995.0        Sacramento Kings  Alaa Abdelnaby       SAC\n",
       "...         ...     ...                     ...             ...       ...\n",
       "17512   11997.0  2025.0      Philadelphia 76ers   Isaiah Mobley       PHI\n",
       "17513   11997.0  2025.0   Golden State Warriors     Braxton Key       GSW\n",
       "17514   11997.0  2025.0          Boston Celtics      JD Davison       BOS\n",
       "17515   73153.0  2025.0    New Orleans Pelicans    Kylor Kelley       NOP\n",
       "17516   73153.0  2025.0       Charlotte Hornets     Jaylen Sims       CHO\n",
       "\n",
       "[17517 rows x 5 columns]"
      ]
     },
     "execution_count": 11,
     "metadata": {},
     "output_type": "execute_result"
    }
   ],
   "source": [
    "#dataset consists of two database style sheets\n",
    "#we thus have to read both in and perform a merge\n",
    "\n",
    "df_salary_aux = pd.read_csv('players.csv', sep=',', usecols=['name', 'id'])\n",
    "df_salary = pd.read_csv('salaries_1985to2018.csv', usecols=['player_id', 'salary', 'season_end', 'team'])\n",
    "\n",
    "#perform aforementioned merge / join\n",
    "df_salary = df_salary.merge(\n",
    "    df_salary_aux,\n",
    "    how='outer',\n",
    "    left_on='player_id',\n",
    "    right_on='id'\n",
    ").drop(['player_id', 'id'], axis=1) #drop unnecessary colummns\n",
    "\n",
    "#Add team column with abbreviations by merging with team_names dataframe\n",
    "df_salary = df_salary.merge(\n",
    "    team_names.drop_duplicates(),\n",
    "    how='left',\n",
    "    left_on='team',\n",
    "    right_on='teamName'\n",
    ").drop(['teamName'], axis=1)\n",
    "\n",
    "#Many rows contain no salary data, we drop these\n",
    "df_salary = df_salary[~df_salary.isna().any(axis=1)]\n",
    "\n",
    "#prepare columns for concatenation with second salary\n",
    "df_salary = df_salary.rename(columns={'season_end' : 'year', 'teamAbbr' : 'team_abbr'})\n",
    "\n",
    "#concatenation of both dataframes\n",
    "df_salary = pd.concat([df_salary, df_salary_2], axis=0).reset_index(drop=True)\n",
    "df_salary"
   ]
  },
  {
   "cell_type": "markdown",
   "id": "435de7d1",
   "metadata": {},
   "source": [
    "### 3. Plot of salary evolution over the years"
   ]
  },
  {
   "cell_type": "markdown",
   "id": "4fa6cc5e",
   "metadata": {},
   "source": [
    "In this section the cleaned salary data is used for a first display.  \n",
    "This consists of a visualisation of the evolution of statistical indicators of the salaries of NBA players over the seasons.\n",
    "  \n",
    "In accordance with recent developments like the increase of NBA revenue via enormous TV deals, an increase in the mean compensation of NBA players can be observed. \n",
    "This is particularily the case for NBA stars, where the increase is much stronger than that of the mean salary. That this is not only the case for the highest payed player can be derived from the growth of standard deviation and the increasing distance between median and mean."
   ]
  },
  {
   "cell_type": "code",
   "execution_count": 12,
   "id": "94298400",
   "metadata": {},
   "outputs": [
    {
     "data": {
      "application/vnd.plotly.v1+json": {
       "config": {
        "plotlyServerURL": "https://plot.ly"
       },
       "data": [
        {
         "hovertemplate": "Season: %{x}<br>Mean: %{y}<extra></extra>",
         "mode": "lines+markers",
         "name": "Mean",
         "type": "scatter",
         "x": [
          1985,
          1986,
          1987,
          1988,
          1989,
          1990,
          1991,
          1992,
          1993,
          1994,
          1995,
          1996,
          1997,
          1998,
          1999,
          2000,
          2001,
          2002,
          2003,
          2004,
          2005,
          2006,
          2007,
          2008,
          2009,
          2010,
          2011,
          2012,
          2013,
          2014,
          2015,
          2016,
          2017,
          2018,
          2019,
          2020,
          2021,
          2022,
          2023,
          2024,
          2025
         ],
         "y": [
          400553.3980582524,
          370103.3952702703,
          543033.325,
          459204.31353135314,
          528010.9750778816,
          1670937.5,
          831623.2294617564,
          954346.2532299742,
          1061757.8712871287,
          1269884.1751269035,
          1360403.9114832536,
          1734345.3608247424,
          1935172.397094431,
          2121414.975225225,
          2456729.141203704,
          2498707.574144487,
          3236010.808189655,
          3395648.4836601308,
          3636157.9673202615,
          3650913.8558951966,
          3705739.5543933054,
          3839336.6720647775,
          3793015.5166340508,
          4244495.942386831,
          4581769.445859873,
          4476258.141949153,
          4334884.211991435,
          4289844.014957265,
          4239566.570564516,
          4865642.441463415,
          4018813.830570902,
          4441493.231499052,
          5282659.303956835,
          6011007.75862069,
          7039937.06013363,
          7710968.795402299,
          8709021.841237113,
          7641741.988888889,
          8924018.2248394,
          8861958.496957405,
          10455002.208588958
         ]
        },
        {
         "hovertemplate": "Season: %{x}<br>Median: %{y}<extra></extra>",
         "mode": "lines+markers",
         "name": "Median",
         "type": "scatter",
         "x": [
          1985,
          1986,
          1987,
          1988,
          1989,
          1990,
          1991,
          1992,
          1993,
          1994,
          1995,
          1996,
          1997,
          1998,
          1999,
          2000,
          2001,
          2002,
          2003,
          2004,
          2005,
          2006,
          2007,
          2008,
          2009,
          2010,
          2011,
          2012,
          2013,
          2014,
          2015,
          2016,
          2017,
          2018,
          2019,
          2020,
          2021,
          2022,
          2023,
          2024,
          2025
         ],
         "y": [
          302500,
          257500,
          495833.5,
          339250,
          380000,
          1500000,
          650000,
          750000,
          813500,
          1074000,
          1059750,
          1307000,
          1235000,
          1306620,
          1511500,
          1429360,
          2200000,
          2200000,
          2149259,
          1971605.5,
          2057460,
          2400513.5,
          2137200,
          2511456.5,
          2661027,
          2691000,
          2500000,
          2500000,
          2568720,
          3120151,
          2090000,
          2357760,
          2581020,
          2500000,
          3314365,
          3540000,
          3613225,
          2777011,
          3946434,
          3832636,
          5000000
         ]
        },
        {
         "hovertemplate": "Season: %{x}<br>Stand. Deviation: %{y}<extra></extra>",
         "mode": "lines+markers",
         "name": "Standard Deviation",
         "type": "scatter",
         "x": [
          1985,
          1986,
          1987,
          1988,
          1989,
          1990,
          1991,
          1992,
          1993,
          1994,
          1995,
          1996,
          1997,
          1998,
          1999,
          2000,
          2001,
          2002,
          2003,
          2004,
          2005,
          2006,
          2007,
          2008,
          2009,
          2010,
          2011,
          2012,
          2013,
          2014,
          2015,
          2016,
          2017,
          2018,
          2019,
          2020,
          2021,
          2022,
          2023,
          2024,
          2025
         ],
         "y": [
          345335.7850727483,
          340629.5448111433,
          385118.9170999995,
          410417.57835538266,
          471670.71168555255,
          646427.8369723093,
          660061.7027147368,
          800249.8664229935,
          876176.0553499837,
          977938.8774792553,
          1161800.1145514753,
          1675939.973610744,
          2465440.4714798895,
          2769253.970339086,
          2692681.345576777,
          3057339.7293824526,
          3467070.957169424,
          3688108.668603314,
          4034786.0406405474,
          4008431.8469371656,
          3954779.7667752975,
          4013707.402105734,
          4161748.247782729,
          4471519.107189352,
          4728000.260830135,
          4642577.589148275,
          4564574.140131517,
          4603913.714170119,
          4625241.993301912,
          4869137.778860139,
          4665747.326161541,
          5107775.898986164,
          6284701.909299682,
          7235439.298018429,
          8020512.890504463,
          8953889.952680368,
          11355735.07984513,
          10801261.14156986,
          11353689.136042926,
          11419102.425837915,
          12461579.005479686
         ]
        },
        {
         "customdata": [
          [
           "Magic Johnson",
           "LAL"
          ],
          [
           "Magic Johnson",
           "LAL"
          ],
          [
           "Larry Bird",
           "BOS"
          ],
          [
           "Patrick Ewing",
           "NYK"
          ],
          [
           "Patrick Ewing",
           "NYK"
          ],
          [
           "Patrick Ewing",
           "NYK"
          ],
          [
           "Patrick Ewing",
           "NYK"
          ],
          [
           "Larry Bird",
           "BOS"
          ],
          [
           "David Robinson",
           "SAS"
          ],
          [
           "David Robinson",
           "SAS"
          ],
          [
           "David Robinson",
           "SAS"
          ],
          [
           "Patrick Ewing",
           "NYK"
          ],
          [
           "Michael Jordan",
           "CHI"
          ],
          [
           "Michael Jordan",
           "CHI"
          ],
          [
           "Patrick Ewing",
           "NYK"
          ],
          [
           "Shaquille O'Neal",
           "LAL"
          ],
          [
           "Kevin Garnett",
           "MIN"
          ],
          [
           "Kevin Garnett",
           "MIN"
          ],
          [
           "Kevin Garnett",
           "MIN"
          ],
          [
           "Kevin Garnett",
           "MIN"
          ],
          [
           "Shaquille O'Neal",
           "MIA"
          ],
          [
           "Shaquille O'Neal",
           "MIA"
          ],
          [
           "Kevin Garnett",
           "MIN"
          ],
          [
           "Kevin Garnett",
           "BOS"
          ],
          [
           "Kevin Garnett",
           "BOS"
          ],
          [
           "Tracy McGrady",
           "NYK"
          ],
          [
           "Kobe Bryant",
           "LAL"
          ],
          [
           "Kobe Bryant",
           "LAL"
          ],
          [
           "Kobe Bryant",
           "LAL"
          ],
          [
           "Kobe Bryant",
           "LAL"
          ],
          [
           "Kobe Bryant",
           "LAL"
          ],
          [
           "Kobe Bryant",
           "LAL"
          ],
          [
           "LeBron James",
           "CLE"
          ],
          [
           "Stephen Curry",
           "GSW"
          ],
          [
           "Stephen Curry",
           "GSW"
          ],
          [
           "Stephen Curry",
           "GSW"
          ],
          [
           "Stephen Curry",
           "GSW"
          ],
          [
           "Stephen Curry",
           "GSW"
          ],
          [
           "Stephen Curry",
           "GSW"
          ],
          [
           "Stephen Curry",
           "GSW"
          ],
          [
           "Stephen Curry",
           "GSW"
          ]
         ],
         "hovertemplate": "Season: %{x}<br>Max salary: %{y}<br>Player: %{customdata[0]}<br>Team: %{customdata[1]}<extra></extra>",
         "mode": "lines+markers",
         "name": "Max",
         "type": "scatter",
         "x": [
          1985,
          1986,
          1987,
          1988,
          1989,
          1990,
          1991,
          1992,
          1993,
          1994,
          1995,
          1996,
          1997,
          1998,
          1999,
          2000,
          2001,
          2002,
          2003,
          2004,
          2005,
          2006,
          2007,
          2008,
          2009,
          2010,
          2011,
          2012,
          2013,
          2014,
          2015,
          2016,
          2017,
          2018,
          2019,
          2020,
          2021,
          2022,
          2023,
          2024,
          2025
         ],
         "y": [
          2500000,
          2500000,
          1800000,
          2750000,
          3250000,
          3750000,
          4250000,
          7070000,
          5720000,
          5740000,
          7300000,
          18724000,
          30140000,
          33140000,
          18500000,
          17142858,
          19610000,
          22400000,
          25200000,
          28000000,
          27696430,
          20000000,
          21000000,
          23750000,
          24751934,
          23239562,
          24806250,
          25244493,
          27849149,
          30453805,
          23500000,
          25000000,
          30963450,
          34682550,
          37457154,
          40231758,
          52411485,
          52938707,
          50968059,
          53458234,
          55761216
         ]
        }
       ],
       "layout": {
        "hovermode": "closest",
        "template": {
         "data": {
          "bar": [
           {
            "error_x": {
             "color": "#2a3f5f"
            },
            "error_y": {
             "color": "#2a3f5f"
            },
            "marker": {
             "line": {
              "color": "#E5ECF6",
              "width": 0.5
             },
             "pattern": {
              "fillmode": "overlay",
              "size": 10,
              "solidity": 0.2
             }
            },
            "type": "bar"
           }
          ],
          "barpolar": [
           {
            "marker": {
             "line": {
              "color": "#E5ECF6",
              "width": 0.5
             },
             "pattern": {
              "fillmode": "overlay",
              "size": 10,
              "solidity": 0.2
             }
            },
            "type": "barpolar"
           }
          ],
          "carpet": [
           {
            "aaxis": {
             "endlinecolor": "#2a3f5f",
             "gridcolor": "white",
             "linecolor": "white",
             "minorgridcolor": "white",
             "startlinecolor": "#2a3f5f"
            },
            "baxis": {
             "endlinecolor": "#2a3f5f",
             "gridcolor": "white",
             "linecolor": "white",
             "minorgridcolor": "white",
             "startlinecolor": "#2a3f5f"
            },
            "type": "carpet"
           }
          ],
          "choropleth": [
           {
            "colorbar": {
             "outlinewidth": 0,
             "ticks": ""
            },
            "type": "choropleth"
           }
          ],
          "contour": [
           {
            "colorbar": {
             "outlinewidth": 0,
             "ticks": ""
            },
            "colorscale": [
             [
              0,
              "#0d0887"
             ],
             [
              0.1111111111111111,
              "#46039f"
             ],
             [
              0.2222222222222222,
              "#7201a8"
             ],
             [
              0.3333333333333333,
              "#9c179e"
             ],
             [
              0.4444444444444444,
              "#bd3786"
             ],
             [
              0.5555555555555556,
              "#d8576b"
             ],
             [
              0.6666666666666666,
              "#ed7953"
             ],
             [
              0.7777777777777778,
              "#fb9f3a"
             ],
             [
              0.8888888888888888,
              "#fdca26"
             ],
             [
              1,
              "#f0f921"
             ]
            ],
            "type": "contour"
           }
          ],
          "contourcarpet": [
           {
            "colorbar": {
             "outlinewidth": 0,
             "ticks": ""
            },
            "type": "contourcarpet"
           }
          ],
          "heatmap": [
           {
            "colorbar": {
             "outlinewidth": 0,
             "ticks": ""
            },
            "colorscale": [
             [
              0,
              "#0d0887"
             ],
             [
              0.1111111111111111,
              "#46039f"
             ],
             [
              0.2222222222222222,
              "#7201a8"
             ],
             [
              0.3333333333333333,
              "#9c179e"
             ],
             [
              0.4444444444444444,
              "#bd3786"
             ],
             [
              0.5555555555555556,
              "#d8576b"
             ],
             [
              0.6666666666666666,
              "#ed7953"
             ],
             [
              0.7777777777777778,
              "#fb9f3a"
             ],
             [
              0.8888888888888888,
              "#fdca26"
             ],
             [
              1,
              "#f0f921"
             ]
            ],
            "type": "heatmap"
           }
          ],
          "heatmapgl": [
           {
            "colorbar": {
             "outlinewidth": 0,
             "ticks": ""
            },
            "colorscale": [
             [
              0,
              "#0d0887"
             ],
             [
              0.1111111111111111,
              "#46039f"
             ],
             [
              0.2222222222222222,
              "#7201a8"
             ],
             [
              0.3333333333333333,
              "#9c179e"
             ],
             [
              0.4444444444444444,
              "#bd3786"
             ],
             [
              0.5555555555555556,
              "#d8576b"
             ],
             [
              0.6666666666666666,
              "#ed7953"
             ],
             [
              0.7777777777777778,
              "#fb9f3a"
             ],
             [
              0.8888888888888888,
              "#fdca26"
             ],
             [
              1,
              "#f0f921"
             ]
            ],
            "type": "heatmapgl"
           }
          ],
          "histogram": [
           {
            "marker": {
             "pattern": {
              "fillmode": "overlay",
              "size": 10,
              "solidity": 0.2
             }
            },
            "type": "histogram"
           }
          ],
          "histogram2d": [
           {
            "colorbar": {
             "outlinewidth": 0,
             "ticks": ""
            },
            "colorscale": [
             [
              0,
              "#0d0887"
             ],
             [
              0.1111111111111111,
              "#46039f"
             ],
             [
              0.2222222222222222,
              "#7201a8"
             ],
             [
              0.3333333333333333,
              "#9c179e"
             ],
             [
              0.4444444444444444,
              "#bd3786"
             ],
             [
              0.5555555555555556,
              "#d8576b"
             ],
             [
              0.6666666666666666,
              "#ed7953"
             ],
             [
              0.7777777777777778,
              "#fb9f3a"
             ],
             [
              0.8888888888888888,
              "#fdca26"
             ],
             [
              1,
              "#f0f921"
             ]
            ],
            "type": "histogram2d"
           }
          ],
          "histogram2dcontour": [
           {
            "colorbar": {
             "outlinewidth": 0,
             "ticks": ""
            },
            "colorscale": [
             [
              0,
              "#0d0887"
             ],
             [
              0.1111111111111111,
              "#46039f"
             ],
             [
              0.2222222222222222,
              "#7201a8"
             ],
             [
              0.3333333333333333,
              "#9c179e"
             ],
             [
              0.4444444444444444,
              "#bd3786"
             ],
             [
              0.5555555555555556,
              "#d8576b"
             ],
             [
              0.6666666666666666,
              "#ed7953"
             ],
             [
              0.7777777777777778,
              "#fb9f3a"
             ],
             [
              0.8888888888888888,
              "#fdca26"
             ],
             [
              1,
              "#f0f921"
             ]
            ],
            "type": "histogram2dcontour"
           }
          ],
          "mesh3d": [
           {
            "colorbar": {
             "outlinewidth": 0,
             "ticks": ""
            },
            "type": "mesh3d"
           }
          ],
          "parcoords": [
           {
            "line": {
             "colorbar": {
              "outlinewidth": 0,
              "ticks": ""
             }
            },
            "type": "parcoords"
           }
          ],
          "pie": [
           {
            "automargin": true,
            "type": "pie"
           }
          ],
          "scatter": [
           {
            "fillpattern": {
             "fillmode": "overlay",
             "size": 10,
             "solidity": 0.2
            },
            "type": "scatter"
           }
          ],
          "scatter3d": [
           {
            "line": {
             "colorbar": {
              "outlinewidth": 0,
              "ticks": ""
             }
            },
            "marker": {
             "colorbar": {
              "outlinewidth": 0,
              "ticks": ""
             }
            },
            "type": "scatter3d"
           }
          ],
          "scattercarpet": [
           {
            "marker": {
             "colorbar": {
              "outlinewidth": 0,
              "ticks": ""
             }
            },
            "type": "scattercarpet"
           }
          ],
          "scattergeo": [
           {
            "marker": {
             "colorbar": {
              "outlinewidth": 0,
              "ticks": ""
             }
            },
            "type": "scattergeo"
           }
          ],
          "scattergl": [
           {
            "marker": {
             "colorbar": {
              "outlinewidth": 0,
              "ticks": ""
             }
            },
            "type": "scattergl"
           }
          ],
          "scattermapbox": [
           {
            "marker": {
             "colorbar": {
              "outlinewidth": 0,
              "ticks": ""
             }
            },
            "type": "scattermapbox"
           }
          ],
          "scatterpolar": [
           {
            "marker": {
             "colorbar": {
              "outlinewidth": 0,
              "ticks": ""
             }
            },
            "type": "scatterpolar"
           }
          ],
          "scatterpolargl": [
           {
            "marker": {
             "colorbar": {
              "outlinewidth": 0,
              "ticks": ""
             }
            },
            "type": "scatterpolargl"
           }
          ],
          "scatterternary": [
           {
            "marker": {
             "colorbar": {
              "outlinewidth": 0,
              "ticks": ""
             }
            },
            "type": "scatterternary"
           }
          ],
          "surface": [
           {
            "colorbar": {
             "outlinewidth": 0,
             "ticks": ""
            },
            "colorscale": [
             [
              0,
              "#0d0887"
             ],
             [
              0.1111111111111111,
              "#46039f"
             ],
             [
              0.2222222222222222,
              "#7201a8"
             ],
             [
              0.3333333333333333,
              "#9c179e"
             ],
             [
              0.4444444444444444,
              "#bd3786"
             ],
             [
              0.5555555555555556,
              "#d8576b"
             ],
             [
              0.6666666666666666,
              "#ed7953"
             ],
             [
              0.7777777777777778,
              "#fb9f3a"
             ],
             [
              0.8888888888888888,
              "#fdca26"
             ],
             [
              1,
              "#f0f921"
             ]
            ],
            "type": "surface"
           }
          ],
          "table": [
           {
            "cells": {
             "fill": {
              "color": "#EBF0F8"
             },
             "line": {
              "color": "white"
             }
            },
            "header": {
             "fill": {
              "color": "#C8D4E3"
             },
             "line": {
              "color": "white"
             }
            },
            "type": "table"
           }
          ]
         },
         "layout": {
          "annotationdefaults": {
           "arrowcolor": "#2a3f5f",
           "arrowhead": 0,
           "arrowwidth": 1
          },
          "autotypenumbers": "strict",
          "coloraxis": {
           "colorbar": {
            "outlinewidth": 0,
            "ticks": ""
           }
          },
          "colorscale": {
           "diverging": [
            [
             0,
             "#8e0152"
            ],
            [
             0.1,
             "#c51b7d"
            ],
            [
             0.2,
             "#de77ae"
            ],
            [
             0.3,
             "#f1b6da"
            ],
            [
             0.4,
             "#fde0ef"
            ],
            [
             0.5,
             "#f7f7f7"
            ],
            [
             0.6,
             "#e6f5d0"
            ],
            [
             0.7,
             "#b8e186"
            ],
            [
             0.8,
             "#7fbc41"
            ],
            [
             0.9,
             "#4d9221"
            ],
            [
             1,
             "#276419"
            ]
           ],
           "sequential": [
            [
             0,
             "#0d0887"
            ],
            [
             0.1111111111111111,
             "#46039f"
            ],
            [
             0.2222222222222222,
             "#7201a8"
            ],
            [
             0.3333333333333333,
             "#9c179e"
            ],
            [
             0.4444444444444444,
             "#bd3786"
            ],
            [
             0.5555555555555556,
             "#d8576b"
            ],
            [
             0.6666666666666666,
             "#ed7953"
            ],
            [
             0.7777777777777778,
             "#fb9f3a"
            ],
            [
             0.8888888888888888,
             "#fdca26"
            ],
            [
             1,
             "#f0f921"
            ]
           ],
           "sequentialminus": [
            [
             0,
             "#0d0887"
            ],
            [
             0.1111111111111111,
             "#46039f"
            ],
            [
             0.2222222222222222,
             "#7201a8"
            ],
            [
             0.3333333333333333,
             "#9c179e"
            ],
            [
             0.4444444444444444,
             "#bd3786"
            ],
            [
             0.5555555555555556,
             "#d8576b"
            ],
            [
             0.6666666666666666,
             "#ed7953"
            ],
            [
             0.7777777777777778,
             "#fb9f3a"
            ],
            [
             0.8888888888888888,
             "#fdca26"
            ],
            [
             1,
             "#f0f921"
            ]
           ]
          },
          "colorway": [
           "#636efa",
           "#EF553B",
           "#00cc96",
           "#ab63fa",
           "#FFA15A",
           "#19d3f3",
           "#FF6692",
           "#B6E880",
           "#FF97FF",
           "#FECB52"
          ],
          "font": {
           "color": "#2a3f5f"
          },
          "geo": {
           "bgcolor": "white",
           "lakecolor": "white",
           "landcolor": "#E5ECF6",
           "showlakes": true,
           "showland": true,
           "subunitcolor": "white"
          },
          "hoverlabel": {
           "align": "left"
          },
          "hovermode": "closest",
          "mapbox": {
           "style": "light"
          },
          "paper_bgcolor": "white",
          "plot_bgcolor": "#E5ECF6",
          "polar": {
           "angularaxis": {
            "gridcolor": "white",
            "linecolor": "white",
            "ticks": ""
           },
           "bgcolor": "#E5ECF6",
           "radialaxis": {
            "gridcolor": "white",
            "linecolor": "white",
            "ticks": ""
           }
          },
          "scene": {
           "xaxis": {
            "backgroundcolor": "#E5ECF6",
            "gridcolor": "white",
            "gridwidth": 2,
            "linecolor": "white",
            "showbackground": true,
            "ticks": "",
            "zerolinecolor": "white"
           },
           "yaxis": {
            "backgroundcolor": "#E5ECF6",
            "gridcolor": "white",
            "gridwidth": 2,
            "linecolor": "white",
            "showbackground": true,
            "ticks": "",
            "zerolinecolor": "white"
           },
           "zaxis": {
            "backgroundcolor": "#E5ECF6",
            "gridcolor": "white",
            "gridwidth": 2,
            "linecolor": "white",
            "showbackground": true,
            "ticks": "",
            "zerolinecolor": "white"
           }
          },
          "shapedefaults": {
           "line": {
            "color": "#2a3f5f"
           }
          },
          "ternary": {
           "aaxis": {
            "gridcolor": "white",
            "linecolor": "white",
            "ticks": ""
           },
           "baxis": {
            "gridcolor": "white",
            "linecolor": "white",
            "ticks": ""
           },
           "bgcolor": "#E5ECF6",
           "caxis": {
            "gridcolor": "white",
            "linecolor": "white",
            "ticks": ""
           }
          },
          "title": {
           "x": 0.05
          },
          "xaxis": {
           "automargin": true,
           "gridcolor": "white",
           "linecolor": "white",
           "ticks": "",
           "title": {
            "standoff": 15
           },
           "zerolinecolor": "white",
           "zerolinewidth": 2
          },
          "yaxis": {
           "automargin": true,
           "gridcolor": "white",
           "linecolor": "white",
           "ticks": "",
           "title": {
            "standoff": 15
           },
           "zerolinecolor": "white",
           "zerolinewidth": 2
          }
         }
        },
        "title": {
         "text": "Salary trends"
        },
        "xaxis": {
         "title": {
          "text": "Season"
         }
        },
        "yaxis": {
         "title": {
          "text": "Salary"
         }
        }
       }
      }
     },
     "metadata": {},
     "output_type": "display_data"
    }
   ],
   "source": [
    "#aggregate stats per season and sort\n",
    "salary_stats = (df_salary\n",
    "                .groupby('year')['salary']\n",
    "                .agg(['mean', 'median', 'min', 'max', 'std'])\n",
    "                .reset_index()\n",
    "                .sort_values('year'))\n",
    "\n",
    "#find the row index of the max salary per season, then get necessary columns\n",
    "idx = df_salary.groupby('year')['salary'].idxmax()\n",
    "max_players = (df_salary.loc[idx, ['year', 'name', 'salary', 'team_abbr']]\n",
    "               .set_index('year')\n",
    "               .sort_index())\n",
    "\n",
    "#do the same for players with min salary per season\n",
    "idx = df_salary.groupby('year')['salary'].idxmin()\n",
    "min_players = (df_salary.loc[idx, ['year', 'name', 'salary', 'team_abbr']]\n",
    "               .set_index('year')\n",
    "               .sort_index())\n",
    "\n",
    "#align both frames by year\n",
    "salary_stats = salary_stats.set_index('year')\n",
    "max_players = max_players.reindex(salary_stats.index)\n",
    "min_players = min_players.reindex(salary_stats.index)\n",
    "\n",
    "#build graph\n",
    "fig = go.Figure()\n",
    "fig.add_trace(go.Scatter(x=salary_stats.index,\n",
    "                         y=salary_stats['mean'],\n",
    "                         mode='lines+markers',\n",
    "                         name='Mean',\n",
    "                         hovertemplate='Season: %{x}<br>Mean: %{y}<extra></extra>'))#\n",
    "\n",
    "fig.add_trace(go.Scatter(x=salary_stats.index,\n",
    "                         y=salary_stats['median'],\n",
    "                         mode='lines+markers',\n",
    "                         name='Median',\n",
    "                         hovertemplate='Season: %{x}<br>Median: %{y}<extra></extra>'))\n",
    "\n",
    "fig.add_trace(go.Scatter(x=salary_stats.index,\n",
    "                         y=salary_stats['std'],\n",
    "                         mode='lines+markers',\n",
    "                         name='Standard Deviation',\n",
    "                         hovertemplate='Season: %{x}<br>Stand. Deviation: %{y}<extra></extra>'))\n",
    "\n",
    "# fig.add_trace(go.Scatter(x=salary_stats.index,\n",
    "#                          y=salary_stats['min'],\n",
    "#                          text=min_players['name'].to_list(),\n",
    "#                          mode='lines+markers',\n",
    "#                          name='Min',\n",
    "#                          customdata=list(zip(min_players['name'], min_players['team_abbr'])),\n",
    "#                          hovertemplate='Season: %{x}<br>Min salary: %{y}<br>Player: %{customdata[0]}<br>Team: %{customdata[1]}<extra></extra>'))\n",
    "\n",
    "fig.add_trace(go.Scatter(x=salary_stats.index,\n",
    "                         y=salary_stats['max'],\n",
    "                         mode='lines+markers',\n",
    "                         name='Max',\n",
    "                         customdata = list(zip(max_players['name'], max_players['team_abbr'])),  # per-point player name\n",
    "                         hovertemplate='Season: %{x}<br>Max salary: %{y}<br>Player: %{customdata[0]}<br>Team: %{customdata[1]}<extra></extra>'))\n",
    "\n",
    "fig.update_layout(title='Salary trends', xaxis_title='Season', yaxis_title='Salary',\n",
    "                  hovermode='closest')\n",
    "fig.show()"
   ]
  },
  {
   "cell_type": "markdown",
   "id": "96cd6684",
   "metadata": {},
   "source": [
    "### 4. Analysis of the relation between player salary and efficiency"
   ]
  },
  {
   "cell_type": "markdown",
   "id": "8772e8f3",
   "metadata": {},
   "source": [
    "In order to carry out the analysis of player salary and efficiency, the following steps were carried out:\n",
    "- To compute player efficiency, the total and per minute rating of each player was calculated accross seasons, making use of per-game statistics such as points, assists, rebounds, steals, blocks, and turnovers.\n",
    "- Because the aim of this analysis is to investigate the value of any given player, the total rating is computed by taking the total rating accross all games played. \n",
    "- To explore the relationship between performance and player compensation, the efficiency data was merged with the salary information. \n",
    "- The analysis was carried out without outlariers, that is, players that played 10 games or less in an entire season.\n",
    "- A function to visualize the data for a total or per minute rating was defined, with the optional argument of limiting the graph to a single season.\n",
    "- The visualization includes regression lines to examine trends and correlations. In particular, as salary data is not evenly \n",
    "- Lastly, the coefficients of the regression lines for all available seasons where also plotted, in order to further investigate the impact on performance on compensation accross various seasons."
   ]
  },
  {
   "cell_type": "code",
   "execution_count": 51,
   "id": "01a56869",
   "metadata": {},
   "outputs": [
    {
     "data": {
      "text/html": [
       "<div>\n",
       "<style scoped>\n",
       "    .dataframe tbody tr th:only-of-type {\n",
       "        vertical-align: middle;\n",
       "    }\n",
       "\n",
       "    .dataframe tbody tr th {\n",
       "        vertical-align: top;\n",
       "    }\n",
       "\n",
       "    .dataframe thead th {\n",
       "        text-align: right;\n",
       "    }\n",
       "</style>\n",
       "<table border=\"1\" class=\"dataframe\">\n",
       "  <thead>\n",
       "    <tr style=\"text-align: right;\">\n",
       "      <th></th>\n",
       "      <th>playerName</th>\n",
       "      <th>team</th>\n",
       "      <th>age</th>\n",
       "      <th>season</th>\n",
       "      <th>games</th>\n",
       "      <th>minutesPg</th>\n",
       "      <th>points</th>\n",
       "      <th>ftPercent</th>\n",
       "      <th>assists</th>\n",
       "      <th>totalRb</th>\n",
       "      <th>steals</th>\n",
       "      <th>turnovers</th>\n",
       "      <th>blocks</th>\n",
       "      <th>rating</th>\n",
       "      <th>ratingPm</th>\n",
       "      <th>ratingTotal</th>\n",
       "    </tr>\n",
       "  </thead>\n",
       "  <tbody>\n",
       "    <tr>\n",
       "      <th>3908</th>\n",
       "      <td>Russell Westbrook</td>\n",
       "      <td>OKC</td>\n",
       "      <td>28</td>\n",
       "      <td>2017</td>\n",
       "      <td>81</td>\n",
       "      <td>34.6</td>\n",
       "      <td>31.6</td>\n",
       "      <td>0.845</td>\n",
       "      <td>10.4</td>\n",
       "      <td>10.7</td>\n",
       "      <td>1.6</td>\n",
       "      <td>5.4</td>\n",
       "      <td>0.4</td>\n",
       "      <td>49.3</td>\n",
       "      <td>1.424855</td>\n",
       "      <td>3993.3</td>\n",
       "    </tr>\n",
       "    <tr>\n",
       "      <th>13065</th>\n",
       "      <td>Shaquille O'Neal</td>\n",
       "      <td>LAL</td>\n",
       "      <td>27</td>\n",
       "      <td>2000</td>\n",
       "      <td>79</td>\n",
       "      <td>40.0</td>\n",
       "      <td>29.7</td>\n",
       "      <td>0.524</td>\n",
       "      <td>3.8</td>\n",
       "      <td>13.6</td>\n",
       "      <td>0.5</td>\n",
       "      <td>2.8</td>\n",
       "      <td>3.0</td>\n",
       "      <td>47.8</td>\n",
       "      <td>1.195000</td>\n",
       "      <td>3776.2</td>\n",
       "    </tr>\n",
       "    <tr>\n",
       "      <th>15651</th>\n",
       "      <td>David Robinson</td>\n",
       "      <td>SAS</td>\n",
       "      <td>28</td>\n",
       "      <td>1994</td>\n",
       "      <td>80</td>\n",
       "      <td>40.5</td>\n",
       "      <td>29.8</td>\n",
       "      <td>0.749</td>\n",
       "      <td>4.8</td>\n",
       "      <td>10.7</td>\n",
       "      <td>1.7</td>\n",
       "      <td>3.2</td>\n",
       "      <td>3.3</td>\n",
       "      <td>47.1</td>\n",
       "      <td>1.162963</td>\n",
       "      <td>3768.0</td>\n",
       "    </tr>\n",
       "    <tr>\n",
       "      <th>3025</th>\n",
       "      <td>James Harden</td>\n",
       "      <td>HOU</td>\n",
       "      <td>29</td>\n",
       "      <td>2019</td>\n",
       "      <td>78</td>\n",
       "      <td>36.8</td>\n",
       "      <td>36.1</td>\n",
       "      <td>0.879</td>\n",
       "      <td>7.5</td>\n",
       "      <td>6.6</td>\n",
       "      <td>2.0</td>\n",
       "      <td>5.0</td>\n",
       "      <td>0.7</td>\n",
       "      <td>47.9</td>\n",
       "      <td>1.301630</td>\n",
       "      <td>3736.2</td>\n",
       "    </tr>\n",
       "    <tr>\n",
       "      <th>15632</th>\n",
       "      <td>Shaquille O'Neal</td>\n",
       "      <td>ORL</td>\n",
       "      <td>21</td>\n",
       "      <td>1994</td>\n",
       "      <td>81</td>\n",
       "      <td>39.8</td>\n",
       "      <td>29.3</td>\n",
       "      <td>0.554</td>\n",
       "      <td>2.4</td>\n",
       "      <td>13.2</td>\n",
       "      <td>0.9</td>\n",
       "      <td>2.7</td>\n",
       "      <td>2.9</td>\n",
       "      <td>46.0</td>\n",
       "      <td>1.155779</td>\n",
       "      <td>3726.0</td>\n",
       "    </tr>\n",
       "    <tr>\n",
       "      <th>...</th>\n",
       "      <td>...</td>\n",
       "      <td>...</td>\n",
       "      <td>...</td>\n",
       "      <td>...</td>\n",
       "      <td>...</td>\n",
       "      <td>...</td>\n",
       "      <td>...</td>\n",
       "      <td>...</td>\n",
       "      <td>...</td>\n",
       "      <td>...</td>\n",
       "      <td>...</td>\n",
       "      <td>...</td>\n",
       "      <td>...</td>\n",
       "      <td>...</td>\n",
       "      <td>...</td>\n",
       "      <td>...</td>\n",
       "    </tr>\n",
       "    <tr>\n",
       "      <th>8148</th>\n",
       "      <td>Coby Karl</td>\n",
       "      <td>CLE</td>\n",
       "      <td>26</td>\n",
       "      <td>2010</td>\n",
       "      <td>3</td>\n",
       "      <td>1.7</td>\n",
       "      <td>0.0</td>\n",
       "      <td>None</td>\n",
       "      <td>0.0</td>\n",
       "      <td>0.7</td>\n",
       "      <td>0.0</td>\n",
       "      <td>1.3</td>\n",
       "      <td>0.0</td>\n",
       "      <td>-0.6</td>\n",
       "      <td>-0.352941</td>\n",
       "      <td>-1.8</td>\n",
       "    </tr>\n",
       "    <tr>\n",
       "      <th>9216</th>\n",
       "      <td>Mile Ilic</td>\n",
       "      <td>NJN</td>\n",
       "      <td>22</td>\n",
       "      <td>2007</td>\n",
       "      <td>5</td>\n",
       "      <td>1.2</td>\n",
       "      <td>0.0</td>\n",
       "      <td>None</td>\n",
       "      <td>0.0</td>\n",
       "      <td>0.2</td>\n",
       "      <td>0.0</td>\n",
       "      <td>0.6</td>\n",
       "      <td>0.0</td>\n",
       "      <td>-0.4</td>\n",
       "      <td>-0.333333</td>\n",
       "      <td>-2.0</td>\n",
       "    </tr>\n",
       "    <tr>\n",
       "      <th>9834</th>\n",
       "      <td>Nene</td>\n",
       "      <td>DEN</td>\n",
       "      <td>23</td>\n",
       "      <td>2006</td>\n",
       "      <td>1</td>\n",
       "      <td>3.0</td>\n",
       "      <td>0.0</td>\n",
       "      <td>None</td>\n",
       "      <td>0.0</td>\n",
       "      <td>0.0</td>\n",
       "      <td>0.0</td>\n",
       "      <td>2.0</td>\n",
       "      <td>0.0</td>\n",
       "      <td>-2.0</td>\n",
       "      <td>-0.666667</td>\n",
       "      <td>-2.0</td>\n",
       "    </tr>\n",
       "    <tr>\n",
       "      <th>9582</th>\n",
       "      <td>Chris McCray</td>\n",
       "      <td>MIL</td>\n",
       "      <td>22</td>\n",
       "      <td>2007</td>\n",
       "      <td>5</td>\n",
       "      <td>2.4</td>\n",
       "      <td>0.0</td>\n",
       "      <td>None</td>\n",
       "      <td>0.0</td>\n",
       "      <td>0.0</td>\n",
       "      <td>0.0</td>\n",
       "      <td>0.4</td>\n",
       "      <td>0.0</td>\n",
       "      <td>-0.4</td>\n",
       "      <td>-0.166667</td>\n",
       "      <td>-2.0</td>\n",
       "    </tr>\n",
       "    <tr>\n",
       "      <th>1687</th>\n",
       "      <td>Anzejs Pasecniks</td>\n",
       "      <td>WAS</td>\n",
       "      <td>25</td>\n",
       "      <td>2021</td>\n",
       "      <td>1</td>\n",
       "      <td>6.0</td>\n",
       "      <td>0.0</td>\n",
       "      <td>None</td>\n",
       "      <td>1.0</td>\n",
       "      <td>1.0</td>\n",
       "      <td>0.0</td>\n",
       "      <td>5.0</td>\n",
       "      <td>0.0</td>\n",
       "      <td>-3.0</td>\n",
       "      <td>-0.500000</td>\n",
       "      <td>-3.0</td>\n",
       "    </tr>\n",
       "  </tbody>\n",
       "</table>\n",
       "<p>16284 rows × 16 columns</p>\n",
       "</div>"
      ],
      "text/plain": [
       "              playerName team  age  season  games  minutesPg  points  \\\n",
       "3908   Russell Westbrook  OKC   28    2017     81       34.6    31.6   \n",
       "13065   Shaquille O'Neal  LAL   27    2000     79       40.0    29.7   \n",
       "15651     David Robinson  SAS   28    1994     80       40.5    29.8   \n",
       "3025        James Harden  HOU   29    2019     78       36.8    36.1   \n",
       "15632   Shaquille O'Neal  ORL   21    1994     81       39.8    29.3   \n",
       "...                  ...  ...  ...     ...    ...        ...     ...   \n",
       "8148           Coby Karl  CLE   26    2010      3        1.7     0.0   \n",
       "9216           Mile Ilic  NJN   22    2007      5        1.2     0.0   \n",
       "9834                Nene  DEN   23    2006      1        3.0     0.0   \n",
       "9582        Chris McCray  MIL   22    2007      5        2.4     0.0   \n",
       "1687    Anzejs Pasecniks  WAS   25    2021      1        6.0     0.0   \n",
       "\n",
       "      ftPercent  assists  totalRb  steals  turnovers  blocks  rating  \\\n",
       "3908      0.845     10.4     10.7     1.6        5.4     0.4    49.3   \n",
       "13065     0.524      3.8     13.6     0.5        2.8     3.0    47.8   \n",
       "15651     0.749      4.8     10.7     1.7        3.2     3.3    47.1   \n",
       "3025      0.879      7.5      6.6     2.0        5.0     0.7    47.9   \n",
       "15632     0.554      2.4     13.2     0.9        2.7     2.9    46.0   \n",
       "...         ...      ...      ...     ...        ...     ...     ...   \n",
       "8148       None      0.0      0.7     0.0        1.3     0.0    -0.6   \n",
       "9216       None      0.0      0.2     0.0        0.6     0.0    -0.4   \n",
       "9834       None      0.0      0.0     0.0        2.0     0.0    -2.0   \n",
       "9582       None      0.0      0.0     0.0        0.4     0.0    -0.4   \n",
       "1687       None      1.0      1.0     0.0        5.0     0.0    -3.0   \n",
       "\n",
       "       ratingPm  ratingTotal  \n",
       "3908   1.424855       3993.3  \n",
       "13065  1.195000       3776.2  \n",
       "15651  1.162963       3768.0  \n",
       "3025   1.301630       3736.2  \n",
       "15632  1.155779       3726.0  \n",
       "...         ...          ...  \n",
       "8148  -0.352941         -1.8  \n",
       "9216  -0.333333         -2.0  \n",
       "9834  -0.666667         -2.0  \n",
       "9582  -0.166667         -2.0  \n",
       "1687  -0.500000         -3.0  \n",
       "\n",
       "[16284 rows x 16 columns]"
      ]
     },
     "execution_count": 51,
     "metadata": {},
     "output_type": "execute_result"
    }
   ],
   "source": [
    "#define dataframe used for carrying out analysis\n",
    "df_efficiency = player_stats.iloc[:,:13].copy()\n",
    "\n",
    "#ensure correct data types\n",
    "cols_to_numeric = ['points', 'assists', 'totalRb', 'steals', 'blocks', 'turnovers', 'minutesPg']\n",
    "df_efficiency[cols_to_numeric] = df_efficiency[cols_to_numeric].apply(pd.to_numeric, errors=\"coerce\")\n",
    "\n",
    "#compute ratings, total and per minute\n",
    "df_efficiency = df_efficiency.assign(\n",
    "    rating = (\n",
    "        df_efficiency[\"points\"]\n",
    "      + df_efficiency[\"assists\"]\n",
    "      + df_efficiency[\"totalRb\"]\n",
    "      + df_efficiency[\"steals\"]\n",
    "      + df_efficiency[\"blocks\"]\n",
    "      - df_efficiency[\"turnovers\"]\n",
    "    ),\n",
    "    ratingPm = lambda x: np.where(x[\"minutesPg\"] != 0, x[\"rating\"] / x[\"minutesPg\"], 0), #default to zero \n",
    "    ratingTotal = lambda x: x['rating'] * x['games']\n",
    ")\n",
    "\n",
    "df_efficiency.sort_values(by='ratingTotal', ascending = False)"
   ]
  },
  {
   "cell_type": "code",
   "execution_count": null,
   "id": "9fb5b087",
   "metadata": {},
   "outputs": [],
   "source": [
    "#add salary information to our ratings dataframe\n",
    "df_efficiency = df_efficiency.merge(df_salary[['name', 'salary', 'year']],\n",
    "    how='left',\n",
    "    left_on=['playerName', 'season'],\n",
    "    right_on=['name', 'year']\n",
    ").drop(columns=['name', 'year'])\n",
    "\n",
    "#eliminate outliers\n",
    "df_efficiency = df_efficiency[df_efficiency.games > 10]\n",
    "\n",
    "#some players miss salary data, drop corresponding rows\n",
    "df_efficiency = df_efficiency[df_efficiency.salary.notna()]"
   ]
  },
  {
   "cell_type": "code",
   "execution_count": 54,
   "id": "6533f930",
   "metadata": {},
   "outputs": [
    {
     "data": {
      "text/plain": [
       "<Axes: xlabel='ratingPm', ylabel='Count'>"
      ]
     },
     "execution_count": 54,
     "metadata": {},
     "output_type": "execute_result"
    },
    {
     "data": {
      "image/png": "[encoded data removed]",
      "text/plain": [
       "<Figure size 640x480 with 1 Axes>"
      ]
     },
     "metadata": {},
     "output_type": "display_data"
    }
   ],
   "source": [
    "#quick illustration of the distribution of ratings per minute\n",
    "sns.histplot(df_efficiency['ratingPm'], kde=True)"
   ]
  },
  {
   "cell_type": "code",
   "execution_count": 60,
   "id": "c611e91a",
   "metadata": {},
   "outputs": [
    {
     "data": {
      "text/plain": [
       "<Axes: xlabel='salary', ylabel='Count'>"
      ]
     },
     "execution_count": 60,
     "metadata": {},
     "output_type": "execute_result"
    },
    {
     "data": {
      "image/png": "[encoded data removed]",
      "text/plain": [
       "<Figure size 640x480 with 1 Axes>"
      ]
     },
     "metadata": {},
     "output_type": "display_data"
    }
   ],
   "source": [
    "#quick illustration of salary distribution\n",
    "sns.histplot(df_efficiency['salary'], kde=True)"
   ]
  },
  {
   "cell_type": "code",
   "execution_count": 17,
   "id": "a2a7251c",
   "metadata": {},
   "outputs": [],
   "source": [
    "#function to produce a graph and output the regression coefficients\n",
    "def efficiency_plot(df, metric, year=None, plot=True):\n",
    "\n",
    "    #if a season was passed, filter the dataframe\n",
    "    if year is not None:\n",
    "        df = df[df.season == year]\n",
    "\n",
    "    #set feature and prediction variables\n",
    "    X = df[metric].values.reshape(-1,1)\n",
    "    y = df['salary'].values\n",
    "\n",
    "    #linear regression on salary\n",
    "    lin_model = LinearRegression()\n",
    "    lin_model.fit(X,y)\n",
    "    y_pred_lin = lin_model.predict(X)\n",
    "\n",
    "    #linear regression on log(salary)\n",
    "    lin_log_model = LinearRegression()\n",
    "\n",
    "    #apply log to prediction variable\n",
    "    y_log = y.copy()\n",
    "    mask = (y != 0)\n",
    "    y_log[mask] = np.log(y[mask])\n",
    "\n",
    "    lin_log_model.fit(X,y_log)\n",
    "    y_pred_log = np.exp(lin_log_model.predict(X))\n",
    "\n",
    "    if plot:\n",
    "        fig = px.scatter(\n",
    "            df,\n",
    "            x=metric,\n",
    "            y=\"salary\",\n",
    "            hover_data=['playerName', 'team', 'season'],\n",
    "            labels={  # rename axis labels and hover names\n",
    "                metric: \"Efficiency Rating\",\n",
    "                \"salary\": \"Salary (USD)\",\n",
    "                \"playerName\": \"Player\",\n",
    "                \"team\": \"Team\"\n",
    "            }\n",
    "        )\n",
    "\n",
    "        #sort for smooth line plotting\n",
    "        sort_idx = np.argsort(X.flatten())\n",
    "\n",
    "        #add linear regression line\n",
    "        fig.add_trace(go.Scatter(\n",
    "            x=X.flatten()[sort_idx],\n",
    "            y=y_pred_lin[sort_idx],\n",
    "            mode=\"lines\",\n",
    "            name=\"Linear fit\",\n",
    "            line=dict(color=\"green\")\n",
    "        ))\n",
    "\n",
    "        fig.add_trace(go.Scatter(\n",
    "            x=X.flatten()[sort_idx],\n",
    "            y=y_pred_log[sort_idx],\n",
    "            mode=\"lines\",\n",
    "            name=\"Log-Linear fit\",\n",
    "            line=dict(color=\"purple\")\n",
    "        ))\n",
    "\n",
    "        fig.update_traces(marker=dict(size=6), selector=dict(mode=\"markers\"))\n",
    "        fig.show()\n",
    "\n",
    "    return lin_model.coef_[0], lin_log_model.coef_[0]"
   ]
  },
  {
   "cell_type": "code",
   "execution_count": 58,
   "id": "c6a33890",
   "metadata": {},
   "outputs": [
    {
     "data": {
      "application/vnd.plotly.v1+json": {
       "config": {
        "plotlyServerURL": "https://plot.ly"
       },
       "data": [
        {
         "customdata": [
          [
           "Precious Achiuwa",
           "TOR",
           2023
          ],
          [
           "OG Anunoby",
           "TOR",
           2023
          ],
          [
           "Dalano Banton",
           "TOR",
           2023
          ],
          [
           "Scottie Barnes",
           "TOR",
           2023
          ],
          [
           "Will Barton",
           "TOR",
           2023
          ],
          [
           "Khem Birch",
           "TOR",
           2023
          ],
          [
           "Chris Boucher",
           "TOR",
           2023
          ],
          [
           "Jeff Dowtin",
           "TOR",
           2023
          ],
          [
           "Malachi Flynn",
           "TOR",
           2023
          ],
          [
           "Christian Koloko",
           "TOR",
           2023
          ],
          [
           "Jakob Poeltl",
           "TOR",
           2023
          ],
          [
           "Pascal Siakam",
           "TOR",
           2023
          ],
          [
           "Fred VanVleet",
           "TOR",
           2023
          ],
          [
           "Thaddeus Young",
           "TOR",
           2023
          ],
          [
           "Steven Adams",
           "MEM",
           2023
          ],
          [
           "Desmond Bane",
           "MEM",
           2023
          ],
          [
           "Dillon Brooks",
           "MEM",
           2023
          ],
          [
           "Kennedy Chandler",
           "MEM",
           2023
          ],
          [
           "Brandon Clarke",
           "MEM",
           2023
          ],
          [
           "Tyus Jones",
           "MEM",
           2023
          ],
          [
           "Luke Kennard",
           "MEM",
           2023
          ],
          [
           "John Konchar",
           "MEM",
           2023
          ],
          [
           "Jake LaRavia",
           "MEM",
           2023
          ],
          [
           "Ja Morant",
           "MEM",
           2023
          ],
          [
           "David Roddy",
           "MEM",
           2023
          ],
          [
           "Ziaire Williams",
           "MEM",
           2023
          ],
          [
           "Bam Adebayo",
           "MIA",
           2023
          ],
          [
           "Jimmy Butler",
           "MIA",
           2023
          ],
          [
           "Jamal Cain",
           "MIA",
           2023
          ],
          [
           "Dewayne Dedmon",
           "MIA",
           2023
          ],
          [
           "Tyler Herro",
           "MIA",
           2023
          ],
          [
           "Haywood Highsmith",
           "MIA",
           2023
          ],
          [
           "Kevin Love",
           "MIA",
           2023
          ],
          [
           "Kyle Lowry",
           "MIA",
           2023
          ],
          [
           "Caleb Martin",
           "MIA",
           2023
          ],
          [
           "Victor Oladipo",
           "MIA",
           2023
          ],
          [
           "Duncan Robinson",
           "MIA",
           2023
          ],
          [
           "Orlando Robinson",
           "MIA",
           2023
          ],
          [
           "Max Strus",
           "MIA",
           2023
          ],
          [
           "Gabe Vincent",
           "MIA",
           2023
          ],
          [
           "Cody Zeller",
           "MIA",
           2023
          ],
          [
           "Ochai Agbaji",
           "UTA",
           2023
          ],
          [
           "Nickeil Alexander-Walker",
           "UTA",
           2023
          ],
          [
           "Udoka Azubuike",
           "UTA",
           2023
          ],
          [
           "Malik Beasley",
           "UTA",
           2023
          ],
          [
           "Leandro Bolmaro",
           "UTA",
           2023
          ],
          [
           "Jordan Clarkson",
           "UTA",
           2023
          ],
          [
           "Mike Conley",
           "UTA",
           2023
          ],
          [
           "Kris Dunn",
           "UTA",
           2023
          ],
          [
           "Simone Fontecchio",
           "UTA",
           2023
          ],
          [
           "Rudy Gay",
           "UTA",
           2023
          ],
          [
           "Talen Horton-Tucker",
           "UTA",
           2023
          ],
          [
           "Damian Jones",
           "UTA",
           2023
          ],
          [
           "Johnny Juzang",
           "UTA",
           2023
          ],
          [
           "Walker Kessler",
           "UTA",
           2023
          ],
          [
           "Lauri Markkanen",
           "UTA",
           2023
          ],
          [
           "Kelly Olynyk",
           "UTA",
           2023
          ],
          [
           "Collin Sexton",
           "UTA",
           2023
          ],
          [
           "Juan Toscano-Anderson",
           "UTA",
           2023
          ],
          [
           "Jarred Vanderbilt",
           "UTA",
           2023
          ],
          [
           "Nickeil Alexander-Walker",
           "MIN",
           2023
          ],
          [
           "Kyle Anderson",
           "MIN",
           2023
          ],
          [
           "Mike Conley",
           "MIN",
           2023
          ],
          [
           "Anthony Edwards",
           "MIN",
           2023
          ],
          [
           "Bryn Forbes",
           "MIN",
           2023
          ],
          [
           "Luka Garza",
           "MIN",
           2023
          ],
          [
           "Rudy Gobert",
           "MIN",
           2023
          ],
          [
           "Nathan Knight",
           "MIN",
           2023
          ],
          [
           "Jaden McDaniels",
           "MIN",
           2023
          ],
          [
           "Jordan McLaughlin",
           "MIN",
           2023
          ],
          [
           "Josh Minott",
           "MIN",
           2023
          ],
          [
           "Jaylen Nowell",
           "MIN",
           2023
          ],
          [
           "Taurean Prince",
           "MIN",
           2023
          ],
          [
           "Naz Reid",
           "MIN",
           2023
          ],
          [
           "Austin Rivers",
           "MIN",
           2023
          ],
          [
           "D'Angelo Russell",
           "MIN",
           2023
          ],
          [
           "Matt Ryan",
           "MIN",
           2023
          ],
          [
           "Karl-Anthony Towns",
           "MIN",
           2023
          ],
          [
           "Grayson Allen",
           "MIL",
           2023
          ],
          [
           "Giannis Antetokounmpo",
           "MIL",
           2023
          ],
          [
           "Thanasis Antetokounmpo",
           "MIL",
           2023
          ],
          [
           "MarJon Beauchamp",
           "MIL",
           2023
          ],
          [
           "Jevon Carter",
           "MIL",
           2023
          ],
          [
           "Pat Connaughton",
           "MIL",
           2023
          ],
          [
           "Jae Crowder",
           "MIL",
           2023
          ],
          [
           "George Hill",
           "MIL",
           2023
          ],
          [
           "Jrue Holiday",
           "MIL",
           2023
          ],
          [
           "Serge Ibaka",
           "MIL",
           2023
          ],
          [
           "Joe Ingles",
           "MIL",
           2023
          ],
          [
           "Brook Lopez",
           "MIL",
           2023
          ],
          [
           "Sandro Mamukelashvili",
           "MIL",
           2023
          ],
          [
           "Wesley Matthews",
           "MIL",
           2023
          ],
          [
           "Khris Middleton",
           "MIL",
           2023
          ],
          [
           "Jordan Nwora",
           "MIL",
           2023
          ],
          [
           "Bobby Portis",
           "MIL",
           2023
          ],
          [
           "Jarrett Allen",
           "CLE",
           2023
          ],
          [
           "Mamadi Diakite",
           "CLE",
           2023
          ],
          [
           "Darius Garland",
           "CLE",
           2023
          ],
          [
           "Caris LeVert",
           "CLE",
           2023
          ],
          [
           "Robin Lopez",
           "CLE",
           2023
          ],
          [
           "Kevin Love",
           "CLE",
           2023
          ],
          [
           "Donovan Mitchell",
           "CLE",
           2023
          ],
          [
           "Evan Mobley",
           "CLE",
           2023
          ],
          [
           "Isaiah Mobley",
           "CLE",
           2023
          ],
          [
           "Raul Neto",
           "CLE",
           2023
          ],
          [
           "Isaac Okoro",
           "CLE",
           2023
          ],
          [
           "Cedi Osman",
           "CLE",
           2023
          ],
          [
           "Ricky Rubio",
           "CLE",
           2023
          ],
          [
           "Lamar Stevens",
           "CLE",
           2023
          ],
          [
           "Dean Wade",
           "CLE",
           2023
          ],
          [
           "Jose Alvarado",
           "NOH",
           2023
          ],
          [
           "Dyson Daniels",
           "NOH",
           2023
          ],
          [
           "Jaxson Hayes",
           "NOH",
           2023
          ],
          [
           "Brandon Ingram",
           "NOH",
           2023
          ],
          [
           "Naji Marshall",
           "NOH",
           2023
          ],
          [
           "CJ McCollum",
           "NOH",
           2023
          ],
          [
           "Josh Richardson",
           "NOH",
           2023
          ],
          [
           "Garrett Temple",
           "NOH",
           2023
          ],
          [
           "Zion Williamson",
           "NOH",
           2023
          ],
          [
           "Cole Anthony",
           "ORL",
           2023
          ],
          [
           "Mo Bamba",
           "ORL",
           2023
          ],
          [
           "Paolo Banchero",
           "ORL",
           2023
          ],
          [
           "Goga Bitadze",
           "ORL",
           2023
          ],
          [
           "Bol Bol",
           "ORL",
           2023
          ],
          [
           "Markelle Fultz",
           "ORL",
           2023
          ],
          [
           "Gary Harris",
           "ORL",
           2023
          ],
          [
           "Kevon Harris",
           "ORL",
           2023
          ],
          [
           "Caleb Houstan",
           "ORL",
           2023
          ],
          [
           "Jonathan Isaac",
           "ORL",
           2023
          ],
          [
           "Chuma Okeke",
           "ORL",
           2023
          ],
          [
           "Terrence Ross",
           "ORL",
           2023
          ],
          [
           "Admiral Schofield",
           "ORL",
           2023
          ],
          [
           "Jalen Suggs",
           "ORL",
           2023
          ],
          [
           "Franz Wagner",
           "ORL",
           2023
          ],
          [
           "Moritz Wagner",
           "ORL",
           2023
          ],
          [
           "Ryan Arcidiacono",
           "NYK",
           2023
          ],
          [
           "RJ Barrett",
           "NYK",
           2023
          ],
          [
           "Jalen Brunson",
           "NYK",
           2023
          ],
          [
           "Evan Fournier",
           "NYK",
           2023
          ],
          [
           "Quentin Grimes",
           "NYK",
           2023
          ],
          [
           "Josh Hart",
           "NYK",
           2023
          ],
          [
           "Isaiah Hartenstein",
           "NYK",
           2023
          ],
          [
           "Miles McBride",
           "NYK",
           2023
          ],
          [
           "Immanuel Quickley",
           "NYK",
           2023
          ],
          [
           "Julius Randle",
           "NYK",
           2023
          ],
          [
           "Cam Reddish",
           "NYK",
           2023
          ],
          [
           "Mitchell Robinson",
           "NYK",
           2023
          ],
          [
           "Derrick Rose",
           "NYK",
           2023
          ],
          [
           "Jericho Sims",
           "NYK",
           2023
          ],
          [
           "Obi Toppin",
           "NYK",
           2023
          ],
          [
           "John Butler",
           "POR",
           2023
          ],
          [
           "Drew Eubanks",
           "POR",
           2023
          ],
          [
           "Jerami Grant",
           "POR",
           2023
          ],
          [
           "Josh Hart",
           "POR",
           2023
          ],
          [
           "Keon Johnson",
           "POR",
           2023
          ],
          [
           "Kevin Knox",
           "POR",
           2023
          ],
          [
           "Damian Lillard",
           "POR",
           2023
          ],
          [
           "Nassir Little",
           "POR",
           2023
          ],
          [
           "Gary Payton II",
           "POR",
           2023
          ],
          [
           "Cam Reddish",
           "POR",
           2023
          ],
          [
           "Shaedon Sharpe",
           "POR",
           2023
          ],
          [
           "Anfernee Simons",
           "POR",
           2023
          ],
          [
           "Matisse Thybulle",
           "POR",
           2023
          ],
          [
           "Jabari Walker",
           "POR",
           2023
          ],
          [
           "Trendon Watford",
           "POR",
           2023
          ],
          [
           "Justise Winslow",
           "POR",
           2023
          ],
          [
           "Deni Avdija",
           "WAS",
           2023
          ],
          [
           "Will Barton",
           "WAS",
           2023
          ],
          [
           "Bradley Beal",
           "WAS",
           2023
          ],
          [
           "Johnny Davis",
           "WAS",
           2023
          ],
          [
           "Daniel Gafford",
           "WAS",
           2023
          ],
          [
           "Taj Gibson",
           "WAS",
           2023
          ],
          [
           "Anthony Gill",
           "WAS",
           2023
          ],
          [
           "Jordan Goodwin",
           "WAS",
           2023
          ],
          [
           "Rui Hachimura",
           "WAS",
           2023
          ],
          [
           "Corey Kispert",
           "WAS",
           2023
          ],
          [
           "Kyle Kuzma",
           "WAS",
           2023
          ],
          [
           "Monte Morris",
           "WAS",
           2023
          ],
          [
           "Kendrick Nunn",
           "WAS",
           2023
          ],
          [
           "Delon Wright",
           "WAS",
           2023
          ],
          [
           "Deandre Ayton",
           "PHO",
           2023
          ],
          [
           "Bismack Biyombo",
           "PHO",
           2023
          ],
          [
           "Devin Booker",
           "PHO",
           2023
          ],
          [
           "Mikal Bridges",
           "PHO",
           2023
          ],
          [
           "Torrey Craig",
           "PHO",
           2023
          ],
          [
           "Cameron Johnson",
           "PHO",
           2023
          ],
          [
           "Jock Landale",
           "PHO",
           2023
          ],
          [
           "Damion Lee",
           "PHO",
           2023
          ],
          [
           "Saben Lee",
           "PHO",
           2023
          ],
          [
           "Josh Okogie",
           "PHO",
           2023
          ],
          [
           "Chris Paul",
           "PHO",
           2023
          ],
          [
           "Cameron Payne",
           "PHO",
           2023
          ],
          [
           "Terrence Ross",
           "PHO",
           2023
          ],
          [
           "Landry Shamet",
           "PHO",
           2023
          ],
          [
           "Saddiq Bey",
           "DET",
           2023
          ],
          [
           "Alec Burks",
           "DET",
           2023
          ],
          [
           "Cade Cunningham",
           "DET",
           2023
          ],
          [
           "Hamidou Diallo",
           "DET",
           2023
          ],
          [
           "Jalen Duren",
           "DET",
           2023
          ],
          [
           "Killian Hayes",
           "DET",
           2023
          ],
          [
           "Jaden Ivey",
           "DET",
           2023
          ],
          [
           "Cory Joseph",
           "DET",
           2023
          ],
          [
           "Kevin Knox",
           "DET",
           2023
          ],
          [
           "Isaiah Livers",
           "DET",
           2023
          ],
          [
           "Rodney McGruder",
           "DET",
           2023
          ],
          [
           "Nerlens Noel",
           "DET",
           2023
          ],
          [
           "Eugene Omoruyi",
           "DET",
           2023
          ],
          [
           "Jared Rhoden",
           "DET",
           2023
          ],
          [
           "Isaiah Stewart",
           "DET",
           2023
          ],
          [
           "James Wiseman",
           "DET",
           2023
          ],
          [
           "Stephen Curry",
           "GSW",
           2023
          ],
          [
           "Donte DiVincenzo",
           "GSW",
           2023
          ],
          [
           "Draymond Green",
           "GSW",
           2023
          ],
          [
           "JaMychal Green",
           "GSW",
           2023
          ],
          [
           "Ty Jerome",
           "GSW",
           2023
          ],
          [
           "Jonathan Kuminga",
           "GSW",
           2023
          ],
          [
           "Anthony Lamb",
           "GSW",
           2023
          ],
          [
           "Kevon Looney",
           "GSW",
           2023
          ],
          [
           "Moses Moody",
           "GSW",
           2023
          ],
          [
           "Jordan Poole",
           "GSW",
           2023
          ],
          [
           "Ryan Rollins",
           "GSW",
           2023
          ],
          [
           "Klay Thompson",
           "GSW",
           2023
          ],
          [
           "Andrew Wiggins",
           "GSW",
           2023
          ],
          [
           "James Wiseman",
           "GSW",
           2023
          ],
          [
           "LaMelo Ball",
           "CHA",
           2023
          ],
          [
           "James Bouknight",
           "CHA",
           2023
          ],
          [
           "Gordon Hayward",
           "CHA",
           2023
          ],
          [
           "Kai Jones",
           "CHA",
           2023
          ],
          [
           "Jalen McDaniels",
           "CHA",
           2023
          ],
          [
           "Bryce McGowens",
           "CHA",
           2023
          ],
          [
           "Mason Plumlee",
           "CHA",
           2023
          ],
          [
           "Nick Richards",
           "CHA",
           2023
          ],
          [
           "Terry Rozier",
           "CHA",
           2023
          ],
          [
           "JT Thor",
           "CHA",
           2023
          ],
          [
           "Mark Williams",
           "CHA",
           2023
          ],
          [
           "Malik Beasley",
           "LAL",
           2023
          ],
          [
           "Patrick Beverley",
           "LAL",
           2023
          ],
          [
           "Thomas Bryant",
           "LAL",
           2023
          ],
          [
           "Max Christie",
           "LAL",
           2023
          ],
          [
           "Anthony Davis",
           "LAL",
           2023
          ],
          [
           "Wenyen Gabriel",
           "LAL",
           2023
          ],
          [
           "Rui Hachimura",
           "LAL",
           2023
          ],
          [
           "LeBron James",
           "LAL",
           2023
          ],
          [
           "Damian Jones",
           "LAL",
           2023
          ],
          [
           "Kendrick Nunn",
           "LAL",
           2023
          ],
          [
           "Austin Reaves",
           "LAL",
           2023
          ],
          [
           "D'Angelo Russell",
           "LAL",
           2023
          ],
          [
           "Matt Ryan",
           "LAL",
           2023
          ],
          [
           "Juan Toscano-Anderson",
           "LAL",
           2023
          ],
          [
           "Jarred Vanderbilt",
           "LAL",
           2023
          ],
          [
           "Russell Westbrook",
           "LAL",
           2023
          ],
          [
           "Dominick Barlow",
           "SAS",
           2023
          ],
          [
           "Charles Bassey",
           "SAS",
           2023
          ],
          [
           "Keita Bates-Diop",
           "SAS",
           2023
          ],
          [
           "Malaki Branham",
           "SAS",
           2023
          ],
          [
           "Julian Champagnie",
           "SAS",
           2023
          ],
          [
           "Zach Collins",
           "SAS",
           2023
          ],
          [
           "Gorgui Dieng",
           "SAS",
           2023
          ],
          [
           "Keldon Johnson",
           "SAS",
           2023
          ],
          [
           "Stanley Johnson",
           "SAS",
           2023
          ],
          [
           "Tre Jones",
           "SAS",
           2023
          ],
          [
           "Romeo Langford",
           "SAS",
           2023
          ],
          [
           "Sandro Mamukelashvili",
           "SAS",
           2023
          ],
          [
           "Doug McDermott",
           "SAS",
           2023
          ],
          [
           "Jakob Poeltl",
           "SAS",
           2023
          ],
          [
           "Josh Richardson",
           "SAS",
           2023
          ],
          [
           "Isaiah Roby",
           "SAS",
           2023
          ],
          [
           "Jeremy Sochan",
           "SAS",
           2023
          ],
          [
           "Devin Vassell",
           "SAS",
           2023
          ],
          [
           "Blake Wesley",
           "SAS",
           2023
          ],
          [
           "Harrison Barnes",
           "SAC",
           2023
          ],
          [
           "Terence Davis",
           "SAC",
           2023
          ],
          [
           "Matthew Dellavedova",
           "SAC",
           2023
          ],
          [
           "PJ Dozier",
           "SAC",
           2023
          ],
          [
           "Kessler Edwards",
           "SAC",
           2023
          ],
          [
           "Keon Ellis",
           "SAC",
           2023
          ],
          [
           "De'Aaron Fox",
           "SAC",
           2023
          ],
          [
           "Richaun Holmes",
           "SAC",
           2023
          ],
          [
           "Kevin Huerter",
           "SAC",
           2023
          ],
          [
           "Alex Len",
           "SAC",
           2023
          ],
          [
           "Trey Lyles",
           "SAC",
           2023
          ],
          [
           "Chimezie Metu",
           "SAC",
           2023
          ],
          [
           "Davion Mitchell",
           "SAC",
           2023
          ],
          [
           "Malik Monk",
           "SAC",
           2023
          ],
          [
           "Keegan Murray",
           "SAC",
           2023
          ],
          [
           "KZ Okpala",
           "SAC",
           2023
          ],
          [
           "Domantas Sabonis",
           "SAC",
           2023
          ],
          [
           "Nicolas Batum",
           "LAC",
           2023
          ],
          [
           "Moses Brown",
           "LAC",
           2023
          ],
          [
           "Amir Coffey",
           "LAC",
           2023
          ],
          [
           "Robert Covington",
           "LAC",
           2023
          ],
          [
           "Paul George",
           "LAC",
           2023
          ],
          [
           "Eric Gordon",
           "LAC",
           2023
          ],
          [
           "Bones Hyland",
           "LAC",
           2023
          ],
          [
           "Reggie Jackson",
           "LAC",
           2023
          ],
          [
           "Luke Kennard",
           "LAC",
           2023
          ],
          [
           "Kawhi Leonard",
           "LAC",
           2023
          ],
          [
           "Terance Mann",
           "LAC",
           2023
          ],
          [
           "Marcus Morris",
           "LAC",
           2023
          ],
          [
           "Mason Plumlee",
           "LAC",
           2023
          ],
          [
           "Norman Powell",
           "LAC",
           2023
          ],
          [
           "Jason Preston",
           "LAC",
           2023
          ],
          [
           "John Wall",
           "LAC",
           2023
          ],
          [
           "Russell Westbrook",
           "LAC",
           2023
          ],
          [
           "Ivica Zubac",
           "LAC",
           2023
          ],
          [
           "Darius Bazley",
           "OKC",
           2023
          ],
          [
           "Ousmane Dieng",
           "OKC",
           2023
          ],
          [
           "Luguentz Dort",
           "OKC",
           2023
          ],
          [
           "Josh Giddey",
           "OKC",
           2023
          ],
          [
           "Shai Gilgeous-Alexander",
           "OKC",
           2023
          ],
          [
           "Isaiah Joe",
           "OKC",
           2023
          ],
          [
           "Tre Mann",
           "OKC",
           2023
          ],
          [
           "Mike Muscala",
           "OKC",
           2023
          ],
          [
           "Eugene Omoruyi",
           "OKC",
           2023
          ],
          [
           "Aleksej Pokusevski",
           "OKC",
           2023
          ],
          [
           "Jeremiah Robinson-Earl",
           "OKC",
           2023
          ],
          [
           "Lindy Waters III",
           "OKC",
           2023
          ],
          [
           "Aaron Wiggins",
           "OKC",
           2023
          ],
          [
           "Jalen Williams",
           "OKC",
           2023
          ],
          [
           "Jaylin Williams",
           "OKC",
           2023
          ],
          [
           "Kenrich Williams",
           "OKC",
           2023
          ],
          [
           "Reggie Bullock",
           "DAL",
           2023
          ],
          [
           "Spencer Dinwiddie",
           "DAL",
           2023
          ],
          [
           "Dorian Finney-Smith",
           "DAL",
           2023
          ],
          [
           "Josh Green",
           "DAL",
           2023
          ],
          [
           "Jaden Hardy",
           "DAL",
           2023
          ],
          [
           "Justin Holiday",
           "DAL",
           2023
          ],
          [
           "Kyrie Irving",
           "DAL",
           2023
          ],
          [
           "Maxi Kleber",
           "DAL",
           2023
          ],
          [
           "JaVale McGee",
           "DAL",
           2023
          ],
          [
           "Frank Ntilikina",
           "DAL",
           2023
          ],
          [
           "Theo Pinson",
           "DAL",
           2023
          ],
          [
           "Dwight Powell",
           "DAL",
           2023
          ],
          [
           "Christian Wood",
           "DAL",
           2023
          ],
          [
           "Patrick Beverley",
           "CHI",
           2023
          ],
          [
           "Tony Bradley",
           "CHI",
           2023
          ],
          [
           "Alex Caruso",
           "CHI",
           2023
          ],
          [
           "DeMar DeRozan",
           "CHI",
           2023
          ],
          [
           "Ayo Dosunmu",
           "CHI",
           2023
          ],
          [
           "Andre Drummond",
           "CHI",
           2023
          ],
          [
           "Javonte Green",
           "CHI",
           2023
          ],
          [
           "Zach LaVine",
           "CHI",
           2023
          ],
          [
           "Dalen Terry",
           "CHI",
           2023
          ],
          [
           "Coby White",
           "CHI",
           2023
          ],
          [
           "Patrick Williams",
           "CHI",
           2023
          ],
          [
           "Saddiq Bey",
           "ATL",
           2023
          ],
          [
           "Clint Capela",
           "ATL",
           2023
          ],
          [
           "John Collins",
           "ATL",
           2023
          ],
          [
           "Trent Forrest",
           "ATL",
           2023
          ],
          [
           "AJ Griffin",
           "ATL",
           2023
          ],
          [
           "Aaron Holiday",
           "ATL",
           2023
          ],
          [
           "Justin Holiday",
           "ATL",
           2023
          ],
          [
           "De'Andre Hunter",
           "ATL",
           2023
          ],
          [
           "Jalen Johnson",
           "ATL",
           2023
          ],
          [
           "Frank Kaminsky",
           "ATL",
           2023
          ],
          [
           "Vit Krejci",
           "ATL",
           2023
          ],
          [
           "Tyrese Martin",
           "ATL",
           2023
          ],
          [
           "Dejounte Murray",
           "ATL",
           2023
          ],
          [
           "Onyeka Okongwu",
           "ATL",
           2023
          ],
          [
           "Trae Young",
           "ATL",
           2023
          ],
          [
           "Goga Bitadze",
           "IND",
           2023
          ],
          [
           "Oshae Brissett",
           "IND",
           2023
          ],
          [
           "Chris Duarte",
           "IND",
           2023
          ],
          [
           "Tyrese Haliburton",
           "IND",
           2023
          ],
          [
           "Buddy Hield",
           "IND",
           2023
          ],
          [
           "George Hill",
           "IND",
           2023
          ],
          [
           "Isaiah Jackson",
           "IND",
           2023
          ],
          [
           "James Johnson",
           "IND",
           2023
          ],
          [
           "Bennedict Mathurin",
           "IND",
           2023
          ],
          [
           "Andrew Nembhard",
           "IND",
           2023
          ],
          [
           "Aaron Nesmith",
           "IND",
           2023
          ],
          [
           "Jordan Nwora",
           "IND",
           2023
          ],
          [
           "Jalen Smith",
           "IND",
           2023
          ],
          [
           "Terry Taylor",
           "IND",
           2023
          ],
          [
           "Myles Turner",
           "IND",
           2023
          ],
          [
           "Christian Braun",
           "DEN",
           2023
          ],
          [
           "Bruce Brown",
           "DEN",
           2023
          ],
          [
           "Thomas Bryant",
           "DEN",
           2023
          ],
          [
           "Kentavious Caldwell-Pope",
           "DEN",
           2023
          ],
          [
           "Aaron Gordon",
           "DEN",
           2023
          ],
          [
           "Jeff Green",
           "DEN",
           2023
          ],
          [
           "Bones Hyland",
           "DEN",
           2023
          ],
          [
           "Reggie Jackson",
           "DEN",
           2023
          ],
          [
           "DeAndre Jordan",
           "DEN",
           2023
          ],
          [
           "Jamal Murray",
           "DEN",
           2023
          ],
          [
           "Zeke Nnaji",
           "DEN",
           2023
          ],
          [
           "Davon Reed",
           "DEN",
           2023
          ],
          [
           "Peyton Watson",
           "DEN",
           2023
          ],
          [
           "Jack White",
           "DEN",
           2023
          ],
          [
           "Mikal Bridges",
           "NJN",
           2023
          ],
          [
           "Seth Curry",
           "NJN",
           2023
          ],
          [
           "Spencer Dinwiddie",
           "NJN",
           2023
          ],
          [
           "Kevin Durant",
           "NJN",
           2023
          ],
          [
           "Kessler Edwards",
           "NJN",
           2023
          ],
          [
           "Dorian Finney-Smith",
           "NJN",
           2023
          ],
          [
           "Joe Harris",
           "NJN",
           2023
          ],
          [
           "Kyrie Irving",
           "NJN",
           2023
          ],
          [
           "Cameron Johnson",
           "NJN",
           2023
          ],
          [
           "Markieff Morris",
           "NJN",
           2023
          ],
          [
           "Royce O'Neale",
           "NJN",
           2023
          ],
          [
           "Day'Ron Sharpe",
           "NJN",
           2023
          ],
          [
           "Ben Simmons",
           "NJN",
           2023
          ],
          [
           "Edmond Sumner",
           "NJN",
           2023
          ],
          [
           "Cam Thomas",
           "NJN",
           2023
          ],
          [
           "Yuta Watanabe",
           "NJN",
           2023
          ],
          [
           "Malcolm Brogdon",
           "BOS",
           2023
          ],
          [
           "Jaylen Brown",
           "BOS",
           2023
          ],
          [
           "JD Davison",
           "BOS",
           2023
          ],
          [
           "Blake Griffin",
           "BOS",
           2023
          ],
          [
           "Sam Hauser",
           "BOS",
           2023
          ],
          [
           "Al Horford",
           "BOS",
           2023
          ],
          [
           "Justin Jackson",
           "BOS",
           2023
          ],
          [
           "Luke Kornet",
           "BOS",
           2023
          ],
          [
           "Mike Muscala",
           "BOS",
           2023
          ],
          [
           "Payton Pritchard",
           "BOS",
           2023
          ],
          [
           "Marcus Smart",
           "BOS",
           2023
          ],
          [
           "Jayson Tatum",
           "BOS",
           2023
          ],
          [
           "Noah Vonleh",
           "BOS",
           2023
          ],
          [
           "Derrick White",
           "BOS",
           2023
          ],
          [
           "Grant Williams",
           "BOS",
           2023
          ],
          [
           "Robert Williams",
           "BOS",
           2023
          ],
          [
           "Joel Embiid",
           "PHI",
           2023
          ],
          [
           "James Harden",
           "PHI",
           2023
          ],
          [
           "Montrezl Harrell",
           "PHI",
           2023
          ],
          [
           "Tobias Harris",
           "PHI",
           2023
          ],
          [
           "Furkan Korkmaz",
           "PHI",
           2023
          ],
          [
           "Tyrese Maxey",
           "PHI",
           2023
          ],
          [
           "Jalen McDaniels",
           "PHI",
           2023
          ],
          [
           "De'Anthony Melton",
           "PHI",
           2023
          ],
          [
           "Shake Milton",
           "PHI",
           2023
          ],
          [
           "Georges Niang",
           "PHI",
           2023
          ],
          [
           "Paul Reed",
           "PHI",
           2023
          ],
          [
           "Jaden Springer",
           "PHI",
           2023
          ],
          [
           "Matisse Thybulle",
           "PHI",
           2023
          ],
          [
           "Josh Christopher",
           "HOU",
           2023
          ],
          [
           "Tari Eason",
           "HOU",
           2023
          ],
          [
           "Bruno Fernando",
           "HOU",
           2023
          ],
          [
           "Usman Garuba",
           "HOU",
           2023
          ],
          [
           "Eric Gordon",
           "HOU",
           2023
          ],
          [
           "Jalen Green",
           "HOU",
           2023
          ],
          [
           "Garrison Mathews",
           "HOU",
           2023
          ],
          [
           "Daishen Nix",
           "HOU",
           2023
          ],
          [
           "Jae'Sean Tate",
           "HOU",
           2023
          ]
         ],
         "hovertemplate": "Efficiency Rating=%{x}<br>Salary (USD)=%{y}<br>Player=%{customdata[0]}<br>Team=%{customdata[1]}<br>season=%{customdata[2]}<extra></extra>",
         "legendgroup": "",
         "marker": {
          "color": "#636efa",
          "size": 6,
          "symbol": "circle"
         },
         "mode": "markers",
         "name": "",
         "orientation": "v",
         "showlegend": false,
         "type": "scatter",
         "x": [
          0.7777777777777779,
          0.6853932584269662,
          0.8333333333333334,
          0.7643678160919543,
          0.5984848484848485,
          0.5061728395061729,
          0.8099999999999999,
          0.4615384615384615,
          0.5615384615384614,
          0.5507246376811594,
          0.9485294117647058,
          0.9839572192513368,
          0.8446866485013623,
          0.6258503401360545,
          0.8333333333333334,
          0.9495268138801262,
          0.6567656765676568,
          0.6153846153846154,
          0.876923076923077,
          0.748971193415638,
          0.6707317073170733,
          0.5625,
          0.4491525423728813,
          1.1974921630094042,
          0.5666666666666668,
          0.5460526315789475,
          0.9335260115606935,
          1.0359281437125747,
          0.7067669172932329,
          0.8461538461538463,
          0.8108882521489973,
          0.4972067039106145,
          0.74,
          0.6378205128205128,
          0.5563139931740613,
          0.6387832699619771,
          0.5272727272727273,
          0.6496350364963505,
          0.5845070422535212,
          0.5250965250965252,
          0.7655172413793103,
          0.5365853658536586,
          0.6666666666666666,
          0.72,
          0.6902985074626865,
          0.24489795918367344,
          0.8251533742331288,
          0.6868686868686869,
          0.9031007751937983,
          0.5782312925170067,
          0.6164383561643837,
          0.8316831683168318,
          0.5569620253164557,
          0.5891472868217055,
          0.8869565217391304,
          1.0290697674418607,
          0.7447552447552446,
          0.7656903765690377,
          0.5065789473684211,
          0.7842323651452281,
          0.6000000000000002,
          0.7077464788732395,
          0.7101910828025478,
          0.938888888888889,
          0.44859813084112143,
          1.0459770114942528,
          0.8697068403908794,
          0.7012987012987013,
          0.6013071895424836,
          0.5379746835443037,
          0.8749999999999999,
          0.7823834196891192,
          0.5701357466063348,
          0.9510869565217394,
          0.41538461538461535,
          0.790273556231003,
          0.524390243902439,
          0.96969696969697,
          0.5875912408759124,
          1.442367601246106,
          0.5178571428571429,
          0.5629629629629629,
          0.5874439461883408,
          0.5822784810126582,
          0.6772486772486772,
          0.481675392670157,
          0.9355828220858897,
          0.603448275862069,
          0.5550660792951542,
          0.8388157894736843,
          0.6,
          0.4240506329113924,
          0.9423868312757201,
          0.6178343949044586,
          0.9461538461538461,
          0.8098159509202454,
          0.5625000000000001,
          0.859154929577465,
          0.6456953642384106,
          0.5555555555555556,
          0.8249999999999998,
          1.0139664804469273,
          0.8284883720930233,
          0.7285714285714285,
          0.5619047619047619,
          0.4838709677419355,
          0.6169154228855721,
          0.633720930232558,
          0.5193370165745856,
          0.4729064039408867,
          0.6651162790697674,
          0.519774011299435,
          0.6615384615384616,
          0.9883040935672515,
          0.6351931330472101,
          0.8498583569405099,
          0.5258620689655173,
          0.5384615384615384,
          1.0878787878787881,
          0.8223938223938224,
          0.8058823529411765,
          0.8609467455621302,
          0.86,
          0.7395348837209301,
          0.7837837837837835,
          0.48987854251012153,
          0.49999999999999994,
          0.3899371069182389,
          0.9557522123893806,
          0.53125,
          0.49777777777777776,
          0.5409836065573771,
          0.672340425531915,
          0.7760736196319018,
          0.8256410256410257,
          0.4166666666666667,
          0.7610619469026549,
          0.9342857142857144,
          0.5352941176470587,
          0.5585284280936454,
          0.7066666666666666,
          0.6717171717171716,
          0.4789915966386553,
          0.7785467128027682,
          1.0507042253521128,
          0.5205479452054795,
          0.7296296296296297,
          0.68,
          0.5705128205128206,
          0.7070063694267515,
          0.4051724137931035,
          0.6995073891625616,
          0.7619047619047619,
          0.6407185628742516,
          0.6634615384615384,
          0.719298245614035,
          1.162534435261708,
          0.56353591160221,
          0.5058823529411763,
          0.5688405797101449,
          0.6261261261261262,
          0.76,
          0.5090252707581228,
          0.6036036036036037,
          0.675392670157068,
          0.5634328358208954,
          0.6804511278195486,
          0.6377551020408163,
          0.9313432835820896,
          0.6092715231788081,
          0.7912621359223299,
          0.6122448979591836,
          0.5283018867924528,
          0.7303370786516855,
          0.7448559670781892,
          0.5265017667844523,
          0.862857142857143,
          0.6923076923076923,
          0.7446808510638298,
          0.6598360655737706,
          0.9638157894736843,
          0.7272727272727273,
          1.052023121387283,
          0.7060439560439562,
          0.5991902834008097,
          0.7896825396825395,
          0.8028169014084506,
          0.5833333333333334,
          0.6962025316455696,
          0.6755319148936171,
          0.846875,
          0.801980198019802,
          0.7934782608695653,
          0.6237623762376237,
          0.7395833333333334,
          0.8136363636363636,
          0.906906906906907,
          0.7696629213483146,
          0.7751004016064258,
          0.6678445229681977,
          0.7459807073954984,
          0.5959595959595959,
          0.5957446808510639,
          0.46320346320346323,
          0.5548780487804879,
          0.5779816513761469,
          0.6438356164383562,
          0.4468085106382978,
          0.724381625441696,
          0.8333333333333334,
          1.1498559077809796,
          0.6539923954372623,
          0.6825396825396826,
          0.7714285714285715,
          0.6353591160220994,
          0.7163461538461539,
          0.6010362694300517,
          0.8158995815899583,
          0.5538461538461538,
          0.8533333333333333,
          0.44230769230769224,
          0.8393939393939392,
          0.7795031055900621,
          0.8640000000000002,
          1.0255681818181817,
          0.5629139072847682,
          0.7015873015873015,
          0.5666666666666668,
          0.6629213483146067,
          0.4678362573099415,
          0.8842105263157894,
          0.8342245989304813,
          0.841359773371105,
          0.4642857142857143,
          0.8963730569948186,
          0.6359832635983264,
          0.4721189591078067,
          0.9252336448598132,
          0.44000000000000006,
          1.2323529411764707,
          0.6887417218543047,
          0.6741071428571429,
          1.1915492957746479,
          0.6749999999999999,
          0.637037037037037,
          0.6493055555555555,
          0.8155339805825242,
          0.49074074074074076,
          0.4426229508196722,
          0.6583333333333333,
          0.9581881533101044,
          0.6164383561643836,
          0.8758620689655173,
          0.6958525345622119,
          0.6042553191489363,
          0.7464114832535886,
          0.8864628820960699,
          0.7565217391304347,
          0.8776758409785931,
          0.6923076923076923,
          0.7842465753424659,
          0.5612244897959184,
          0.8369098712446351,
          0.6439024390243903,
          0.9195402298850575,
          0.7341772151898736,
          0.654867256637168,
          0.7038461538461539,
          0.8387096774193549,
          0.49171270718232035,
          0.6430769230769231,
          0.7633587786259541,
          0.4626865671641791,
          0.6326530612244897,
          0.5251798561151079,
          0.6136363636363635,
          1.0239520958083834,
          0.6385542168674698,
          0.7312925170068028,
          0.7258064516129034,
          0.7396449704142013,
          0.826923076923077,
          0.5082872928176794,
          0.8520179372197311,
          0.6208053691275167,
          0.4084507042253522,
          1.0722543352601157,
          0.5570776255707762,
          1.0470588235294116,
          0.4319999999999999,
          0.7098765432098766,
          0.9768786127167629,
          0.5943775100401606,
          0.9259259259259262,
          0.6070038910505837,
          0.5314009661835749,
          1.0238095238095237,
          0.6190476190476191,
          0.604982206405694,
          0.7939698492462313,
          0.8084291187739464,
          0.6516853932584269,
          0.8153153153153154,
          0.8774834437086093,
          0.7657342657342657,
          0.6753246753246754,
          0.5958904109589042,
          0.6677524429967426,
          0.9356913183279743,
          1.1690140845070423,
          0.7015706806282721,
          0.6610169491525424,
          0.7310344827586208,
          0.6440677966101696,
          0.7427184466019415,
          0.6613756613756614,
          0.6230769230769232,
          0.5891891891891892,
          0.7326732673267325,
          0.6631016042780749,
          0.6754385964912281,
          0.41584158415841577,
          0.7448680351906158,
          0.4937888198757764,
          0.5214007782101167,
          0.7837837837837839,
          0.47560975609756106,
          0.9947643979057591,
          0.4501992031872511,
          0.8235294117647057,
          0.4031007751937984,
          0.6296296296296297,
          0.609375,
          0.9806949806949808,
          0.5490909090909091,
          0.9642857142857144,
          0.5319148936170213,
          0.930939226519337,
          0.5305343511450382,
          1.031496062992126,
          0.64,
          0.8941504178272981,
          0.7142857142857143,
          0.6495726495726497,
          0.5653710247349822,
          0.7103174603174605,
          0.9398496240601502,
          0.7099999999999999,
          0.4416666666666666,
          0.6256410256410256,
          0.5,
          0.435374149659864,
          0.6498422712933755,
          0.7516778523489933,
          0.7058823529411766,
          0.4736842105263157,
          0.5365853658536587,
          0.8653846153846155,
          0.8268398268398268,
          1.0488505747126438,
          0.7083333333333335,
          0.622754491017964,
          0.5948717948717949,
          1.0208333333333335,
          0.7870967741935485,
          0.5960264900662252,
          0.8303030303030302,
          0.6222222222222222,
          0.743859649122807,
          0.5833333333333333,
          0.6224899598393575,
          0.7845528455284553,
          0.8670212765957445,
          0.5227272727272726,
          0.9557823129251701,
          0.5225806451612903,
          0.6736842105263159,
          0.6929824561403509,
          0.536741214057508,
          0.8642384105960266,
          0.5846153846153846,
          0.8461538461538461,
          0.6180904522613067,
          0.7266666666666667,
          0.8902439024390244,
          0.5985401459854016,
          0.47777777777777786,
          0.7037037037037037,
          0.6666666666666667,
          0.9678362573099415,
          0.6180904522613064,
          0.8215297450424931,
          1.125,
          0.392857142857143,
          0.5054151624548736,
          0.5485436893203882,
          1,
          0.7824675324675325,
          0.6320754716981133,
          0.5552050473186121,
          0.8521739130434781,
          0.7186311787072244,
          0.7050359712230215,
          0.789156626506024,
          0.56875,
          0.8576923076923078,
          0.9916434540389973,
          0.6181818181818183,
          0.6762589928057553,
          0.6335403726708074,
          0.6524590163934426,
          0.4893617021276596,
          0.6837606837606838,
          0.6111111111111112,
          0.6119402985074626,
          0.6386292834890965,
          1.1490514905149054,
          0.45945945945945943,
          0.7173144876325088,
          0.5521235521235521,
          0.795744680851064,
          1.3526011560693643,
          0.9809782608695653,
          0.7647058823529412,
          0.7021276595744681,
          0.5578947368421052,
          0.7827380952380952,
          0.6342857142857141,
          0.6308243727598566,
          0.6504854368932039,
          0.5927835051546392,
          0.8348623853211009,
          0.7857142857142858,
          0.4545454545454546,
          0.6341463414634145,
          0.7906976744186046,
          0.8205128205128205,
          0.6511627906976745,
          0.5728476821192053,
          0.8157894736842104,
          0.5149253731343283,
          0.44375,
          0.6880733944954128
         ],
         "xaxis": "x",
         "y": [
          3011387,
          18403570,
          1657779,
          8105477,
          15967631,
          7069470,
          13455054,
          539571,
          2275081,
          1590432,
          9964743,
          37585801,
          22531120,
          8482304,
          19007601,
          2258667,
          12087283,
          1272345,
          4605805,
          15904320,
          14574141,
          2438662,
          3231376,
          12850096,
          2744703,
          4868503,
          32181628,
          39923342,
          539571,
          8783094,
          6067090,
          1858301,
          32399186,
          30041494,
          6869606,
          9277520,
          17920987,
          409328,
          1925140,
          1925140,
          788771,
          4154590,
          5311653,
          2305999,
          16495997,
          1812350,
          14144242,
          24047332,
          1060289,
          3398358,
          6557351,
          10878554,
          2436950,
          539571,
          2858960,
          17468726,
          13576858,
          17706809,
          2261889,
          4637699,
          5311653,
          9309846,
          24047332,
          11380495,
          2436950,
          539571,
          40473752,
          1946784,
          2291748,
          2290222,
          1079140,
          2047077,
          7528044,
          2047077,
          3081038,
          33269452,
          854694,
          35873148,
          9463070,
          45054279,
          1991984,
          2635027,
          6388234,
          6073746,
          10797761,
          4241152,
          36388575,
          3081038,
          6869606,
          14745399,
          1183400,
          3081038,
          40274272,
          2968806,
          11497073,
          21205760,
          539571,
          9458610,
          19929487,
          3081038,
          32399186,
          32777478,
          8989885,
          539571,
          2612008,
          7465360,
          7873792,
          6206564,
          1890091,
          2047077,
          1657779,
          5840702,
          7213152,
          33558751,
          1890091,
          35342933,
          12931372,
          5466314,
          14350804,
          3831541,
          10920966,
          11721611,
          5701719,
          2332633,
          17494752,
          13783744,
          539571,
          2120576,
          18449011,
          3640308,
          12193311,
          930869,
          7339652,
          5575291,
          1991984,
          1946784,
          11557811,
          29405319,
          19085184,
          2414275,
          13741332,
          9388722,
          1657779,
          2455881,
          25192443,
          6313436,
          18073090,
          15396155,
          1738704,
          5670717,
          533368,
          2086832,
          22218335,
          13741332,
          2842674,
          3180864,
          45054279,
          4423042,
          8800390,
          6313436,
          6375469,
          23667143,
          4643558,
          1079140,
          1657779,
          4344594,
          5212545,
          15967631,
          45888469,
          5100324,
          2047077,
          3081038,
          1946784,
          1357387,
          6640783,
          3767033,
          13783744,
          9675128,
          5566512,
          8275418,
          32777478,
          3081038,
          35873148,
          21311788,
          5430743,
          6242868,
          1657779,
          2261889,
          2403289,
          2086832,
          30112179,
          6361728,
          12193311,
          10072736,
          3137477,
          10616451,
          11189007,
          5513497,
          4372924,
          6189706,
          7689420,
          5466314,
          3180864,
          1657779,
          2436950,
          9957237,
          1074197,
          325602,
          3640308,
          10182327,
          50968059,
          4771296,
          27362288,
          8694360,
          5014046,
          6085883,
          736770,
          8482304,
          3965646,
          4136606,
          1079140,
          43047777,
          35643458,
          10182327,
          9143838,
          4625230,
          31888161,
          3084420,
          2047077,
          1549139,
          9627857,
          1890091,
          22781683,
          1657779,
          3946434,
          16495997,
          14633685,
          2086832,
          1079140,
          40270501,
          1991984,
          6640783,
          47156296,
          2436950,
          5566512,
          1657779,
          33269452,
          854694,
          2261889,
          4637699,
          49918548,
          539571,
          2835996,
          1991984,
          3101978,
          539571,
          7793116,
          4352732,
          4106520,
          4264651,
          1890091,
          5973935,
          1183400,
          14578960,
          9964743,
          12931372,
          2471192,
          5368789,
          4704497,
          2529295,
          19458694,
          4241152,
          2787069,
          831959,
          1736715,
          539571,
          32181628,
          11891405,
          15383643,
          4154844,
          2783256,
          2026061,
          5125008,
          10043280,
          8491252,
          2016808,
          22372076,
          20888011,
          873720,
          3599743,
          13049698,
          45054279,
          20748097,
          2334245,
          12147949,
          14574141,
          45054279,
          2047077,
          17359133,
          9627857,
          17768964,
          1657779,
          50200141,
          49918548,
          10733780,
          4521733,
          4845346,
          16198844,
          6666454,
          32777478,
          1946784,
          3229849,
          3711008,
          1074197,
          3458108,
          2120576,
          2456555,
          1657779,
          4603219,
          2120576,
          2120576,
          10616451,
          20675616,
          13719965,
          3285196,
          1079140,
          6348977,
          41263288,
          9542592,
          5790465,
          2159083,
          2086832,
          11748123,
          15180630,
          14633685,
          2159083,
          9574400,
          28945862,
          1657779,
          3392921,
          1925140,
          39332974,
          3383803,
          7860927,
          8244163,
          3137477,
          19304553,
          24916768,
          539571,
          3749348,
          2086832,
          6348977,
          10428866,
          2961002,
          2612008,
          1657779,
          1079140,
          18100303,
          6780711,
          39332974,
          5701719,
          1958074,
          4174311,
          4469241,
          22454514,
          4241152,
          2728926,
          4072637,
          6983905,
          2379403,
          4033717,
          2968806,
          4951714,
          1806626,
          37212398,
          2977924,
          6869606,
          2086832,
          14849018,
          21938322,
          4771296,
          2334245,
          12147949,
          11380873,
          33558751,
          2775621,
          2016808,
          2326229,
          539571,
          21311788,
          9008899,
          20675616,
          46779742,
          1736715,
          13719965,
          19766797,
          41263288,
          6242868,
          3081038,
          9754649,
          2236656,
          37585801,
          2086832,
          2267065,
          2086832,
          23962508,
          31571968,
          539571,
          3081038,
          1736715,
          28097632,
          1946784,
          2261889,
          3711008,
          2374196,
          18244526,
          32181628,
          1230946,
          18176365,
          4565898,
          11360230,
          35643458,
          34989504,
          2612008,
          39901871,
          5301440,
          2891278,
          2047077,
          8747376,
          2118156,
          3673897,
          1890091,
          2253324,
          4643558,
          2515172,
          3561677,
          2881217,
          2620141,
          20748097,
          10011069,
          2120576,
          1657779,
          7491164
         ],
         "yaxis": "y"
        },
        {
         "line": {
          "color": "green"
         },
         "mode": "lines",
         "name": "Linear fit",
         "type": "scatter",
         "x": [
          0.24489795918367344,
          0.3899371069182389,
          0.392857142857143,
          0.4031007751937984,
          0.4051724137931035,
          0.4084507042253522,
          0.41538461538461535,
          0.41584158415841577,
          0.4166666666666667,
          0.4240506329113924,
          0.4319999999999999,
          0.435374149659864,
          0.44000000000000006,
          0.4416666666666666,
          0.44230769230769224,
          0.4426229508196722,
          0.44375,
          0.4468085106382978,
          0.44859813084112143,
          0.4491525423728813,
          0.4501992031872511,
          0.4545454545454546,
          0.45945945945945943,
          0.4615384615384615,
          0.4626865671641791,
          0.46320346320346323,
          0.4642857142857143,
          0.4678362573099415,
          0.4721189591078067,
          0.4729064039408867,
          0.4736842105263157,
          0.47560975609756106,
          0.47777777777777786,
          0.4789915966386553,
          0.481675392670157,
          0.4838709677419355,
          0.4893617021276596,
          0.48987854251012153,
          0.49074074074074076,
          0.49171270718232035,
          0.4937888198757764,
          0.4972067039106145,
          0.49777777777777776,
          0.49999999999999994,
          0.5,
          0.5054151624548736,
          0.5058823529411763,
          0.5061728395061729,
          0.5065789473684211,
          0.5082872928176794,
          0.5090252707581228,
          0.5149253731343283,
          0.5178571428571429,
          0.5193370165745856,
          0.519774011299435,
          0.5205479452054795,
          0.5214007782101167,
          0.5225806451612903,
          0.5227272727272726,
          0.524390243902439,
          0.5250965250965252,
          0.5251798561151079,
          0.5258620689655173,
          0.5265017667844523,
          0.5272727272727273,
          0.5283018867924528,
          0.5305343511450382,
          0.53125,
          0.5314009661835749,
          0.5319148936170213,
          0.5352941176470587,
          0.5365853658536586,
          0.5365853658536587,
          0.536741214057508,
          0.5379746835443037,
          0.5384615384615384,
          0.5409836065573771,
          0.5460526315789475,
          0.5485436893203882,
          0.5490909090909091,
          0.5507246376811594,
          0.5521235521235521,
          0.5538461538461538,
          0.5548780487804879,
          0.5550660792951542,
          0.5552050473186121,
          0.5555555555555556,
          0.5563139931740613,
          0.5569620253164557,
          0.5570776255707762,
          0.5578947368421052,
          0.5585284280936454,
          0.5612244897959184,
          0.5615384615384614,
          0.5619047619047619,
          0.5625,
          0.5625000000000001,
          0.5629139072847682,
          0.5629629629629629,
          0.5634328358208954,
          0.56353591160221,
          0.5653710247349822,
          0.5666666666666668,
          0.5666666666666668,
          0.56875,
          0.5688405797101449,
          0.5701357466063348,
          0.5705128205128206,
          0.5728476821192053,
          0.5779816513761469,
          0.5782312925170067,
          0.5822784810126582,
          0.5833333333333333,
          0.5833333333333334,
          0.5845070422535212,
          0.5846153846153846,
          0.5874439461883408,
          0.5875912408759124,
          0.5891472868217055,
          0.5891891891891892,
          0.5927835051546392,
          0.5943775100401606,
          0.5948717948717949,
          0.5957446808510639,
          0.5958904109589042,
          0.5959595959595959,
          0.5960264900662252,
          0.5984848484848485,
          0.5985401459854016,
          0.5991902834008097,
          0.6,
          0.6000000000000002,
          0.6010362694300517,
          0.6013071895424836,
          0.603448275862069,
          0.6036036036036037,
          0.6042553191489363,
          0.604982206405694,
          0.6070038910505837,
          0.6092715231788081,
          0.609375,
          0.6111111111111112,
          0.6119402985074626,
          0.6122448979591836,
          0.6136363636363635,
          0.6153846153846154,
          0.6164383561643836,
          0.6164383561643837,
          0.6169154228855721,
          0.6178343949044586,
          0.6180904522613064,
          0.6180904522613067,
          0.6181818181818183,
          0.6190476190476191,
          0.6208053691275167,
          0.6222222222222222,
          0.6224899598393575,
          0.622754491017964,
          0.6230769230769232,
          0.6237623762376237,
          0.6256410256410256,
          0.6258503401360545,
          0.6261261261261262,
          0.6296296296296297,
          0.6308243727598566,
          0.6320754716981133,
          0.6326530612244897,
          0.6335403726708074,
          0.633720930232558,
          0.6341463414634145,
          0.6342857142857141,
          0.6351931330472101,
          0.6353591160220994,
          0.6359832635983264,
          0.637037037037037,
          0.6377551020408163,
          0.6378205128205128,
          0.6385542168674698,
          0.6386292834890965,
          0.6387832699619771,
          0.64,
          0.6407185628742516,
          0.6430769230769231,
          0.6438356164383562,
          0.6439024390243903,
          0.6440677966101696,
          0.6456953642384106,
          0.6493055555555555,
          0.6495726495726497,
          0.6496350364963505,
          0.6498422712933755,
          0.6504854368932039,
          0.6511627906976745,
          0.6516853932584269,
          0.6524590163934426,
          0.6539923954372623,
          0.654867256637168,
          0.6567656765676568,
          0.6583333333333333,
          0.6598360655737706,
          0.6610169491525424,
          0.6613756613756614,
          0.6615384615384616,
          0.6629213483146067,
          0.6631016042780749,
          0.6634615384615384,
          0.6651162790697674,
          0.6666666666666666,
          0.6666666666666667,
          0.6677524429967426,
          0.6678445229681977,
          0.6707317073170733,
          0.6717171717171716,
          0.672340425531915,
          0.6736842105263159,
          0.6741071428571429,
          0.6749999999999999,
          0.6753246753246754,
          0.675392670157068,
          0.6754385964912281,
          0.6755319148936171,
          0.6762589928057553,
          0.6772486772486772,
          0.68,
          0.6804511278195486,
          0.6825396825396826,
          0.6837606837606838,
          0.6853932584269662,
          0.6868686868686869,
          0.6880733944954128,
          0.6887417218543047,
          0.6902985074626865,
          0.6923076923076923,
          0.6923076923076923,
          0.6929824561403509,
          0.6958525345622119,
          0.6962025316455696,
          0.6995073891625616,
          0.7012987012987013,
          0.7015706806282721,
          0.7015873015873015,
          0.7021276595744681,
          0.7037037037037037,
          0.7038461538461539,
          0.7050359712230215,
          0.7058823529411766,
          0.7060439560439562,
          0.7066666666666666,
          0.7067669172932329,
          0.7070063694267515,
          0.7077464788732395,
          0.7083333333333335,
          0.7098765432098766,
          0.7099999999999999,
          0.7101910828025478,
          0.7103174603174605,
          0.7142857142857143,
          0.7163461538461539,
          0.7173144876325088,
          0.7186311787072244,
          0.719298245614035,
          0.72,
          0.724381625441696,
          0.7258064516129034,
          0.7266666666666667,
          0.7272727272727273,
          0.7285714285714285,
          0.7296296296296297,
          0.7303370786516855,
          0.7310344827586208,
          0.7312925170068028,
          0.7326732673267325,
          0.7341772151898736,
          0.7395348837209301,
          0.7395833333333334,
          0.7396449704142013,
          0.74,
          0.7427184466019415,
          0.743859649122807,
          0.7446808510638298,
          0.7447552447552446,
          0.7448559670781892,
          0.7448680351906158,
          0.7459807073954984,
          0.7464114832535886,
          0.748971193415638,
          0.7516778523489933,
          0.7565217391304347,
          0.76,
          0.7610619469026549,
          0.7619047619047619,
          0.7633587786259541,
          0.7643678160919543,
          0.7647058823529412,
          0.7655172413793103,
          0.7656903765690377,
          0.7657342657342657,
          0.7696629213483146,
          0.7714285714285715,
          0.7751004016064258,
          0.7760736196319018,
          0.7777777777777779,
          0.7785467128027682,
          0.7795031055900621,
          0.7823834196891192,
          0.7824675324675325,
          0.7827380952380952,
          0.7837837837837835,
          0.7837837837837839,
          0.7842323651452281,
          0.7842465753424659,
          0.7845528455284553,
          0.7857142857142858,
          0.7870967741935485,
          0.789156626506024,
          0.7896825396825395,
          0.790273556231003,
          0.7906976744186046,
          0.7912621359223299,
          0.7934782608695653,
          0.7939698492462313,
          0.795744680851064,
          0.801980198019802,
          0.8028169014084506,
          0.8058823529411765,
          0.8084291187739464,
          0.8098159509202454,
          0.8099999999999999,
          0.8108882521489973,
          0.8136363636363636,
          0.8153153153153154,
          0.8155339805825242,
          0.8157894736842104,
          0.8158995815899583,
          0.8205128205128205,
          0.8215297450424931,
          0.8223938223938224,
          0.8235294117647057,
          0.8249999999999998,
          0.8251533742331288,
          0.8256410256410257,
          0.8268398268398268,
          0.826923076923077,
          0.8284883720930233,
          0.8303030303030302,
          0.8316831683168318,
          0.8333333333333334,
          0.8333333333333334,
          0.8333333333333334,
          0.8342245989304813,
          0.8348623853211009,
          0.8369098712446351,
          0.8387096774193549,
          0.8388157894736843,
          0.8393939393939392,
          0.841359773371105,
          0.8446866485013623,
          0.8461538461538461,
          0.8461538461538463,
          0.846875,
          0.8498583569405099,
          0.8520179372197311,
          0.8521739130434781,
          0.8533333333333333,
          0.8576923076923078,
          0.859154929577465,
          0.86,
          0.8609467455621302,
          0.862857142857143,
          0.8640000000000002,
          0.8642384105960266,
          0.8653846153846155,
          0.8670212765957445,
          0.8697068403908794,
          0.8749999999999999,
          0.8758620689655173,
          0.876923076923077,
          0.8774834437086093,
          0.8776758409785931,
          0.8842105263157894,
          0.8864628820960699,
          0.8869565217391304,
          0.8902439024390244,
          0.8941504178272981,
          0.8963730569948186,
          0.9031007751937983,
          0.906906906906907,
          0.9195402298850575,
          0.9252336448598132,
          0.9259259259259262,
          0.930939226519337,
          0.9313432835820896,
          0.9335260115606935,
          0.9342857142857144,
          0.9355828220858897,
          0.9356913183279743,
          0.938888888888889,
          0.9398496240601502,
          0.9423868312757201,
          0.9461538461538461,
          0.9485294117647058,
          0.9495268138801262,
          0.9510869565217394,
          0.9557522123893806,
          0.9557823129251701,
          0.9581881533101044,
          0.9638157894736843,
          0.9642857142857144,
          0.9678362573099415,
          0.96969696969697,
          0.9768786127167629,
          0.9806949806949808,
          0.9809782608695653,
          0.9839572192513368,
          0.9883040935672515,
          0.9916434540389973,
          0.9947643979057591,
          1,
          1.0139664804469273,
          1.0208333333333335,
          1.0238095238095237,
          1.0239520958083834,
          1.0255681818181817,
          1.0290697674418607,
          1.031496062992126,
          1.0359281437125747,
          1.0459770114942528,
          1.0470588235294116,
          1.0488505747126438,
          1.0507042253521128,
          1.052023121387283,
          1.0722543352601157,
          1.0878787878787881,
          1.125,
          1.1490514905149054,
          1.1498559077809796,
          1.162534435261708,
          1.1690140845070423,
          1.1915492957746479,
          1.1974921630094042,
          1.2323529411764707,
          1.3526011560693643,
          1.442367601246106
         ],
         "y": [
          -7074819.303661371,
          -1609122.4078380782,
          -1499082.934935432,
          -1113058.9521768168,
          -1034990.7282638382,
          -911450.6901498474,
          -650151.190731544,
          -632930.6482265648,
          -601838.002037013,
          -323578.49753054045,
          -24012.265250431374,
          103140.15952603705,
          277462.0322034471,
          340269.17750633135,
          364425.771853596,
          376306.0641555339,
          418778.109134946,
          534035.9023769479,
          601476.464046387,
          622369.0674260911,
          661811.734136669,
          825597.11848321,
          1010777.890875021,
          1089123.6022715587,
          1132389.1443860624,
          1151868.0031735469,
          1192651.86375984,
          1326451.5467359181,
          1487842.1112003978,
          1517516.408429956,
          1546827.4951671083,
          1619390.3074554335,
          1701090.6590689477,
          1746832.5576088596,
          1847969.4979971666,
          1930708.1795311254,
          2137622.5909613725,
          2157099.3523611855,
          2189590.6780914236,
          2226218.540606918,
          2304455.3675687555,
          2433255.8910914604,
          2454776.4027036224,
          2538519.263107473,
          2538519.2631074768,
          2742585.8001926783,
          2760191.540647084,
          2771138.319784848,
          2786442.20509257,
          2850819.9856080282,
          2878630.1582494806,
          3100971.3105960395,
          3211452.962781297,
          3267220.948942112,
          3283688.783650236,
          3312853.931225298,
          3344992.3350901064,
          3389454.7801143695,
          3394980.3354196046,
          3457648.2187595237,
          3484263.9221085217,
          3487404.1921439413,
          3513112.89711784,
          3537219.453436112,
          3566272.5498820413,
          3605055.692779189,
          3689184.5205650013,
          3716153.2375366595,
          3721842.290553229,
          3741209.2795457933,
          3868552.928345138,
          3917212.6965855453,
          3917212.696585549,
          3923085.725056166,
          3969568.14342648,
          3987914.923943395,
          4082957.2623588685,
          4273979.857003121,
          4367853.592317855,
          4388475.179301685,
          4450041.076673688,
          4502758.17026349,
          4567673.1882777605,
          4606559.413324581,
          4613645.209238196,
          4618882.120143263,
          4632090.773203803,
          4660671.954229003,
          4685092.583585987,
          4689448.896768084,
          4720241.152576277,
          4744121.3556838725,
          4845720.519132001,
          4857552.320444943,
          4871356.088643385,
          4893787.211965842,
          4893787.21196585,
          4909385.012951659,
          4911233.641216645,
          4928940.464933874,
          4932824.8022784125,
          5001979.732584776,
          5050805.0752230715,
          5050805.0752230715,
          5129314.006851679,
          5132727.438661618,
          5181534.879925916,
          5195744.641306663,
          5283732.236611271,
          5477202.208472049,
          5486609.756916584,
          5639125.170465326,
          5678876.528251963,
          5678876.528251966,
          5723106.912268089,
          5727189.716946499,
          5833782.043572998,
          5839332.738879787,
          5897971.221169027,
          5899550.282018876,
          6034999.517082786,
          6095068.45495786,
          6113695.226502741,
          6146589.312422426,
          6152081.047657302,
          6154688.235092038,
          6157209.091817023,
          6249850.576460058,
          6251934.423351331,
          6276434.388421161,
          6306947.981280865,
          6306947.981280873,
          6345999.056080585,
          6356208.487400776,
          6436893.799148912,
          6442747.214368196,
          6467306.650139311,
          6494698.878271712,
          6570884.623020636,
          6656338.72336317,
          6660238.17360962,
          6725662.28330013,
          6756909.619271712,
          6768388.232485766,
          6820824.624668142,
          6886706.245615235,
          6926415.715775119,
          6926415.715775127,
          6944393.635101238,
          6979024.440572934,
          6988673.779543383,
          6988673.7795433905,
          6992116.839130575,
          7024743.927599607,
          7090983.486404186,
          7144376.585319394,
          7154466.0865728725,
          7164434.7554760035,
          7176585.377782421,
          7202416.191539882,
          7273211.755171476,
          7281099.622713441,
          7291492.421164004,
          7423519.45333224,
          7468542.4965601135,
          7515689.268242141,
          7537455.317827275,
          7570893.017189952,
          7577697.200199792,
          7593728.519193726,
          7598980.684654592,
          7633176.113856902,
          7639431.0639499035,
          7662951.620456224,
          7702662.321345078,
          7729722.089162653,
          7732187.047769515,
          7759836.161781447,
          7762664.99390859,
          7768467.864374721,
          7814319.468550218,
          7841397.998261647,
          7930271.121417092,
          7958861.939932214,
          7961380.101454547,
          7967611.484204734,
          8028945.210115058,
          8164992.696491351,
          8175057.944136051,
          8177408.9508851785,
          8185218.446490316,
          8209455.683659663,
          8234981.2789509725,
          8254675.183932276,
          8283828.620322643,
          8341612.916568393,
          8374581.437269798,
          8446122.039121864,
          8505198.066882009,
          8561827.460187895,
          8606328.216098526,
          8619846.030530142,
          8625981.038618336,
          8678094.14103041,
          8684886.958523965,
          8698450.82166013,
          8760808.541951908,
          8819233.793396456,
          8819233.79339646,
          8860150.50043417,
          8863620.468522167,
          8972421.952671802,
          9009558.47613248,
          9033045.351874383,
          9083684.931513889,
          9099622.834927214,
          9133269.519910904,
          9145504.678086797,
          9148067.014877556,
          9149797.716043243,
          9153314.353518212,
          9180713.766362725,
          9218009.319129089,
          9321690.955819575,
          9338691.386127116,
          9417397.081995407,
          9463409.642656865,
          9524932.055226674,
          9580532.524340576,
          9625931.072516141,
          9651116.512640031,
          9709782.868586684,
          9785497.567287067,
          9785497.567287067,
          9810925.561336825,
          9919082.420820327,
          9932271.81142235,
          10056813.011187388,
          10124317.332157804,
          10134566.679320844,
          10135193.028314145,
          10155556.033883473,
          10214948.133460673,
          10220316.265537845,
          10265153.685261542,
          10297048.976993868,
          10303138.874728473,
          10326605.280665806,
          10330383.154067485,
          10339406.737033276,
          10367297.233960642,
          10389412.425968705,
          10447567.190138044,
          10452219.571271585,
          10459420.390478292,
          10464182.837043574,
          10613723.659193309,
          10691369.855309518,
          10727860.823802294,
          10777479.3883915,
          10802617.329277182,
          10829062.443088928,
          10994180.874556595,
          11047874.433176422,
          11080291.024300488,
          11103129.986228814,
          11152070.61893236,
          11191948.171505632,
          11218607.883619217,
          11244889.060266687,
          11254612.8969779,
          11306645.488560403,
          11363320.691741364,
          11565220.611290237,
          11567046.400397887,
          11569369.149854356,
          11582748.186723607,
          11685190.90915938,
          11728196.312688192,
          11759142.722467894,
          11761946.195699679,
          11765741.844643136,
          11766196.622857561,
          11808126.881765487,
          11824360.36291272,
          11920821.215761391,
          12022819.728308955,
          12205358.1488566,
          12336433.930358285,
          12376452.642409688,
          12408213.524990158,
          12463007.108678611,
          12501031.966324488,
          12513771.752389977,
          12544347.238947159,
          12550871.71515811,
          12552525.647064729,
          12700574.233462678,
          12767111.498149531,
          12905481.80105435,
          12942156.828616826,
          13006376.813589113,
          13035353.581894943,
          13071394.562349865,
          13179937.146032328,
          13183106.876129711,
          13193302.841276282,
          13232708.868734648,
          13232708.868734663,
          13249613.3375837,
          13250148.838737318,
          13261690.412381345,
          13305458.457888586,
          13357556.550766563,
          13435180.616861848,
          13454999.280038318,
          13477271.31737977,
          13493253.908960348,
          13514525.238369761,
          13598038.327311987,
          13616563.484873468,
          13683446.748769203,
          13918427.76848256,
          13949958.339266324,
          14065477.695167253,
          14161450.750193981,
          14213712.531067973,
          14220648.289444977,
          14254121.438517584,
          14357682.061014919,
          14420952.158248791,
          14429192.402974961,
          14438820.478391854,
          14442969.816333039,
          14616816.436740128,
          14655138.512758462,
          14687700.651813189,
          14730494.527786078,
          14785912.59717098,
          14791692.395818492,
          14810069.191518253,
          14855245.160167681,
          14858382.380212786,
          14917369.412921222,
          14985753.514043814,
          15037763.03130634,
          15099948.323685436,
          15099948.323685436,
          15099948.323685436,
          15133535.03240356,
          15157569.557908269,
          15234727.605451291,
          15302552.018210886,
          15306550.77533968,
          15328337.942968665,
          15402418.995115789,
          15527789.912942177,
          15583080.210630743,
          15583080.210630747,
          15610256.379271416,
          15722682.058983209,
          15804064.302417388,
          15809942.14015288,
          15853634.06732011,
          16017898.90888152,
          16073016.772040075,
          16104862.648531673,
          16140540.08018302,
          16212532.040479487,
          16255599.797258617,
          16264584.130626442,
          16307778.041048707,
          16369454.452148093,
          16470658.009448824,
          16670126.956257677,
          16702613.410724694,
          16742596.739299482,
          16763713.762172585,
          16770964.116147636,
          17017219.07503681,
          17102097.497096337,
          17120699.955169715,
          17244582.553540207,
          17391796.801311783,
          17475555.374001995,
          17729084.63869012,
          17872515.99921841,
          18348593.770386636,
          18563146.05534011,
          18589234.17384599,
          18778156.83313644,
          18793383.43552702,
          18875637.983512335,
          18904266.839174762,
          18953147.42202224,
          18957236.025567092,
          19077734.192868464,
          19113938.81296786,
          19209551.658318967,
          19351508.92880413,
          19441030.42550282,
          19478616.813255988,
          19537409.676607005,
          19713216.51849947,
          19714350.835734487,
          19805013.21571376,
          20017086.673056416,
          20034795.454626784,
          20168595.13760286,
          20238714.75755825,
          20509349.855552822,
          20653166.962435156,
          20663842.17388709,
          20776102.0970482,
          20939910.95711203,
          21065752.376132637,
          21183362.921085753,
          21380662.853974417,
          21906979.714054495,
          22165752.17026054,
          22277907.78687284,
          22283280.511021942,
          22344181.560325563,
          22476136.318559714,
          22567569.53686367,
          22734589.33954569,
          23113273.758881718,
          23154041.074291296,
          23221561.940438434,
          23291415.44347079,
          23341117.100422993,
          24103515.974041894,
          24692312.333581343,
          26091198.751691148,
          26997562.027403593,
          27027875.91867228,
          27505657.18929755,
          27749838.152295634,
          28599061.52540513,
          28823014.240962602,
          30136717.816789053,
          34668186.07990371,
          38050970.57922741
         ]
        },
        {
         "line": {
          "color": "purple"
         },
         "mode": "lines",
         "name": "Log-Linear fit",
         "type": "scatter",
         "x": [
          0.24489795918367344,
          0.3899371069182389,
          0.392857142857143,
          0.4031007751937984,
          0.4051724137931035,
          0.4084507042253522,
          0.41538461538461535,
          0.41584158415841577,
          0.4166666666666667,
          0.4240506329113924,
          0.4319999999999999,
          0.435374149659864,
          0.44000000000000006,
          0.4416666666666666,
          0.44230769230769224,
          0.4426229508196722,
          0.44375,
          0.4468085106382978,
          0.44859813084112143,
          0.4491525423728813,
          0.4501992031872511,
          0.4545454545454546,
          0.45945945945945943,
          0.4615384615384615,
          0.4626865671641791,
          0.46320346320346323,
          0.4642857142857143,
          0.4678362573099415,
          0.4721189591078067,
          0.4729064039408867,
          0.4736842105263157,
          0.47560975609756106,
          0.47777777777777786,
          0.4789915966386553,
          0.481675392670157,
          0.4838709677419355,
          0.4893617021276596,
          0.48987854251012153,
          0.49074074074074076,
          0.49171270718232035,
          0.4937888198757764,
          0.4972067039106145,
          0.49777777777777776,
          0.49999999999999994,
          0.5,
          0.5054151624548736,
          0.5058823529411763,
          0.5061728395061729,
          0.5065789473684211,
          0.5082872928176794,
          0.5090252707581228,
          0.5149253731343283,
          0.5178571428571429,
          0.5193370165745856,
          0.519774011299435,
          0.5205479452054795,
          0.5214007782101167,
          0.5225806451612903,
          0.5227272727272726,
          0.524390243902439,
          0.5250965250965252,
          0.5251798561151079,
          0.5258620689655173,
          0.5265017667844523,
          0.5272727272727273,
          0.5283018867924528,
          0.5305343511450382,
          0.53125,
          0.5314009661835749,
          0.5319148936170213,
          0.5352941176470587,
          0.5365853658536586,
          0.5365853658536587,
          0.536741214057508,
          0.5379746835443037,
          0.5384615384615384,
          0.5409836065573771,
          0.5460526315789475,
          0.5485436893203882,
          0.5490909090909091,
          0.5507246376811594,
          0.5521235521235521,
          0.5538461538461538,
          0.5548780487804879,
          0.5550660792951542,
          0.5552050473186121,
          0.5555555555555556,
          0.5563139931740613,
          0.5569620253164557,
          0.5570776255707762,
          0.5578947368421052,
          0.5585284280936454,
          0.5612244897959184,
          0.5615384615384614,
          0.5619047619047619,
          0.5625,
          0.5625000000000001,
          0.5629139072847682,
          0.5629629629629629,
          0.5634328358208954,
          0.56353591160221,
          0.5653710247349822,
          0.5666666666666668,
          0.5666666666666668,
          0.56875,
          0.5688405797101449,
          0.5701357466063348,
          0.5705128205128206,
          0.5728476821192053,
          0.5779816513761469,
          0.5782312925170067,
          0.5822784810126582,
          0.5833333333333333,
          0.5833333333333334,
          0.5845070422535212,
          0.5846153846153846,
          0.5874439461883408,
          0.5875912408759124,
          0.5891472868217055,
          0.5891891891891892,
          0.5927835051546392,
          0.5943775100401606,
          0.5948717948717949,
          0.5957446808510639,
          0.5958904109589042,
          0.5959595959595959,
          0.5960264900662252,
          0.5984848484848485,
          0.5985401459854016,
          0.5991902834008097,
          0.6,
          0.6000000000000002,
          0.6010362694300517,
          0.6013071895424836,
          0.603448275862069,
          0.6036036036036037,
          0.6042553191489363,
          0.604982206405694,
          0.6070038910505837,
          0.6092715231788081,
          0.609375,
          0.6111111111111112,
          0.6119402985074626,
          0.6122448979591836,
          0.6136363636363635,
          0.6153846153846154,
          0.6164383561643836,
          0.6164383561643837,
          0.6169154228855721,
          0.6178343949044586,
          0.6180904522613064,
          0.6180904522613067,
          0.6181818181818183,
          0.6190476190476191,
          0.6208053691275167,
          0.6222222222222222,
          0.6224899598393575,
          0.622754491017964,
          0.6230769230769232,
          0.6237623762376237,
          0.6256410256410256,
          0.6258503401360545,
          0.6261261261261262,
          0.6296296296296297,
          0.6308243727598566,
          0.6320754716981133,
          0.6326530612244897,
          0.6335403726708074,
          0.633720930232558,
          0.6341463414634145,
          0.6342857142857141,
          0.6351931330472101,
          0.6353591160220994,
          0.6359832635983264,
          0.637037037037037,
          0.6377551020408163,
          0.6378205128205128,
          0.6385542168674698,
          0.6386292834890965,
          0.6387832699619771,
          0.64,
          0.6407185628742516,
          0.6430769230769231,
          0.6438356164383562,
          0.6439024390243903,
          0.6440677966101696,
          0.6456953642384106,
          0.6493055555555555,
          0.6495726495726497,
          0.6496350364963505,
          0.6498422712933755,
          0.6504854368932039,
          0.6511627906976745,
          0.6516853932584269,
          0.6524590163934426,
          0.6539923954372623,
          0.654867256637168,
          0.6567656765676568,
          0.6583333333333333,
          0.6598360655737706,
          0.6610169491525424,
          0.6613756613756614,
          0.6615384615384616,
          0.6629213483146067,
          0.6631016042780749,
          0.6634615384615384,
          0.6651162790697674,
          0.6666666666666666,
          0.6666666666666667,
          0.6677524429967426,
          0.6678445229681977,
          0.6707317073170733,
          0.6717171717171716,
          0.672340425531915,
          0.6736842105263159,
          0.6741071428571429,
          0.6749999999999999,
          0.6753246753246754,
          0.675392670157068,
          0.6754385964912281,
          0.6755319148936171,
          0.6762589928057553,
          0.6772486772486772,
          0.68,
          0.6804511278195486,
          0.6825396825396826,
          0.6837606837606838,
          0.6853932584269662,
          0.6868686868686869,
          0.6880733944954128,
          0.6887417218543047,
          0.6902985074626865,
          0.6923076923076923,
          0.6923076923076923,
          0.6929824561403509,
          0.6958525345622119,
          0.6962025316455696,
          0.6995073891625616,
          0.7012987012987013,
          0.7015706806282721,
          0.7015873015873015,
          0.7021276595744681,
          0.7037037037037037,
          0.7038461538461539,
          0.7050359712230215,
          0.7058823529411766,
          0.7060439560439562,
          0.7066666666666666,
          0.7067669172932329,
          0.7070063694267515,
          0.7077464788732395,
          0.7083333333333335,
          0.7098765432098766,
          0.7099999999999999,
          0.7101910828025478,
          0.7103174603174605,
          0.7142857142857143,
          0.7163461538461539,
          0.7173144876325088,
          0.7186311787072244,
          0.719298245614035,
          0.72,
          0.724381625441696,
          0.7258064516129034,
          0.7266666666666667,
          0.7272727272727273,
          0.7285714285714285,
          0.7296296296296297,
          0.7303370786516855,
          0.7310344827586208,
          0.7312925170068028,
          0.7326732673267325,
          0.7341772151898736,
          0.7395348837209301,
          0.7395833333333334,
          0.7396449704142013,
          0.74,
          0.7427184466019415,
          0.743859649122807,
          0.7446808510638298,
          0.7447552447552446,
          0.7448559670781892,
          0.7448680351906158,
          0.7459807073954984,
          0.7464114832535886,
          0.748971193415638,
          0.7516778523489933,
          0.7565217391304347,
          0.76,
          0.7610619469026549,
          0.7619047619047619,
          0.7633587786259541,
          0.7643678160919543,
          0.7647058823529412,
          0.7655172413793103,
          0.7656903765690377,
          0.7657342657342657,
          0.7696629213483146,
          0.7714285714285715,
          0.7751004016064258,
          0.7760736196319018,
          0.7777777777777779,
          0.7785467128027682,
          0.7795031055900621,
          0.7823834196891192,
          0.7824675324675325,
          0.7827380952380952,
          0.7837837837837835,
          0.7837837837837839,
          0.7842323651452281,
          0.7842465753424659,
          0.7845528455284553,
          0.7857142857142858,
          0.7870967741935485,
          0.789156626506024,
          0.7896825396825395,
          0.790273556231003,
          0.7906976744186046,
          0.7912621359223299,
          0.7934782608695653,
          0.7939698492462313,
          0.795744680851064,
          0.801980198019802,
          0.8028169014084506,
          0.8058823529411765,
          0.8084291187739464,
          0.8098159509202454,
          0.8099999999999999,
          0.8108882521489973,
          0.8136363636363636,
          0.8153153153153154,
          0.8155339805825242,
          0.8157894736842104,
          0.8158995815899583,
          0.8205128205128205,
          0.8215297450424931,
          0.8223938223938224,
          0.8235294117647057,
          0.8249999999999998,
          0.8251533742331288,
          0.8256410256410257,
          0.8268398268398268,
          0.826923076923077,
          0.8284883720930233,
          0.8303030303030302,
          0.8316831683168318,
          0.8333333333333334,
          0.8333333333333334,
          0.8333333333333334,
          0.8342245989304813,
          0.8348623853211009,
          0.8369098712446351,
          0.8387096774193549,
          0.8388157894736843,
          0.8393939393939392,
          0.841359773371105,
          0.8446866485013623,
          0.8461538461538461,
          0.8461538461538463,
          0.846875,
          0.8498583569405099,
          0.8520179372197311,
          0.8521739130434781,
          0.8533333333333333,
          0.8576923076923078,
          0.859154929577465,
          0.86,
          0.8609467455621302,
          0.862857142857143,
          0.8640000000000002,
          0.8642384105960266,
          0.8653846153846155,
          0.8670212765957445,
          0.8697068403908794,
          0.8749999999999999,
          0.8758620689655173,
          0.876923076923077,
          0.8774834437086093,
          0.8776758409785931,
          0.8842105263157894,
          0.8864628820960699,
          0.8869565217391304,
          0.8902439024390244,
          0.8941504178272981,
          0.8963730569948186,
          0.9031007751937983,
          0.906906906906907,
          0.9195402298850575,
          0.9252336448598132,
          0.9259259259259262,
          0.930939226519337,
          0.9313432835820896,
          0.9335260115606935,
          0.9342857142857144,
          0.9355828220858897,
          0.9356913183279743,
          0.938888888888889,
          0.9398496240601502,
          0.9423868312757201,
          0.9461538461538461,
          0.9485294117647058,
          0.9495268138801262,
          0.9510869565217394,
          0.9557522123893806,
          0.9557823129251701,
          0.9581881533101044,
          0.9638157894736843,
          0.9642857142857144,
          0.9678362573099415,
          0.96969696969697,
          0.9768786127167629,
          0.9806949806949808,
          0.9809782608695653,
          0.9839572192513368,
          0.9883040935672515,
          0.9916434540389973,
          0.9947643979057591,
          1,
          1.0139664804469273,
          1.0208333333333335,
          1.0238095238095237,
          1.0239520958083834,
          1.0255681818181817,
          1.0290697674418607,
          1.031496062992126,
          1.0359281437125747,
          1.0459770114942528,
          1.0470588235294116,
          1.0488505747126438,
          1.0507042253521128,
          1.052023121387283,
          1.0722543352601157,
          1.0878787878787881,
          1.125,
          1.1490514905149054,
          1.1498559077809796,
          1.162534435261708,
          1.1690140845070423,
          1.1915492957746479,
          1.1974921630094042,
          1.2323529411764707,
          1.3526011560693643,
          1.442367601246106
         ],
         "y": [
          1318102.5665002153,
          2083099.1254021674,
          2102381.543866148,
          2171447.5531984894,
          2185688.6889677066,
          2208415.838863611,
          2257267.56542773,
          2260524.7603678177,
          2266417.715708725,
          2319844.617165866,
          2378771.13133235,
          2404233.1037703804,
          2439584.1815303355,
          2452447.9462524992,
          2457413.589757062,
          2459859.396532493,
          2468623.079646533,
          2492563.026524794,
          2506678.4813455106,
          2511067.544793085,
          2519374.5170629187,
          2554164.1661004773,
          2594077.392925424,
          2611150.957114258,
          2620627.758433275,
          2624905.5911701685,
          2633884.933262436,
          2663559.726698801,
          2699798.968985733,
          2706515.6119931964,
          2713166.4481137404,
          2729701.719213888,
          2748439.847905232,
          2758986.949344942,
          2782450.860933933,
          2801794.6745453994,
          2850760.7662050985,
          2855413.759563078,
          2863192.8374420796,
          2871987.700119978,
          2890864.042958307,
          2922210.6149216495,
          2927481.1680127685,
          2948081.1186812976,
          2948081.1186812976,
          2998888.602748401,
          3003312.8105326565,
          3006066.954954385,
          3009921.5554711316,
          3026190.635134717,
          3033245.788454311,
          3090246.0946973143,
          3118966.7499799,
          3133565.3374455855,
          3137889.2354957396,
          3145561.6652794834,
          3154037.99275434,
          3165802.3900731723,
          3167267.4687087196,
          3183931.1310644336,
          3191034.8598835333,
          3191874.0422954853,
          3198752.5497017633,
          3205215.859045705,
          3213022.762443187,
          3223473.884030818,
          3246261.5738398195,
          3253600.541587016,
          3255150.815318741,
          3260433.882574666,
          3295385.7921658196,
          3308840.1226304476,
          3308840.1226304476,
          3310467.71412069,
          3323377.6547629577,
          3328487.1020748364,
          3355081.7337936205,
          3409177.8995039957,
          3436081.0088278344,
          3442019.296269949,
          3459809.222666114,
          3475115.2760933843,
          3494055.974258977,
          3505451.480313934,
          3507531.953745725,
          3509070.3661585674,
          3512953.5819884767,
          3521370.887580603,
          3528578.8656533645,
          3529866.2222542367,
          3538979.2036735266,
          3546062.7547925957,
          3576358.798708703,
          3579903.7300752425,
          3584043.9246083433,
          3590781.9554675203,
          3590781.9554675203,
          3595474.8066002754,
          3596031.402730021,
          3601367.0469644023,
          3602538.583091567,
          3623459.9732783316,
          3638304.1996990778,
          3638304.1996990778,
          3662300.654281589,
          3663347.5610854477,
          3678349.6812988347,
          3682728.9230782883,
          3709961.7517140396,
          3770552.4920690567,
          3773523.838224608,
          3822023.380119723,
          3834766.301942443,
          3834766.301942443,
          3848994.9884903696,
          3850311.0643324615,
          3884830.3700364567,
          3886636.384018476,
          3905766.7816481176,
          3906283.239179651,
          3950839.235407425,
          3970761.224859788,
          3976959.214081499,
          3987928.2365351045,
          3989762.482249897,
          3990633.581084392,
          3991476.0164339826,
          4022559.1867887992,
          4023261.1379058394,
          4031523.2287455597,
          4041837.016192763,
          4041837.016192763,
          4055075.0278855376,
          4058543.089644449,
          4086055.792904326,
          4088058.9766574567,
          4096474.534270934,
          4105881.2171970764,
          4132157.6748149195,
          4161830.9320911192,
          4163190.057247654,
          4186059.4645800698,
          4197026.45340014,
          4201062.355155624,
          4219548.503652674,
          4242890.039924167,
          4257021.232627857,
          4257021.232627857,
          4263434.4047953645,
          4275815.319658216,
          4279271.470536589,
          4279271.470536589,
          4280505.364138529,
          4292215.649416674,
          4316088.520687188,
          4335428.116175355,
          4339092.372821393,
          4342715.787721423,
          4347136.391667273,
          4356549.040134974,
          4382451.276449406,
          4385346.758418903,
          4389164.672546,
          4437956.632840126,
          4454719.08387248,
          4472340.083571789,
          4480498.596147836,
          4493060.966395475,
          4495621.572349762,
          4501660.380817719,
          4503640.573074813,
          4516554.383923506,
          4518920.551825901,
          4527829.1785705555,
          4542909.845855011,
          4553214.917675434,
          4554154.799671972,
          4564710.634027054,
          4565791.999736976,
          4568011.040316502,
          4585582.845341687,
          4595991.936302706,
          4630321.428023381,
          4641419.778022876,
          4642398.54869913,
          4644821.478808595,
          4668737.271835232,
          4722226.548777312,
          4726208.125034749,
          4727138.611791366,
          4730230.786731965,
          4739840.42284201,
          4749981.97743728,
          4757821.374552929,
          4769450.01141102,
          4792582.904448173,
          4805831.486964323,
          4834706.573774804,
          4858681.469848514,
          4881775.043365263,
          4899999.528589687,
          4905548.967311066,
          4908069.63178033,
          4929533.414741268,
          4932338.073366352,
          4937943.176583241,
          4963793.820409187,
          4988137.028295608,
          4988137.028295608,
          5005256.247890966,
          5006710.754240821,
          5052532.1003271155,
          5068267.814856644,
          5078245.10627171,
          5099823.820476901,
          5106634.287867157,
          5121041.823272582,
          5126290.999174949,
          5127390.984240232,
          5128134.09015912,
          5129644.349899537,
          5141426.580770191,
          5157507.827745886,
          5202478.463938427,
          5209889.519739153,
          5244337.777634167,
          5264582.16709845,
          5291772.661930717,
          5316466.677364577,
          5336715.114775944,
          5347981.440699107,
          5374317.262537321,
          5408498.016911633,
          5408498.016911633,
          5420025.962924942,
          5469334.738456341,
          5475378.395381253,
          5532776.078057891,
          5564138.05104281,
          5568915.336615956,
          5569207.414798661,
          5578711.412155648,
          5606524.144227714,
          5609044.809797923,
          5630143.027329745,
          5645199.623541779,
          5648079.01537299,
          5659188.011670958,
          5660978.497738923,
          5665257.429229918,
          5678503.401772568,
          5689028.532712123,
          5716798.922295462,
          5719026.4008310065,
          5722475.738207079,
          5724758.188888928,
          5796892.105464266,
          5834704.023098693,
          5852559.383416244,
          5876925.88951147,
          5889309.229505697,
          5902364.667828037,
          5984537.462515127,
          6011504.308854804,
          6027843.884972518,
          6039382.51965119,
          6064182.595957064,
          6084465.342966879,
          6098062.979837412,
          6111497.290513235,
          6116475.381464419,
          6143182.304112017,
          6172404.855237322,
          6277641.625110668,
          6278601.425803278,
          6279822.6861203415,
          6286861.771772096,
          6341021.908935218,
          6363897.124417883,
          6380409.020961528,
          6381906.968623177,
          6383935.614550787,
          6384178.721374688,
          6406632.835873285,
          6415347.234574597,
          6467374.030535677,
          6522846.622769173,
          6623311.770785727,
          6696406.129022476,
          6718882.876602201,
          6736775.2513158275,
          6767755.0907937875,
          6789337.729154487,
          6796584.123098041,
          6814007.039895266,
          6817730.679123633,
          6818674.931898407,
          6903729.895871674,
          6942300.802234921,
          7023203.947215712,
          7044804.928245735,
          7082789.576448026,
          7099995.658754299,
          7121454.7285446245,
          7186474.386377052,
          7188382.026861892,
          7194521.7052707905,
          7218300.071530089,
          7218300.071530102,
          7228524.630741653,
          7228848.761721962,
          7235838.240136619,
          7262405.256970046,
          7294155.7633742895,
          7341720.414988767,
          7353914.053963298,
          7367641.326355522,
          7377507.915490768,
          7390659.917661834,
          7442522.94487772,
          7454076.608015706,
          7495939.450811585,
          7644888.983854501,
          7665099.4894603975,
          7739602.773357473,
          7802050.254505484,
          7836267.439476866,
          7840819.730836355,
          7862827.070192042,
          7931306.236499437,
          7973436.567469275,
          7978940.0326207075,
          7985375.209510666,
          7988150.128520535,
          8105282.790131032,
          8131333.220925246,
          8153533.969216734,
          8182802.8808247335,
          8220862.307644331,
          8224841.875451538,
          8237507.664616049,
          8268727.147753409,
          8270899.555868326,
          8311852.299558263,
          8359582.986114675,
          8396067.971408892,
          8439900.400089197,
          8439900.400089197,
          8439900.400089197,
          8463669.696956009,
          8480719.998781703,
          8535689.066366255,
          8584302.82089905,
          8587177.593496,
          8602857.669240236,
          8656387.798125554,
          8747739.322323803,
          8788332.32693097,
          8788332.32693097,
          8808353.506280866,
          8891665.35623175,
          8952464.025662497,
          8956871.276669791,
          8989699.920118624,
          9114203.180072434,
          9156364.517354565,
          9180813.24025775,
          9208281.069205144,
          9263957.700696811,
          9297425.939763065,
          9304422.952818053,
          9338136.02340036,
          9386486.63121448,
          9466367.175131906,
          9625804.96826527,
          9652024.861827025,
          9684393.56572969,
          9701532.738982275,
          9707424.323745346,
          9909668.007847674,
          9980348.791063111,
          9995906.837654978,
          10100135.625158131,
          10225408.562673658,
          10297375.745578222,
          10518315.23870016,
          10645402.37395732,
          11078340.451368244,
          11279164.413760448,
          11303830.193612421,
          11484069.717310224,
          11498721.02690801,
          11578191.654801218,
          11605980.218688283,
          11653580.334461704,
          11657570.670298273,
          11775788.242438776,
          11811541.298596725,
          11906484.351316553,
          12048856.690036375,
          12139513.962817123,
          12177780.240149137,
          12237878.641223585,
          12419364.664564166,
          12420544.320249343,
          12515193.747753466,
          12739419.95373209,
          12758324.275301872,
          12902066.55981949,
          12978042.334950948,
          13275499.316569211,
          13436334.007953532,
          13448349.792280057,
          13575359.594265223,
          13762846.667412983,
          13908634.989181463,
          14046283.56361397,
          14280265.028678447,
          14923677.11264911,
          15250572.10210175,
          15394468.116617547,
          15401395.31547838,
          15480134.94757121,
          15652124.47853269,
          15772417.817657547,
          15994547.889126629,
          16509840.341939168,
          16566294.662100293,
          16660222.082935495,
          16757954.905377487,
          16827841.942950398,
          17937138.097612683,
          18843640.1830162,
          21185341.897286277,
          22855750.563504573,
          22913838.93576639,
          23849123.907112002,
          24341766.959033445,
          26135704.507379312,
          26630436.130613398,
          29727012.72024454,
          43444886.03200429,
          57670541.74906371
         ]
        }
       ],
       "layout": {
        "legend": {
         "tracegroupgap": 0
        },
        "margin": {
         "t": 60
        },
        "template": {
         "data": {
          "bar": [
           {
            "error_x": {
             "color": "#2a3f5f"
            },
            "error_y": {
             "color": "#2a3f5f"
            },
            "marker": {
             "line": {
              "color": "#E5ECF6",
              "width": 0.5
             },
             "pattern": {
              "fillmode": "overlay",
              "size": 10,
              "solidity": 0.2
             }
            },
            "type": "bar"
           }
          ],
          "barpolar": [
           {
            "marker": {
             "line": {
              "color": "#E5ECF6",
              "width": 0.5
             },
             "pattern": {
              "fillmode": "overlay",
              "size": 10,
              "solidity": 0.2
             }
            },
            "type": "barpolar"
           }
          ],
          "carpet": [
           {
            "aaxis": {
             "endlinecolor": "#2a3f5f",
             "gridcolor": "white",
             "linecolor": "white",
             "minorgridcolor": "white",
             "startlinecolor": "#2a3f5f"
            },
            "baxis": {
             "endlinecolor": "#2a3f5f",
             "gridcolor": "white",
             "linecolor": "white",
             "minorgridcolor": "white",
             "startlinecolor": "#2a3f5f"
            },
            "type": "carpet"
           }
          ],
          "choropleth": [
           {
            "colorbar": {
             "outlinewidth": 0,
             "ticks": ""
            },
            "type": "choropleth"
           }
          ],
          "contour": [
           {
            "colorbar": {
             "outlinewidth": 0,
             "ticks": ""
            },
            "colorscale": [
             [
              0,
              "#0d0887"
             ],
             [
              0.1111111111111111,
              "#46039f"
             ],
             [
              0.2222222222222222,
              "#7201a8"
             ],
             [
              0.3333333333333333,
              "#9c179e"
             ],
             [
              0.4444444444444444,
              "#bd3786"
             ],
             [
              0.5555555555555556,
              "#d8576b"
             ],
             [
              0.6666666666666666,
              "#ed7953"
             ],
             [
              0.7777777777777778,
              "#fb9f3a"
             ],
             [
              0.8888888888888888,
              "#fdca26"
             ],
             [
              1,
              "#f0f921"
             ]
            ],
            "type": "contour"
           }
          ],
          "contourcarpet": [
           {
            "colorbar": {
             "outlinewidth": 0,
             "ticks": ""
            },
            "type": "contourcarpet"
           }
          ],
          "heatmap": [
           {
            "colorbar": {
             "outlinewidth": 0,
             "ticks": ""
            },
            "colorscale": [
             [
              0,
              "#0d0887"
             ],
             [
              0.1111111111111111,
              "#46039f"
             ],
             [
              0.2222222222222222,
              "#7201a8"
             ],
             [
              0.3333333333333333,
              "#9c179e"
             ],
             [
              0.4444444444444444,
              "#bd3786"
             ],
             [
              0.5555555555555556,
              "#d8576b"
             ],
             [
              0.6666666666666666,
              "#ed7953"
             ],
             [
              0.7777777777777778,
              "#fb9f3a"
             ],
             [
              0.8888888888888888,
              "#fdca26"
             ],
             [
              1,
              "#f0f921"
             ]
            ],
            "type": "heatmap"
           }
          ],
          "heatmapgl": [
           {
            "colorbar": {
             "outlinewidth": 0,
             "ticks": ""
            },
            "colorscale": [
             [
              0,
              "#0d0887"
             ],
             [
              0.1111111111111111,
              "#46039f"
             ],
             [
              0.2222222222222222,
              "#7201a8"
             ],
             [
              0.3333333333333333,
              "#9c179e"
             ],
             [
              0.4444444444444444,
              "#bd3786"
             ],
             [
              0.5555555555555556,
              "#d8576b"
             ],
             [
              0.6666666666666666,
              "#ed7953"
             ],
             [
              0.7777777777777778,
              "#fb9f3a"
             ],
             [
              0.8888888888888888,
              "#fdca26"
             ],
             [
              1,
              "#f0f921"
             ]
            ],
            "type": "heatmapgl"
           }
          ],
          "histogram": [
           {
            "marker": {
             "pattern": {
              "fillmode": "overlay",
              "size": 10,
              "solidity": 0.2
             }
            },
            "type": "histogram"
           }
          ],
          "histogram2d": [
           {
            "colorbar": {
             "outlinewidth": 0,
             "ticks": ""
            },
            "colorscale": [
             [
              0,
              "#0d0887"
             ],
             [
              0.1111111111111111,
              "#46039f"
             ],
             [
              0.2222222222222222,
              "#7201a8"
             ],
             [
              0.3333333333333333,
              "#9c179e"
             ],
             [
              0.4444444444444444,
              "#bd3786"
             ],
             [
              0.5555555555555556,
              "#d8576b"
             ],
             [
              0.6666666666666666,
              "#ed7953"
             ],
             [
              0.7777777777777778,
              "#fb9f3a"
             ],
             [
              0.8888888888888888,
              "#fdca26"
             ],
             [
              1,
              "#f0f921"
             ]
            ],
            "type": "histogram2d"
           }
          ],
          "histogram2dcontour": [
           {
            "colorbar": {
             "outlinewidth": 0,
             "ticks": ""
            },
            "colorscale": [
             [
              0,
              "#0d0887"
             ],
             [
              0.1111111111111111,
              "#46039f"
             ],
             [
              0.2222222222222222,
              "#7201a8"
             ],
             [
              0.3333333333333333,
              "#9c179e"
             ],
             [
              0.4444444444444444,
              "#bd3786"
             ],
             [
              0.5555555555555556,
              "#d8576b"
             ],
             [
              0.6666666666666666,
              "#ed7953"
             ],
             [
              0.7777777777777778,
              "#fb9f3a"
             ],
             [
              0.8888888888888888,
              "#fdca26"
             ],
             [
              1,
              "#f0f921"
             ]
            ],
            "type": "histogram2dcontour"
           }
          ],
          "mesh3d": [
           {
            "colorbar": {
             "outlinewidth": 0,
             "ticks": ""
            },
            "type": "mesh3d"
           }
          ],
          "parcoords": [
           {
            "line": {
             "colorbar": {
              "outlinewidth": 0,
              "ticks": ""
             }
            },
            "type": "parcoords"
           }
          ],
          "pie": [
           {
            "automargin": true,
            "type": "pie"
           }
          ],
          "scatter": [
           {
            "fillpattern": {
             "fillmode": "overlay",
             "size": 10,
             "solidity": 0.2
            },
            "type": "scatter"
           }
          ],
          "scatter3d": [
           {
            "line": {
             "colorbar": {
              "outlinewidth": 0,
              "ticks": ""
             }
            },
            "marker": {
             "colorbar": {
              "outlinewidth": 0,
              "ticks": ""
             }
            },
            "type": "scatter3d"
           }
          ],
          "scattercarpet": [
           {
            "marker": {
             "colorbar": {
              "outlinewidth": 0,
              "ticks": ""
             }
            },
            "type": "scattercarpet"
           }
          ],
          "scattergeo": [
           {
            "marker": {
             "colorbar": {
              "outlinewidth": 0,
              "ticks": ""
             }
            },
            "type": "scattergeo"
           }
          ],
          "scattergl": [
           {
            "marker": {
             "colorbar": {
              "outlinewidth": 0,
              "ticks": ""
             }
            },
            "type": "scattergl"
           }
          ],
          "scattermapbox": [
           {
            "marker": {
             "colorbar": {
              "outlinewidth": 0,
              "ticks": ""
             }
            },
            "type": "scattermapbox"
           }
          ],
          "scatterpolar": [
           {
            "marker": {
             "colorbar": {
              "outlinewidth": 0,
              "ticks": ""
             }
            },
            "type": "scatterpolar"
           }
          ],
          "scatterpolargl": [
           {
            "marker": {
             "colorbar": {
              "outlinewidth": 0,
              "ticks": ""
             }
            },
            "type": "scatterpolargl"
           }
          ],
          "scatterternary": [
           {
            "marker": {
             "colorbar": {
              "outlinewidth": 0,
              "ticks": ""
             }
            },
            "type": "scatterternary"
           }
          ],
          "surface": [
           {
            "colorbar": {
             "outlinewidth": 0,
             "ticks": ""
            },
            "colorscale": [
             [
              0,
              "#0d0887"
             ],
             [
              0.1111111111111111,
              "#46039f"
             ],
             [
              0.2222222222222222,
              "#7201a8"
             ],
             [
              0.3333333333333333,
              "#9c179e"
             ],
             [
              0.4444444444444444,
              "#bd3786"
             ],
             [
              0.5555555555555556,
              "#d8576b"
             ],
             [
              0.6666666666666666,
              "#ed7953"
             ],
             [
              0.7777777777777778,
              "#fb9f3a"
             ],
             [
              0.8888888888888888,
              "#fdca26"
             ],
             [
              1,
              "#f0f921"
             ]
            ],
            "type": "surface"
           }
          ],
          "table": [
           {
            "cells": {
             "fill": {
              "color": "#EBF0F8"
             },
             "line": {
              "color": "white"
             }
            },
            "header": {
             "fill": {
              "color": "#C8D4E3"
             },
             "line": {
              "color": "white"
             }
            },
            "type": "table"
           }
          ]
         },
         "layout": {
          "annotationdefaults": {
           "arrowcolor": "#2a3f5f",
           "arrowhead": 0,
           "arrowwidth": 1
          },
          "autotypenumbers": "strict",
          "coloraxis": {
           "colorbar": {
            "outlinewidth": 0,
            "ticks": ""
           }
          },
          "colorscale": {
           "diverging": [
            [
             0,
             "#8e0152"
            ],
            [
             0.1,
             "#c51b7d"
            ],
            [
             0.2,
             "#de77ae"
            ],
            [
             0.3,
             "#f1b6da"
            ],
            [
             0.4,
             "#fde0ef"
            ],
            [
             0.5,
             "#f7f7f7"
            ],
            [
             0.6,
             "#e6f5d0"
            ],
            [
             0.7,
             "#b8e186"
            ],
            [
             0.8,
             "#7fbc41"
            ],
            [
             0.9,
             "#4d9221"
            ],
            [
             1,
             "#276419"
            ]
           ],
           "sequential": [
            [
             0,
             "#0d0887"
            ],
            [
             0.1111111111111111,
             "#46039f"
            ],
            [
             0.2222222222222222,
             "#7201a8"
            ],
            [
             0.3333333333333333,
             "#9c179e"
            ],
            [
             0.4444444444444444,
             "#bd3786"
            ],
            [
             0.5555555555555556,
             "#d8576b"
            ],
            [
             0.6666666666666666,
             "#ed7953"
            ],
            [
             0.7777777777777778,
             "#fb9f3a"
            ],
            [
             0.8888888888888888,
             "#fdca26"
            ],
            [
             1,
             "#f0f921"
            ]
           ],
           "sequentialminus": [
            [
             0,
             "#0d0887"
            ],
            [
             0.1111111111111111,
             "#46039f"
            ],
            [
             0.2222222222222222,
             "#7201a8"
            ],
            [
             0.3333333333333333,
             "#9c179e"
            ],
            [
             0.4444444444444444,
             "#bd3786"
            ],
            [
             0.5555555555555556,
             "#d8576b"
            ],
            [
             0.6666666666666666,
             "#ed7953"
            ],
            [
             0.7777777777777778,
             "#fb9f3a"
            ],
            [
             0.8888888888888888,
             "#fdca26"
            ],
            [
             1,
             "#f0f921"
            ]
           ]
          },
          "colorway": [
           "#636efa",
           "#EF553B",
           "#00cc96",
           "#ab63fa",
           "#FFA15A",
           "#19d3f3",
           "#FF6692",
           "#B6E880",
           "#FF97FF",
           "#FECB52"
          ],
          "font": {
           "color": "#2a3f5f"
          },
          "geo": {
           "bgcolor": "white",
           "lakecolor": "white",
           "landcolor": "#E5ECF6",
           "showlakes": true,
           "showland": true,
           "subunitcolor": "white"
          },
          "hoverlabel": {
           "align": "left"
          },
          "hovermode": "closest",
          "mapbox": {
           "style": "light"
          },
          "paper_bgcolor": "white",
          "plot_bgcolor": "#E5ECF6",
          "polar": {
           "angularaxis": {
            "gridcolor": "white",
            "linecolor": "white",
            "ticks": ""
           },
           "bgcolor": "#E5ECF6",
           "radialaxis": {
            "gridcolor": "white",
            "linecolor": "white",
            "ticks": ""
           }
          },
          "scene": {
           "xaxis": {
            "backgroundcolor": "#E5ECF6",
            "gridcolor": "white",
            "gridwidth": 2,
            "linecolor": "white",
            "showbackground": true,
            "ticks": "",
            "zerolinecolor": "white"
           },
           "yaxis": {
            "backgroundcolor": "#E5ECF6",
            "gridcolor": "white",
            "gridwidth": 2,
            "linecolor": "white",
            "showbackground": true,
            "ticks": "",
            "zerolinecolor": "white"
           },
           "zaxis": {
            "backgroundcolor": "#E5ECF6",
            "gridcolor": "white",
            "gridwidth": 2,
            "linecolor": "white",
            "showbackground": true,
            "ticks": "",
            "zerolinecolor": "white"
           }
          },
          "shapedefaults": {
           "line": {
            "color": "#2a3f5f"
           }
          },
          "ternary": {
           "aaxis": {
            "gridcolor": "white",
            "linecolor": "white",
            "ticks": ""
           },
           "baxis": {
            "gridcolor": "white",
            "linecolor": "white",
            "ticks": ""
           },
           "bgcolor": "#E5ECF6",
           "caxis": {
            "gridcolor": "white",
            "linecolor": "white",
            "ticks": ""
           }
          },
          "title": {
           "x": 0.05
          },
          "xaxis": {
           "automargin": true,
           "gridcolor": "white",
           "linecolor": "white",
           "ticks": "",
           "title": {
            "standoff": 15
           },
           "zerolinecolor": "white",
           "zerolinewidth": 2
          },
          "yaxis": {
           "automargin": true,
           "gridcolor": "white",
           "linecolor": "white",
           "ticks": "",
           "title": {
            "standoff": 15
           },
           "zerolinecolor": "white",
           "zerolinewidth": 2
          }
         }
        },
        "xaxis": {
         "anchor": "y",
         "domain": [
          0,
          1
         ],
         "title": {
          "text": "Efficiency Rating"
         }
        },
        "yaxis": {
         "anchor": "x",
         "domain": [
          0,
          1
         ],
         "title": {
          "text": "Salary (USD)"
         }
        }
       }
      }
     },
     "metadata": {},
     "output_type": "display_data"
    },
    {
     "data": {
      "text/plain": [
       "(37684287.18173388, 3.155448051417258)"
      ]
     },
     "execution_count": 58,
     "metadata": {},
     "output_type": "execute_result"
    }
   ],
   "source": [
    "efficiency_plot(df_efficiency, 'ratingPm', year=2023)"
   ]
  },
  {
   "cell_type": "code",
   "execution_count": 57,
   "id": "692689f9",
   "metadata": {},
   "outputs": [
    {
     "data": {
      "application/vnd.plotly.v1+json": {
       "config": {
        "plotlyServerURL": "https://plot.ly"
       },
       "data": [
        {
         "hovertemplate": "Season: %{x}<br>Season: %{y}<extra></extra>",
         "line": {
          "color": "green"
         },
         "mode": "lines+markers",
         "name": "Coeffs",
         "type": "scatter",
         "x": [
          1995,
          1996,
          1997,
          1998,
          1999,
          2000,
          2001,
          2002,
          2003,
          2004,
          2005,
          2006,
          2007,
          2008,
          2009,
          2010,
          2011,
          2012,
          2013,
          2014,
          2015,
          2016,
          2017,
          2018,
          2019,
          2020,
          2021,
          2022
         ],
         "y": [
          4612828.558443002,
          6530957.712843527,
          9913385.920162944,
          10413071.339306694,
          11318996.604272952,
          13198296.039891282,
          14642215.978404805,
          14137936.880457649,
          16012422.188074531,
          16166515.253166154,
          15582333.319384316,
          15335454.813621545,
          16685331.877245601,
          15704717.20652421,
          16192405.731625985,
          16673930.863478394,
          16378985.388972778,
          16078656.797398675,
          16389702.250211958,
          15728079.046191245,
          15876311.385942748,
          15754260.801208606,
          18521845.789895754,
          18276402.99746247,
          20885732.73976714,
          26227264.359630235,
          36089581.640849434,
          35506263.19311024,
          37684287.18173388
         ]
        }
       ],
       "layout": {
        "hovermode": "closest",
        "template": {
         "data": {
          "bar": [
           {
            "error_x": {
             "color": "#2a3f5f"
            },
            "error_y": {
             "color": "#2a3f5f"
            },
            "marker": {
             "line": {
              "color": "#E5ECF6",
              "width": 0.5
             },
             "pattern": {
              "fillmode": "overlay",
              "size": 10,
              "solidity": 0.2
             }
            },
            "type": "bar"
           }
          ],
          "barpolar": [
           {
            "marker": {
             "line": {
              "color": "#E5ECF6",
              "width": 0.5
             },
             "pattern": {
              "fillmode": "overlay",
              "size": 10,
              "solidity": 0.2
             }
            },
            "type": "barpolar"
           }
          ],
          "carpet": [
           {
            "aaxis": {
             "endlinecolor": "#2a3f5f",
             "gridcolor": "white",
             "linecolor": "white",
             "minorgridcolor": "white",
             "startlinecolor": "#2a3f5f"
            },
            "baxis": {
             "endlinecolor": "#2a3f5f",
             "gridcolor": "white",
             "linecolor": "white",
             "minorgridcolor": "white",
             "startlinecolor": "#2a3f5f"
            },
            "type": "carpet"
           }
          ],
          "choropleth": [
           {
            "colorbar": {
             "outlinewidth": 0,
             "ticks": ""
            },
            "type": "choropleth"
           }
          ],
          "contour": [
           {
            "colorbar": {
             "outlinewidth": 0,
             "ticks": ""
            },
            "colorscale": [
             [
              0,
              "#0d0887"
             ],
             [
              0.1111111111111111,
              "#46039f"
             ],
             [
              0.2222222222222222,
              "#7201a8"
             ],
             [
              0.3333333333333333,
              "#9c179e"
             ],
             [
              0.4444444444444444,
              "#bd3786"
             ],
             [
              0.5555555555555556,
              "#d8576b"
             ],
             [
              0.6666666666666666,
              "#ed7953"
             ],
             [
              0.7777777777777778,
              "#fb9f3a"
             ],
             [
              0.8888888888888888,
              "#fdca26"
             ],
             [
              1,
              "#f0f921"
             ]
            ],
            "type": "contour"
           }
          ],
          "contourcarpet": [
           {
            "colorbar": {
             "outlinewidth": 0,
             "ticks": ""
            },
            "type": "contourcarpet"
           }
          ],
          "heatmap": [
           {
            "colorbar": {
             "outlinewidth": 0,
             "ticks": ""
            },
            "colorscale": [
             [
              0,
              "#0d0887"
             ],
             [
              0.1111111111111111,
              "#46039f"
             ],
             [
              0.2222222222222222,
              "#7201a8"
             ],
             [
              0.3333333333333333,
              "#9c179e"
             ],
             [
              0.4444444444444444,
              "#bd3786"
             ],
             [
              0.5555555555555556,
              "#d8576b"
             ],
             [
              0.6666666666666666,
              "#ed7953"
             ],
             [
              0.7777777777777778,
              "#fb9f3a"
             ],
             [
              0.8888888888888888,
              "#fdca26"
             ],
             [
              1,
              "#f0f921"
             ]
            ],
            "type": "heatmap"
           }
          ],
          "heatmapgl": [
           {
            "colorbar": {
             "outlinewidth": 0,
             "ticks": ""
            },
            "colorscale": [
             [
              0,
              "#0d0887"
             ],
             [
              0.1111111111111111,
              "#46039f"
             ],
             [
              0.2222222222222222,
              "#7201a8"
             ],
             [
              0.3333333333333333,
              "#9c179e"
             ],
             [
              0.4444444444444444,
              "#bd3786"
             ],
             [
              0.5555555555555556,
              "#d8576b"
             ],
             [
              0.6666666666666666,
              "#ed7953"
             ],
             [
              0.7777777777777778,
              "#fb9f3a"
             ],
             [
              0.8888888888888888,
              "#fdca26"
             ],
             [
              1,
              "#f0f921"
             ]
            ],
            "type": "heatmapgl"
           }
          ],
          "histogram": [
           {
            "marker": {
             "pattern": {
              "fillmode": "overlay",
              "size": 10,
              "solidity": 0.2
             }
            },
            "type": "histogram"
           }
          ],
          "histogram2d": [
           {
            "colorbar": {
             "outlinewidth": 0,
             "ticks": ""
            },
            "colorscale": [
             [
              0,
              "#0d0887"
             ],
             [
              0.1111111111111111,
              "#46039f"
             ],
             [
              0.2222222222222222,
              "#7201a8"
             ],
             [
              0.3333333333333333,
              "#9c179e"
             ],
             [
              0.4444444444444444,
              "#bd3786"
             ],
             [
              0.5555555555555556,
              "#d8576b"
             ],
             [
              0.6666666666666666,
              "#ed7953"
             ],
             [
              0.7777777777777778,
              "#fb9f3a"
             ],
             [
              0.8888888888888888,
              "#fdca26"
             ],
             [
              1,
              "#f0f921"
             ]
            ],
            "type": "histogram2d"
           }
          ],
          "histogram2dcontour": [
           {
            "colorbar": {
             "outlinewidth": 0,
             "ticks": ""
            },
            "colorscale": [
             [
              0,
              "#0d0887"
             ],
             [
              0.1111111111111111,
              "#46039f"
             ],
             [
              0.2222222222222222,
              "#7201a8"
             ],
             [
              0.3333333333333333,
              "#9c179e"
             ],
             [
              0.4444444444444444,
              "#bd3786"
             ],
             [
              0.5555555555555556,
              "#d8576b"
             ],
             [
              0.6666666666666666,
              "#ed7953"
             ],
             [
              0.7777777777777778,
              "#fb9f3a"
             ],
             [
              0.8888888888888888,
              "#fdca26"
             ],
             [
              1,
              "#f0f921"
             ]
            ],
            "type": "histogram2dcontour"
           }
          ],
          "mesh3d": [
           {
            "colorbar": {
             "outlinewidth": 0,
             "ticks": ""
            },
            "type": "mesh3d"
           }
          ],
          "parcoords": [
           {
            "line": {
             "colorbar": {
              "outlinewidth": 0,
              "ticks": ""
             }
            },
            "type": "parcoords"
           }
          ],
          "pie": [
           {
            "automargin": true,
            "type": "pie"
           }
          ],
          "scatter": [
           {
            "fillpattern": {
             "fillmode": "overlay",
             "size": 10,
             "solidity": 0.2
            },
            "type": "scatter"
           }
          ],
          "scatter3d": [
           {
            "line": {
             "colorbar": {
              "outlinewidth": 0,
              "ticks": ""
             }
            },
            "marker": {
             "colorbar": {
              "outlinewidth": 0,
              "ticks": ""
             }
            },
            "type": "scatter3d"
           }
          ],
          "scattercarpet": [
           {
            "marker": {
             "colorbar": {
              "outlinewidth": 0,
              "ticks": ""
             }
            },
            "type": "scattercarpet"
           }
          ],
          "scattergeo": [
           {
            "marker": {
             "colorbar": {
              "outlinewidth": 0,
              "ticks": ""
             }
            },
            "type": "scattergeo"
           }
          ],
          "scattergl": [
           {
            "marker": {
             "colorbar": {
              "outlinewidth": 0,
              "ticks": ""
             }
            },
            "type": "scattergl"
           }
          ],
          "scattermapbox": [
           {
            "marker": {
             "colorbar": {
              "outlinewidth": 0,
              "ticks": ""
             }
            },
            "type": "scattermapbox"
           }
          ],
          "scatterpolar": [
           {
            "marker": {
             "colorbar": {
              "outlinewidth": 0,
              "ticks": ""
             }
            },
            "type": "scatterpolar"
           }
          ],
          "scatterpolargl": [
           {
            "marker": {
             "colorbar": {
              "outlinewidth": 0,
              "ticks": ""
             }
            },
            "type": "scatterpolargl"
           }
          ],
          "scatterternary": [
           {
            "marker": {
             "colorbar": {
              "outlinewidth": 0,
              "ticks": ""
             }
            },
            "type": "scatterternary"
           }
          ],
          "surface": [
           {
            "colorbar": {
             "outlinewidth": 0,
             "ticks": ""
            },
            "colorscale": [
             [
              0,
              "#0d0887"
             ],
             [
              0.1111111111111111,
              "#46039f"
             ],
             [
              0.2222222222222222,
              "#7201a8"
             ],
             [
              0.3333333333333333,
              "#9c179e"
             ],
             [
              0.4444444444444444,
              "#bd3786"
             ],
             [
              0.5555555555555556,
              "#d8576b"
             ],
             [
              0.6666666666666666,
              "#ed7953"
             ],
             [
              0.7777777777777778,
              "#fb9f3a"
             ],
             [
              0.8888888888888888,
              "#fdca26"
             ],
             [
              1,
              "#f0f921"
             ]
            ],
            "type": "surface"
           }
          ],
          "table": [
           {
            "cells": {
             "fill": {
              "color": "#EBF0F8"
             },
             "line": {
              "color": "white"
             }
            },
            "header": {
             "fill": {
              "color": "#C8D4E3"
             },
             "line": {
              "color": "white"
             }
            },
            "type": "table"
           }
          ]
         },
         "layout": {
          "annotationdefaults": {
           "arrowcolor": "#2a3f5f",
           "arrowhead": 0,
           "arrowwidth": 1
          },
          "autotypenumbers": "strict",
          "coloraxis": {
           "colorbar": {
            "outlinewidth": 0,
            "ticks": ""
           }
          },
          "colorscale": {
           "diverging": [
            [
             0,
             "#8e0152"
            ],
            [
             0.1,
             "#c51b7d"
            ],
            [
             0.2,
             "#de77ae"
            ],
            [
             0.3,
             "#f1b6da"
            ],
            [
             0.4,
             "#fde0ef"
            ],
            [
             0.5,
             "#f7f7f7"
            ],
            [
             0.6,
             "#e6f5d0"
            ],
            [
             0.7,
             "#b8e186"
            ],
            [
             0.8,
             "#7fbc41"
            ],
            [
             0.9,
             "#4d9221"
            ],
            [
             1,
             "#276419"
            ]
           ],
           "sequential": [
            [
             0,
             "#0d0887"
            ],
            [
             0.1111111111111111,
             "#46039f"
            ],
            [
             0.2222222222222222,
             "#7201a8"
            ],
            [
             0.3333333333333333,
             "#9c179e"
            ],
            [
             0.4444444444444444,
             "#bd3786"
            ],
            [
             0.5555555555555556,
             "#d8576b"
            ],
            [
             0.6666666666666666,
             "#ed7953"
            ],
            [
             0.7777777777777778,
             "#fb9f3a"
            ],
            [
             0.8888888888888888,
             "#fdca26"
            ],
            [
             1,
             "#f0f921"
            ]
           ],
           "sequentialminus": [
            [
             0,
             "#0d0887"
            ],
            [
             0.1111111111111111,
             "#46039f"
            ],
            [
             0.2222222222222222,
             "#7201a8"
            ],
            [
             0.3333333333333333,
             "#9c179e"
            ],
            [
             0.4444444444444444,
             "#bd3786"
            ],
            [
             0.5555555555555556,
             "#d8576b"
            ],
            [
             0.6666666666666666,
             "#ed7953"
            ],
            [
             0.7777777777777778,
             "#fb9f3a"
            ],
            [
             0.8888888888888888,
             "#fdca26"
            ],
            [
             1,
             "#f0f921"
            ]
           ]
          },
          "colorway": [
           "#636efa",
           "#EF553B",
           "#00cc96",
           "#ab63fa",
           "#FFA15A",
           "#19d3f3",
           "#FF6692",
           "#B6E880",
           "#FF97FF",
           "#FECB52"
          ],
          "font": {
           "color": "#2a3f5f"
          },
          "geo": {
           "bgcolor": "white",
           "lakecolor": "white",
           "landcolor": "#E5ECF6",
           "showlakes": true,
           "showland": true,
           "subunitcolor": "white"
          },
          "hoverlabel": {
           "align": "left"
          },
          "hovermode": "closest",
          "mapbox": {
           "style": "light"
          },
          "paper_bgcolor": "white",
          "plot_bgcolor": "#E5ECF6",
          "polar": {
           "angularaxis": {
            "gridcolor": "white",
            "linecolor": "white",
            "ticks": ""
           },
           "bgcolor": "#E5ECF6",
           "radialaxis": {
            "gridcolor": "white",
            "linecolor": "white",
            "ticks": ""
           }
          },
          "scene": {
           "xaxis": {
            "backgroundcolor": "#E5ECF6",
            "gridcolor": "white",
            "gridwidth": 2,
            "linecolor": "white",
            "showbackground": true,
            "ticks": "",
            "zerolinecolor": "white"
           },
           "yaxis": {
            "backgroundcolor": "#E5ECF6",
            "gridcolor": "white",
            "gridwidth": 2,
            "linecolor": "white",
            "showbackground": true,
            "ticks": "",
            "zerolinecolor": "white"
           },
           "zaxis": {
            "backgroundcolor": "#E5ECF6",
            "gridcolor": "white",
            "gridwidth": 2,
            "linecolor": "white",
            "showbackground": true,
            "ticks": "",
            "zerolinecolor": "white"
           }
          },
          "shapedefaults": {
           "line": {
            "color": "#2a3f5f"
           }
          },
          "ternary": {
           "aaxis": {
            "gridcolor": "white",
            "linecolor": "white",
            "ticks": ""
           },
           "baxis": {
            "gridcolor": "white",
            "linecolor": "white",
            "ticks": ""
           },
           "bgcolor": "#E5ECF6",
           "caxis": {
            "gridcolor": "white",
            "linecolor": "white",
            "ticks": ""
           }
          },
          "title": {
           "x": 0.05
          },
          "xaxis": {
           "automargin": true,
           "gridcolor": "white",
           "linecolor": "white",
           "ticks": "",
           "title": {
            "standoff": 15
           },
           "zerolinecolor": "white",
           "zerolinewidth": 2
          },
          "yaxis": {
           "automargin": true,
           "gridcolor": "white",
           "linecolor": "white",
           "ticks": "",
           "title": {
            "standoff": 15
           },
           "zerolinecolor": "white",
           "zerolinewidth": 2
          }
         }
        },
        "title": {
         "text": "Evolution of regression coefficients over the seasons"
        },
        "xaxis": {
         "title": {
          "text": "Season"
         }
        },
        "yaxis": {
         "title": {
          "text": "Regression coefficient"
         }
        }
       }
      }
     },
     "metadata": {},
     "output_type": "display_data"
    }
   ],
   "source": [
    "#generate list of coefficients of linear regression for all available seasons\n",
    "coeff_lin = [sublist[0] for sublist in (efficiency_plot(df_efficiency, 'ratingPm', year=season, plot=False) for season in range(1995,2024))]\n",
    "\n",
    "#build graph\n",
    "fig = go.Figure()\n",
    "fig.add_trace(go.Scatter(x=np.arange(1995,2023),\n",
    "                         y=coeff_lin,\n",
    "                         mode='lines+markers',\n",
    "                         name='Coeffs',\n",
    "                         hovertemplate='Season: %{x}<br>Season: %{y}<extra></extra>',\n",
    "                         line=dict(color='green')))\n",
    "\n",
    "fig.update_layout(title='Evolution of regression coefficients over the seasons', xaxis_title='Season', yaxis_title='Regression coefficient',\n",
    "                  hovermode='closest')\n",
    "fig.show()"
   ]
  }
 ],
 "metadata": {
  "kernelspec": {
   "display_name": "base",
   "language": "python",
   "name": "python3"
  },
  "language_info": {
   "codemirror_mode": {
    "name": "ipython",
    "version": 3
   },
   "file_extension": ".py",
   "mimetype": "text/x-python",
   "name": "python",
   "nbconvert_exporter": "python",
   "pygments_lexer": "ipython3",
   "version": "3.11.5"
  }
 },
 "nbformat": 4,
 "nbformat_minor": 5
}
